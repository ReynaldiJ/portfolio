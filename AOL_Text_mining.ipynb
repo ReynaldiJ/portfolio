{
  "nbformat": 4,
  "nbformat_minor": 0,
  "metadata": {
    "colab": {
      "provenance": [],
      "gpuType": "T4",
      "toc_visible": true,
      "include_colab_link": true
    },
    "kernelspec": {
      "name": "python3",
      "display_name": "Python 3"
    },
    "language_info": {
      "name": "python"
    },
    "accelerator": "GPU"
  },
  "cells": [
    {
      "cell_type": "markdown",
      "metadata": {
        "id": "view-in-github",
        "colab_type": "text"
      },
      "source": [
        "<a href=\"https://colab.research.google.com/github/ReynaldiJ/portfolio/blob/main/AOL_Text_mining.ipynb\" target=\"_parent\"><img src=\"https://colab.research.google.com/assets/colab-badge.svg\" alt=\"Open In Colab\"/></a>"
      ]
    },
    {
      "cell_type": "markdown",
      "source": [],
      "metadata": {
        "id": "dTW4qLP4vHsv"
      }
    },
    {
      "cell_type": "markdown",
      "source": [
        "# AOL Text Mining\n",
        "# 2540131374 - Alexander Ryan Wijaya\n",
        "# 2502001763 - Darren Engelbert\n",
        "# 2502041956 - Nicholas Javier\n",
        "# 2540124356 - Reynaldi Joely\n",
        "\n",
        "Link Collab: https://colab.research.google.com/drive/12MkgzTcwsazRGZ6MJxMhbtXchaxCaNoN?usp=sharing\n",
        "\n",
        "Link Video:https://www.youtube.com/watch?v=0uSKvSaileQ\n"
      ],
      "metadata": {
        "id": "zcwLUyI6YZBF"
      }
    },
    {
      "cell_type": "code",
      "source": [
        "# Importing all necessary libraries\n",
        "import pandas as pd\n",
        "import tensorflow as tf\n",
        "from transformers import BertTokenizer, TFBertForSequenceClassification\n",
        "from torch.utils.data import DataLoader, TensorDataset\n",
        "from sklearn.model_selection import train_test_split\n",
        "from sklearn.metrics import classification_report, roc_auc_score\n",
        "import torch\n",
        "import torch.nn as nn\n",
        "import torch.optim as optim\n",
        "!pip install nltk\n",
        "import re\n",
        "from sklearn.feature_extraction.text import ENGLISH_STOP_WORDS\n",
        "from nltk.stem import PorterStemmer, WordNetLemmatizer\n",
        "from nltk.corpus import stopwords\n",
        "import nltk\n",
        "import numpy as np\n",
        "import seaborn as sns\n",
        "import matplotlib.pyplot as plt"
      ],
      "metadata": {
        "id": "B_xm8KeB63yw",
        "colab": {
          "base_uri": "https://localhost:8080/"
        },
        "outputId": "9562b646-3998-4845-f288-be19260a4996"
      },
      "execution_count": null,
      "outputs": [
        {
          "output_type": "stream",
          "name": "stdout",
          "text": [
            "Requirement already satisfied: nltk in /usr/local/lib/python3.10/dist-packages (3.8.1)\n",
            "Requirement already satisfied: click in /usr/local/lib/python3.10/dist-packages (from nltk) (8.1.7)\n",
            "Requirement already satisfied: joblib in /usr/local/lib/python3.10/dist-packages (from nltk) (1.4.2)\n",
            "Requirement already satisfied: regex>=2021.8.3 in /usr/local/lib/python3.10/dist-packages (from nltk) (2024.5.15)\n",
            "Requirement already satisfied: tqdm in /usr/local/lib/python3.10/dist-packages (from nltk) (4.66.4)\n"
          ]
        }
      ]
    },
    {
      "cell_type": "markdown",
      "source": [
        "# Exploratory Data Analysis"
      ],
      "metadata": {
        "id": "YPZ-tavnMkaA"
      }
    },
    {
      "cell_type": "markdown",
      "source": [
        "The dataset used are from kaggle (https://www.kaggle.com/datasets/nelgiriyewithana/emotions/data )"
      ],
      "metadata": {
        "id": "9MQi6tiUGtC_"
      }
    },
    {
      "cell_type": "code",
      "source": [
        "import zipfile\n",
        "# Extracting from zipped file\n",
        "zip_file_path = '/content/archive (16).zip'  # Replace with the path to your zip file\n",
        "extract_folder = 'extracted_data'\n",
        "with zipfile.ZipFile(zip_file_path, 'r') as zip_ref:\n",
        "    zip_ref.extractall(extract_folder)"
      ],
      "metadata": {
        "id": "wUp2YU6u6_h0"
      },
      "execution_count": null,
      "outputs": []
    },
    {
      "cell_type": "code",
      "source": [
        "df = pd.read_csv('/content/extracted_data/text.csv', encoding='latin-1')"
      ],
      "metadata": {
        "id": "Z2gf6iih72ze"
      },
      "execution_count": null,
      "outputs": []
    },
    {
      "cell_type": "code",
      "source": [
        "df.head()"
      ],
      "metadata": {
        "colab": {
          "base_uri": "https://localhost:8080/",
          "height": 206
        },
        "id": "NLwUAmZB76GB",
        "outputId": "827a0d33-7f99-45c9-a664-ebbfd3cdf2ed"
      },
      "execution_count": null,
      "outputs": [
        {
          "output_type": "execute_result",
          "data": {
            "text/plain": [
              "   Unnamed: 0                                               text  label\n",
              "0           0      i just feel really helpless and heavy hearted      4\n",
              "1           1  ive enjoyed being able to slouch about relax a...      0\n",
              "2           2  i gave up my internship with the dmrg and am f...      4\n",
              "3           3                         i dont know i feel so lost      0\n",
              "4           4  i am a kindergarten teacher and i am thoroughl...      4"
            ],
            "text/html": [
              "\n",
              "  <div id=\"df-4f30a745-ea17-4fef-93e1-e991fac99e99\" class=\"colab-df-container\">\n",
              "    <div>\n",
              "<style scoped>\n",
              "    .dataframe tbody tr th:only-of-type {\n",
              "        vertical-align: middle;\n",
              "    }\n",
              "\n",
              "    .dataframe tbody tr th {\n",
              "        vertical-align: top;\n",
              "    }\n",
              "\n",
              "    .dataframe thead th {\n",
              "        text-align: right;\n",
              "    }\n",
              "</style>\n",
              "<table border=\"1\" class=\"dataframe\">\n",
              "  <thead>\n",
              "    <tr style=\"text-align: right;\">\n",
              "      <th></th>\n",
              "      <th>Unnamed: 0</th>\n",
              "      <th>text</th>\n",
              "      <th>label</th>\n",
              "    </tr>\n",
              "  </thead>\n",
              "  <tbody>\n",
              "    <tr>\n",
              "      <th>0</th>\n",
              "      <td>0</td>\n",
              "      <td>i just feel really helpless and heavy hearted</td>\n",
              "      <td>4</td>\n",
              "    </tr>\n",
              "    <tr>\n",
              "      <th>1</th>\n",
              "      <td>1</td>\n",
              "      <td>ive enjoyed being able to slouch about relax a...</td>\n",
              "      <td>0</td>\n",
              "    </tr>\n",
              "    <tr>\n",
              "      <th>2</th>\n",
              "      <td>2</td>\n",
              "      <td>i gave up my internship with the dmrg and am f...</td>\n",
              "      <td>4</td>\n",
              "    </tr>\n",
              "    <tr>\n",
              "      <th>3</th>\n",
              "      <td>3</td>\n",
              "      <td>i dont know i feel so lost</td>\n",
              "      <td>0</td>\n",
              "    </tr>\n",
              "    <tr>\n",
              "      <th>4</th>\n",
              "      <td>4</td>\n",
              "      <td>i am a kindergarten teacher and i am thoroughl...</td>\n",
              "      <td>4</td>\n",
              "    </tr>\n",
              "  </tbody>\n",
              "</table>\n",
              "</div>\n",
              "    <div class=\"colab-df-buttons\">\n",
              "\n",
              "  <div class=\"colab-df-container\">\n",
              "    <button class=\"colab-df-convert\" onclick=\"convertToInteractive('df-4f30a745-ea17-4fef-93e1-e991fac99e99')\"\n",
              "            title=\"Convert this dataframe to an interactive table.\"\n",
              "            style=\"display:none;\">\n",
              "\n",
              "  <svg xmlns=\"http://www.w3.org/2000/svg\" height=\"24px\" viewBox=\"0 -960 960 960\">\n",
              "    <path d=\"M120-120v-720h720v720H120Zm60-500h600v-160H180v160Zm220 220h160v-160H400v160Zm0 220h160v-160H400v160ZM180-400h160v-160H180v160Zm440 0h160v-160H620v160ZM180-180h160v-160H180v160Zm440 0h160v-160H620v160Z\"/>\n",
              "  </svg>\n",
              "    </button>\n",
              "\n",
              "  <style>\n",
              "    .colab-df-container {\n",
              "      display:flex;\n",
              "      gap: 12px;\n",
              "    }\n",
              "\n",
              "    .colab-df-convert {\n",
              "      background-color: #E8F0FE;\n",
              "      border: none;\n",
              "      border-radius: 50%;\n",
              "      cursor: pointer;\n",
              "      display: none;\n",
              "      fill: #1967D2;\n",
              "      height: 32px;\n",
              "      padding: 0 0 0 0;\n",
              "      width: 32px;\n",
              "    }\n",
              "\n",
              "    .colab-df-convert:hover {\n",
              "      background-color: #E2EBFA;\n",
              "      box-shadow: 0px 1px 2px rgba(60, 64, 67, 0.3), 0px 1px 3px 1px rgba(60, 64, 67, 0.15);\n",
              "      fill: #174EA6;\n",
              "    }\n",
              "\n",
              "    .colab-df-buttons div {\n",
              "      margin-bottom: 4px;\n",
              "    }\n",
              "\n",
              "    [theme=dark] .colab-df-convert {\n",
              "      background-color: #3B4455;\n",
              "      fill: #D2E3FC;\n",
              "    }\n",
              "\n",
              "    [theme=dark] .colab-df-convert:hover {\n",
              "      background-color: #434B5C;\n",
              "      box-shadow: 0px 1px 3px 1px rgba(0, 0, 0, 0.15);\n",
              "      filter: drop-shadow(0px 1px 2px rgba(0, 0, 0, 0.3));\n",
              "      fill: #FFFFFF;\n",
              "    }\n",
              "  </style>\n",
              "\n",
              "    <script>\n",
              "      const buttonEl =\n",
              "        document.querySelector('#df-4f30a745-ea17-4fef-93e1-e991fac99e99 button.colab-df-convert');\n",
              "      buttonEl.style.display =\n",
              "        google.colab.kernel.accessAllowed ? 'block' : 'none';\n",
              "\n",
              "      async function convertToInteractive(key) {\n",
              "        const element = document.querySelector('#df-4f30a745-ea17-4fef-93e1-e991fac99e99');\n",
              "        const dataTable =\n",
              "          await google.colab.kernel.invokeFunction('convertToInteractive',\n",
              "                                                    [key], {});\n",
              "        if (!dataTable) return;\n",
              "\n",
              "        const docLinkHtml = 'Like what you see? Visit the ' +\n",
              "          '<a target=\"_blank\" href=https://colab.research.google.com/notebooks/data_table.ipynb>data table notebook</a>'\n",
              "          + ' to learn more about interactive tables.';\n",
              "        element.innerHTML = '';\n",
              "        dataTable['output_type'] = 'display_data';\n",
              "        await google.colab.output.renderOutput(dataTable, element);\n",
              "        const docLink = document.createElement('div');\n",
              "        docLink.innerHTML = docLinkHtml;\n",
              "        element.appendChild(docLink);\n",
              "      }\n",
              "    </script>\n",
              "  </div>\n",
              "\n",
              "\n",
              "<div id=\"df-7085c142-a58d-43d0-b333-4ffc21b00bf9\">\n",
              "  <button class=\"colab-df-quickchart\" onclick=\"quickchart('df-7085c142-a58d-43d0-b333-4ffc21b00bf9')\"\n",
              "            title=\"Suggest charts\"\n",
              "            style=\"display:none;\">\n",
              "\n",
              "<svg xmlns=\"http://www.w3.org/2000/svg\" height=\"24px\"viewBox=\"0 0 24 24\"\n",
              "     width=\"24px\">\n",
              "    <g>\n",
              "        <path d=\"M19 3H5c-1.1 0-2 .9-2 2v14c0 1.1.9 2 2 2h14c1.1 0 2-.9 2-2V5c0-1.1-.9-2-2-2zM9 17H7v-7h2v7zm4 0h-2V7h2v10zm4 0h-2v-4h2v4z\"/>\n",
              "    </g>\n",
              "</svg>\n",
              "  </button>\n",
              "\n",
              "<style>\n",
              "  .colab-df-quickchart {\n",
              "      --bg-color: #E8F0FE;\n",
              "      --fill-color: #1967D2;\n",
              "      --hover-bg-color: #E2EBFA;\n",
              "      --hover-fill-color: #174EA6;\n",
              "      --disabled-fill-color: #AAA;\n",
              "      --disabled-bg-color: #DDD;\n",
              "  }\n",
              "\n",
              "  [theme=dark] .colab-df-quickchart {\n",
              "      --bg-color: #3B4455;\n",
              "      --fill-color: #D2E3FC;\n",
              "      --hover-bg-color: #434B5C;\n",
              "      --hover-fill-color: #FFFFFF;\n",
              "      --disabled-bg-color: #3B4455;\n",
              "      --disabled-fill-color: #666;\n",
              "  }\n",
              "\n",
              "  .colab-df-quickchart {\n",
              "    background-color: var(--bg-color);\n",
              "    border: none;\n",
              "    border-radius: 50%;\n",
              "    cursor: pointer;\n",
              "    display: none;\n",
              "    fill: var(--fill-color);\n",
              "    height: 32px;\n",
              "    padding: 0;\n",
              "    width: 32px;\n",
              "  }\n",
              "\n",
              "  .colab-df-quickchart:hover {\n",
              "    background-color: var(--hover-bg-color);\n",
              "    box-shadow: 0 1px 2px rgba(60, 64, 67, 0.3), 0 1px 3px 1px rgba(60, 64, 67, 0.15);\n",
              "    fill: var(--button-hover-fill-color);\n",
              "  }\n",
              "\n",
              "  .colab-df-quickchart-complete:disabled,\n",
              "  .colab-df-quickchart-complete:disabled:hover {\n",
              "    background-color: var(--disabled-bg-color);\n",
              "    fill: var(--disabled-fill-color);\n",
              "    box-shadow: none;\n",
              "  }\n",
              "\n",
              "  .colab-df-spinner {\n",
              "    border: 2px solid var(--fill-color);\n",
              "    border-color: transparent;\n",
              "    border-bottom-color: var(--fill-color);\n",
              "    animation:\n",
              "      spin 1s steps(1) infinite;\n",
              "  }\n",
              "\n",
              "  @keyframes spin {\n",
              "    0% {\n",
              "      border-color: transparent;\n",
              "      border-bottom-color: var(--fill-color);\n",
              "      border-left-color: var(--fill-color);\n",
              "    }\n",
              "    20% {\n",
              "      border-color: transparent;\n",
              "      border-left-color: var(--fill-color);\n",
              "      border-top-color: var(--fill-color);\n",
              "    }\n",
              "    30% {\n",
              "      border-color: transparent;\n",
              "      border-left-color: var(--fill-color);\n",
              "      border-top-color: var(--fill-color);\n",
              "      border-right-color: var(--fill-color);\n",
              "    }\n",
              "    40% {\n",
              "      border-color: transparent;\n",
              "      border-right-color: var(--fill-color);\n",
              "      border-top-color: var(--fill-color);\n",
              "    }\n",
              "    60% {\n",
              "      border-color: transparent;\n",
              "      border-right-color: var(--fill-color);\n",
              "    }\n",
              "    80% {\n",
              "      border-color: transparent;\n",
              "      border-right-color: var(--fill-color);\n",
              "      border-bottom-color: var(--fill-color);\n",
              "    }\n",
              "    90% {\n",
              "      border-color: transparent;\n",
              "      border-bottom-color: var(--fill-color);\n",
              "    }\n",
              "  }\n",
              "</style>\n",
              "\n",
              "  <script>\n",
              "    async function quickchart(key) {\n",
              "      const quickchartButtonEl =\n",
              "        document.querySelector('#' + key + ' button');\n",
              "      quickchartButtonEl.disabled = true;  // To prevent multiple clicks.\n",
              "      quickchartButtonEl.classList.add('colab-df-spinner');\n",
              "      try {\n",
              "        const charts = await google.colab.kernel.invokeFunction(\n",
              "            'suggestCharts', [key], {});\n",
              "      } catch (error) {\n",
              "        console.error('Error during call to suggestCharts:', error);\n",
              "      }\n",
              "      quickchartButtonEl.classList.remove('colab-df-spinner');\n",
              "      quickchartButtonEl.classList.add('colab-df-quickchart-complete');\n",
              "    }\n",
              "    (() => {\n",
              "      let quickchartButtonEl =\n",
              "        document.querySelector('#df-7085c142-a58d-43d0-b333-4ffc21b00bf9 button');\n",
              "      quickchartButtonEl.style.display =\n",
              "        google.colab.kernel.accessAllowed ? 'block' : 'none';\n",
              "    })();\n",
              "  </script>\n",
              "</div>\n",
              "\n",
              "    </div>\n",
              "  </div>\n"
            ],
            "application/vnd.google.colaboratory.intrinsic+json": {
              "type": "dataframe",
              "variable_name": "df"
            }
          },
          "metadata": {},
          "execution_count": 5
        }
      ]
    },
    {
      "cell_type": "markdown",
      "source": [
        "From the table head above we can see that this data contains text as the input, and ['joy', 'anger', 'fear', 'surprise', 'love', and 'sadness'] as the label"
      ],
      "metadata": {
        "id": "8VGvpX7Km5e9"
      }
    },
    {
      "cell_type": "code",
      "source": [
        "df.isnull().sum()"
      ],
      "metadata": {
        "colab": {
          "base_uri": "https://localhost:8080/"
        },
        "id": "nhKoLxZqRvwS",
        "outputId": "e55bca2e-744a-4898-a160-30e18a325506"
      },
      "execution_count": null,
      "outputs": [
        {
          "output_type": "execute_result",
          "data": {
            "text/plain": [
              "Unnamed: 0    0\n",
              "text          0\n",
              "label         0\n",
              "dtype: int64"
            ]
          },
          "metadata": {},
          "execution_count": 6
        }
      ]
    },
    {
      "cell_type": "code",
      "source": [
        "df = df.drop('Unnamed: 0', axis=1)"
      ],
      "metadata": {
        "id": "TLVOvUhpBk7M"
      },
      "execution_count": null,
      "outputs": []
    },
    {
      "cell_type": "code",
      "source": [
        "df"
      ],
      "metadata": {
        "colab": {
          "base_uri": "https://localhost:8080/",
          "height": 423
        },
        "id": "AbvJzxM8CFt0",
        "outputId": "c0cf70ca-8780-4f6c-8f22-766eb6588246"
      },
      "execution_count": null,
      "outputs": [
        {
          "output_type": "execute_result",
          "data": {
            "text/plain": [
              "                                                     text  label\n",
              "0           i just feel really helpless and heavy hearted      4\n",
              "1       ive enjoyed being able to slouch about relax a...      0\n",
              "2       i gave up my internship with the dmrg and am f...      4\n",
              "3                              i dont know i feel so lost      0\n",
              "4       i am a kindergarten teacher and i am thoroughl...      4\n",
              "...                                                   ...    ...\n",
              "416804  i feel like telling these horny devils to find...      2\n",
              "416805  i began to realize that when i was feeling agi...      3\n",
              "416806  i feel very curious be why previous early dawn...      5\n",
              "416807  i feel that becuase of the tyranical nature of...      3\n",
              "416808  i think that after i had spent some time inves...      5\n",
              "\n",
              "[416809 rows x 2 columns]"
            ],
            "text/html": [
              "\n",
              "  <div id=\"df-93297b23-a8fe-4492-8097-37a118824135\" class=\"colab-df-container\">\n",
              "    <div>\n",
              "<style scoped>\n",
              "    .dataframe tbody tr th:only-of-type {\n",
              "        vertical-align: middle;\n",
              "    }\n",
              "\n",
              "    .dataframe tbody tr th {\n",
              "        vertical-align: top;\n",
              "    }\n",
              "\n",
              "    .dataframe thead th {\n",
              "        text-align: right;\n",
              "    }\n",
              "</style>\n",
              "<table border=\"1\" class=\"dataframe\">\n",
              "  <thead>\n",
              "    <tr style=\"text-align: right;\">\n",
              "      <th></th>\n",
              "      <th>text</th>\n",
              "      <th>label</th>\n",
              "    </tr>\n",
              "  </thead>\n",
              "  <tbody>\n",
              "    <tr>\n",
              "      <th>0</th>\n",
              "      <td>i just feel really helpless and heavy hearted</td>\n",
              "      <td>4</td>\n",
              "    </tr>\n",
              "    <tr>\n",
              "      <th>1</th>\n",
              "      <td>ive enjoyed being able to slouch about relax a...</td>\n",
              "      <td>0</td>\n",
              "    </tr>\n",
              "    <tr>\n",
              "      <th>2</th>\n",
              "      <td>i gave up my internship with the dmrg and am f...</td>\n",
              "      <td>4</td>\n",
              "    </tr>\n",
              "    <tr>\n",
              "      <th>3</th>\n",
              "      <td>i dont know i feel so lost</td>\n",
              "      <td>0</td>\n",
              "    </tr>\n",
              "    <tr>\n",
              "      <th>4</th>\n",
              "      <td>i am a kindergarten teacher and i am thoroughl...</td>\n",
              "      <td>4</td>\n",
              "    </tr>\n",
              "    <tr>\n",
              "      <th>...</th>\n",
              "      <td>...</td>\n",
              "      <td>...</td>\n",
              "    </tr>\n",
              "    <tr>\n",
              "      <th>416804</th>\n",
              "      <td>i feel like telling these horny devils to find...</td>\n",
              "      <td>2</td>\n",
              "    </tr>\n",
              "    <tr>\n",
              "      <th>416805</th>\n",
              "      <td>i began to realize that when i was feeling agi...</td>\n",
              "      <td>3</td>\n",
              "    </tr>\n",
              "    <tr>\n",
              "      <th>416806</th>\n",
              "      <td>i feel very curious be why previous early dawn...</td>\n",
              "      <td>5</td>\n",
              "    </tr>\n",
              "    <tr>\n",
              "      <th>416807</th>\n",
              "      <td>i feel that becuase of the tyranical nature of...</td>\n",
              "      <td>3</td>\n",
              "    </tr>\n",
              "    <tr>\n",
              "      <th>416808</th>\n",
              "      <td>i think that after i had spent some time inves...</td>\n",
              "      <td>5</td>\n",
              "    </tr>\n",
              "  </tbody>\n",
              "</table>\n",
              "<p>416809 rows × 2 columns</p>\n",
              "</div>\n",
              "    <div class=\"colab-df-buttons\">\n",
              "\n",
              "  <div class=\"colab-df-container\">\n",
              "    <button class=\"colab-df-convert\" onclick=\"convertToInteractive('df-93297b23-a8fe-4492-8097-37a118824135')\"\n",
              "            title=\"Convert this dataframe to an interactive table.\"\n",
              "            style=\"display:none;\">\n",
              "\n",
              "  <svg xmlns=\"http://www.w3.org/2000/svg\" height=\"24px\" viewBox=\"0 -960 960 960\">\n",
              "    <path d=\"M120-120v-720h720v720H120Zm60-500h600v-160H180v160Zm220 220h160v-160H400v160Zm0 220h160v-160H400v160ZM180-400h160v-160H180v160Zm440 0h160v-160H620v160ZM180-180h160v-160H180v160Zm440 0h160v-160H620v160Z\"/>\n",
              "  </svg>\n",
              "    </button>\n",
              "\n",
              "  <style>\n",
              "    .colab-df-container {\n",
              "      display:flex;\n",
              "      gap: 12px;\n",
              "    }\n",
              "\n",
              "    .colab-df-convert {\n",
              "      background-color: #E8F0FE;\n",
              "      border: none;\n",
              "      border-radius: 50%;\n",
              "      cursor: pointer;\n",
              "      display: none;\n",
              "      fill: #1967D2;\n",
              "      height: 32px;\n",
              "      padding: 0 0 0 0;\n",
              "      width: 32px;\n",
              "    }\n",
              "\n",
              "    .colab-df-convert:hover {\n",
              "      background-color: #E2EBFA;\n",
              "      box-shadow: 0px 1px 2px rgba(60, 64, 67, 0.3), 0px 1px 3px 1px rgba(60, 64, 67, 0.15);\n",
              "      fill: #174EA6;\n",
              "    }\n",
              "\n",
              "    .colab-df-buttons div {\n",
              "      margin-bottom: 4px;\n",
              "    }\n",
              "\n",
              "    [theme=dark] .colab-df-convert {\n",
              "      background-color: #3B4455;\n",
              "      fill: #D2E3FC;\n",
              "    }\n",
              "\n",
              "    [theme=dark] .colab-df-convert:hover {\n",
              "      background-color: #434B5C;\n",
              "      box-shadow: 0px 1px 3px 1px rgba(0, 0, 0, 0.15);\n",
              "      filter: drop-shadow(0px 1px 2px rgba(0, 0, 0, 0.3));\n",
              "      fill: #FFFFFF;\n",
              "    }\n",
              "  </style>\n",
              "\n",
              "    <script>\n",
              "      const buttonEl =\n",
              "        document.querySelector('#df-93297b23-a8fe-4492-8097-37a118824135 button.colab-df-convert');\n",
              "      buttonEl.style.display =\n",
              "        google.colab.kernel.accessAllowed ? 'block' : 'none';\n",
              "\n",
              "      async function convertToInteractive(key) {\n",
              "        const element = document.querySelector('#df-93297b23-a8fe-4492-8097-37a118824135');\n",
              "        const dataTable =\n",
              "          await google.colab.kernel.invokeFunction('convertToInteractive',\n",
              "                                                    [key], {});\n",
              "        if (!dataTable) return;\n",
              "\n",
              "        const docLinkHtml = 'Like what you see? Visit the ' +\n",
              "          '<a target=\"_blank\" href=https://colab.research.google.com/notebooks/data_table.ipynb>data table notebook</a>'\n",
              "          + ' to learn more about interactive tables.';\n",
              "        element.innerHTML = '';\n",
              "        dataTable['output_type'] = 'display_data';\n",
              "        await google.colab.output.renderOutput(dataTable, element);\n",
              "        const docLink = document.createElement('div');\n",
              "        docLink.innerHTML = docLinkHtml;\n",
              "        element.appendChild(docLink);\n",
              "      }\n",
              "    </script>\n",
              "  </div>\n",
              "\n",
              "\n",
              "<div id=\"df-a447f195-8bf7-404b-98e5-09fc30a6c770\">\n",
              "  <button class=\"colab-df-quickchart\" onclick=\"quickchart('df-a447f195-8bf7-404b-98e5-09fc30a6c770')\"\n",
              "            title=\"Suggest charts\"\n",
              "            style=\"display:none;\">\n",
              "\n",
              "<svg xmlns=\"http://www.w3.org/2000/svg\" height=\"24px\"viewBox=\"0 0 24 24\"\n",
              "     width=\"24px\">\n",
              "    <g>\n",
              "        <path d=\"M19 3H5c-1.1 0-2 .9-2 2v14c0 1.1.9 2 2 2h14c1.1 0 2-.9 2-2V5c0-1.1-.9-2-2-2zM9 17H7v-7h2v7zm4 0h-2V7h2v10zm4 0h-2v-4h2v4z\"/>\n",
              "    </g>\n",
              "</svg>\n",
              "  </button>\n",
              "\n",
              "<style>\n",
              "  .colab-df-quickchart {\n",
              "      --bg-color: #E8F0FE;\n",
              "      --fill-color: #1967D2;\n",
              "      --hover-bg-color: #E2EBFA;\n",
              "      --hover-fill-color: #174EA6;\n",
              "      --disabled-fill-color: #AAA;\n",
              "      --disabled-bg-color: #DDD;\n",
              "  }\n",
              "\n",
              "  [theme=dark] .colab-df-quickchart {\n",
              "      --bg-color: #3B4455;\n",
              "      --fill-color: #D2E3FC;\n",
              "      --hover-bg-color: #434B5C;\n",
              "      --hover-fill-color: #FFFFFF;\n",
              "      --disabled-bg-color: #3B4455;\n",
              "      --disabled-fill-color: #666;\n",
              "  }\n",
              "\n",
              "  .colab-df-quickchart {\n",
              "    background-color: var(--bg-color);\n",
              "    border: none;\n",
              "    border-radius: 50%;\n",
              "    cursor: pointer;\n",
              "    display: none;\n",
              "    fill: var(--fill-color);\n",
              "    height: 32px;\n",
              "    padding: 0;\n",
              "    width: 32px;\n",
              "  }\n",
              "\n",
              "  .colab-df-quickchart:hover {\n",
              "    background-color: var(--hover-bg-color);\n",
              "    box-shadow: 0 1px 2px rgba(60, 64, 67, 0.3), 0 1px 3px 1px rgba(60, 64, 67, 0.15);\n",
              "    fill: var(--button-hover-fill-color);\n",
              "  }\n",
              "\n",
              "  .colab-df-quickchart-complete:disabled,\n",
              "  .colab-df-quickchart-complete:disabled:hover {\n",
              "    background-color: var(--disabled-bg-color);\n",
              "    fill: var(--disabled-fill-color);\n",
              "    box-shadow: none;\n",
              "  }\n",
              "\n",
              "  .colab-df-spinner {\n",
              "    border: 2px solid var(--fill-color);\n",
              "    border-color: transparent;\n",
              "    border-bottom-color: var(--fill-color);\n",
              "    animation:\n",
              "      spin 1s steps(1) infinite;\n",
              "  }\n",
              "\n",
              "  @keyframes spin {\n",
              "    0% {\n",
              "      border-color: transparent;\n",
              "      border-bottom-color: var(--fill-color);\n",
              "      border-left-color: var(--fill-color);\n",
              "    }\n",
              "    20% {\n",
              "      border-color: transparent;\n",
              "      border-left-color: var(--fill-color);\n",
              "      border-top-color: var(--fill-color);\n",
              "    }\n",
              "    30% {\n",
              "      border-color: transparent;\n",
              "      border-left-color: var(--fill-color);\n",
              "      border-top-color: var(--fill-color);\n",
              "      border-right-color: var(--fill-color);\n",
              "    }\n",
              "    40% {\n",
              "      border-color: transparent;\n",
              "      border-right-color: var(--fill-color);\n",
              "      border-top-color: var(--fill-color);\n",
              "    }\n",
              "    60% {\n",
              "      border-color: transparent;\n",
              "      border-right-color: var(--fill-color);\n",
              "    }\n",
              "    80% {\n",
              "      border-color: transparent;\n",
              "      border-right-color: var(--fill-color);\n",
              "      border-bottom-color: var(--fill-color);\n",
              "    }\n",
              "    90% {\n",
              "      border-color: transparent;\n",
              "      border-bottom-color: var(--fill-color);\n",
              "    }\n",
              "  }\n",
              "</style>\n",
              "\n",
              "  <script>\n",
              "    async function quickchart(key) {\n",
              "      const quickchartButtonEl =\n",
              "        document.querySelector('#' + key + ' button');\n",
              "      quickchartButtonEl.disabled = true;  // To prevent multiple clicks.\n",
              "      quickchartButtonEl.classList.add('colab-df-spinner');\n",
              "      try {\n",
              "        const charts = await google.colab.kernel.invokeFunction(\n",
              "            'suggestCharts', [key], {});\n",
              "      } catch (error) {\n",
              "        console.error('Error during call to suggestCharts:', error);\n",
              "      }\n",
              "      quickchartButtonEl.classList.remove('colab-df-spinner');\n",
              "      quickchartButtonEl.classList.add('colab-df-quickchart-complete');\n",
              "    }\n",
              "    (() => {\n",
              "      let quickchartButtonEl =\n",
              "        document.querySelector('#df-a447f195-8bf7-404b-98e5-09fc30a6c770 button');\n",
              "      quickchartButtonEl.style.display =\n",
              "        google.colab.kernel.accessAllowed ? 'block' : 'none';\n",
              "    })();\n",
              "  </script>\n",
              "</div>\n",
              "\n",
              "  <div id=\"id_8edc76b3-b6f8-49bb-81eb-99838930deec\">\n",
              "    <style>\n",
              "      .colab-df-generate {\n",
              "        background-color: #E8F0FE;\n",
              "        border: none;\n",
              "        border-radius: 50%;\n",
              "        cursor: pointer;\n",
              "        display: none;\n",
              "        fill: #1967D2;\n",
              "        height: 32px;\n",
              "        padding: 0 0 0 0;\n",
              "        width: 32px;\n",
              "      }\n",
              "\n",
              "      .colab-df-generate:hover {\n",
              "        background-color: #E2EBFA;\n",
              "        box-shadow: 0px 1px 2px rgba(60, 64, 67, 0.3), 0px 1px 3px 1px rgba(60, 64, 67, 0.15);\n",
              "        fill: #174EA6;\n",
              "      }\n",
              "\n",
              "      [theme=dark] .colab-df-generate {\n",
              "        background-color: #3B4455;\n",
              "        fill: #D2E3FC;\n",
              "      }\n",
              "\n",
              "      [theme=dark] .colab-df-generate:hover {\n",
              "        background-color: #434B5C;\n",
              "        box-shadow: 0px 1px 3px 1px rgba(0, 0, 0, 0.15);\n",
              "        filter: drop-shadow(0px 1px 2px rgba(0, 0, 0, 0.3));\n",
              "        fill: #FFFFFF;\n",
              "      }\n",
              "    </style>\n",
              "    <button class=\"colab-df-generate\" onclick=\"generateWithVariable('df')\"\n",
              "            title=\"Generate code using this dataframe.\"\n",
              "            style=\"display:none;\">\n",
              "\n",
              "  <svg xmlns=\"http://www.w3.org/2000/svg\" height=\"24px\"viewBox=\"0 0 24 24\"\n",
              "       width=\"24px\">\n",
              "    <path d=\"M7,19H8.4L18.45,9,17,7.55,7,17.6ZM5,21V16.75L18.45,3.32a2,2,0,0,1,2.83,0l1.4,1.43a1.91,1.91,0,0,1,.58,1.4,1.91,1.91,0,0,1-.58,1.4L9.25,21ZM18.45,9,17,7.55Zm-12,3A5.31,5.31,0,0,0,4.9,8.1,5.31,5.31,0,0,0,1,6.5,5.31,5.31,0,0,0,4.9,4.9,5.31,5.31,0,0,0,6.5,1,5.31,5.31,0,0,0,8.1,4.9,5.31,5.31,0,0,0,12,6.5,5.46,5.46,0,0,0,6.5,12Z\"/>\n",
              "  </svg>\n",
              "    </button>\n",
              "    <script>\n",
              "      (() => {\n",
              "      const buttonEl =\n",
              "        document.querySelector('#id_8edc76b3-b6f8-49bb-81eb-99838930deec button.colab-df-generate');\n",
              "      buttonEl.style.display =\n",
              "        google.colab.kernel.accessAllowed ? 'block' : 'none';\n",
              "\n",
              "      buttonEl.onclick = () => {\n",
              "        google.colab.notebook.generateWithVariable('df');\n",
              "      }\n",
              "      })();\n",
              "    </script>\n",
              "  </div>\n",
              "\n",
              "    </div>\n",
              "  </div>\n"
            ],
            "application/vnd.google.colaboratory.intrinsic+json": {
              "type": "dataframe",
              "variable_name": "df"
            }
          },
          "metadata": {},
          "execution_count": 8
        }
      ]
    },
    {
      "cell_type": "code",
      "source": [
        "count = df['label'].value_counts()\n",
        "\n",
        "# Memetakan label numerik ke nama kelas\n",
        "label_names = {\n",
        "    0: 'Sadness',\n",
        "    1: 'Joy',\n",
        "    2: 'Love',\n",
        "    3: 'Anger',\n",
        "    4: 'Fear',\n",
        "    5: 'Surprise'\n",
        "}\n",
        "\n",
        "count.index = count.index.map(label_names)\n",
        "\n",
        "# Membuat figure dengan dua subplot\n",
        "fig, axs = plt.subplots(1, 2, figsize=(12, 6), facecolor='white')\n",
        "\n",
        "# Mengatur palette\n",
        "palette = sns.color_palette(\"viridis\")\n",
        "sns.set_palette(palette)\n",
        "\n",
        "# Plot pie chart di subplot pertama\n",
        "axs[0].pie(count, labels=count.index, autopct='%1.1f%%', startangle=140)\n",
        "axs[0].set_title('Distribution of Categories')\n",
        "\n",
        "# Plot bar chart di subplot kedua\n",
        "sns.barplot(x=count.index, y=count.values, ax=axs[1], palette=\"viridis\")\n",
        "axs[1].set_title('Count of Categories')\n",
        "\n",
        "# Memutar label x untuk keterbacaan yang lebih baik\n",
        "plt.setp(axs[1].xaxis.get_majorticklabels(), rotation=45)\n",
        "\n",
        "# Menyesuaikan layout\n",
        "plt.tight_layout()\n",
        "\n",
        "# Menampilkan plot\n",
        "plt.show()"
      ],
      "metadata": {
        "colab": {
          "base_uri": "https://localhost:8080/",
          "height": 706
        },
        "id": "hLg6KcqqVyAw",
        "outputId": "4ba2c0cc-42a4-4ded-f0fd-664a742a7af8"
      },
      "execution_count": null,
      "outputs": [
        {
          "output_type": "stream",
          "name": "stderr",
          "text": [
            "<ipython-input-11-bb6569341830>:27: FutureWarning: \n",
            "\n",
            "Passing `palette` without assigning `hue` is deprecated and will be removed in v0.14.0. Assign the `x` variable to `hue` and set `legend=False` for the same effect.\n",
            "\n",
            "  sns.barplot(x=count.index, y=count.values, ax=axs[1], palette=\"viridis\")\n"
          ]
        },
        {
          "output_type": "display_data",
          "data": {
            "text/plain": [
              "<Figure size 1200x600 with 2 Axes>"
            ],
            "image/png": "[encoded data removed]"
          },
          "metadata": {}
        }
      ]
    },
    {
      "cell_type": "code",
      "source": [
        "df['label'].hist()"
      ],
      "metadata": {
        "colab": {
          "base_uri": "https://localhost:8080/",
          "height": 448
        },
        "id": "0isSG4egVx1P",
        "outputId": "5437562c-e4a7-4bc0-bc5a-ee9b41b76417"
      },
      "execution_count": null,
      "outputs": [
        {
          "output_type": "execute_result",
          "data": {
            "text/plain": [
              "<Axes: >"
            ]
          },
          "metadata": {},
          "execution_count": 12
        },
        {
          "output_type": "display_data",
          "data": {
            "text/plain": [
              "<Figure size 640x480 with 1 Axes>"
            ],
            "image/png": "[encoded data removed]"
          },
          "metadata": {}
        }
      ]
    },
    {
      "cell_type": "code",
      "source": [
        "import pandas as pd\n",
        "from sklearn.utils import resample\n",
        "class_size = 7000\n",
        "\n",
        "class_counts = df['label'].value_counts()\n",
        "\n",
        "downsampled_dfs = []\n",
        "\n",
        "for label in class_counts.index:\n",
        "    class_df = df[df['label'] == label]\n",
        "    if class_counts[label] > class_size:\n",
        "        downsampled_class_df = resample(class_df,\n",
        "                                        replace=False,\n",
        "                                        n_samples=class_size,\n",
        "                                        random_state=42)\n",
        "    else:\n",
        "        downsampled_class_df = class_df\n",
        "    downsampled_dfs.append(downsampled_class_df)\n",
        "\n",
        "balanced_df = pd.concat(downsampled_dfs)\n",
        "\n",
        "balanced_df = balanced_df.sample(frac=1, random_state=42)\n"
      ],
      "metadata": {
        "id": "niSA3hnMCjL5"
      },
      "execution_count": null,
      "outputs": []
    },
    {
      "cell_type": "code",
      "source": [
        "print(balanced_df['label'].value_counts())"
      ],
      "metadata": {
        "colab": {
          "base_uri": "https://localhost:8080/"
        },
        "id": "53nbXrQ9DE1u",
        "outputId": "d661a507-8659-4651-8a19-17733704722a"
      },
      "execution_count": null,
      "outputs": [
        {
          "output_type": "stream",
          "name": "stdout",
          "text": [
            "label\n",
            "1    7000\n",
            "5    7000\n",
            "4    7000\n",
            "2    7000\n",
            "0    7000\n",
            "3    7000\n",
            "Name: count, dtype: int64\n"
          ]
        }
      ]
    },
    {
      "cell_type": "markdown",
      "source": [
        "# Data Preprocessing"
      ],
      "metadata": {
        "id": "Gowo8Fgjtyec"
      }
    },
    {
      "cell_type": "code",
      "source": [
        "nltk.download('wordnet')\n",
        "nltk.download('omw-1.4')\n",
        "nltk.download('stopwords')\n",
        "\n",
        "stemmer = PorterStemmer()\n",
        "lemmatizer = WordNetLemmatizer()\n",
        "stop_words = set(stopwords.words('english'))\n",
        "\n",
        "def preprocess_text(text):\n",
        "\n",
        "    text = text.lower()\n",
        "\n",
        "    text = re.sub(r'[^\\w\\s]', '', text)\n",
        "\n",
        "    text = re.sub(r'\\d+', '', text)\n",
        "\n",
        "    text = ' '.join([word for word in text.split() if word not in ENGLISH_STOP_WORDS])\n",
        "\n",
        "    return text\n",
        "\n",
        "balanced_df['cleaned_text'] = balanced_df['text'].apply(preprocess_text)"
      ],
      "metadata": {
        "colab": {
          "base_uri": "https://localhost:8080/"
        },
        "id": "bl5GWBcb_e8G",
        "outputId": "facf20b4-82bf-4576-d789-2a0906f3b797"
      },
      "execution_count": null,
      "outputs": [
        {
          "output_type": "stream",
          "name": "stderr",
          "text": [
            "[nltk_data] Downloading package wordnet to /root/nltk_data...\n",
            "[nltk_data]   Package wordnet is already up-to-date!\n",
            "[nltk_data] Downloading package omw-1.4 to /root/nltk_data...\n",
            "[nltk_data]   Package omw-1.4 is already up-to-date!\n",
            "[nltk_data] Downloading package stopwords to /root/nltk_data...\n",
            "[nltk_data]   Package stopwords is already up-to-date!\n"
          ]
        }
      ]
    },
    {
      "cell_type": "code",
      "source": [
        "balanced_df[['text', 'cleaned_text']]"
      ],
      "metadata": {
        "colab": {
          "base_uri": "https://localhost:8080/",
          "height": 423
        },
        "id": "lPgCKMC5BAX7",
        "outputId": "9fefc747-abff-4c8e-c1d7-8a9e6f6114a2"
      },
      "execution_count": null,
      "outputs": [
        {
          "output_type": "execute_result",
          "data": {
            "text/plain": [
              "                                                     text  \\\n",
              "104718  i listen to utada whenever i feel bouncy or i ...   \n",
              "79359   i left you yesterday i was feeling overwhelmed...   \n",
              "104789  i feel my restless heart breathe settled firml...   \n",
              "413013                   i am feeling very generous today   \n",
              "369475  i always wonder if i should feel a little weir...   \n",
              "...                                                   ...   \n",
              "61002   i feel like this is one of those super handy d...   \n",
              "144726           i am feeling somewhat disheartened today   \n",
              "104039  i went all the way back to the beginning and r...   \n",
              "256920  i can still be a functional parent but more i ...   \n",
              "311114  i feel like i kinda gettin lil bitchy with him...   \n",
              "\n",
              "                                             cleaned_text  \n",
              "104718          listen utada feel bouncy need just groove  \n",
              "79359   left yesterday feeling overwhelmed motivated l...  \n",
              "104789  feel restless heart breathe settled firmly fin...  \n",
              "413013                             feeling generous today  \n",
              "369475  wonder feel little weird reading comes childre...  \n",
              "...                                                   ...  \n",
              "61002   feel like super handy dishes feels fancy thank...  \n",
              "144726                feeling somewhat disheartened today  \n",
              "104039  went way beginning read wrote feeling music mo...  \n",
              "256920  functional parent actually enjoy parenting thi...  \n",
              "311114  feel like kinda gettin lil bitchy gimme break ...  \n",
              "\n",
              "[42000 rows x 2 columns]"
            ],
            "text/html": [
              "\n",
              "  <div id=\"df-a9159b5c-90c3-443c-9a55-15be47486a08\" class=\"colab-df-container\">\n",
              "    <div>\n",
              "<style scoped>\n",
              "    .dataframe tbody tr th:only-of-type {\n",
              "        vertical-align: middle;\n",
              "    }\n",
              "\n",
              "    .dataframe tbody tr th {\n",
              "        vertical-align: top;\n",
              "    }\n",
              "\n",
              "    .dataframe thead th {\n",
              "        text-align: right;\n",
              "    }\n",
              "</style>\n",
              "<table border=\"1\" class=\"dataframe\">\n",
              "  <thead>\n",
              "    <tr style=\"text-align: right;\">\n",
              "      <th></th>\n",
              "      <th>text</th>\n",
              "      <th>cleaned_text</th>\n",
              "    </tr>\n",
              "  </thead>\n",
              "  <tbody>\n",
              "    <tr>\n",
              "      <th>104718</th>\n",
              "      <td>i listen to utada whenever i feel bouncy or i ...</td>\n",
              "      <td>listen utada feel bouncy need just groove</td>\n",
              "    </tr>\n",
              "    <tr>\n",
              "      <th>79359</th>\n",
              "      <td>i left you yesterday i was feeling overwhelmed...</td>\n",
              "      <td>left yesterday feeling overwhelmed motivated l...</td>\n",
              "    </tr>\n",
              "    <tr>\n",
              "      <th>104789</th>\n",
              "      <td>i feel my restless heart breathe settled firml...</td>\n",
              "      <td>feel restless heart breathe settled firmly fin...</td>\n",
              "    </tr>\n",
              "    <tr>\n",
              "      <th>413013</th>\n",
              "      <td>i am feeling very generous today</td>\n",
              "      <td>feeling generous today</td>\n",
              "    </tr>\n",
              "    <tr>\n",
              "      <th>369475</th>\n",
              "      <td>i always wonder if i should feel a little weir...</td>\n",
              "      <td>wonder feel little weird reading comes childre...</td>\n",
              "    </tr>\n",
              "    <tr>\n",
              "      <th>...</th>\n",
              "      <td>...</td>\n",
              "      <td>...</td>\n",
              "    </tr>\n",
              "    <tr>\n",
              "      <th>61002</th>\n",
              "      <td>i feel like this is one of those super handy d...</td>\n",
              "      <td>feel like super handy dishes feels fancy thank...</td>\n",
              "    </tr>\n",
              "    <tr>\n",
              "      <th>144726</th>\n",
              "      <td>i am feeling somewhat disheartened today</td>\n",
              "      <td>feeling somewhat disheartened today</td>\n",
              "    </tr>\n",
              "    <tr>\n",
              "      <th>104039</th>\n",
              "      <td>i went all the way back to the beginning and r...</td>\n",
              "      <td>went way beginning read wrote feeling music mo...</td>\n",
              "    </tr>\n",
              "    <tr>\n",
              "      <th>256920</th>\n",
              "      <td>i can still be a functional parent but more i ...</td>\n",
              "      <td>functional parent actually enjoy parenting thi...</td>\n",
              "    </tr>\n",
              "    <tr>\n",
              "      <th>311114</th>\n",
              "      <td>i feel like i kinda gettin lil bitchy with him...</td>\n",
              "      <td>feel like kinda gettin lil bitchy gimme break ...</td>\n",
              "    </tr>\n",
              "  </tbody>\n",
              "</table>\n",
              "<p>42000 rows × 2 columns</p>\n",
              "</div>\n",
              "    <div class=\"colab-df-buttons\">\n",
              "\n",
              "  <div class=\"colab-df-container\">\n",
              "    <button class=\"colab-df-convert\" onclick=\"convertToInteractive('df-a9159b5c-90c3-443c-9a55-15be47486a08')\"\n",
              "            title=\"Convert this dataframe to an interactive table.\"\n",
              "            style=\"display:none;\">\n",
              "\n",
              "  <svg xmlns=\"http://www.w3.org/2000/svg\" height=\"24px\" viewBox=\"0 -960 960 960\">\n",
              "    <path d=\"M120-120v-720h720v720H120Zm60-500h600v-160H180v160Zm220 220h160v-160H400v160Zm0 220h160v-160H400v160ZM180-400h160v-160H180v160Zm440 0h160v-160H620v160ZM180-180h160v-160H180v160Zm440 0h160v-160H620v160Z\"/>\n",
              "  </svg>\n",
              "    </button>\n",
              "\n",
              "  <style>\n",
              "    .colab-df-container {\n",
              "      display:flex;\n",
              "      gap: 12px;\n",
              "    }\n",
              "\n",
              "    .colab-df-convert {\n",
              "      background-color: #E8F0FE;\n",
              "      border: none;\n",
              "      border-radius: 50%;\n",
              "      cursor: pointer;\n",
              "      display: none;\n",
              "      fill: #1967D2;\n",
              "      height: 32px;\n",
              "      padding: 0 0 0 0;\n",
              "      width: 32px;\n",
              "    }\n",
              "\n",
              "    .colab-df-convert:hover {\n",
              "      background-color: #E2EBFA;\n",
              "      box-shadow: 0px 1px 2px rgba(60, 64, 67, 0.3), 0px 1px 3px 1px rgba(60, 64, 67, 0.15);\n",
              "      fill: #174EA6;\n",
              "    }\n",
              "\n",
              "    .colab-df-buttons div {\n",
              "      margin-bottom: 4px;\n",
              "    }\n",
              "\n",
              "    [theme=dark] .colab-df-convert {\n",
              "      background-color: #3B4455;\n",
              "      fill: #D2E3FC;\n",
              "    }\n",
              "\n",
              "    [theme=dark] .colab-df-convert:hover {\n",
              "      background-color: #434B5C;\n",
              "      box-shadow: 0px 1px 3px 1px rgba(0, 0, 0, 0.15);\n",
              "      filter: drop-shadow(0px 1px 2px rgba(0, 0, 0, 0.3));\n",
              "      fill: #FFFFFF;\n",
              "    }\n",
              "  </style>\n",
              "\n",
              "    <script>\n",
              "      const buttonEl =\n",
              "        document.querySelector('#df-a9159b5c-90c3-443c-9a55-15be47486a08 button.colab-df-convert');\n",
              "      buttonEl.style.display =\n",
              "        google.colab.kernel.accessAllowed ? 'block' : 'none';\n",
              "\n",
              "      async function convertToInteractive(key) {\n",
              "        const element = document.querySelector('#df-a9159b5c-90c3-443c-9a55-15be47486a08');\n",
              "        const dataTable =\n",
              "          await google.colab.kernel.invokeFunction('convertToInteractive',\n",
              "                                                    [key], {});\n",
              "        if (!dataTable) return;\n",
              "\n",
              "        const docLinkHtml = 'Like what you see? Visit the ' +\n",
              "          '<a target=\"_blank\" href=https://colab.research.google.com/notebooks/data_table.ipynb>data table notebook</a>'\n",
              "          + ' to learn more about interactive tables.';\n",
              "        element.innerHTML = '';\n",
              "        dataTable['output_type'] = 'display_data';\n",
              "        await google.colab.output.renderOutput(dataTable, element);\n",
              "        const docLink = document.createElement('div');\n",
              "        docLink.innerHTML = docLinkHtml;\n",
              "        element.appendChild(docLink);\n",
              "      }\n",
              "    </script>\n",
              "  </div>\n",
              "\n",
              "\n",
              "<div id=\"df-f12850fa-62a2-49e0-945a-24a2162c43e2\">\n",
              "  <button class=\"colab-df-quickchart\" onclick=\"quickchart('df-f12850fa-62a2-49e0-945a-24a2162c43e2')\"\n",
              "            title=\"Suggest charts\"\n",
              "            style=\"display:none;\">\n",
              "\n",
              "<svg xmlns=\"http://www.w3.org/2000/svg\" height=\"24px\"viewBox=\"0 0 24 24\"\n",
              "     width=\"24px\">\n",
              "    <g>\n",
              "        <path d=\"M19 3H5c-1.1 0-2 .9-2 2v14c0 1.1.9 2 2 2h14c1.1 0 2-.9 2-2V5c0-1.1-.9-2-2-2zM9 17H7v-7h2v7zm4 0h-2V7h2v10zm4 0h-2v-4h2v4z\"/>\n",
              "    </g>\n",
              "</svg>\n",
              "  </button>\n",
              "\n",
              "<style>\n",
              "  .colab-df-quickchart {\n",
              "      --bg-color: #E8F0FE;\n",
              "      --fill-color: #1967D2;\n",
              "      --hover-bg-color: #E2EBFA;\n",
              "      --hover-fill-color: #174EA6;\n",
              "      --disabled-fill-color: #AAA;\n",
              "      --disabled-bg-color: #DDD;\n",
              "  }\n",
              "\n",
              "  [theme=dark] .colab-df-quickchart {\n",
              "      --bg-color: #3B4455;\n",
              "      --fill-color: #D2E3FC;\n",
              "      --hover-bg-color: #434B5C;\n",
              "      --hover-fill-color: #FFFFFF;\n",
              "      --disabled-bg-color: #3B4455;\n",
              "      --disabled-fill-color: #666;\n",
              "  }\n",
              "\n",
              "  .colab-df-quickchart {\n",
              "    background-color: var(--bg-color);\n",
              "    border: none;\n",
              "    border-radius: 50%;\n",
              "    cursor: pointer;\n",
              "    display: none;\n",
              "    fill: var(--fill-color);\n",
              "    height: 32px;\n",
              "    padding: 0;\n",
              "    width: 32px;\n",
              "  }\n",
              "\n",
              "  .colab-df-quickchart:hover {\n",
              "    background-color: var(--hover-bg-color);\n",
              "    box-shadow: 0 1px 2px rgba(60, 64, 67, 0.3), 0 1px 3px 1px rgba(60, 64, 67, 0.15);\n",
              "    fill: var(--button-hover-fill-color);\n",
              "  }\n",
              "\n",
              "  .colab-df-quickchart-complete:disabled,\n",
              "  .colab-df-quickchart-complete:disabled:hover {\n",
              "    background-color: var(--disabled-bg-color);\n",
              "    fill: var(--disabled-fill-color);\n",
              "    box-shadow: none;\n",
              "  }\n",
              "\n",
              "  .colab-df-spinner {\n",
              "    border: 2px solid var(--fill-color);\n",
              "    border-color: transparent;\n",
              "    border-bottom-color: var(--fill-color);\n",
              "    animation:\n",
              "      spin 1s steps(1) infinite;\n",
              "  }\n",
              "\n",
              "  @keyframes spin {\n",
              "    0% {\n",
              "      border-color: transparent;\n",
              "      border-bottom-color: var(--fill-color);\n",
              "      border-left-color: var(--fill-color);\n",
              "    }\n",
              "    20% {\n",
              "      border-color: transparent;\n",
              "      border-left-color: var(--fill-color);\n",
              "      border-top-color: var(--fill-color);\n",
              "    }\n",
              "    30% {\n",
              "      border-color: transparent;\n",
              "      border-left-color: var(--fill-color);\n",
              "      border-top-color: var(--fill-color);\n",
              "      border-right-color: var(--fill-color);\n",
              "    }\n",
              "    40% {\n",
              "      border-color: transparent;\n",
              "      border-right-color: var(--fill-color);\n",
              "      border-top-color: var(--fill-color);\n",
              "    }\n",
              "    60% {\n",
              "      border-color: transparent;\n",
              "      border-right-color: var(--fill-color);\n",
              "    }\n",
              "    80% {\n",
              "      border-color: transparent;\n",
              "      border-right-color: var(--fill-color);\n",
              "      border-bottom-color: var(--fill-color);\n",
              "    }\n",
              "    90% {\n",
              "      border-color: transparent;\n",
              "      border-bottom-color: var(--fill-color);\n",
              "    }\n",
              "  }\n",
              "</style>\n",
              "\n",
              "  <script>\n",
              "    async function quickchart(key) {\n",
              "      const quickchartButtonEl =\n",
              "        document.querySelector('#' + key + ' button');\n",
              "      quickchartButtonEl.disabled = true;  // To prevent multiple clicks.\n",
              "      quickchartButtonEl.classList.add('colab-df-spinner');\n",
              "      try {\n",
              "        const charts = await google.colab.kernel.invokeFunction(\n",
              "            'suggestCharts', [key], {});\n",
              "      } catch (error) {\n",
              "        console.error('Error during call to suggestCharts:', error);\n",
              "      }\n",
              "      quickchartButtonEl.classList.remove('colab-df-spinner');\n",
              "      quickchartButtonEl.classList.add('colab-df-quickchart-complete');\n",
              "    }\n",
              "    (() => {\n",
              "      let quickchartButtonEl =\n",
              "        document.querySelector('#df-f12850fa-62a2-49e0-945a-24a2162c43e2 button');\n",
              "      quickchartButtonEl.style.display =\n",
              "        google.colab.kernel.accessAllowed ? 'block' : 'none';\n",
              "    })();\n",
              "  </script>\n",
              "</div>\n",
              "\n",
              "    </div>\n",
              "  </div>\n"
            ],
            "application/vnd.google.colaboratory.intrinsic+json": {
              "type": "dataframe",
              "summary": "{\n  \"name\": \"balanced_df[['text', 'cleaned_text']]\",\n  \"rows\": 42000,\n  \"fields\": [\n    {\n      \"column\": \"text\",\n      \"properties\": {\n        \"dtype\": \"string\",\n        \"num_unique_values\": 41537,\n        \"samples\": [\n          \"i do feel like we are trying to be romantic but indeed we are not\",\n          \"i flip the page and look at her activities and again i feel kind of defeated because they involve some larger lessons a lot of planning and a good chunk of class time which starts a whole new round of self reflection\",\n          \"i feel quite bashful in how much i actually enjoyed it\"\n        ],\n        \"semantic_type\": \"\",\n        \"description\": \"\"\n      }\n    },\n    {\n      \"column\": \"cleaned_text\",\n      \"properties\": {\n        \"dtype\": \"string\",\n        \"num_unique_values\": 40800,\n        \"samples\": [\n          \"feel pretty agitated right\",\n          \"mixed feelings kreatuv decide want horribly tortured die kreatuv emotions confusing\",\n          \"guess absence world left feeling unprotected\"\n        ],\n        \"semantic_type\": \"\",\n        \"description\": \"\"\n      }\n    }\n  ]\n}"
            }
          },
          "metadata": {},
          "execution_count": 54
        }
      ]
    },
    {
      "cell_type": "markdown",
      "source": [
        "# Splitting Data"
      ],
      "metadata": {
        "id": "875NLdpNM8kR"
      }
    },
    {
      "cell_type": "markdown",
      "source": [
        "The code below are used to split data into the required form [['train', 'test','split'], [70%, 15%, 15%]]. It is done like how it generally should be."
      ],
      "metadata": {
        "id": "pj7HrKQwqo91"
      }
    },
    {
      "cell_type": "code",
      "source": [
        "\n",
        "train_df, test_val_df = train_test_split(balanced_df, test_size=0.3, random_state=42)\n",
        "test_df, val_df = train_test_split(test_val_df, test_size=0.5, random_state=42)"
      ],
      "metadata": {
        "id": "AxkDweqjNGVb"
      },
      "execution_count": null,
      "outputs": []
    },
    {
      "cell_type": "markdown",
      "source": [
        "# Vectorization"
      ],
      "metadata": {
        "id": "Jsgh-VeqMpLt"
      }
    },
    {
      "cell_type": "markdown",
      "source": [
        "\n",
        "The provided code utilizes the 'bert-base-uncased' BERT model for fine-tuning on a downstream text classification task. It employs the Hugging Face Transformers library to tokenize the training, validation, and testing datasets, incorporating settings like truncation and padding. Labels are numerically encoded using pd.factorize. TensorFlow datasets are then created, with the training dataset shuffled and organized into batches. The code ensures consistency in input format for BERT, facilitating efficient training on a labeled dataset for subsequent downstream tasks such as sentiment analysis or classification."
      ],
      "metadata": {
        "id": "_xJF3IXuqdAS"
      }
    },
    {
      "cell_type": "code",
      "execution_count": null,
      "metadata": {
        "id": "v0cJnxvq61vw"
      },
      "outputs": [],
      "source": [
        "\n",
        "tokenizer = BertTokenizer.from_pretrained('bert-base-uncased')\n",
        "max_length = 128\n",
        "\n",
        "train_encodings = tokenizer(train_df['cleaned_text'].tolist(), truncation=True, padding=True, max_length=max_length, return_tensors='tf')\n",
        "val_encodings = tokenizer(val_df['cleaned_text'].tolist(), truncation=True, padding=True, max_length=max_length, return_tensors='tf')\n",
        "test_encodings = tokenizer(test_df['cleaned_text'].tolist(), truncation=True, padding=True, max_length=max_length, return_tensors='tf')\n",
        "\n",
        "train_labels = pd.factorize(train_df['label'])[0]\n",
        "val_labels = pd.factorize(val_df['label'])[0]\n",
        "test_labels = pd.factorize(test_df['label'])[0]\n",
        "\n",
        "train_dataset = tf.data.Dataset.from_tensor_slices((\n",
        "    dict(train_encodings),\n",
        "    train_labels\n",
        ")).shuffle(10000).batch(32)\n",
        "\n",
        "val_dataset = tf.data.Dataset.from_tensor_slices((\n",
        "    dict(val_encodings),\n",
        "    val_labels\n",
        ")).batch(32)\n",
        "\n",
        "test_dataset = tf.data.Dataset.from_tensor_slices((\n",
        "    dict(test_encodings),\n",
        "    test_labels\n",
        ")).batch(32)"
      ]
    },
    {
      "cell_type": "code",
      "source": [
        "for input_data, label in train_dataset.take(5):\n",
        "    print(\"Input data:\", input_data)\n",
        "    print(\"Label:\", label)"
      ],
      "metadata": {
        "colab": {
          "base_uri": "https://localhost:8080/"
        },
        "id": "JyGCAhTrO4Ck",
        "outputId": "63ade6de-7159-46ba-a5d0-332b4aadf32b"
      },
      "execution_count": null,
      "outputs": [
        {
          "output_type": "stream",
          "name": "stdout",
          "text": [
            "Input data: {'input_ids': <tf.Tensor: shape=(32, 80), dtype=int32, numpy=\n",
            "array([[ 101, 2074, 9535, ...,    0,    0,    0],\n",
            "       [ 101, 2701, 3526, ...,    0,    0,    0],\n",
            "       [ 101, 2113, 3658, ...,    0,    0,    0],\n",
            "       ...,\n",
            "       [ 101, 2428, 4339, ...,    0,    0,    0],\n",
            "       [ 101, 2491, 6183, ...,    0,    0,    0],\n",
            "       [ 101, 2113, 3110, ...,    0,    0,    0]], dtype=int32)>, 'token_type_ids': <tf.Tensor: shape=(32, 80), dtype=int32, numpy=\n",
            "array([[0, 0, 0, ..., 0, 0, 0],\n",
            "       [0, 0, 0, ..., 0, 0, 0],\n",
            "       [0, 0, 0, ..., 0, 0, 0],\n",
            "       ...,\n",
            "       [0, 0, 0, ..., 0, 0, 0],\n",
            "       [0, 0, 0, ..., 0, 0, 0],\n",
            "       [0, 0, 0, ..., 0, 0, 0]], dtype=int32)>, 'attention_mask': <tf.Tensor: shape=(32, 80), dtype=int32, numpy=\n",
            "array([[1, 1, 1, ..., 0, 0, 0],\n",
            "       [1, 1, 1, ..., 0, 0, 0],\n",
            "       [1, 1, 1, ..., 0, 0, 0],\n",
            "       ...,\n",
            "       [1, 1, 1, ..., 0, 0, 0],\n",
            "       [1, 1, 1, ..., 0, 0, 0],\n",
            "       [1, 1, 1, ..., 0, 0, 0]], dtype=int32)>}\n",
            "Label: tf.Tensor([1 5 4 1 2 5 5 0 1 5 3 3 0 1 1 3 4 3 4 2 1 3 1 3 4 0 1 5 3 0 4 2], shape=(32,), dtype=int64)\n",
            "Input data: {'input_ids': <tf.Tensor: shape=(32, 80), dtype=int32, numpy=\n",
            "array([[  101,  2514,  2574, ...,     0,     0,     0],\n",
            "       [  101,  3191,  2338, ...,     0,     0,     0],\n",
            "       [  101,  2143,  3295, ...,     0,     0,     0],\n",
            "       ...,\n",
            "       [  101, 10047,  3110, ...,     0,     0,     0],\n",
            "       [  101,  4929, 10126, ...,     0,     0,     0],\n",
            "       [  101,  2514,  2066, ...,     0,     0,     0]], dtype=int32)>, 'token_type_ids': <tf.Tensor: shape=(32, 80), dtype=int32, numpy=\n",
            "array([[0, 0, 0, ..., 0, 0, 0],\n",
            "       [0, 0, 0, ..., 0, 0, 0],\n",
            "       [0, 0, 0, ..., 0, 0, 0],\n",
            "       ...,\n",
            "       [0, 0, 0, ..., 0, 0, 0],\n",
            "       [0, 0, 0, ..., 0, 0, 0],\n",
            "       [0, 0, 0, ..., 0, 0, 0]], dtype=int32)>, 'attention_mask': <tf.Tensor: shape=(32, 80), dtype=int32, numpy=\n",
            "array([[1, 1, 1, ..., 0, 0, 0],\n",
            "       [1, 1, 1, ..., 0, 0, 0],\n",
            "       [1, 1, 1, ..., 0, 0, 0],\n",
            "       ...,\n",
            "       [1, 1, 1, ..., 0, 0, 0],\n",
            "       [1, 1, 1, ..., 0, 0, 0],\n",
            "       [1, 1, 1, ..., 0, 0, 0]], dtype=int32)>}\n",
            "Label: tf.Tensor([4 3 1 2 3 1 1 0 0 2 0 0 4 3 0 3 0 3 3 5 3 2 5 2 5 1 5 1 2 2 4 3], shape=(32,), dtype=int64)\n",
            "Input data: {'input_ids': <tf.Tensor: shape=(32, 80), dtype=int32, numpy=\n",
            "array([[  101,  2514, 17727, ...,     0,     0,     0],\n",
            "       [  101,  4921,  2063, ...,     0,     0,     0],\n",
            "       [  101,  2109,  3191, ...,     0,     0,     0],\n",
            "       ...,\n",
            "       [  101,  2123,  1056, ...,     0,     0,     0],\n",
            "       [  101, 10047,  2469, ...,     0,     0,     0],\n",
            "       [  101,  2921,  4129, ...,     0,     0,     0]], dtype=int32)>, 'token_type_ids': <tf.Tensor: shape=(32, 80), dtype=int32, numpy=\n",
            "array([[0, 0, 0, ..., 0, 0, 0],\n",
            "       [0, 0, 0, ..., 0, 0, 0],\n",
            "       [0, 0, 0, ..., 0, 0, 0],\n",
            "       ...,\n",
            "       [0, 0, 0, ..., 0, 0, 0],\n",
            "       [0, 0, 0, ..., 0, 0, 0],\n",
            "       [0, 0, 0, ..., 0, 0, 0]], dtype=int32)>, 'attention_mask': <tf.Tensor: shape=(32, 80), dtype=int32, numpy=\n",
            "array([[1, 1, 1, ..., 0, 0, 0],\n",
            "       [1, 1, 1, ..., 0, 0, 0],\n",
            "       [1, 1, 1, ..., 0, 0, 0],\n",
            "       ...,\n",
            "       [1, 1, 1, ..., 0, 0, 0],\n",
            "       [1, 1, 1, ..., 0, 0, 0],\n",
            "       [1, 1, 1, ..., 0, 0, 0]], dtype=int32)>}\n",
            "Label: tf.Tensor([5 0 1 4 0 2 5 5 5 1 5 0 1 3 4 3 0 4 1 4 0 3 5 0 3 1 3 1 0 1 4 5], shape=(32,), dtype=int64)\n",
            "Input data: {'input_ids': <tf.Tensor: shape=(32, 80), dtype=int32, numpy=\n",
            "array([[  101,  2224,  3232, ...,     0,     0,     0],\n",
            "       [  101,  2514,  2210, ...,     0,     0,     0],\n",
            "       [  101,  2524,  2831, ...,     0,     0,     0],\n",
            "       ...,\n",
            "       [  101,  2514,  2066, ...,     0,     0,     0],\n",
            "       [  101,  2514, 25792, ...,     0,     0,     0],\n",
            "       [  101,  2371,  8363, ...,     0,     0,     0]], dtype=int32)>, 'token_type_ids': <tf.Tensor: shape=(32, 80), dtype=int32, numpy=\n",
            "array([[0, 0, 0, ..., 0, 0, 0],\n",
            "       [0, 0, 0, ..., 0, 0, 0],\n",
            "       [0, 0, 0, ..., 0, 0, 0],\n",
            "       ...,\n",
            "       [0, 0, 0, ..., 0, 0, 0],\n",
            "       [0, 0, 0, ..., 0, 0, 0],\n",
            "       [0, 0, 0, ..., 0, 0, 0]], dtype=int32)>, 'attention_mask': <tf.Tensor: shape=(32, 80), dtype=int32, numpy=\n",
            "array([[1, 1, 1, ..., 0, 0, 0],\n",
            "       [1, 1, 1, ..., 0, 0, 0],\n",
            "       [1, 1, 1, ..., 0, 0, 0],\n",
            "       ...,\n",
            "       [1, 1, 1, ..., 0, 0, 0],\n",
            "       [1, 1, 1, ..., 0, 0, 0],\n",
            "       [1, 1, 1, ..., 0, 0, 0]], dtype=int32)>}\n",
            "Label: tf.Tensor([2 4 1 0 4 4 0 5 4 2 5 0 4 5 3 2 5 1 4 3 1 0 2 1 3 1 3 4 3 2 2 4], shape=(32,), dtype=int64)\n",
            "Input data: {'input_ids': <tf.Tensor: shape=(32, 80), dtype=int32, numpy=\n",
            "array([[  101, 21345,  8224, ...,     0,     0,     0],\n",
            "       [  101,  2514,  4276, ...,     0,     0,     0],\n",
            "       [  101,  2514, 18835, ...,     0,     0,     0],\n",
            "       ...,\n",
            "       [  101,  2514,  2066, ...,     0,     0,     0],\n",
            "       [  101,  2514,  7622, ...,     0,     0,     0],\n",
            "       [  101,  3110,  2978, ...,     0,     0,     0]], dtype=int32)>, 'token_type_ids': <tf.Tensor: shape=(32, 80), dtype=int32, numpy=\n",
            "array([[0, 0, 0, ..., 0, 0, 0],\n",
            "       [0, 0, 0, ..., 0, 0, 0],\n",
            "       [0, 0, 0, ..., 0, 0, 0],\n",
            "       ...,\n",
            "       [0, 0, 0, ..., 0, 0, 0],\n",
            "       [0, 0, 0, ..., 0, 0, 0],\n",
            "       [0, 0, 0, ..., 0, 0, 0]], dtype=int32)>, 'attention_mask': <tf.Tensor: shape=(32, 80), dtype=int32, numpy=\n",
            "array([[1, 1, 1, ..., 0, 0, 0],\n",
            "       [1, 1, 1, ..., 0, 0, 0],\n",
            "       [1, 1, 1, ..., 0, 0, 0],\n",
            "       ...,\n",
            "       [1, 1, 1, ..., 0, 0, 0],\n",
            "       [1, 1, 1, ..., 0, 0, 0],\n",
            "       [1, 1, 1, ..., 0, 0, 0]], dtype=int32)>}\n",
            "Label: tf.Tensor([3 3 1 4 2 2 1 4 1 4 2 1 2 3 5 3 5 2 2 0 5 5 4 2 2 1 2 2 5 2 5 4], shape=(32,), dtype=int64)\n"
          ]
        }
      ]
    },
    {
      "cell_type": "code",
      "source": [
        "print(\"Original Text:\", train_df['text'].iloc[0])\n",
        "print(\"Token IDs:\", train_encodings['input_ids'][0])\n",
        "print(\"Attention Mask:\", train_encodings['attention_mask'][0])"
      ],
      "metadata": {
        "colab": {
          "base_uri": "https://localhost:8080/"
        },
        "id": "OYmSJN2oPA3O",
        "outputId": "649fc775-9d1c-4ea3-efcd-f0ee5733eb9d"
      },
      "execution_count": null,
      "outputs": [
        {
          "output_type": "stream",
          "name": "stdout",
          "text": [
            "Original Text: i feel like i m very regretful and so sorry for all of my fren and family there\n",
            "Token IDs: tf.Tensor(\n",
            "[  101  2514  2066  1049  9038  3993  3374 10424  2368  2155   102     0\n",
            "     0     0     0     0     0     0     0     0     0     0     0     0\n",
            "     0     0     0     0     0     0     0     0     0     0     0     0\n",
            "     0     0     0     0     0     0     0     0     0     0     0     0\n",
            "     0     0     0     0     0     0     0     0     0     0     0     0\n",
            "     0     0     0     0     0     0     0     0     0     0     0     0\n",
            "     0     0     0     0     0     0     0     0], shape=(80,), dtype=int32)\n",
            "Attention Mask: tf.Tensor(\n",
            "[1 1 1 1 1 1 1 1 1 1 1 0 0 0 0 0 0 0 0 0 0 0 0 0 0 0 0 0 0 0 0 0 0 0 0 0 0\n",
            " 0 0 0 0 0 0 0 0 0 0 0 0 0 0 0 0 0 0 0 0 0 0 0 0 0 0 0 0 0 0 0 0 0 0 0 0 0\n",
            " 0 0 0 0 0 0], shape=(80,), dtype=int32)\n"
          ]
        }
      ]
    },
    {
      "cell_type": "markdown",
      "source": [
        "# Modelling"
      ],
      "metadata": {
        "id": "7jTiprIENLyc"
      }
    },
    {
      "cell_type": "markdown",
      "source": [
        "The provided code initializes a BERT (Bidirectional Encoder Representations from Transformers) model for sequence classification, tailored to the number of unique labels in a dataset. It employs the 'bert-base-uncased' pre-trained variant and configures an Adam optimizer with a learning rate of 2e-5. The model is compiled using sparse categorical cross-entropy loss and accuracy as the evaluation metric. This approach leverages BERT's bidirectional context understanding for natural language tasks, making it suitable for applications like text classification."
      ],
      "metadata": {
        "id": "0XhBJxvlUbf1"
      }
    },
    {
      "cell_type": "code",
      "source": [
        "num_labels = len(df['label'].unique())\n",
        "bert_model = TFBertForSequenceClassification.from_pretrained('bert-base-uncased', num_labels=num_labels)\n",
        "\n",
        "optimizer = tf.keras.optimizers.Adam(learning_rate=2e-5)\n",
        "loss = tf.keras.losses.SparseCategoricalCrossentropy(from_logits=True)\n",
        "metric = tf.keras.metrics.SparseCategoricalAccuracy('accuracy')\n",
        "\n",
        "bert_model.compile(optimizer=optimizer, loss=loss, metrics=[metric])"
      ],
      "metadata": {
        "colab": {
          "base_uri": "https://localhost:8080/"
        },
        "id": "yOH754So7_dU",
        "outputId": "268ba16e-2736-4910-e2c4-0c0f64812faa"
      },
      "execution_count": null,
      "outputs": [
        {
          "output_type": "stream",
          "name": "stderr",
          "text": [
            "All PyTorch model weights were used when initializing TFBertForSequenceClassification.\n",
            "\n",
            "Some weights or buffers of the TF 2.0 model TFBertForSequenceClassification were not initialized from the PyTorch model and are newly initialized: ['classifier.weight', 'classifier.bias']\n",
            "You should probably TRAIN this model on a down-stream task to be able to use it for predictions and inference.\n"
          ]
        }
      ]
    },
    {
      "cell_type": "markdown",
      "source": [
        "# Training Model"
      ],
      "metadata": {
        "id": "rCnWj5ASNV0C"
      }
    },
    {
      "cell_type": "code",
      "source": [
        "history = bert_model.fit(train_dataset, epochs=3, validation_data=val_dataset)"
      ],
      "metadata": {
        "colab": {
          "base_uri": "https://localhost:8080/"
        },
        "id": "bvh32Fds8K_S",
        "outputId": "bbe1fd87-5c21-4a45-ed27-d326d34b0e2c"
      },
      "execution_count": null,
      "outputs": [
        {
          "output_type": "stream",
          "name": "stdout",
          "text": [
            "Epoch 1/3\n",
            "919/919 [==============================] - 651s 628ms/step - loss: 0.4430 - accuracy: 0.8418 - val_loss: 4.0406 - val_accuracy: 0.3257\n",
            "Epoch 2/3\n",
            "919/919 [==============================] - 566s 616ms/step - loss: 0.1372 - accuracy: 0.9480 - val_loss: 4.6198 - val_accuracy: 0.3344\n",
            "Epoch 3/3\n",
            "919/919 [==============================] - 566s 616ms/step - loss: 0.1139 - accuracy: 0.9537 - val_loss: 4.9392 - val_accuracy: 0.3349\n"
          ]
        }
      ]
    },
    {
      "cell_type": "markdown",
      "source": [
        "# Evaluation"
      ],
      "metadata": {
        "id": "M2jE29ONNady"
      }
    },
    {
      "cell_type": "markdown",
      "source": [
        "* Precision is the ratio of correctly predicted positive instances to the total instances predicted as positive. In general situations, a high precision indicates that when the model predicts a positive outcome, it is likely to be correct\n",
        "\n",
        "* Recall is the ratio of correctly predicted positive instances to the total actual positive instances. In general situations, a high recall indicates that the model is good at capturing most of the actual positive instances\n",
        "\n",
        "* The F1-Score is the harmonic mean of precision and recall. It provides a balanced measure of precision and recall. In general situations, a high F1-Score suggests a model that performs well in both precision and recall.\n",
        "\n",
        "* Accuracy is the ratio of correctly predicted instances to the total instances. In general situations, accuracy provides an overall measure of how well the model is performing across all classes."
      ],
      "metadata": {
        "id": "WhtOOIgruAfS"
      }
    },
    {
      "cell_type": "code",
      "source": [
        "evaluation_results = bert_model.evaluate(test_dataset)\n",
        "\n",
        "# Print the evaluation results\n",
        "print(\"Test Loss:\", evaluation_results[0])\n",
        "print(\"Test Accuracy:\", evaluation_results[1])"
      ],
      "metadata": {
        "id": "2vExh7mcDzMR",
        "colab": {
          "base_uri": "https://localhost:8080/"
        },
        "outputId": "04d5479e-01d4-44bb-d518-18bee02e47d5"
      },
      "execution_count": null,
      "outputs": [
        {
          "output_type": "stream",
          "name": "stdout",
          "text": [
            "197/197 [==============================] - 26s 133ms/step - loss: 4.9422 - accuracy: 0.3216\n",
            "Test Loss: 4.9422221183776855\n",
            "Test Accuracy: 0.32158729434013367\n"
          ]
        }
      ]
    },
    {
      "cell_type": "code",
      "source": [
        "from sklearn.metrics import precision_score, recall_score, f1_score, accuracy_score\n",
        "\n",
        "# Predict the labels on the test set\n",
        "predictions = bert_model.predict(test_dataset)\n",
        "predicted_labels = tf.argmax(predictions.logits, axis=1)\n",
        "\n",
        "# Convert the true labels to numpy array\n",
        "true_labels = test_labels\n",
        "\n",
        "# Calculate precision, recall, F1-Score, and accuracy\n",
        "precision = precision_score(true_labels, predicted_labels, average='weighted')\n",
        "recall = recall_score(true_labels, predicted_labels, average='weighted')\n",
        "f1 = f1_score(true_labels, predicted_labels, average='weighted')\n",
        "accuracy = accuracy_score(true_labels, predicted_labels)\n",
        "\n",
        "# Print the results\n",
        "print(\"Precision:\", precision)\n",
        "print(\"Recall:\", recall)\n",
        "print(\"F1-Score:\", f1)\n",
        "print(\"Accuracy:\", accuracy)"
      ],
      "metadata": {
        "id": "jSUqcHqBEMAW",
        "colab": {
          "base_uri": "https://localhost:8080/"
        },
        "outputId": "069e5500-0892-4ce2-83ab-3f77e5c3186f"
      },
      "execution_count": null,
      "outputs": [
        {
          "output_type": "stream",
          "name": "stdout",
          "text": [
            "197/197 [==============================] - 35s 127ms/step\n",
            "Precision: 0.3150043182053633\n",
            "Recall: 0.3215873015873016\n",
            "F1-Score: 0.3179399143852193\n",
            "Accuracy: 0.3215873015873016\n"
          ]
        }
      ]
    },
    {
      "cell_type": "markdown",
      "source": [
        "* In this case, 31.5% of the predicted positive instances were actually positive. Higher precision indicates a lower rate of false positives.\n",
        "*  In this case, 32.15% of the actual positive instances were correctly predicted. Higher recall indicates a lower rate of false negatives.\n",
        "*  The reported F1-Score of 0.3179 suggests a good balance between precision and recall.\n",
        "* In this case, 32.15% of the instances were correctly classified."
      ],
      "metadata": {
        "id": "ib4i7ma7uWQU"
      }
    },
    {
      "cell_type": "markdown",
      "source": [
        "# Prediction"
      ],
      "metadata": {
        "id": "ctE75JK3NgYe"
      }
    },
    {
      "cell_type": "code",
      "source": [
        "import numpy as np\n",
        "input_sentences = [\n",
        "    \"I feel humiliated.\",\n",
        "    \"Why are you so stupid\",\n",
        "    \"It was very fun\",\n",
        "    \"It is very scary\",\n",
        "    \"I am feeling happy\",\n",
        "    \"i am ever feeling nostalgic about the fireplace i will know that it is still on the property\"\n",
        "]\n",
        "\n",
        "# Tokenize and prepare input\n",
        "max_length = 128\n",
        "tokenizer = BertTokenizer.from_pretrained('bert-base-uncased')\n",
        "input_encodings = tokenizer(input_sentences, truncation=True, padding=True, max_length=max_length, return_tensors='tf')\n",
        "\n",
        "# Make predictions\n",
        "predictions = bert_model.predict(dict(input_encodings))\n",
        "\n",
        "# Extract predicted labels and probabilities\n",
        "predicted_labels = np.argmax(predictions.logits, axis=1)\n",
        "predicted_probabilities = tf.nn.softmax(predictions.logits, axis=1).numpy()\n",
        "\n",
        "# Map numerical labels to corresponding string labels dynamically\n",
        "labels_mapping = {\n",
        "    0: 'sadness',\n",
        "    1: 'joy',\n",
        "    2: 'love',\n",
        "    3: 'anger',\n",
        "    4: 'fear',\n",
        "    5: 'surprise'\n",
        "}\n",
        "predicted_labels_str = [labels_mapping[label] for label in predicted_labels]\n",
        "\n",
        "# Print predictions\n",
        "for sentence, label, probability in zip(input_sentences, predicted_labels_str, predicted_probabilities):\n",
        "    print(f\"Sentence: {sentence}\")\n",
        "    print(f\"Predicted Label: {label}\")\n",
        "    print(f\"Predicted Probability: {probability}\")\n",
        "    print()"
      ],
      "metadata": {
        "id": "Nfl1MYWJE068",
        "colab": {
          "base_uri": "https://localhost:8080/"
        },
        "outputId": "ad1bab71-8798-4e7b-d19a-393b89e05f3d"
      },
      "execution_count": null,
      "outputs": [
        {
          "output_type": "stream",
          "name": "stdout",
          "text": [
            "1/1 [==============================] - 10s 10s/step\n",
            "Sentence: I feel humiliated.\n",
            "Predicted Label: sadness\n",
            "Predicted Probability: [9.9300450e-01 5.5710524e-03 2.1288045e-04 4.7540548e-04 5.3624308e-04\n",
            " 1.9994474e-04]\n",
            "\n",
            "Sentence: Why are you so stupid\n",
            "Predicted Label: joy\n",
            "Predicted Probability: [2.1314848e-02 9.7093606e-01 3.3033977e-04 1.8464485e-03 4.4922009e-03\n",
            " 1.0800783e-03]\n",
            "\n",
            "Sentence: It was very fun\n",
            "Predicted Label: anger\n",
            "Predicted Probability: [0.01996855 0.04503285 0.02239666 0.8511381  0.00564891 0.0558149 ]\n",
            "\n",
            "Sentence: It is very scary\n",
            "Predicted Label: fear\n",
            "Predicted Probability: [4.5960760e-03 6.3464910e-02 4.0458390e-04 9.5509086e-04 9.2832309e-01\n",
            " 2.2562328e-03]\n",
            "\n",
            "Sentence: I am feeling happy\n",
            "Predicted Label: anger\n",
            "Predicted Probability: [8.5866218e-04 8.4278366e-04 4.1839431e-04 9.9719858e-01 3.1735725e-04\n",
            " 3.6410126e-04]\n",
            "\n",
            "Sentence: i am ever feeling nostalgic about the fireplace i will know that it is still on the property\n",
            "Predicted Label: love\n",
            "Predicted Probability: [5.6403328e-04 4.7910438e-04 9.9618763e-01 1.5041940e-03 4.3543024e-04\n",
            " 8.2967500e-04]\n",
            "\n"
          ]
        }
      ]
    },
    {
      "cell_type": "code",
      "source": [
        "import numpy as np\n",
        "\n",
        "# Get user input sentences\n",
        "user_input_sentences = []\n",
        "while True:\n",
        "    user_sentence = input(\"Enter a sentence (or type 'exit' to finish): \")\n",
        "    if user_sentence.lower() == 'exit':\n",
        "        break\n",
        "    user_input_sentences.append(user_sentence)\n",
        "\n",
        "# Tokenize and prepare input\n",
        "max_length = 128\n",
        "tokenizer = BertTokenizer.from_pretrained('bert-base-uncased')\n",
        "input_encodings = tokenizer(user_input_sentences, truncation=True, padding=True, max_length=max_length, return_tensors='tf')\n",
        "\n",
        "# Make predictions\n",
        "predictions = bert_model.predict(dict(input_encodings))\n",
        "\n",
        "# Extract predicted labels and probabilities\n",
        "predicted_labels = np.argmax(predictions.logits, axis=1)\n",
        "predicted_probabilities = tf.nn.softmax(predictions.logits, axis=1).numpy()\n",
        "\n",
        "# Map numerical labels to corresponding string labels dynamically\n",
        "labels_mapping = {\n",
        "    0: 'sadness',\n",
        "    1: 'joy',\n",
        "    2: 'love',\n",
        "    3: 'anger',\n",
        "    4: 'fear',\n",
        "    5: 'surprise'\n",
        "}\n",
        "predicted_labels_str = [labels_mapping[label] for label in predicted_labels]\n",
        "\n",
        "# Print predictions\n",
        "for sentence, label, probability in zip(user_input_sentences, predicted_labels_str, predicted_probabilities):\n",
        "    print(f\"Sentence: {sentence}\")\n",
        "    print(f\"Predicted Label: {label}\")\n",
        "    print(f\"Predicted Probability: {probability}\")\n",
        "    print()"
      ],
      "metadata": {
        "id": "H9h3CHDGIbwc",
        "colab": {
          "base_uri": "https://localhost:8080/"
        },
        "outputId": "2999f17b-f176-4db7-b2b1-ee7b82a0cf24"
      },
      "execution_count": null,
      "outputs": [
        {
          "output_type": "stream",
          "name": "stdout",
          "text": [
            "Enter a sentence (or type 'exit' to finish): Im sad\n",
            "Enter a sentence (or type 'exit' to finish): exit\n",
            "1/1 [==============================] - 10s 10s/step\n",
            "Sentence: Im sad\n",
            "Predicted Label: sadness\n",
            "Predicted Probability: [9.9149960e-01 6.5414975e-03 7.4098486e-04 5.0233497e-04 3.9282354e-04\n",
            " 3.2279332e-04]\n",
            "\n"
          ]
        }
      ]
    }
  ]
}