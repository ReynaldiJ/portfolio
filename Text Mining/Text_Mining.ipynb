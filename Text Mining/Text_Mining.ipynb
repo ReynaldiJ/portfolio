{
  "cells": [
    {
      "cell_type": "markdown",
      "metadata": {
        "id": "view-in-github",
        "colab_type": "text"
      },
      "source": [
        "<a href=\"https://colab.research.google.com/github/ReynaldiJ/portfolio/blob/main/Text_Mining.ipynb\" target=\"_parent\"><img src=\"https://colab.research.google.com/assets/colab-badge.svg\" alt=\"Open In Colab\"/></a>"
      ]
    },
    {
      "cell_type": "markdown",
      "source": [
        "UAS Text Mining\n",
        "\n",
        "---\n",
        "\n",
        "\n",
        "Reynaldi Joely - 2540124356\n",
        "\n",
        "---\n",
        "\n",
        "\n",
        "Link Colab: https://colab.research.google.com/drive/1XQ1mPWkQZZzgNmxVifw9nrhInwayfFIB?usp=sharing\n",
        "\n",
        "---\n",
        "\n",
        "Link Video: https://youtu.be/lqgAOlzNcyk"
      ],
      "metadata": {
        "id": "N858I9_LBYAU"
      }
    },
    {
      "cell_type": "code",
      "execution_count": null,
      "metadata": {
        "id": "wUp2YU6u6_h0"
      },
      "outputs": [],
      "source": [
        "import zipfile\n",
        "zip_file_path = '/content/Data.zip'\n",
        "extract_folder = 'extracted_data'\n",
        "with zipfile.ZipFile(zip_file_path, 'r') as zip_ref:\n",
        "    zip_ref.extractall(extract_folder)"
      ]
    },
    {
      "cell_type": "markdown",
      "metadata": {
        "id": "N1GYD9wcfWps"
      },
      "source": [
        "# LLM (Multilabel Classification)"
      ]
    },
    {
      "cell_type": "code",
      "execution_count": null,
      "metadata": {
        "colab": {
          "base_uri": "https://localhost:8080/"
        },
        "collapsed": true,
        "id": "B_xm8KeB63yw",
        "outputId": "c83902de-3715-4905-8d8d-32b8210d9eef"
      },
      "outputs": [
        {
          "name": "stdout",
          "output_type": "stream",
          "text": [
            "Requirement already satisfied: transformers[torch] in /usr/local/lib/python3.10/dist-packages (4.41.2)\n",
            "Requirement already satisfied: filelock in /usr/local/lib/python3.10/dist-packages (from transformers[torch]) (3.15.4)\n",
            "Requirement already satisfied: huggingface-hub<1.0,>=0.23.0 in /usr/local/lib/python3.10/dist-packages (from transformers[torch]) (0.23.4)\n",
            "Requirement already satisfied: numpy>=1.17 in /usr/local/lib/python3.10/dist-packages (from transformers[torch]) (1.25.2)\n",
            "Requirement already satisfied: packaging>=20.0 in /usr/local/lib/python3.10/dist-packages (from transformers[torch]) (24.1)\n",
            "Requirement already satisfied: pyyaml>=5.1 in /usr/local/lib/python3.10/dist-packages (from transformers[torch]) (6.0.1)\n",
            "Requirement already satisfied: regex!=2019.12.17 in /usr/local/lib/python3.10/dist-packages (from transformers[torch]) (2024.5.15)\n",
            "Requirement already satisfied: requests in /usr/local/lib/python3.10/dist-packages (from transformers[torch]) (2.31.0)\n",
            "Requirement already satisfied: tokenizers<0.20,>=0.19 in /usr/local/lib/python3.10/dist-packages (from transformers[torch]) (0.19.1)\n",
            "Requirement already satisfied: safetensors>=0.4.1 in /usr/local/lib/python3.10/dist-packages (from transformers[torch]) (0.4.3)\n",
            "Requirement already satisfied: tqdm>=4.27 in /usr/local/lib/python3.10/dist-packages (from transformers[torch]) (4.66.4)\n",
            "Requirement already satisfied: torch in /usr/local/lib/python3.10/dist-packages (from transformers[torch]) (2.3.0+cu121)\n",
            "Requirement already satisfied: accelerate>=0.21.0 in /usr/local/lib/python3.10/dist-packages (from transformers[torch]) (0.32.1)\n",
            "Requirement already satisfied: psutil in /usr/local/lib/python3.10/dist-packages (from accelerate>=0.21.0->transformers[torch]) (5.9.5)\n",
            "Requirement already satisfied: fsspec>=2023.5.0 in /usr/local/lib/python3.10/dist-packages (from huggingface-hub<1.0,>=0.23.0->transformers[torch]) (2023.6.0)\n",
            "Requirement already satisfied: typing-extensions>=3.7.4.3 in /usr/local/lib/python3.10/dist-packages (from huggingface-hub<1.0,>=0.23.0->transformers[torch]) (4.12.2)\n",
            "Requirement already satisfied: sympy in /usr/local/lib/python3.10/dist-packages (from torch->transformers[torch]) (1.12.1)\n",
            "Requirement already satisfied: networkx in /usr/local/lib/python3.10/dist-packages (from torch->transformers[torch]) (3.3)\n",
            "Requirement already satisfied: jinja2 in /usr/local/lib/python3.10/dist-packages (from torch->transformers[torch]) (3.1.4)\n",
            "Requirement already satisfied: nvidia-cuda-nvrtc-cu12==12.1.105 in /usr/local/lib/python3.10/dist-packages (from torch->transformers[torch]) (12.1.105)\n",
            "Requirement already satisfied: nvidia-cuda-runtime-cu12==12.1.105 in /usr/local/lib/python3.10/dist-packages (from torch->transformers[torch]) (12.1.105)\n",
            "Requirement already satisfied: nvidia-cuda-cupti-cu12==12.1.105 in /usr/local/lib/python3.10/dist-packages (from torch->transformers[torch]) (12.1.105)\n",
            "Requirement already satisfied: nvidia-cudnn-cu12==8.9.2.26 in /usr/local/lib/python3.10/dist-packages (from torch->transformers[torch]) (8.9.2.26)\n",
            "Requirement already satisfied: nvidia-cublas-cu12==12.1.3.1 in /usr/local/lib/python3.10/dist-packages (from torch->transformers[torch]) (12.1.3.1)\n",
            "Requirement already satisfied: nvidia-cufft-cu12==11.0.2.54 in /usr/local/lib/python3.10/dist-packages (from torch->transformers[torch]) (11.0.2.54)\n",
            "Requirement already satisfied: nvidia-curand-cu12==10.3.2.106 in /usr/local/lib/python3.10/dist-packages (from torch->transformers[torch]) (10.3.2.106)\n",
            "Requirement already satisfied: nvidia-cusolver-cu12==11.4.5.107 in /usr/local/lib/python3.10/dist-packages (from torch->transformers[torch]) (11.4.5.107)\n",
            "Requirement already satisfied: nvidia-cusparse-cu12==12.1.0.106 in /usr/local/lib/python3.10/dist-packages (from torch->transformers[torch]) (12.1.0.106)\n",
            "Requirement already satisfied: nvidia-nccl-cu12==2.20.5 in /usr/local/lib/python3.10/dist-packages (from torch->transformers[torch]) (2.20.5)\n",
            "Requirement already satisfied: nvidia-nvtx-cu12==12.1.105 in /usr/local/lib/python3.10/dist-packages (from torch->transformers[torch]) (12.1.105)\n",
            "Requirement already satisfied: triton==2.3.0 in /usr/local/lib/python3.10/dist-packages (from torch->transformers[torch]) (2.3.0)\n",
            "Requirement already satisfied: nvidia-nvjitlink-cu12 in /usr/local/lib/python3.10/dist-packages (from nvidia-cusolver-cu12==11.4.5.107->torch->transformers[torch]) (12.5.82)\n",
            "Requirement already satisfied: charset-normalizer<4,>=2 in /usr/local/lib/python3.10/dist-packages (from requests->transformers[torch]) (3.3.2)\n",
            "Requirement already satisfied: idna<4,>=2.5 in /usr/local/lib/python3.10/dist-packages (from requests->transformers[torch]) (3.7)\n",
            "Requirement already satisfied: urllib3<3,>=1.21.1 in /usr/local/lib/python3.10/dist-packages (from requests->transformers[torch]) (2.0.7)\n",
            "Requirement already satisfied: certifi>=2017.4.17 in /usr/local/lib/python3.10/dist-packages (from requests->transformers[torch]) (2024.6.2)\n",
            "Requirement already satisfied: MarkupSafe>=2.0 in /usr/local/lib/python3.10/dist-packages (from jinja2->torch->transformers[torch]) (2.1.5)\n",
            "Requirement already satisfied: mpmath<1.4.0,>=1.1.0 in /usr/local/lib/python3.10/dist-packages (from sympy->torch->transformers[torch]) (1.3.0)\n",
            "Requirement already satisfied: accelerate in /usr/local/lib/python3.10/dist-packages (0.32.1)\n",
            "Requirement already satisfied: numpy<2.0.0,>=1.17 in /usr/local/lib/python3.10/dist-packages (from accelerate) (1.25.2)\n",
            "Requirement already satisfied: packaging>=20.0 in /usr/local/lib/python3.10/dist-packages (from accelerate) (24.1)\n",
            "Requirement already satisfied: psutil in /usr/local/lib/python3.10/dist-packages (from accelerate) (5.9.5)\n",
            "Requirement already satisfied: pyyaml in /usr/local/lib/python3.10/dist-packages (from accelerate) (6.0.1)\n",
            "Requirement already satisfied: torch>=1.10.0 in /usr/local/lib/python3.10/dist-packages (from accelerate) (2.3.0+cu121)\n",
            "Requirement already satisfied: huggingface-hub in /usr/local/lib/python3.10/dist-packages (from accelerate) (0.23.4)\n",
            "Requirement already satisfied: safetensors>=0.3.1 in /usr/local/lib/python3.10/dist-packages (from accelerate) (0.4.3)\n",
            "Requirement already satisfied: filelock in /usr/local/lib/python3.10/dist-packages (from torch>=1.10.0->accelerate) (3.15.4)\n",
            "Requirement already satisfied: typing-extensions>=4.8.0 in /usr/local/lib/python3.10/dist-packages (from torch>=1.10.0->accelerate) (4.12.2)\n",
            "Requirement already satisfied: sympy in /usr/local/lib/python3.10/dist-packages (from torch>=1.10.0->accelerate) (1.12.1)\n",
            "Requirement already satisfied: networkx in /usr/local/lib/python3.10/dist-packages (from torch>=1.10.0->accelerate) (3.3)\n",
            "Requirement already satisfied: jinja2 in /usr/local/lib/python3.10/dist-packages (from torch>=1.10.0->accelerate) (3.1.4)\n",
            "Requirement already satisfied: fsspec in /usr/local/lib/python3.10/dist-packages (from torch>=1.10.0->accelerate) (2023.6.0)\n",
            "Requirement already satisfied: nvidia-cuda-nvrtc-cu12==12.1.105 in /usr/local/lib/python3.10/dist-packages (from torch>=1.10.0->accelerate) (12.1.105)\n",
            "Requirement already satisfied: nvidia-cuda-runtime-cu12==12.1.105 in /usr/local/lib/python3.10/dist-packages (from torch>=1.10.0->accelerate) (12.1.105)\n",
            "Requirement already satisfied: nvidia-cuda-cupti-cu12==12.1.105 in /usr/local/lib/python3.10/dist-packages (from torch>=1.10.0->accelerate) (12.1.105)\n",
            "Requirement already satisfied: nvidia-cudnn-cu12==8.9.2.26 in /usr/local/lib/python3.10/dist-packages (from torch>=1.10.0->accelerate) (8.9.2.26)\n",
            "Requirement already satisfied: nvidia-cublas-cu12==12.1.3.1 in /usr/local/lib/python3.10/dist-packages (from torch>=1.10.0->accelerate) (12.1.3.1)\n",
            "Requirement already satisfied: nvidia-cufft-cu12==11.0.2.54 in /usr/local/lib/python3.10/dist-packages (from torch>=1.10.0->accelerate) (11.0.2.54)\n",
            "Requirement already satisfied: nvidia-curand-cu12==10.3.2.106 in /usr/local/lib/python3.10/dist-packages (from torch>=1.10.0->accelerate) (10.3.2.106)\n",
            "Requirement already satisfied: nvidia-cusolver-cu12==11.4.5.107 in /usr/local/lib/python3.10/dist-packages (from torch>=1.10.0->accelerate) (11.4.5.107)\n",
            "Requirement already satisfied: nvidia-cusparse-cu12==12.1.0.106 in /usr/local/lib/python3.10/dist-packages (from torch>=1.10.0->accelerate) (12.1.0.106)\n",
            "Requirement already satisfied: nvidia-nccl-cu12==2.20.5 in /usr/local/lib/python3.10/dist-packages (from torch>=1.10.0->accelerate) (2.20.5)\n",
            "Requirement already satisfied: nvidia-nvtx-cu12==12.1.105 in /usr/local/lib/python3.10/dist-packages (from torch>=1.10.0->accelerate) (12.1.105)\n",
            "Requirement already satisfied: triton==2.3.0 in /usr/local/lib/python3.10/dist-packages (from torch>=1.10.0->accelerate) (2.3.0)\n",
            "Requirement already satisfied: nvidia-nvjitlink-cu12 in /usr/local/lib/python3.10/dist-packages (from nvidia-cusolver-cu12==11.4.5.107->torch>=1.10.0->accelerate) (12.5.82)\n",
            "Requirement already satisfied: requests in /usr/local/lib/python3.10/dist-packages (from huggingface-hub->accelerate) (2.31.0)\n",
            "Requirement already satisfied: tqdm>=4.42.1 in /usr/local/lib/python3.10/dist-packages (from huggingface-hub->accelerate) (4.66.4)\n",
            "Requirement already satisfied: MarkupSafe>=2.0 in /usr/local/lib/python3.10/dist-packages (from jinja2->torch>=1.10.0->accelerate) (2.1.5)\n",
            "Requirement already satisfied: charset-normalizer<4,>=2 in /usr/local/lib/python3.10/dist-packages (from requests->huggingface-hub->accelerate) (3.3.2)\n",
            "Requirement already satisfied: idna<4,>=2.5 in /usr/local/lib/python3.10/dist-packages (from requests->huggingface-hub->accelerate) (3.7)\n",
            "Requirement already satisfied: urllib3<3,>=1.21.1 in /usr/local/lib/python3.10/dist-packages (from requests->huggingface-hub->accelerate) (2.0.7)\n",
            "Requirement already satisfied: certifi>=2017.4.17 in /usr/local/lib/python3.10/dist-packages (from requests->huggingface-hub->accelerate) (2024.6.2)\n",
            "Requirement already satisfied: mpmath<1.4.0,>=1.1.0 in /usr/local/lib/python3.10/dist-packages (from sympy->torch>=1.10.0->accelerate) (1.3.0)\n"
          ]
        }
      ],
      "source": [
        "import pandas as pd\n",
        "import tensorflow as tf\n",
        "import matplotlib.pyplot as plt\n",
        "from transformers import BertTokenizer, BertForSequenceClassification, Trainer, TrainingArguments\n",
        "from torch.utils.data import DataLoader, TensorDataset\n",
        "from sklearn.model_selection import train_test_split\n",
        "from sklearn.metrics import classification_report, roc_auc_score, accuracy_score, precision_recall_fscore_support\n",
        "import torch\n",
        "import torch.nn as nn\n",
        "import torch.optim as optim\n",
        "!pip install transformers[torch]\n",
        "!pip install accelerate -U"
      ]
    },
    {
      "cell_type": "markdown",
      "metadata": {
        "id": "YPZ-tavnMkaA"
      },
      "source": [
        "## Data"
      ]
    },
    {
      "cell_type": "markdown",
      "metadata": {
        "id": "9MQi6tiUGtC_"
      },
      "source": [
        "Dataset yang digunakan ini diambil dari paket ujian ('/content/extracted_data/C/data_1C.csv')  di soal nomor 1 kita diminta untuk menggunakan LLM untuk melakukan klasifikasi multilabel terhadap data tweet yang dicantumkan."
      ]
    },
    {
      "cell_type": "code",
      "execution_count": null,
      "metadata": {
        "id": "Z2gf6iih72ze"
      },
      "outputs": [],
      "source": [
        "df = pd.read_csv('/content/extracted_data/C/data_1C.csv', encoding='latin-1')"
      ]
    },
    {
      "cell_type": "code",
      "execution_count": null,
      "metadata": {
        "colab": {
          "base_uri": "https://localhost:8080/",
          "height": 625
        },
        "id": "NLwUAmZB76GB",
        "outputId": "cc6f83a6-5c8e-4af5-e76f-60b1b26ad84c"
      },
      "outputs": [
        {
          "data": {
            "application/vnd.google.colaboratory.intrinsic+json": {
              "summary": "{\n  \"name\": \"df\",\n  \"rows\": 3292,\n  \"fields\": [\n    {\n      \"column\": \"Unnamed: 0\",\n      \"properties\": {\n        \"dtype\": \"number\",\n        \"std\": 950,\n        \"min\": 0,\n        \"max\": 3291,\n        \"num_unique_values\": 3292,\n        \"samples\": [\n          3098,\n          3161,\n          3165\n        ],\n        \"semantic_type\": \"\",\n        \"description\": \"\"\n      }\n    },\n    {\n      \"column\": \"index\",\n      \"properties\": {\n        \"dtype\": \"number\",\n        \"std\": 3805,\n        \"min\": 1,\n        \"max\": 13168,\n        \"num_unique_values\": 3292,\n        \"samples\": [\n          1270,\n          8043,\n          10550\n        ],\n        \"semantic_type\": \"\",\n        \"description\": \"\"\n      }\n    },\n    {\n      \"column\": \"Tweet\",\n      \"properties\": {\n        \"dtype\": \"string\",\n        \"num_unique_values\": 3287,\n        \"samples\": [\n          \"Dulu kita selalu mengucap kata sayang di penghujung malam, kini tak lebih dari dua orang asing yg terkadang diam-diam merindukan masa lalu'\",\n          \"3. Anak anak muda kreatif Indonesia menyambut gerakan ini dengan kegiatan Ekspedisi Kapsul Waktu yang baru dibuka 70 tahun mendatang\",\n          \"USER Mana suaranya cebong.... ??????? \\\\nKeluar kolam dunk...dunk...dunk \\\\xf0\\\\x9f\\\\x98\\\\x81\\\\xf0\\\\x9f\\\\x98\\\\x81\\\\xf0\\\\x9f\\\\x98\\\\x81'\"\n        ],\n        \"semantic_type\": \"\",\n        \"description\": \"\"\n      }\n    },\n    {\n      \"column\": \"HS\",\n      \"properties\": {\n        \"dtype\": \"number\",\n        \"std\": 0,\n        \"min\": 0,\n        \"max\": 1,\n        \"num_unique_values\": 2,\n        \"samples\": [\n          0,\n          1\n        ],\n        \"semantic_type\": \"\",\n        \"description\": \"\"\n      }\n    },\n    {\n      \"column\": \"Abusive\",\n      \"properties\": {\n        \"dtype\": \"number\",\n        \"std\": 0,\n        \"min\": 0,\n        \"max\": 1,\n        \"num_unique_values\": 2,\n        \"samples\": [\n          1,\n          0\n        ],\n        \"semantic_type\": \"\",\n        \"description\": \"\"\n      }\n    },\n    {\n      \"column\": \"HS_Individual\",\n      \"properties\": {\n        \"dtype\": \"number\",\n        \"std\": 0,\n        \"min\": 0,\n        \"max\": 1,\n        \"num_unique_values\": 2,\n        \"samples\": [\n          0,\n          1\n        ],\n        \"semantic_type\": \"\",\n        \"description\": \"\"\n      }\n    },\n    {\n      \"column\": \"HS_Group\",\n      \"properties\": {\n        \"dtype\": \"number\",\n        \"std\": 0,\n        \"min\": 0,\n        \"max\": 1,\n        \"num_unique_values\": 2,\n        \"samples\": [\n          1,\n          0\n        ],\n        \"semantic_type\": \"\",\n        \"description\": \"\"\n      }\n    },\n    {\n      \"column\": \"HS_Religion\",\n      \"properties\": {\n        \"dtype\": \"number\",\n        \"std\": 0,\n        \"min\": 0,\n        \"max\": 1,\n        \"num_unique_values\": 2,\n        \"samples\": [\n          1,\n          0\n        ],\n        \"semantic_type\": \"\",\n        \"description\": \"\"\n      }\n    },\n    {\n      \"column\": \"HS_Race\",\n      \"properties\": {\n        \"dtype\": \"number\",\n        \"std\": 0,\n        \"min\": 0,\n        \"max\": 1,\n        \"num_unique_values\": 2,\n        \"samples\": [\n          1,\n          0\n        ],\n        \"semantic_type\": \"\",\n        \"description\": \"\"\n      }\n    },\n    {\n      \"column\": \"HS_Physical\",\n      \"properties\": {\n        \"dtype\": \"number\",\n        \"std\": 0,\n        \"min\": 0,\n        \"max\": 1,\n        \"num_unique_values\": 2,\n        \"samples\": [\n          1,\n          0\n        ],\n        \"semantic_type\": \"\",\n        \"description\": \"\"\n      }\n    },\n    {\n      \"column\": \"HS_Gender\",\n      \"properties\": {\n        \"dtype\": \"number\",\n        \"std\": 0,\n        \"min\": 0,\n        \"max\": 1,\n        \"num_unique_values\": 2,\n        \"samples\": [\n          1,\n          0\n        ],\n        \"semantic_type\": \"\",\n        \"description\": \"\"\n      }\n    },\n    {\n      \"column\": \"HS_Other\",\n      \"properties\": {\n        \"dtype\": \"number\",\n        \"std\": 0,\n        \"min\": 0,\n        \"max\": 1,\n        \"num_unique_values\": 2,\n        \"samples\": [\n          0,\n          1\n        ],\n        \"semantic_type\": \"\",\n        \"description\": \"\"\n      }\n    }\n  ]\n}",
              "type": "dataframe",
              "variable_name": "df"
            },
            "text/html": [
              "\n",
              "  <div id=\"df-22b31729-df58-4bf5-8359-253a46c0763c\" class=\"colab-df-container\">\n",
              "    <div>\n",
              "<style scoped>\n",
              "    .dataframe tbody tr th:only-of-type {\n",
              "        vertical-align: middle;\n",
              "    }\n",
              "\n",
              "    .dataframe tbody tr th {\n",
              "        vertical-align: top;\n",
              "    }\n",
              "\n",
              "    .dataframe thead th {\n",
              "        text-align: right;\n",
              "    }\n",
              "</style>\n",
              "<table border=\"1\" class=\"dataframe\">\n",
              "  <thead>\n",
              "    <tr style=\"text-align: right;\">\n",
              "      <th></th>\n",
              "      <th>Unnamed: 0</th>\n",
              "      <th>index</th>\n",
              "      <th>Tweet</th>\n",
              "      <th>HS</th>\n",
              "      <th>Abusive</th>\n",
              "      <th>HS_Individual</th>\n",
              "      <th>HS_Group</th>\n",
              "      <th>HS_Religion</th>\n",
              "      <th>HS_Race</th>\n",
              "      <th>HS_Physical</th>\n",
              "      <th>HS_Gender</th>\n",
              "      <th>HS_Other</th>\n",
              "    </tr>\n",
              "  </thead>\n",
              "  <tbody>\n",
              "    <tr>\n",
              "      <th>0</th>\n",
              "      <td>0</td>\n",
              "      <td>13012</td>\n",
              "      <td>Subhan?Allah Kenangan yg Tidak akan Terlupakan...</td>\n",
              "      <td>1</td>\n",
              "      <td>0</td>\n",
              "      <td>1</td>\n",
              "      <td>0</td>\n",
              "      <td>0</td>\n",
              "      <td>0</td>\n",
              "      <td>0</td>\n",
              "      <td>0</td>\n",
              "      <td>1</td>\n",
              "    </tr>\n",
              "    <tr>\n",
              "      <th>1</th>\n",
              "      <td>1</td>\n",
              "      <td>5594</td>\n",
              "      <td>Direksi Pertamina Dirombak, ESDM Mau Premium t...</td>\n",
              "      <td>0</td>\n",
              "      <td>0</td>\n",
              "      <td>0</td>\n",
              "      <td>0</td>\n",
              "      <td>0</td>\n",
              "      <td>0</td>\n",
              "      <td>0</td>\n",
              "      <td>0</td>\n",
              "      <td>0</td>\n",
              "    </tr>\n",
              "    <tr>\n",
              "      <th>2</th>\n",
              "      <td>2</td>\n",
              "      <td>347</td>\n",
              "      <td>3. Karena berbasis teknologi digital, Presiden...</td>\n",
              "      <td>0</td>\n",
              "      <td>0</td>\n",
              "      <td>0</td>\n",
              "      <td>0</td>\n",
              "      <td>0</td>\n",
              "      <td>0</td>\n",
              "      <td>0</td>\n",
              "      <td>0</td>\n",
              "      <td>0</td>\n",
              "    </tr>\n",
              "    <tr>\n",
              "      <th>3</th>\n",
              "      <td>3</td>\n",
              "      <td>4356</td>\n",
              "      <td>RT USER: USER USER USER kebanyakan alasan...\\n...</td>\n",
              "      <td>1</td>\n",
              "      <td>1</td>\n",
              "      <td>1</td>\n",
              "      <td>0</td>\n",
              "      <td>0</td>\n",
              "      <td>0</td>\n",
              "      <td>0</td>\n",
              "      <td>1</td>\n",
              "      <td>0</td>\n",
              "    </tr>\n",
              "    <tr>\n",
              "      <th>4</th>\n",
              "      <td>4</td>\n",
              "      <td>10958</td>\n",
              "      <td>Ganyang PKI dg segala anteknya... URL</td>\n",
              "      <td>1</td>\n",
              "      <td>0</td>\n",
              "      <td>0</td>\n",
              "      <td>1</td>\n",
              "      <td>0</td>\n",
              "      <td>1</td>\n",
              "      <td>0</td>\n",
              "      <td>0</td>\n",
              "      <td>0</td>\n",
              "    </tr>\n",
              "  </tbody>\n",
              "</table>\n",
              "</div>\n",
              "    <div class=\"colab-df-buttons\">\n",
              "\n",
              "  <div class=\"colab-df-container\">\n",
              "    <button class=\"colab-df-convert\" onclick=\"convertToInteractive('df-22b31729-df58-4bf5-8359-253a46c0763c')\"\n",
              "            title=\"Convert this dataframe to an interactive table.\"\n",
              "            style=\"display:none;\">\n",
              "\n",
              "  <svg xmlns=\"http://www.w3.org/2000/svg\" height=\"24px\" viewBox=\"0 -960 960 960\">\n",
              "    <path d=\"M120-120v-720h720v720H120Zm60-500h600v-160H180v160Zm220 220h160v-160H400v160Zm0 220h160v-160H400v160ZM180-400h160v-160H180v160Zm440 0h160v-160H620v160ZM180-180h160v-160H180v160Zm440 0h160v-160H620v160Z\"/>\n",
              "  </svg>\n",
              "    </button>\n",
              "\n",
              "  <style>\n",
              "    .colab-df-container {\n",
              "      display:flex;\n",
              "      gap: 12px;\n",
              "    }\n",
              "\n",
              "    .colab-df-convert {\n",
              "      background-color: #E8F0FE;\n",
              "      border: none;\n",
              "      border-radius: 50%;\n",
              "      cursor: pointer;\n",
              "      display: none;\n",
              "      fill: #1967D2;\n",
              "      height: 32px;\n",
              "      padding: 0 0 0 0;\n",
              "      width: 32px;\n",
              "    }\n",
              "\n",
              "    .colab-df-convert:hover {\n",
              "      background-color: #E2EBFA;\n",
              "      box-shadow: 0px 1px 2px rgba(60, 64, 67, 0.3), 0px 1px 3px 1px rgba(60, 64, 67, 0.15);\n",
              "      fill: #174EA6;\n",
              "    }\n",
              "\n",
              "    .colab-df-buttons div {\n",
              "      margin-bottom: 4px;\n",
              "    }\n",
              "\n",
              "    [theme=dark] .colab-df-convert {\n",
              "      background-color: #3B4455;\n",
              "      fill: #D2E3FC;\n",
              "    }\n",
              "\n",
              "    [theme=dark] .colab-df-convert:hover {\n",
              "      background-color: #434B5C;\n",
              "      box-shadow: 0px 1px 3px 1px rgba(0, 0, 0, 0.15);\n",
              "      filter: drop-shadow(0px 1px 2px rgba(0, 0, 0, 0.3));\n",
              "      fill: #FFFFFF;\n",
              "    }\n",
              "  </style>\n",
              "\n",
              "    <script>\n",
              "      const buttonEl =\n",
              "        document.querySelector('#df-22b31729-df58-4bf5-8359-253a46c0763c button.colab-df-convert');\n",
              "      buttonEl.style.display =\n",
              "        google.colab.kernel.accessAllowed ? 'block' : 'none';\n",
              "\n",
              "      async function convertToInteractive(key) {\n",
              "        const element = document.querySelector('#df-22b31729-df58-4bf5-8359-253a46c0763c');\n",
              "        const dataTable =\n",
              "          await google.colab.kernel.invokeFunction('convertToInteractive',\n",
              "                                                    [key], {});\n",
              "        if (!dataTable) return;\n",
              "\n",
              "        const docLinkHtml = 'Like what you see? Visit the ' +\n",
              "          '<a target=\"_blank\" href=https://colab.research.google.com/notebooks/data_table.ipynb>data table notebook</a>'\n",
              "          + ' to learn more about interactive tables.';\n",
              "        element.innerHTML = '';\n",
              "        dataTable['output_type'] = 'display_data';\n",
              "        await google.colab.output.renderOutput(dataTable, element);\n",
              "        const docLink = document.createElement('div');\n",
              "        docLink.innerHTML = docLinkHtml;\n",
              "        element.appendChild(docLink);\n",
              "      }\n",
              "    </script>\n",
              "  </div>\n",
              "\n",
              "\n",
              "<div id=\"df-40ad3bf1-f408-4d75-aea8-db8204ec0cd5\">\n",
              "  <button class=\"colab-df-quickchart\" onclick=\"quickchart('df-40ad3bf1-f408-4d75-aea8-db8204ec0cd5')\"\n",
              "            title=\"Suggest charts\"\n",
              "            style=\"display:none;\">\n",
              "\n",
              "<svg xmlns=\"http://www.w3.org/2000/svg\" height=\"24px\"viewBox=\"0 0 24 24\"\n",
              "     width=\"24px\">\n",
              "    <g>\n",
              "        <path d=\"M19 3H5c-1.1 0-2 .9-2 2v14c0 1.1.9 2 2 2h14c1.1 0 2-.9 2-2V5c0-1.1-.9-2-2-2zM9 17H7v-7h2v7zm4 0h-2V7h2v10zm4 0h-2v-4h2v4z\"/>\n",
              "    </g>\n",
              "</svg>\n",
              "  </button>\n",
              "\n",
              "<style>\n",
              "  .colab-df-quickchart {\n",
              "      --bg-color: #E8F0FE;\n",
              "      --fill-color: #1967D2;\n",
              "      --hover-bg-color: #E2EBFA;\n",
              "      --hover-fill-color: #174EA6;\n",
              "      --disabled-fill-color: #AAA;\n",
              "      --disabled-bg-color: #DDD;\n",
              "  }\n",
              "\n",
              "  [theme=dark] .colab-df-quickchart {\n",
              "      --bg-color: #3B4455;\n",
              "      --fill-color: #D2E3FC;\n",
              "      --hover-bg-color: #434B5C;\n",
              "      --hover-fill-color: #FFFFFF;\n",
              "      --disabled-bg-color: #3B4455;\n",
              "      --disabled-fill-color: #666;\n",
              "  }\n",
              "\n",
              "  .colab-df-quickchart {\n",
              "    background-color: var(--bg-color);\n",
              "    border: none;\n",
              "    border-radius: 50%;\n",
              "    cursor: pointer;\n",
              "    display: none;\n",
              "    fill: var(--fill-color);\n",
              "    height: 32px;\n",
              "    padding: 0;\n",
              "    width: 32px;\n",
              "  }\n",
              "\n",
              "  .colab-df-quickchart:hover {\n",
              "    background-color: var(--hover-bg-color);\n",
              "    box-shadow: 0 1px 2px rgba(60, 64, 67, 0.3), 0 1px 3px 1px rgba(60, 64, 67, 0.15);\n",
              "    fill: var(--button-hover-fill-color);\n",
              "  }\n",
              "\n",
              "  .colab-df-quickchart-complete:disabled,\n",
              "  .colab-df-quickchart-complete:disabled:hover {\n",
              "    background-color: var(--disabled-bg-color);\n",
              "    fill: var(--disabled-fill-color);\n",
              "    box-shadow: none;\n",
              "  }\n",
              "\n",
              "  .colab-df-spinner {\n",
              "    border: 2px solid var(--fill-color);\n",
              "    border-color: transparent;\n",
              "    border-bottom-color: var(--fill-color);\n",
              "    animation:\n",
              "      spin 1s steps(1) infinite;\n",
              "  }\n",
              "\n",
              "  @keyframes spin {\n",
              "    0% {\n",
              "      border-color: transparent;\n",
              "      border-bottom-color: var(--fill-color);\n",
              "      border-left-color: var(--fill-color);\n",
              "    }\n",
              "    20% {\n",
              "      border-color: transparent;\n",
              "      border-left-color: var(--fill-color);\n",
              "      border-top-color: var(--fill-color);\n",
              "    }\n",
              "    30% {\n",
              "      border-color: transparent;\n",
              "      border-left-color: var(--fill-color);\n",
              "      border-top-color: var(--fill-color);\n",
              "      border-right-color: var(--fill-color);\n",
              "    }\n",
              "    40% {\n",
              "      border-color: transparent;\n",
              "      border-right-color: var(--fill-color);\n",
              "      border-top-color: var(--fill-color);\n",
              "    }\n",
              "    60% {\n",
              "      border-color: transparent;\n",
              "      border-right-color: var(--fill-color);\n",
              "    }\n",
              "    80% {\n",
              "      border-color: transparent;\n",
              "      border-right-color: var(--fill-color);\n",
              "      border-bottom-color: var(--fill-color);\n",
              "    }\n",
              "    90% {\n",
              "      border-color: transparent;\n",
              "      border-bottom-color: var(--fill-color);\n",
              "    }\n",
              "  }\n",
              "</style>\n",
              "\n",
              "  <script>\n",
              "    async function quickchart(key) {\n",
              "      const quickchartButtonEl =\n",
              "        document.querySelector('#' + key + ' button');\n",
              "      quickchartButtonEl.disabled = true;  // To prevent multiple clicks.\n",
              "      quickchartButtonEl.classList.add('colab-df-spinner');\n",
              "      try {\n",
              "        const charts = await google.colab.kernel.invokeFunction(\n",
              "            'suggestCharts', [key], {});\n",
              "      } catch (error) {\n",
              "        console.error('Error during call to suggestCharts:', error);\n",
              "      }\n",
              "      quickchartButtonEl.classList.remove('colab-df-spinner');\n",
              "      quickchartButtonEl.classList.add('colab-df-quickchart-complete');\n",
              "    }\n",
              "    (() => {\n",
              "      let quickchartButtonEl =\n",
              "        document.querySelector('#df-40ad3bf1-f408-4d75-aea8-db8204ec0cd5 button');\n",
              "      quickchartButtonEl.style.display =\n",
              "        google.colab.kernel.accessAllowed ? 'block' : 'none';\n",
              "    })();\n",
              "  </script>\n",
              "</div>\n",
              "\n",
              "    </div>\n",
              "  </div>\n"
            ],
            "text/plain": [
              "   Unnamed: 0  index                                              Tweet  HS  \\\n",
              "0           0  13012  Subhan?Allah Kenangan yg Tidak akan Terlupakan...   1   \n",
              "1           1   5594  Direksi Pertamina Dirombak, ESDM Mau Premium t...   0   \n",
              "2           2    347  3. Karena berbasis teknologi digital, Presiden...   0   \n",
              "3           3   4356  RT USER: USER USER USER kebanyakan alasan...\\n...   1   \n",
              "4           4  10958              Ganyang PKI dg segala anteknya... URL   1   \n",
              "\n",
              "   Abusive  HS_Individual  HS_Group  HS_Religion  HS_Race  HS_Physical  \\\n",
              "0        0              1         0            0        0            0   \n",
              "1        0              0         0            0        0            0   \n",
              "2        0              0         0            0        0            0   \n",
              "3        1              1         0            0        0            0   \n",
              "4        0              0         1            0        1            0   \n",
              "\n",
              "   HS_Gender  HS_Other  \n",
              "0          0         1  \n",
              "1          0         0  \n",
              "2          0         0  \n",
              "3          1         0  \n",
              "4          0         0  "
            ]
          },
          "execution_count": 5,
          "metadata": {},
          "output_type": "execute_result"
        }
      ],
      "source": [
        "df.head()"
      ]
    },
    {
      "cell_type": "code",
      "execution_count": null,
      "metadata": {
        "id": "QJ7pz-WQegp6"
      },
      "outputs": [],
      "source": [
        "df = df.drop(['Unnamed: 0','index'], axis=1)"
      ]
    },
    {
      "cell_type": "code",
      "execution_count": null,
      "metadata": {
        "colab": {
          "base_uri": "https://localhost:8080/"
        },
        "id": "nhKoLxZqRvwS",
        "outputId": "97ac56a7-501d-4eca-fe85-d3b719b556c9"
      },
      "outputs": [
        {
          "data": {
            "text/plain": [
              "Tweet            0\n",
              "HS               0\n",
              "Abusive          0\n",
              "HS_Individual    0\n",
              "HS_Group         0\n",
              "HS_Religion      0\n",
              "HS_Race          0\n",
              "HS_Physical      0\n",
              "HS_Gender        0\n",
              "HS_Other         0\n",
              "dtype: int64"
            ]
          },
          "execution_count": 33,
          "metadata": {},
          "output_type": "execute_result"
        }
      ],
      "source": [
        "df.isnull().sum()"
      ]
    },
    {
      "cell_type": "code",
      "execution_count": null,
      "metadata": {
        "colab": {
          "base_uri": "https://localhost:8080/",
          "height": 455
        },
        "id": "0u46be1oiMWe",
        "outputId": "fde402b1-5baf-4a99-92f4-c360a6307eb3"
      },
      "outputs": [
        {
          "data": {
            "image/png": "[encoded data removed]",
            "text/plain": [
              "<Figure size 1000x600 with 1 Axes>"
            ]
          },
          "metadata": {},
          "output_type": "display_data"
        }
      ],
      "source": [
        "label_counts = df.iloc[:, 3:].sum().sort_values(ascending=False)\n",
        "\n",
        "plt.figure(figsize=(10, 6))\n",
        "label_counts.plot(kind='bar', color='skyblue')\n",
        "plt.title('Label Frequency Histogram')\n",
        "plt.xlabel('Labels')\n",
        "plt.ylabel('Frequency')\n",
        "plt.xticks(rotation=45)\n",
        "plt.tight_layout()\n",
        "plt.show()"
      ]
    },
    {
      "cell_type": "code",
      "execution_count": null,
      "metadata": {
        "id": "f4NBCNhfe88h"
      },
      "outputs": [],
      "source": [
        "tokenizer = BertTokenizer.from_pretrained('bert-base-multilingual-cased')\n",
        "\n",
        "encodings = tokenizer(list(df['Tweet']), truncation=True, padding=True, max_length=128)\n",
        "labels = df[['HS', 'Abusive', 'HS_Individual', 'HS_Group', 'HS_Religion', 'HS_Race', 'HS_Physical', 'HS_Gender', 'HS_Other']].values"
      ]
    },
    {
      "cell_type": "markdown",
      "metadata": {
        "id": "875NLdpNM8kR"
      },
      "source": [
        "## Splitting Data"
      ]
    },
    {
      "cell_type": "markdown",
      "metadata": {
        "id": "pj7HrKQwqo91"
      },
      "source": [
        "Kumpulan code dibawah digunakan untuk membagi data kedalam format yang akan digunakan [['train', 'test','split'], [80%, 10%, 10%]]."
      ]
    },
    {
      "cell_type": "code",
      "execution_count": null,
      "metadata": {
        "id": "AxkDweqjNGVb"
      },
      "outputs": [],
      "source": [
        "train_texts, val_texts, train_labels, val_labels = train_test_split(list(df['Tweet']), labels, test_size=0.2, random_state=42)\n",
        "val_texts, test_texts, val_labels, test_labels = train_test_split(val_texts, val_labels, test_size=0.5, random_state=42)"
      ]
    },
    {
      "cell_type": "markdown",
      "metadata": {
        "id": "Jsgh-VeqMpLt"
      },
      "source": [
        "## Pre-processing"
      ]
    },
    {
      "cell_type": "markdown",
      "source": [
        "Code dibawah digunakan untuk mengkonversi bentuk teks menjadi representasi yang dapat dimasukan kedalam model BERT, kemudian representasi data tersebut dibagi ke dalam format yang digunakan untuk train, test, split dalam pemodelan LLM for multilabel text classification."
      ],
      "metadata": {
        "id": "xD0Gq1k6DkJt"
      }
    },
    {
      "cell_type": "markdown",
      "source": [
        "Function dibawah dapat dibagi menjadi 3 task besar yaitu:\n",
        "\n",
        "* __init__(self, encodings, labels): Inisialisasi dataset dengan encoding teks (encodings) dan label (labels).\n",
        "* __getitem__(self, idx): Mengambil item pada indeks tertentu idx dalam dataset. Mengubah setiap encoding teks dan label menjadi tensor PyTorch.\n",
        "* __len__(self): Mengembalikan panjang dataset."
      ],
      "metadata": {
        "id": "65e5qGQ5EHUZ"
      }
    },
    {
      "cell_type": "code",
      "execution_count": null,
      "metadata": {
        "id": "v0cJnxvq61vw"
      },
      "outputs": [],
      "source": [
        "train_encodings = tokenizer(train_texts, truncation=True, padding=True, max_length=128)\n",
        "val_encodings = tokenizer(val_texts, truncation=True, padding=True, max_length=128)\n",
        "test_encodings = tokenizer(test_texts, truncation=True, padding=True, max_length=128)\n",
        "\n",
        "class TextDataset(torch.utils.data.Dataset):\n",
        "    def __init__(self, encodings, labels):\n",
        "        self.encodings = encodings\n",
        "        self.labels = labels\n",
        "\n",
        "    def __getitem__(self, idx):\n",
        "        item = {key: torch.tensor(val[idx]) for key, val in self.encodings.items()}\n",
        "        item['labels'] = torch.tensor(self.labels[idx]).float()\n",
        "        return item\n",
        "\n",
        "    def __len__(self):\n",
        "        return len(self.labels)\n",
        "\n",
        "train_dataset = TextDataset(train_encodings, train_labels)\n",
        "val_dataset = TextDataset(val_encodings, val_labels)\n",
        "test_dataset = TextDataset(test_encodings, test_labels)"
      ]
    },
    {
      "cell_type": "markdown",
      "metadata": {
        "id": "7jTiprIENLyc"
      },
      "source": [
        "## Modelling"
      ]
    },
    {
      "cell_type": "markdown",
      "metadata": {
        "id": "oh0z9qejlUxv"
      },
      "source": [
        "\n",
        "BertForSequenceClassification adalah sejenis BERT yang dirancang untuk tugas *sequence classification*. Model ini memiliki layerklasifikasi di atas model BERT yang dapat dioptimalkan untuk tugas-tugas seperti analisis sentimen, inferensi bahasa alami, atau tugas klasifikasi lainnya di mana inputnya merupakan *text sequence*.\n",
        "\n",
        "Model ini sudah memiliki sebuah pretrained weight dari model bert-base-multilingual-cased, yang merupakan model multilingual dari BERT yang sudah dilatih menggunakan korpus teks dari berbagai bahasa."
      ]
    },
    {
      "cell_type": "code",
      "execution_count": null,
      "metadata": {
        "colab": {
          "base_uri": "https://localhost:8080/"
        },
        "id": "yOH754So7_dU",
        "outputId": "72efbb57-af31-4070-be11-fa5e069a0a90"
      },
      "outputs": [
        {
          "name": "stderr",
          "output_type": "stream",
          "text": [
            "Some weights of BertForSequenceClassification were not initialized from the model checkpoint at bert-base-multilingual-cased and are newly initialized: ['classifier.bias', 'classifier.weight']\n",
            "You should probably TRAIN this model on a down-stream task to be able to use it for predictions and inference.\n"
          ]
        }
      ],
      "source": [
        "model = BertForSequenceClassification.from_pretrained('bert-base-multilingual-cased', num_labels=9)"
      ]
    },
    {
      "cell_type": "markdown",
      "metadata": {
        "id": "F2RRCofzRwVs"
      },
      "source": [
        "## Tuning"
      ]
    },
    {
      "cell_type": "markdown",
      "metadata": {
        "id": "kVYN061bmP_P"
      },
      "source": [
        "*fine-tuning* BERT untuk klasifikasi multilabel, harus dipastikan modelnya sudah dioptimasi untuk memiliki output logit dari masing\" label/class, kita juga harus menggunakan loss function yang sesuai seperti sigmoid activation di TensorFlow, dan training dan evaluation juga harus disesuaikan untuk menangani output multilabel secara baik."
      ]
    },
    {
      "cell_type": "code",
      "execution_count": null,
      "metadata": {
        "colab": {
          "base_uri": "https://localhost:8080/",
          "height": 1000
        },
        "id": "KNJR_VEKRywu",
        "outputId": "6f003966-f14d-4656-c513-906ebf1b7a8f"
      },
      "outputs": [
        {
          "name": "stderr",
          "output_type": "stream",
          "text": [
            "/usr/local/lib/python3.10/dist-packages/transformers/training_args.py:1474: FutureWarning: `evaluation_strategy` is deprecated and will be removed in version 4.46 of 🤗 Transformers. Use `eval_strategy` instead\n",
            "  warnings.warn(\n"
          ]
        },
        {
          "data": {
            "text/html": [
              "\n",
              "    <div>\n",
              "      \n",
              "      <progress value='990' max='990' style='width:300px; height:20px; vertical-align: middle;'></progress>\n",
              "      [990/990 04:16, Epoch 3/3]\n",
              "    </div>\n",
              "    <table border=\"1\" class=\"dataframe\">\n",
              "  <thead>\n",
              " <tr style=\"text-align: left;\">\n",
              "      <th>Epoch</th>\n",
              "      <th>Training Loss</th>\n",
              "      <th>Validation Loss</th>\n",
              "    </tr>\n",
              "  </thead>\n",
              "  <tbody>\n",
              "    <tr>\n",
              "      <td>1</td>\n",
              "      <td>0.180200</td>\n",
              "      <td>0.351672</td>\n",
              "    </tr>\n",
              "    <tr>\n",
              "      <td>2</td>\n",
              "      <td>0.125800</td>\n",
              "      <td>0.363567</td>\n",
              "    </tr>\n",
              "    <tr>\n",
              "      <td>3</td>\n",
              "      <td>0.168600</td>\n",
              "      <td>0.338262</td>\n",
              "    </tr>\n",
              "  </tbody>\n",
              "</table><p>"
            ],
            "text/plain": [
              "<IPython.core.display.HTML object>"
            ]
          },
          "metadata": {},
          "output_type": "display_data"
        },
        {
          "data": {
            "text/html": [
              "\n",
              "    <div>\n",
              "      \n",
              "      <progress value='42' max='42' style='width:300px; height:20px; vertical-align: middle;'></progress>\n",
              "      [42/42 00:02]\n",
              "    </div>\n",
              "    "
            ],
            "text/plain": [
              "<IPython.core.display.HTML object>"
            ]
          },
          "metadata": {},
          "output_type": "display_data"
        },
        {
          "name": "stdout",
          "output_type": "stream",
          "text": [
            "Learning Rate: 5e-05, Batch Size: 8\n",
            "{'eval_loss': 0.3382619321346283, 'eval_runtime': 2.348, 'eval_samples_per_second': 140.121, 'eval_steps_per_second': 17.888, 'epoch': 3.0}\n"
          ]
        },
        {
          "name": "stderr",
          "output_type": "stream",
          "text": [
            "/usr/local/lib/python3.10/dist-packages/transformers/training_args.py:1474: FutureWarning: `evaluation_strategy` is deprecated and will be removed in version 4.46 of 🤗 Transformers. Use `eval_strategy` instead\n",
            "  warnings.warn(\n"
          ]
        },
        {
          "data": {
            "text/html": [
              "\n",
              "    <div>\n",
              "      \n",
              "      <progress value='495' max='495' style='width:300px; height:20px; vertical-align: middle;'></progress>\n",
              "      [495/495 03:15, Epoch 3/3]\n",
              "    </div>\n",
              "    <table border=\"1\" class=\"dataframe\">\n",
              "  <thead>\n",
              " <tr style=\"text-align: left;\">\n",
              "      <th>Epoch</th>\n",
              "      <th>Training Loss</th>\n",
              "      <th>Validation Loss</th>\n",
              "    </tr>\n",
              "  </thead>\n",
              "  <tbody>\n",
              "    <tr>\n",
              "      <td>1</td>\n",
              "      <td>0.096800</td>\n",
              "      <td>0.338565</td>\n",
              "    </tr>\n",
              "    <tr>\n",
              "      <td>2</td>\n",
              "      <td>0.104300</td>\n",
              "      <td>0.330739</td>\n",
              "    </tr>\n",
              "    <tr>\n",
              "      <td>3</td>\n",
              "      <td>0.118000</td>\n",
              "      <td>0.336802</td>\n",
              "    </tr>\n",
              "  </tbody>\n",
              "</table><p>"
            ],
            "text/plain": [
              "<IPython.core.display.HTML object>"
            ]
          },
          "metadata": {},
          "output_type": "display_data"
        },
        {
          "data": {
            "text/html": [
              "\n",
              "    <div>\n",
              "      \n",
              "      <progress value='21' max='21' style='width:300px; height:20px; vertical-align: middle;'></progress>\n",
              "      [21/21 00:02]\n",
              "    </div>\n",
              "    "
            ],
            "text/plain": [
              "<IPython.core.display.HTML object>"
            ]
          },
          "metadata": {},
          "output_type": "display_data"
        },
        {
          "name": "stdout",
          "output_type": "stream",
          "text": [
            "Learning Rate: 5e-05, Batch Size: 16\n",
            "{'eval_loss': 0.336801677942276, 'eval_runtime': 2.3486, 'eval_samples_per_second': 140.085, 'eval_steps_per_second': 8.942, 'epoch': 3.0}\n"
          ]
        },
        {
          "name": "stderr",
          "output_type": "stream",
          "text": [
            "/usr/local/lib/python3.10/dist-packages/transformers/training_args.py:1474: FutureWarning: `evaluation_strategy` is deprecated and will be removed in version 4.46 of 🤗 Transformers. Use `eval_strategy` instead\n",
            "  warnings.warn(\n"
          ]
        },
        {
          "data": {
            "text/html": [
              "\n",
              "    <div>\n",
              "      \n",
              "      <progress value='990' max='990' style='width:300px; height:20px; vertical-align: middle;'></progress>\n",
              "      [990/990 04:08, Epoch 3/3]\n",
              "    </div>\n",
              "    <table border=\"1\" class=\"dataframe\">\n",
              "  <thead>\n",
              " <tr style=\"text-align: left;\">\n",
              "      <th>Epoch</th>\n",
              "      <th>Training Loss</th>\n",
              "      <th>Validation Loss</th>\n",
              "    </tr>\n",
              "  </thead>\n",
              "  <tbody>\n",
              "    <tr>\n",
              "      <td>1</td>\n",
              "      <td>0.054000</td>\n",
              "      <td>0.380428</td>\n",
              "    </tr>\n",
              "    <tr>\n",
              "      <td>2</td>\n",
              "      <td>0.040300</td>\n",
              "      <td>0.394534</td>\n",
              "    </tr>\n",
              "    <tr>\n",
              "      <td>3</td>\n",
              "      <td>0.078600</td>\n",
              "      <td>0.410869</td>\n",
              "    </tr>\n",
              "  </tbody>\n",
              "</table><p>"
            ],
            "text/plain": [
              "<IPython.core.display.HTML object>"
            ]
          },
          "metadata": {},
          "output_type": "display_data"
        },
        {
          "data": {
            "text/html": [
              "\n",
              "    <div>\n",
              "      \n",
              "      <progress value='42' max='42' style='width:300px; height:20px; vertical-align: middle;'></progress>\n",
              "      [42/42 00:02]\n",
              "    </div>\n",
              "    "
            ],
            "text/plain": [
              "<IPython.core.display.HTML object>"
            ]
          },
          "metadata": {},
          "output_type": "display_data"
        },
        {
          "name": "stdout",
          "output_type": "stream",
          "text": [
            "Learning Rate: 3e-05, Batch Size: 8\n",
            "{'eval_loss': 0.4108690023422241, 'eval_runtime': 2.3544, 'eval_samples_per_second': 139.739, 'eval_steps_per_second': 17.839, 'epoch': 3.0}\n"
          ]
        },
        {
          "name": "stderr",
          "output_type": "stream",
          "text": [
            "/usr/local/lib/python3.10/dist-packages/transformers/training_args.py:1474: FutureWarning: `evaluation_strategy` is deprecated and will be removed in version 4.46 of 🤗 Transformers. Use `eval_strategy` instead\n",
            "  warnings.warn(\n"
          ]
        },
        {
          "data": {
            "text/html": [
              "\n",
              "    <div>\n",
              "      \n",
              "      <progress value='495' max='495' style='width:300px; height:20px; vertical-align: middle;'></progress>\n",
              "      [495/495 03:15, Epoch 3/3]\n",
              "    </div>\n",
              "    <table border=\"1\" class=\"dataframe\">\n",
              "  <thead>\n",
              " <tr style=\"text-align: left;\">\n",
              "      <th>Epoch</th>\n",
              "      <th>Training Loss</th>\n",
              "      <th>Validation Loss</th>\n",
              "    </tr>\n",
              "  </thead>\n",
              "  <tbody>\n",
              "    <tr>\n",
              "      <td>1</td>\n",
              "      <td>0.020600</td>\n",
              "      <td>0.444356</td>\n",
              "    </tr>\n",
              "    <tr>\n",
              "      <td>2</td>\n",
              "      <td>0.036900</td>\n",
              "      <td>0.442483</td>\n",
              "    </tr>\n",
              "    <tr>\n",
              "      <td>3</td>\n",
              "      <td>0.028700</td>\n",
              "      <td>0.472583</td>\n",
              "    </tr>\n",
              "  </tbody>\n",
              "</table><p>"
            ],
            "text/plain": [
              "<IPython.core.display.HTML object>"
            ]
          },
          "metadata": {},
          "output_type": "display_data"
        },
        {
          "data": {
            "text/html": [
              "\n",
              "    <div>\n",
              "      \n",
              "      <progress value='21' max='21' style='width:300px; height:20px; vertical-align: middle;'></progress>\n",
              "      [21/21 00:02]\n",
              "    </div>\n",
              "    "
            ],
            "text/plain": [
              "<IPython.core.display.HTML object>"
            ]
          },
          "metadata": {},
          "output_type": "display_data"
        },
        {
          "name": "stdout",
          "output_type": "stream",
          "text": [
            "Learning Rate: 3e-05, Batch Size: 16\n",
            "{'eval_loss': 0.4725830554962158, 'eval_runtime': 2.3577, 'eval_samples_per_second': 139.541, 'eval_steps_per_second': 8.907, 'epoch': 3.0}\n"
          ]
        },
        {
          "name": "stderr",
          "output_type": "stream",
          "text": [
            "/usr/local/lib/python3.10/dist-packages/transformers/training_args.py:1474: FutureWarning: `evaluation_strategy` is deprecated and will be removed in version 4.46 of 🤗 Transformers. Use `eval_strategy` instead\n",
            "  warnings.warn(\n"
          ]
        },
        {
          "data": {
            "text/html": [
              "\n",
              "    <div>\n",
              "      \n",
              "      <progress value='990' max='990' style='width:300px; height:20px; vertical-align: middle;'></progress>\n",
              "      [990/990 04:33, Epoch 3/3]\n",
              "    </div>\n",
              "    <table border=\"1\" class=\"dataframe\">\n",
              "  <thead>\n",
              " <tr style=\"text-align: left;\">\n",
              "      <th>Epoch</th>\n",
              "      <th>Training Loss</th>\n",
              "      <th>Validation Loss</th>\n",
              "    </tr>\n",
              "  </thead>\n",
              "  <tbody>\n",
              "    <tr>\n",
              "      <td>1</td>\n",
              "      <td>0.019600</td>\n",
              "      <td>0.459995</td>\n",
              "    </tr>\n",
              "    <tr>\n",
              "      <td>2</td>\n",
              "      <td>0.022400</td>\n",
              "      <td>0.493579</td>\n",
              "    </tr>\n",
              "    <tr>\n",
              "      <td>3</td>\n",
              "      <td>0.042700</td>\n",
              "      <td>0.496685</td>\n",
              "    </tr>\n",
              "  </tbody>\n",
              "</table><p>"
            ],
            "text/plain": [
              "<IPython.core.display.HTML object>"
            ]
          },
          "metadata": {},
          "output_type": "display_data"
        },
        {
          "data": {
            "text/html": [
              "\n",
              "    <div>\n",
              "      \n",
              "      <progress value='42' max='42' style='width:300px; height:20px; vertical-align: middle;'></progress>\n",
              "      [42/42 00:02]\n",
              "    </div>\n",
              "    "
            ],
            "text/plain": [
              "<IPython.core.display.HTML object>"
            ]
          },
          "metadata": {},
          "output_type": "display_data"
        },
        {
          "name": "stdout",
          "output_type": "stream",
          "text": [
            "Learning Rate: 2e-05, Batch Size: 8\n",
            "{'eval_loss': 0.4966850280761719, 'eval_runtime': 2.3427, 'eval_samples_per_second': 140.437, 'eval_steps_per_second': 17.928, 'epoch': 3.0}\n"
          ]
        },
        {
          "name": "stderr",
          "output_type": "stream",
          "text": [
            "/usr/local/lib/python3.10/dist-packages/transformers/training_args.py:1474: FutureWarning: `evaluation_strategy` is deprecated and will be removed in version 4.46 of 🤗 Transformers. Use `eval_strategy` instead\n",
            "  warnings.warn(\n"
          ]
        },
        {
          "data": {
            "text/html": [
              "\n",
              "    <div>\n",
              "      \n",
              "      <progress value='495' max='495' style='width:300px; height:20px; vertical-align: middle;'></progress>\n",
              "      [495/495 03:16, Epoch 3/3]\n",
              "    </div>\n",
              "    <table border=\"1\" class=\"dataframe\">\n",
              "  <thead>\n",
              " <tr style=\"text-align: left;\">\n",
              "      <th>Epoch</th>\n",
              "      <th>Training Loss</th>\n",
              "      <th>Validation Loss</th>\n",
              "    </tr>\n",
              "  </thead>\n",
              "  <tbody>\n",
              "    <tr>\n",
              "      <td>1</td>\n",
              "      <td>0.007700</td>\n",
              "      <td>0.518750</td>\n",
              "    </tr>\n",
              "    <tr>\n",
              "      <td>2</td>\n",
              "      <td>0.021900</td>\n",
              "      <td>0.530429</td>\n",
              "    </tr>\n",
              "    <tr>\n",
              "      <td>3</td>\n",
              "      <td>0.012600</td>\n",
              "      <td>0.542086</td>\n",
              "    </tr>\n",
              "  </tbody>\n",
              "</table><p>"
            ],
            "text/plain": [
              "<IPython.core.display.HTML object>"
            ]
          },
          "metadata": {},
          "output_type": "display_data"
        },
        {
          "data": {
            "text/html": [
              "\n",
              "    <div>\n",
              "      \n",
              "      <progress value='21' max='21' style='width:300px; height:20px; vertical-align: middle;'></progress>\n",
              "      [21/21 00:02]\n",
              "    </div>\n",
              "    "
            ],
            "text/plain": [
              "<IPython.core.display.HTML object>"
            ]
          },
          "metadata": {},
          "output_type": "display_data"
        },
        {
          "name": "stdout",
          "output_type": "stream",
          "text": [
            "Learning Rate: 2e-05, Batch Size: 16\n",
            "{'eval_loss': 0.542086124420166, 'eval_runtime': 2.3556, 'eval_samples_per_second': 139.668, 'eval_steps_per_second': 8.915, 'epoch': 3.0}\n"
          ]
        }
      ],
      "source": [
        "learning_rates = [5e-5, 3e-5, 2e-5]\n",
        "batch_sizes = [8, 16]\n",
        "\n",
        "for lr in learning_rates:\n",
        "    for batch_size in batch_sizes:\n",
        "        training_args = TrainingArguments(\n",
        "            output_dir=f'./results_lr{lr}_bs{batch_size}',\n",
        "            num_train_epochs=3,\n",
        "            per_device_train_batch_size=batch_size,\n",
        "            per_device_eval_batch_size=batch_size,\n",
        "            warmup_steps=500,\n",
        "            weight_decay=0.01,\n",
        "            learning_rate=lr,\n",
        "            logging_dir='./logs',\n",
        "            logging_steps=10,\n",
        "            evaluation_strategy=\"epoch\"\n",
        "        )\n",
        "\n",
        "        trainer = Trainer(\n",
        "            model=model,\n",
        "            args=training_args,\n",
        "            train_dataset=train_dataset,\n",
        "            eval_dataset=val_dataset\n",
        "        )\n",
        "\n",
        "        trainer.train()\n",
        "        metrics = trainer.evaluate()\n",
        "        print(f\"Learning Rate: {lr}, Batch Size: {batch_size}\")\n",
        "        print(metrics)"
      ]
    },
    {
      "cell_type": "markdown",
      "metadata": {
        "id": "M1AHaGz1nZHr"
      },
      "source": [
        "This hyperparameter tuning is also tasked to minimize the evaluation loss, and as we can see Learning Rate: 5e-05, Batch Size: 16 has the lowest eval_loss at 0.336801677942276\n",
        "\n",
        "![Screenshot 2024-07-09 105454.png](data:image/png;base64,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)\n",
        "\n",
        "{'eval_loss': 0.336801677942276, 'eval_runtime': 2.3486, 'eval_samples_per_second': 140.085, 'eval_steps_per_second': 8.942, 'epoch': 3.0}"
      ]
    },
    {
      "cell_type": "markdown",
      "metadata": {
        "id": "rCnWj5ASNV0C"
      },
      "source": [
        "## Training Model"
      ]
    },
    {
      "cell_type": "markdown",
      "metadata": {
        "id": "mSyHK8xHm-_8"
      },
      "source": [
        "Selama training, pastikan model menghasilkan output logit dari setiap class. Model ini juga dapat dilatih menggunakan pendekatan multilabel, yang menggunakan 2 hyperparameter tuning {Learning Rate: 5e-05, Batch Size: 16}."
      ]
    },
    {
      "cell_type": "code",
      "execution_count": null,
      "metadata": {
        "colab": {
          "base_uri": "https://localhost:8080/",
          "height": 276
        },
        "id": "bvh32Fds8K_S",
        "outputId": "dbfca48e-a93d-4123-d5dc-e368af4cc5c2"
      },
      "outputs": [
        {
          "name": "stderr",
          "output_type": "stream",
          "text": [
            "/usr/local/lib/python3.10/dist-packages/transformers/training_args.py:1474: FutureWarning: `evaluation_strategy` is deprecated and will be removed in version 4.46 of 🤗 Transformers. Use `eval_strategy` instead\n",
            "  warnings.warn(\n"
          ]
        },
        {
          "data": {
            "text/html": [
              "\n",
              "    <div>\n",
              "      \n",
              "      <progress value='495' max='495' style='width:300px; height:20px; vertical-align: middle;'></progress>\n",
              "      [495/495 03:07, Epoch 3/3]\n",
              "    </div>\n",
              "    <table border=\"1\" class=\"dataframe\">\n",
              "  <thead>\n",
              " <tr style=\"text-align: left;\">\n",
              "      <th>Epoch</th>\n",
              "      <th>Training Loss</th>\n",
              "      <th>Validation Loss</th>\n",
              "    </tr>\n",
              "  </thead>\n",
              "  <tbody>\n",
              "    <tr>\n",
              "      <td>1</td>\n",
              "      <td>0.007300</td>\n",
              "      <td>0.518770</td>\n",
              "    </tr>\n",
              "    <tr>\n",
              "      <td>2</td>\n",
              "      <td>0.034700</td>\n",
              "      <td>0.574339</td>\n",
              "    </tr>\n",
              "    <tr>\n",
              "      <td>3</td>\n",
              "      <td>0.058000</td>\n",
              "      <td>0.538843</td>\n",
              "    </tr>\n",
              "  </tbody>\n",
              "</table><p>"
            ],
            "text/plain": [
              "<IPython.core.display.HTML object>"
            ]
          },
          "metadata": {},
          "output_type": "display_data"
        },
        {
          "data": {
            "text/plain": [
              "TrainOutput(global_step=495, training_loss=0.025390589146903068, metrics={'train_runtime': 187.7284, 'train_samples_per_second': 42.077, 'train_steps_per_second': 2.637, 'total_flos': 519611212175616.0, 'train_loss': 0.025390589146903068, 'epoch': 3.0})"
            ]
          },
          "execution_count": 14,
          "metadata": {},
          "output_type": "execute_result"
        }
      ],
      "source": [
        "# Define training arguments\n",
        "training_args = TrainingArguments(\n",
        "    output_dir='./results',\n",
        "    num_train_epochs=3,\n",
        "    per_device_train_batch_size=16,\n",
        "    per_device_eval_batch_size=16,\n",
        "    warmup_steps=500,\n",
        "    weight_decay=0.01,\n",
        "    learning_rate=5e-05,\n",
        "    logging_dir='./logs',\n",
        "    logging_steps=10,\n",
        "    evaluation_strategy=\"epoch\"\n",
        ")\n",
        "# Define the Trainer\n",
        "trainer = Trainer(\n",
        "    model=model,\n",
        "    args=training_args,\n",
        "    train_dataset=train_dataset,\n",
        "    eval_dataset=val_dataset\n",
        ")\n",
        "# Train the model\n",
        "trainer.train()"
      ]
    },
    {
      "cell_type": "markdown",
      "metadata": {
        "id": "M2jE29ONNady"
      },
      "source": [
        "## Evaluation"
      ]
    },
    {
      "cell_type": "markdown",
      "metadata": {
        "id": "sOfHdLFbkskM"
      },
      "source": [
        "Code ini sudah disusun untuk melakukan evaluasi terhadap sebuah multilabel classification."
      ]
    },
    {
      "cell_type": "code",
      "execution_count": null,
      "metadata": {
        "colab": {
          "base_uri": "https://localhost:8080/",
          "height": 124
        },
        "id": "2vExh7mcDzMR",
        "outputId": "8c443129-a89b-4753-9587-2327e756aba4"
      },
      "outputs": [
        {
          "data": {
            "text/html": [],
            "text/plain": [
              "<IPython.core.display.HTML object>"
            ]
          },
          "metadata": {},
          "output_type": "display_data"
        },
        {
          "name": "stdout",
          "output_type": "stream",
          "text": [
            "Metrics: {'eval_loss': 0.5388426780700684, 'eval_runtime': 2.3082, 'eval_samples_per_second': 142.534, 'eval_steps_per_second': 9.098, 'epoch': 3.0}\n",
            "Test Accuracy: 0.5757575757575758\n",
            "Test Precision: 0.6571683288292991\n",
            "Test Recall: 0.5656505025189236\n",
            "Test F1 Score: 0.5867843600115124\n"
          ]
        }
      ],
      "source": [
        "# Evaluate the model\n",
        "metrics = trainer.evaluate()\n",
        "\n",
        "# Make predictions on the test set\n",
        "predictions = trainer.predict(test_dataset)\n",
        "\n",
        "# Calculate metrics\n",
        "preds = torch.sigmoid(torch.tensor(predictions.predictions)).cpu().numpy()\n",
        "pred_labels = (preds > 0.5).astype(int)\n",
        "\n",
        "accuracy = accuracy_score(test_labels, pred_labels)\n",
        "precision, recall, f1, _ = precision_recall_fscore_support(test_labels, pred_labels, average='macro')\n",
        "\n",
        "print(\"Metrics:\", metrics)\n",
        "print(\"Test Accuracy:\", accuracy)\n",
        "print(\"Test Precision:\", precision)\n",
        "print(\"Test Recall:\", recall)\n",
        "print(\"Test F1 Score:\", f1)"
      ]
    },
    {
      "cell_type": "code",
      "execution_count": null,
      "metadata": {
        "colab": {
          "base_uri": "https://localhost:8080/"
        },
        "id": "NiOSuCbEhT4P",
        "outputId": "f077f746-f23a-4481-810f-34f62686e311"
      },
      "outputs": [
        {
          "name": "stdout",
          "output_type": "stream",
          "text": [
            "Test Accuracy: 0.5757575757575758\n",
            "Test Precision: 0.6571683288292991\n",
            "Test Recall: 0.5656505025189236\n",
            "Test F1 Score: 0.5867843600115124\n",
            "Classification Report:\n",
            "               precision    recall  f1-score   support\n",
            "\n",
            "           HS       0.87      0.65      0.74       144\n",
            "      Abusive       0.76      0.83      0.80       125\n",
            "HS_Individual       0.73      0.45      0.56        95\n",
            "     HS_Group       0.46      0.43      0.44        49\n",
            "  HS_Religion       0.36      0.62      0.45        16\n",
            "      HS_Race       0.42      0.62      0.50         8\n",
            "  HS_Physical       0.67      0.33      0.44         6\n",
            "    HS_Gender       0.80      0.67      0.73         6\n",
            "     HS_Other       0.85      0.48      0.62       110\n",
            "\n",
            "    micro avg       0.73      0.60      0.66       559\n",
            "    macro avg       0.66      0.57      0.59       559\n",
            " weighted avg       0.76      0.60      0.66       559\n",
            "  samples avg       0.41      0.37      0.37       559\n",
            "\n"
          ]
        },
        {
          "name": "stderr",
          "output_type": "stream",
          "text": [
            "/usr/local/lib/python3.10/dist-packages/sklearn/metrics/_classification.py:1344: UndefinedMetricWarning: Precision and F-score are ill-defined and being set to 0.0 in samples with no predicted labels. Use `zero_division` parameter to control this behavior.\n",
            "  _warn_prf(average, modifier, msg_start, len(result))\n",
            "/usr/local/lib/python3.10/dist-packages/sklearn/metrics/_classification.py:1344: UndefinedMetricWarning: Recall and F-score are ill-defined and being set to 0.0 in samples with no true labels. Use `zero_division` parameter to control this behavior.\n",
            "  _warn_prf(average, modifier, msg_start, len(result))\n"
          ]
        }
      ],
      "source": [
        "# Calculate accuracy\n",
        "accuracy = accuracy_score(test_labels, pred_labels)\n",
        "\n",
        "# Calculate precision, recall, f1-score, support for each class\n",
        "precision, recall, f1, _ = precision_recall_fscore_support(test_labels, pred_labels, average='macro')\n",
        "\n",
        "# Print metrics\n",
        "print(\"Test Accuracy:\", accuracy)\n",
        "print(\"Test Precision:\", precision)\n",
        "print(\"Test Recall:\", recall)\n",
        "print(\"Test F1 Score:\", f1)\n",
        "\n",
        "# Generate and print classification report\n",
        "class_names = [f\"Class {i}\" for i in range(test_labels.shape[1])]  # Replace with actual class names if available\n",
        "report = classification_report(test_labels, pred_labels, target_names=['HS', 'Abusive', 'HS_Individual', 'HS_Group', 'HS_Religion', 'HS_Race', 'HS_Physical', 'HS_Gender', 'HS_Other'])\n",
        "print(\"Classification Report:\")\n",
        "print(report)"
      ]
    },
    {
      "cell_type": "markdown",
      "metadata": {
        "id": "jRRt38V4fqSk"
      },
      "source": [
        "# Clustering & Topic Extraction"
      ]
    },
    {
      "cell_type": "code",
      "execution_count": null,
      "metadata": {
        "id": "owsoXV1jri-B",
        "colab": {
          "base_uri": "https://localhost:8080/"
        },
        "collapsed": true,
        "outputId": "b5badc77-edd7-4b31-90d8-575a32ebc7a4"
      },
      "outputs": [
        {
          "output_type": "stream",
          "name": "stderr",
          "text": [
            "[nltk_data] Downloading package punkt to /root/nltk_data...\n",
            "[nltk_data]   Package punkt is already up-to-date!\n",
            "[nltk_data] Downloading package stopwords to /root/nltk_data...\n",
            "[nltk_data]   Package stopwords is already up-to-date!\n"
          ]
        }
      ],
      "source": [
        "import pandas as pd\n",
        "import re\n",
        "import string\n",
        "from sklearn.feature_extraction.text import TfidfVectorizer\n",
        "nltk.download('punkt')\n",
        "nltk.download('stopwords')\n",
        "\n",
        "stop_words = set(stopwords.words('indonesian'))"
      ]
    },
    {
      "cell_type": "markdown",
      "source": [
        "## Data"
      ],
      "metadata": {
        "id": "eZ3JEZviZ83l"
      }
    },
    {
      "cell_type": "code",
      "execution_count": null,
      "metadata": {
        "id": "_D662HHffn9Z"
      },
      "outputs": [],
      "source": [
        "df2 = pd.read_csv('/content/extracted_data/C/data_2C.csv', encoding='latin-1')"
      ]
    },
    {
      "cell_type": "code",
      "execution_count": null,
      "metadata": {
        "colab": {
          "base_uri": "https://localhost:8080/",
          "height": 345
        },
        "id": "bEymBddSlEHQ",
        "outputId": "acc77fc1-a22c-42ef-89de-106740c2f3b1"
      },
      "outputs": [
        {
          "output_type": "execute_result",
          "data": {
            "text/plain": [
              "   Unnamed: 0  index                                                URL  \\\n",
              "0           0   6881  https://twitter.com/koesmanagalang/status/1657...   \n",
              "1           1   9209  https://twitter.com/muhammad_dlya/status/16572...   \n",
              "2           2  13665  https://twitter.com/NuriSeptiyani/status/16566...   \n",
              "3           3  17281  https://twitter.com/MasYusuf_/status/165646539...   \n",
              "4           4  12216  https://twitter.com/KepoomrR/status/1656901084...   \n",
              "\n",
              "                        Date  \\\n",
              "0  2023-05-13 17:02:16+00:00   \n",
              "1  2023-05-13 07:14:32+00:00   \n",
              "2  2023-05-11 13:40:46+00:00   \n",
              "3  2023-05-11 01:04:59+00:00   \n",
              "4  2023-05-12 05:56:16+00:00   \n",
              "\n",
              "                                               Tweet                   ID  \\\n",
              "0  @myrnn_ @secgron @bankbsi_id sistem sama orang...  1657431076921544705   \n",
              "1  @setyodiwantoro @ZakyFarid @RochmatPurwanto @b...  1657283168054181888   \n",
              "2  @Kebosananan @detikcom iya nasabah bank konven...  1656655591488761857   \n",
              "3  @bankbsi_id Gimana sih Min ini kok gak bisa la...  1656465393014419456   \n",
              "4  @ssstef_ @bankbsi_id BCA Sy bisa nih kayaknya,...  1656901084693278720   \n",
              "\n",
              "         Username  Replies  Reetweets  Likes  Quotes       conversationId  \\\n",
              "0  koesmanagalang        1          0      0       0  1657192354829451264   \n",
              "1   muhammad_dlya        1          0      0       0  1657217322447425538   \n",
              "2   NuriSeptiyani        2          0      1       1  1656576231545131008   \n",
              "3       MasYusuf_        1          0      1       0  1655807602104872960   \n",
              "4        KepoomrR        0          0      0       0  1656869834557378560   \n",
              "\n",
              "  Language Links Media  Retweeted Tweet  Bookmarks  \n",
              "0       in   NaN   NaN              NaN          0  \n",
              "1       eu   NaN   NaN              NaN          0  \n",
              "2       in   NaN   NaN              NaN          0  \n",
              "3       in   NaN   NaN              NaN          0  \n",
              "4       in   NaN   NaN              NaN          0  "
            ],
            "text/html": [
              "\n",
              "  <div id=\"df-f764f9e9-3ab7-4ba2-886d-a3ed064aa066\" class=\"colab-df-container\">\n",
              "    <div>\n",
              "<style scoped>\n",
              "    .dataframe tbody tr th:only-of-type {\n",
              "        vertical-align: middle;\n",
              "    }\n",
              "\n",
              "    .dataframe tbody tr th {\n",
              "        vertical-align: top;\n",
              "    }\n",
              "\n",
              "    .dataframe thead th {\n",
              "        text-align: right;\n",
              "    }\n",
              "</style>\n",
              "<table border=\"1\" class=\"dataframe\">\n",
              "  <thead>\n",
              "    <tr style=\"text-align: right;\">\n",
              "      <th></th>\n",
              "      <th>Unnamed: 0</th>\n",
              "      <th>index</th>\n",
              "      <th>URL</th>\n",
              "      <th>Date</th>\n",
              "      <th>Tweet</th>\n",
              "      <th>ID</th>\n",
              "      <th>Username</th>\n",
              "      <th>Replies</th>\n",
              "      <th>Reetweets</th>\n",
              "      <th>Likes</th>\n",
              "      <th>Quotes</th>\n",
              "      <th>conversationId</th>\n",
              "      <th>Language</th>\n",
              "      <th>Links</th>\n",
              "      <th>Media</th>\n",
              "      <th>Retweeted Tweet</th>\n",
              "      <th>Bookmarks</th>\n",
              "    </tr>\n",
              "  </thead>\n",
              "  <tbody>\n",
              "    <tr>\n",
              "      <th>0</th>\n",
              "      <td>0</td>\n",
              "      <td>6881</td>\n",
              "      <td>https://twitter.com/koesmanagalang/status/1657...</td>\n",
              "      <td>2023-05-13 17:02:16+00:00</td>\n",
              "      <td>@myrnn_ @secgron @bankbsi_id sistem sama orang...</td>\n",
              "      <td>1657431076921544705</td>\n",
              "      <td>koesmanagalang</td>\n",
              "      <td>1</td>\n",
              "      <td>0</td>\n",
              "      <td>0</td>\n",
              "      <td>0</td>\n",
              "      <td>1657192354829451264</td>\n",
              "      <td>in</td>\n",
              "      <td>NaN</td>\n",
              "      <td>NaN</td>\n",
              "      <td>NaN</td>\n",
              "      <td>0</td>\n",
              "    </tr>\n",
              "    <tr>\n",
              "      <th>1</th>\n",
              "      <td>1</td>\n",
              "      <td>9209</td>\n",
              "      <td>https://twitter.com/muhammad_dlya/status/16572...</td>\n",
              "      <td>2023-05-13 07:14:32+00:00</td>\n",
              "      <td>@setyodiwantoro @ZakyFarid @RochmatPurwanto @b...</td>\n",
              "      <td>1657283168054181888</td>\n",
              "      <td>muhammad_dlya</td>\n",
              "      <td>1</td>\n",
              "      <td>0</td>\n",
              "      <td>0</td>\n",
              "      <td>0</td>\n",
              "      <td>1657217322447425538</td>\n",
              "      <td>eu</td>\n",
              "      <td>NaN</td>\n",
              "      <td>NaN</td>\n",
              "      <td>NaN</td>\n",
              "      <td>0</td>\n",
              "    </tr>\n",
              "    <tr>\n",
              "      <th>2</th>\n",
              "      <td>2</td>\n",
              "      <td>13665</td>\n",
              "      <td>https://twitter.com/NuriSeptiyani/status/16566...</td>\n",
              "      <td>2023-05-11 13:40:46+00:00</td>\n",
              "      <td>@Kebosananan @detikcom iya nasabah bank konven...</td>\n",
              "      <td>1656655591488761857</td>\n",
              "      <td>NuriSeptiyani</td>\n",
              "      <td>2</td>\n",
              "      <td>0</td>\n",
              "      <td>1</td>\n",
              "      <td>1</td>\n",
              "      <td>1656576231545131008</td>\n",
              "      <td>in</td>\n",
              "      <td>NaN</td>\n",
              "      <td>NaN</td>\n",
              "      <td>NaN</td>\n",
              "      <td>0</td>\n",
              "    </tr>\n",
              "    <tr>\n",
              "      <th>3</th>\n",
              "      <td>3</td>\n",
              "      <td>17281</td>\n",
              "      <td>https://twitter.com/MasYusuf_/status/165646539...</td>\n",
              "      <td>2023-05-11 01:04:59+00:00</td>\n",
              "      <td>@bankbsi_id Gimana sih Min ini kok gak bisa la...</td>\n",
              "      <td>1656465393014419456</td>\n",
              "      <td>MasYusuf_</td>\n",
              "      <td>1</td>\n",
              "      <td>0</td>\n",
              "      <td>1</td>\n",
              "      <td>0</td>\n",
              "      <td>1655807602104872960</td>\n",
              "      <td>in</td>\n",
              "      <td>NaN</td>\n",
              "      <td>NaN</td>\n",
              "      <td>NaN</td>\n",
              "      <td>0</td>\n",
              "    </tr>\n",
              "    <tr>\n",
              "      <th>4</th>\n",
              "      <td>4</td>\n",
              "      <td>12216</td>\n",
              "      <td>https://twitter.com/KepoomrR/status/1656901084...</td>\n",
              "      <td>2023-05-12 05:56:16+00:00</td>\n",
              "      <td>@ssstef_ @bankbsi_id BCA Sy bisa nih kayaknya,...</td>\n",
              "      <td>1656901084693278720</td>\n",
              "      <td>KepoomrR</td>\n",
              "      <td>0</td>\n",
              "      <td>0</td>\n",
              "      <td>0</td>\n",
              "      <td>0</td>\n",
              "      <td>1656869834557378560</td>\n",
              "      <td>in</td>\n",
              "      <td>NaN</td>\n",
              "      <td>NaN</td>\n",
              "      <td>NaN</td>\n",
              "      <td>0</td>\n",
              "    </tr>\n",
              "  </tbody>\n",
              "</table>\n",
              "</div>\n",
              "    <div class=\"colab-df-buttons\">\n",
              "\n",
              "  <div class=\"colab-df-container\">\n",
              "    <button class=\"colab-df-convert\" onclick=\"convertToInteractive('df-f764f9e9-3ab7-4ba2-886d-a3ed064aa066')\"\n",
              "            title=\"Convert this dataframe to an interactive table.\"\n",
              "            style=\"display:none;\">\n",
              "\n",
              "  <svg xmlns=\"http://www.w3.org/2000/svg\" height=\"24px\" viewBox=\"0 -960 960 960\">\n",
              "    <path d=\"M120-120v-720h720v720H120Zm60-500h600v-160H180v160Zm220 220h160v-160H400v160Zm0 220h160v-160H400v160ZM180-400h160v-160H180v160Zm440 0h160v-160H620v160ZM180-180h160v-160H180v160Zm440 0h160v-160H620v160Z\"/>\n",
              "  </svg>\n",
              "    </button>\n",
              "\n",
              "  <style>\n",
              "    .colab-df-container {\n",
              "      display:flex;\n",
              "      gap: 12px;\n",
              "    }\n",
              "\n",
              "    .colab-df-convert {\n",
              "      background-color: #E8F0FE;\n",
              "      border: none;\n",
              "      border-radius: 50%;\n",
              "      cursor: pointer;\n",
              "      display: none;\n",
              "      fill: #1967D2;\n",
              "      height: 32px;\n",
              "      padding: 0 0 0 0;\n",
              "      width: 32px;\n",
              "    }\n",
              "\n",
              "    .colab-df-convert:hover {\n",
              "      background-color: #E2EBFA;\n",
              "      box-shadow: 0px 1px 2px rgba(60, 64, 67, 0.3), 0px 1px 3px 1px rgba(60, 64, 67, 0.15);\n",
              "      fill: #174EA6;\n",
              "    }\n",
              "\n",
              "    .colab-df-buttons div {\n",
              "      margin-bottom: 4px;\n",
              "    }\n",
              "\n",
              "    [theme=dark] .colab-df-convert {\n",
              "      background-color: #3B4455;\n",
              "      fill: #D2E3FC;\n",
              "    }\n",
              "\n",
              "    [theme=dark] .colab-df-convert:hover {\n",
              "      background-color: #434B5C;\n",
              "      box-shadow: 0px 1px 3px 1px rgba(0, 0, 0, 0.15);\n",
              "      filter: drop-shadow(0px 1px 2px rgba(0, 0, 0, 0.3));\n",
              "      fill: #FFFFFF;\n",
              "    }\n",
              "  </style>\n",
              "\n",
              "    <script>\n",
              "      const buttonEl =\n",
              "        document.querySelector('#df-f764f9e9-3ab7-4ba2-886d-a3ed064aa066 button.colab-df-convert');\n",
              "      buttonEl.style.display =\n",
              "        google.colab.kernel.accessAllowed ? 'block' : 'none';\n",
              "\n",
              "      async function convertToInteractive(key) {\n",
              "        const element = document.querySelector('#df-f764f9e9-3ab7-4ba2-886d-a3ed064aa066');\n",
              "        const dataTable =\n",
              "          await google.colab.kernel.invokeFunction('convertToInteractive',\n",
              "                                                    [key], {});\n",
              "        if (!dataTable) return;\n",
              "\n",
              "        const docLinkHtml = 'Like what you see? Visit the ' +\n",
              "          '<a target=\"_blank\" href=https://colab.research.google.com/notebooks/data_table.ipynb>data table notebook</a>'\n",
              "          + ' to learn more about interactive tables.';\n",
              "        element.innerHTML = '';\n",
              "        dataTable['output_type'] = 'display_data';\n",
              "        await google.colab.output.renderOutput(dataTable, element);\n",
              "        const docLink = document.createElement('div');\n",
              "        docLink.innerHTML = docLinkHtml;\n",
              "        element.appendChild(docLink);\n",
              "      }\n",
              "    </script>\n",
              "  </div>\n",
              "\n",
              "\n",
              "<div id=\"df-6e7b9372-3535-4dde-a3bd-257eaa34d5ad\">\n",
              "  <button class=\"colab-df-quickchart\" onclick=\"quickchart('df-6e7b9372-3535-4dde-a3bd-257eaa34d5ad')\"\n",
              "            title=\"Suggest charts\"\n",
              "            style=\"display:none;\">\n",
              "\n",
              "<svg xmlns=\"http://www.w3.org/2000/svg\" height=\"24px\"viewBox=\"0 0 24 24\"\n",
              "     width=\"24px\">\n",
              "    <g>\n",
              "        <path d=\"M19 3H5c-1.1 0-2 .9-2 2v14c0 1.1.9 2 2 2h14c1.1 0 2-.9 2-2V5c0-1.1-.9-2-2-2zM9 17H7v-7h2v7zm4 0h-2V7h2v10zm4 0h-2v-4h2v4z\"/>\n",
              "    </g>\n",
              "</svg>\n",
              "  </button>\n",
              "\n",
              "<style>\n",
              "  .colab-df-quickchart {\n",
              "      --bg-color: #E8F0FE;\n",
              "      --fill-color: #1967D2;\n",
              "      --hover-bg-color: #E2EBFA;\n",
              "      --hover-fill-color: #174EA6;\n",
              "      --disabled-fill-color: #AAA;\n",
              "      --disabled-bg-color: #DDD;\n",
              "  }\n",
              "\n",
              "  [theme=dark] .colab-df-quickchart {\n",
              "      --bg-color: #3B4455;\n",
              "      --fill-color: #D2E3FC;\n",
              "      --hover-bg-color: #434B5C;\n",
              "      --hover-fill-color: #FFFFFF;\n",
              "      --disabled-bg-color: #3B4455;\n",
              "      --disabled-fill-color: #666;\n",
              "  }\n",
              "\n",
              "  .colab-df-quickchart {\n",
              "    background-color: var(--bg-color);\n",
              "    border: none;\n",
              "    border-radius: 50%;\n",
              "    cursor: pointer;\n",
              "    display: none;\n",
              "    fill: var(--fill-color);\n",
              "    height: 32px;\n",
              "    padding: 0;\n",
              "    width: 32px;\n",
              "  }\n",
              "\n",
              "  .colab-df-quickchart:hover {\n",
              "    background-color: var(--hover-bg-color);\n",
              "    box-shadow: 0 1px 2px rgba(60, 64, 67, 0.3), 0 1px 3px 1px rgba(60, 64, 67, 0.15);\n",
              "    fill: var(--button-hover-fill-color);\n",
              "  }\n",
              "\n",
              "  .colab-df-quickchart-complete:disabled,\n",
              "  .colab-df-quickchart-complete:disabled:hover {\n",
              "    background-color: var(--disabled-bg-color);\n",
              "    fill: var(--disabled-fill-color);\n",
              "    box-shadow: none;\n",
              "  }\n",
              "\n",
              "  .colab-df-spinner {\n",
              "    border: 2px solid var(--fill-color);\n",
              "    border-color: transparent;\n",
              "    border-bottom-color: var(--fill-color);\n",
              "    animation:\n",
              "      spin 1s steps(1) infinite;\n",
              "  }\n",
              "\n",
              "  @keyframes spin {\n",
              "    0% {\n",
              "      border-color: transparent;\n",
              "      border-bottom-color: var(--fill-color);\n",
              "      border-left-color: var(--fill-color);\n",
              "    }\n",
              "    20% {\n",
              "      border-color: transparent;\n",
              "      border-left-color: var(--fill-color);\n",
              "      border-top-color: var(--fill-color);\n",
              "    }\n",
              "    30% {\n",
              "      border-color: transparent;\n",
              "      border-left-color: var(--fill-color);\n",
              "      border-top-color: var(--fill-color);\n",
              "      border-right-color: var(--fill-color);\n",
              "    }\n",
              "    40% {\n",
              "      border-color: transparent;\n",
              "      border-right-color: var(--fill-color);\n",
              "      border-top-color: var(--fill-color);\n",
              "    }\n",
              "    60% {\n",
              "      border-color: transparent;\n",
              "      border-right-color: var(--fill-color);\n",
              "    }\n",
              "    80% {\n",
              "      border-color: transparent;\n",
              "      border-right-color: var(--fill-color);\n",
              "      border-bottom-color: var(--fill-color);\n",
              "    }\n",
              "    90% {\n",
              "      border-color: transparent;\n",
              "      border-bottom-color: var(--fill-color);\n",
              "    }\n",
              "  }\n",
              "</style>\n",
              "\n",
              "  <script>\n",
              "    async function quickchart(key) {\n",
              "      const quickchartButtonEl =\n",
              "        document.querySelector('#' + key + ' button');\n",
              "      quickchartButtonEl.disabled = true;  // To prevent multiple clicks.\n",
              "      quickchartButtonEl.classList.add('colab-df-spinner');\n",
              "      try {\n",
              "        const charts = await google.colab.kernel.invokeFunction(\n",
              "            'suggestCharts', [key], {});\n",
              "      } catch (error) {\n",
              "        console.error('Error during call to suggestCharts:', error);\n",
              "      }\n",
              "      quickchartButtonEl.classList.remove('colab-df-spinner');\n",
              "      quickchartButtonEl.classList.add('colab-df-quickchart-complete');\n",
              "    }\n",
              "    (() => {\n",
              "      let quickchartButtonEl =\n",
              "        document.querySelector('#df-6e7b9372-3535-4dde-a3bd-257eaa34d5ad button');\n",
              "      quickchartButtonEl.style.display =\n",
              "        google.colab.kernel.accessAllowed ? 'block' : 'none';\n",
              "    })();\n",
              "  </script>\n",
              "</div>\n",
              "\n",
              "    </div>\n",
              "  </div>\n"
            ],
            "application/vnd.google.colaboratory.intrinsic+json": {
              "type": "dataframe",
              "variable_name": "df2",
              "summary": "{\n  \"name\": \"df2\",\n  \"rows\": 6100,\n  \"fields\": [\n    {\n      \"column\": \"Unnamed: 0\",\n      \"properties\": {\n        \"dtype\": \"number\",\n        \"std\": 1761,\n        \"min\": 0,\n        \"max\": 6099,\n        \"num_unique_values\": 6100,\n        \"samples\": [\n          2794,\n          2592,\n          5355\n        ],\n        \"semantic_type\": \"\",\n        \"description\": \"\"\n      }\n    },\n    {\n      \"column\": \"index\",\n      \"properties\": {\n        \"dtype\": \"number\",\n        \"std\": 7103,\n        \"min\": 4,\n        \"max\": 24400,\n        \"num_unique_values\": 6100,\n        \"samples\": [\n          20818,\n          14133,\n          18997\n        ],\n        \"semantic_type\": \"\",\n        \"description\": \"\"\n      }\n    },\n    {\n      \"column\": \"URL\",\n      \"properties\": {\n        \"dtype\": \"string\",\n        \"num_unique_values\": 6100,\n        \"samples\": [\n          \"https://twitter.com/RezqieHardi/status/1656206329294491650\",\n          \"https://twitter.com/ZulheriIsra/status/1656619602082951168\",\n          \"https://twitter.com/beomracer/status/1656287367047811074\"\n        ],\n        \"semantic_type\": \"\",\n        \"description\": \"\"\n      }\n    },\n    {\n      \"column\": \"Date\",\n      \"properties\": {\n        \"dtype\": \"object\",\n        \"num_unique_values\": 6061,\n        \"samples\": [\n          \"2023-05-11 08:50:41+00:00\",\n          \"2023-05-09 23:33:46+00:00\",\n          \"2023-05-10 12:52:20+00:00\"\n        ],\n        \"semantic_type\": \"\",\n        \"description\": \"\"\n      }\n    },\n    {\n      \"column\": \"Tweet\",\n      \"properties\": {\n        \"dtype\": \"string\",\n        \"num_unique_values\": 6089,\n        \"samples\": [\n          \"1,5 TB bank BSI Cicho\\n#\\u00e0\\u00b8\\u0099\\u00e0\\u00b8\\u00b2\\u00e0\\u00b8\\u00a2\\u00e0\\u00b8\\u0081\\u00e0\\u00b8\\u0084\\u00e0\\u00b8\\u0099\\u00e0\\u00b8\\u0097\\u00e0\\u00b8\\u00b5\\u00e0\\u00b9\\u008830\\n#\\u00e0\\u00b8\\u0081\\u00e0\\u00b9\\u0089\\u00e0\\u00b8\\u00b2\\u00e0\\u00b8\\u00a7\\u00e0\\u00b9\\u0084\\u00e0\\u00b8\\u0081\\u00e0\\u00b8\\u00a5 Russia grup Mei lock bit rip hero\\nCharta Politika\",\n          \"Kok @bankbsi_id masih belum bisa transfer ke E-Wallet ya? .. sudah hari ke 6 ini!\",\n          \"@bankbsi_id @rizkyamikaze @intanpsupriatna @yazidm05 Saya gak bisa login\\u00f0\\u009f\\u00a4\\u00a6\\u00f0\\u009f\\u00a4\\u00a6\\u00f0\\u009f\\u00a4\\u00a6\"\n        ],\n        \"semantic_type\": \"\",\n        \"description\": \"\"\n      }\n    },\n    {\n      \"column\": \"ID\",\n      \"properties\": {\n        \"dtype\": \"number\",\n        \"std\": 802471487627811,\n        \"min\": 1655862147572977665,\n        \"max\": 1658975122894774272,\n        \"num_unique_values\": 6100,\n        \"samples\": [\n          1656206329294491650,\n          1656619602082951168,\n          1656287367047811074\n        ],\n        \"semantic_type\": \"\",\n        \"description\": \"\"\n      }\n    },\n    {\n      \"column\": \"Username\",\n      \"properties\": {\n        \"dtype\": \"string\",\n        \"num_unique_values\": 4544,\n        \"samples\": [\n          \"demaulan_\",\n          \"KaniaLara\",\n          \"BundaZahwa74\"\n        ],\n        \"semantic_type\": \"\",\n        \"description\": \"\"\n      }\n    },\n    {\n      \"column\": \"Replies\",\n      \"properties\": {\n        \"dtype\": \"number\",\n        \"std\": 4,\n        \"min\": 0,\n        \"max\": 179,\n        \"num_unique_values\": 33,\n        \"samples\": [\n          16,\n          19,\n          20\n        ],\n        \"semantic_type\": \"\",\n        \"description\": \"\"\n      }\n    },\n    {\n      \"column\": \"Reetweets\",\n      \"properties\": {\n        \"dtype\": \"number\",\n        \"std\": 18,\n        \"min\": 0,\n        \"max\": 1177,\n        \"num_unique_values\": 38,\n        \"samples\": [\n          40,\n          20,\n          10\n        ],\n        \"semantic_type\": \"\",\n        \"description\": \"\"\n      }\n    },\n    {\n      \"column\": \"Likes\",\n      \"properties\": {\n        \"dtype\": \"number\",\n        \"std\": 83,\n        \"min\": 0,\n        \"max\": 5189,\n        \"num_unique_values\": 66,\n        \"samples\": [\n          188,\n          29,\n          0\n        ],\n        \"semantic_type\": \"\",\n        \"description\": \"\"\n      }\n    },\n    {\n      \"column\": \"Quotes\",\n      \"properties\": {\n        \"dtype\": \"number\",\n        \"std\": 2,\n        \"min\": 0,\n        \"max\": 134,\n        \"num_unique_values\": 17,\n        \"samples\": [\n          0,\n          1,\n          3\n        ],\n        \"semantic_type\": \"\",\n        \"description\": \"\"\n      }\n    },\n    {\n      \"column\": \"conversationId\",\n      \"properties\": {\n        \"dtype\": \"number\",\n        \"std\": 3711218339665346,\n        \"min\": 1474192728351150093,\n        \"max\": 1658972921505914881,\n        \"num_unique_values\": 2455,\n        \"samples\": [\n          1656482931664367617,\n          1657533017081147393,\n          1656465377952681984\n        ],\n        \"semantic_type\": \"\",\n        \"description\": \"\"\n      }\n    },\n    {\n      \"column\": \"Language\",\n      \"properties\": {\n        \"dtype\": \"category\",\n        \"num_unique_values\": 12,\n        \"samples\": [\n          \"nl\",\n          \"fr\",\n          \"in\"\n        ],\n        \"semantic_type\": \"\",\n        \"description\": \"\"\n      }\n    },\n    {\n      \"column\": \"Links\",\n      \"properties\": {\n        \"dtype\": \"category\",\n        \"num_unique_values\": 203,\n        \"samples\": [\n          \"https://jagobanking.onelink.me/9ryZ/f8ewsjyl\",\n          \"https://brief.id/2023/05/beroperasi-akhir-pekan-bsi-terima-setoran-tunai-rp30-m/\",\n          \"https://twitter.com/Paltiwest/status/1658330792001703937?t=Keg1LRVKzs_6dkrykIRmyg&s=19\"\n        ],\n        \"semantic_type\": \"\",\n        \"description\": \"\"\n      }\n    },\n    {\n      \"column\": \"Media\",\n      \"properties\": {\n        \"dtype\": \"category\",\n        \"num_unique_values\": 544,\n        \"samples\": [\n          \"https://pbs.twimg.com/media/FvwbFeJaMAE2dzN?format=jpg&name=orig\",\n          \"https://pbs.twimg.com/media/Fv2v-epaQAUlUmI?format=jpg&name=orig\",\n          \"https://pbs.twimg.com/media/FwUxXA-akAA5Mu6?format=jpg&name=orig\"\n        ],\n        \"semantic_type\": \"\",\n        \"description\": \"\"\n      }\n    },\n    {\n      \"column\": \"Retweeted Tweet\",\n      \"properties\": {\n        \"dtype\": \"number\",\n        \"std\": null,\n        \"min\": null,\n        \"max\": null,\n        \"num_unique_values\": 0,\n        \"samples\": [],\n        \"semantic_type\": \"\",\n        \"description\": \"\"\n      }\n    },\n    {\n      \"column\": \"Bookmarks\",\n      \"properties\": {\n        \"dtype\": \"number\",\n        \"std\": 4,\n        \"min\": 0,\n        \"max\": 231,\n        \"num_unique_values\": 17,\n        \"samples\": [],\n        \"semantic_type\": \"\",\n        \"description\": \"\"\n      }\n    }\n  ]\n}"
            }
          },
          "metadata": {},
          "execution_count": 26
        }
      ],
      "source": [
        "df2.head()"
      ]
    },
    {
      "cell_type": "code",
      "execution_count": null,
      "metadata": {
        "id": "LSP2OUGTlK7k"
      },
      "outputs": [],
      "source": [
        "df2 = df2.drop(['Unnamed: 0','index'], axis=1)"
      ]
    },
    {
      "cell_type": "code",
      "execution_count": null,
      "metadata": {
        "colab": {
          "base_uri": "https://localhost:8080/"
        },
        "id": "ZqpI3XU5lLxX",
        "outputId": "d62a5d0a-1379-47f9-d38b-8aa5f8bcffc6"
      },
      "outputs": [
        {
          "output_type": "stream",
          "name": "stdout",
          "text": [
            "<class 'pandas.core.frame.DataFrame'>\n",
            "RangeIndex: 6100 entries, 0 to 6099\n",
            "Data columns (total 15 columns):\n",
            " #   Column           Non-Null Count  Dtype  \n",
            "---  ------           --------------  -----  \n",
            " 0   URL              6100 non-null   object \n",
            " 1   Date             6100 non-null   object \n",
            " 2   Tweet            6100 non-null   object \n",
            " 3   ID               6100 non-null   int64  \n",
            " 4   Username         6100 non-null   object \n",
            " 5   Replies          6100 non-null   int64  \n",
            " 6   Reetweets        6100 non-null   int64  \n",
            " 7   Likes            6100 non-null   int64  \n",
            " 8   Quotes           6100 non-null   int64  \n",
            " 9   conversationId   6100 non-null   int64  \n",
            " 10  Language         6100 non-null   object \n",
            " 11  Links            226 non-null    object \n",
            " 12  Media            545 non-null    object \n",
            " 13  Retweeted Tweet  0 non-null      float64\n",
            " 14  Bookmarks        6100 non-null   int64  \n",
            "dtypes: float64(1), int64(7), object(7)\n",
            "memory usage: 715.0+ KB\n"
          ]
        }
      ],
      "source": [
        "df2.info()"
      ]
    },
    {
      "cell_type": "code",
      "execution_count": null,
      "metadata": {
        "colab": {
          "base_uri": "https://localhost:8080/"
        },
        "id": "8tzui5ImlfAC",
        "outputId": "d802771e-7c1e-4b3c-ee4a-a3db5f77d341"
      },
      "outputs": [
        {
          "output_type": "execute_result",
          "data": {
            "text/plain": [
              "URL                   0\n",
              "Date                  0\n",
              "Tweet                 0\n",
              "ID                    0\n",
              "Username              0\n",
              "Replies               0\n",
              "Reetweets             0\n",
              "Likes                 0\n",
              "Quotes                0\n",
              "conversationId        0\n",
              "Language              0\n",
              "Links              5874\n",
              "Media              5555\n",
              "Retweeted Tweet    6100\n",
              "Bookmarks             0\n",
              "dtype: int64"
            ]
          },
          "metadata": {},
          "execution_count": 29
        }
      ],
      "source": [
        "df2.isnull().sum()"
      ]
    },
    {
      "cell_type": "code",
      "source": [
        "def clean_text(text):\n",
        "    text = re.sub(r'http\\S+', '', text)\n",
        "    text = re.sub(r'@\\w+', '', text)\n",
        "    text = re.sub(r'#\\w+', '', text)\n",
        "    text = re.sub(r'\\d+', '', text)\n",
        "    text = re.sub(r'[^\\x00-\\x7f]',r'', text)\n",
        "    text = text.translate(str.maketrans('', '', string.punctuation))\n",
        "    text = text.lower()\n",
        "    text = ' '.join(word for word in text.split() if word not in stop_words)\n",
        "    return text\n",
        "\n",
        "df2['cleaned_tweet'] = df2['Tweet'].apply(clean_text)"
      ],
      "metadata": {
        "id": "RKsLRz3Lft3m"
      },
      "execution_count": null,
      "outputs": []
    },
    {
      "cell_type": "code",
      "source": [
        "df2['cleaned_tweet'][0]"
      ],
      "metadata": {
        "colab": {
          "base_uri": "https://localhost:8080/",
          "height": 36
        },
        "id": "1SfpRvu_kR7D",
        "outputId": "97356b4b-412e-4069-d365-234f57e86cab"
      },
      "execution_count": null,
      "outputs": [
        {
          "output_type": "execute_result",
          "data": {
            "text/plain": [
              "'sistem orangnya ganti gak sistem gak teretas cari countermeasures sekelas bank udah wajib tim cyber security isinya white hat hacker gue tau sih indo white hat hacker kriminal dibilangnya'"
            ],
            "application/vnd.google.colaboratory.intrinsic+json": {
              "type": "string"
            }
          },
          "metadata": {},
          "execution_count": 66
        }
      ]
    },
    {
      "cell_type": "code",
      "source": [
        "display(df2['cleaned_tweet'])"
      ],
      "metadata": {
        "colab": {
          "base_uri": "https://localhost:8080/",
          "height": 225
        },
        "id": "W9ywXkbiljj4",
        "outputId": "aeb2331c-461d-46aa-e1ec-3e2fdafcd1f2"
      },
      "execution_count": null,
      "outputs": [
        {
          "output_type": "display_data",
          "data": {
            "text/plain": [
              "0       sistem orangnya ganti gak sistem gak teretas c...\n",
              "1                                                gak gitu\n",
              "2       iya nasabah bank konven sprti bribnimandiri le...\n",
              "3       gimana sih min gak bsi mobile nya gangguan sam...\n",
              "4                                     bca sy nih kayaknya\n",
              "                              ...                        \n",
              "6095                                  cek mbankingnya kak\n",
              "6096    mobile banking dah kebuka tp ga ngapa ngapain ...\n",
              "6097                         ga bank mending koperasi aja\n",
              "6098                                         kagak anying\n",
              "6099                     top up dana mobile gabisa ya min\n",
              "Name: cleaned_tweet, Length: 6100, dtype: object"
            ]
          },
          "metadata": {}
        }
      ]
    },
    {
      "cell_type": "code",
      "source": [
        "vectorizer = TfidfVectorizer()\n",
        "X = vectorizer.fit_transform(df2['cleaned_tweet'])"
      ],
      "metadata": {
        "id": "eEB6_x6VkP-B"
      },
      "execution_count": null,
      "outputs": []
    },
    {
      "cell_type": "code",
      "source": [
        "X=pd.DataFrame(X.toarray(),columns=vectorizer.get_feature_names_out())\n",
        "X.head()"
      ],
      "metadata": {
        "colab": {
          "base_uri": "https://localhost:8080/",
          "height": 236
        },
        "id": "0srtF-DQyjdF",
        "outputId": "991824b6-b4dc-460f-a427-0e1eec417b3e"
      },
      "execution_count": null,
      "outputs": [
        {
          "output_type": "execute_result",
          "data": {
            "text/plain": [
              "    __  ___   _a   aa  aaaaa  aaaaargh  aaamiiin  aaja  aamiin  aba  ...  \\\n",
              "0  0.0  0.0  0.0  0.0    0.0       0.0       0.0   0.0     0.0  0.0  ...   \n",
              "1  0.0  0.0  0.0  0.0    0.0       0.0       0.0   0.0     0.0  0.0  ...   \n",
              "2  0.0  0.0  0.0  0.0    0.0       0.0       0.0   0.0     0.0  0.0  ...   \n",
              "3  0.0  0.0  0.0  0.0    0.0       0.0       0.0   0.0     0.0  0.0  ...   \n",
              "4  0.0  0.0  0.0  0.0    0.0       0.0       0.0   0.0     0.0  0.0  ...   \n",
              "\n",
              "   zerbi  zero  zhang  ziber  ziva  zolim  zone  zonk  zoom  zuriah  \n",
              "0    0.0   0.0    0.0    0.0   0.0    0.0   0.0   0.0   0.0     0.0  \n",
              "1    0.0   0.0    0.0    0.0   0.0    0.0   0.0   0.0   0.0     0.0  \n",
              "2    0.0   0.0    0.0    0.0   0.0    0.0   0.0   0.0   0.0     0.0  \n",
              "3    0.0   0.0    0.0    0.0   0.0    0.0   0.0   0.0   0.0     0.0  \n",
              "4    0.0   0.0    0.0    0.0   0.0    0.0   0.0   0.0   0.0     0.0  \n",
              "\n",
              "[5 rows x 9128 columns]"
            ],
            "text/html": [
              "\n",
              "  <div id=\"df-9ee6461d-6d21-464d-baea-965151703d18\" class=\"colab-df-container\">\n",
              "    <div>\n",
              "<style scoped>\n",
              "    .dataframe tbody tr th:only-of-type {\n",
              "        vertical-align: middle;\n",
              "    }\n",
              "\n",
              "    .dataframe tbody tr th {\n",
              "        vertical-align: top;\n",
              "    }\n",
              "\n",
              "    .dataframe thead th {\n",
              "        text-align: right;\n",
              "    }\n",
              "</style>\n",
              "<table border=\"1\" class=\"dataframe\">\n",
              "  <thead>\n",
              "    <tr style=\"text-align: right;\">\n",
              "      <th></th>\n",
              "      <th>__</th>\n",
              "      <th>___</th>\n",
              "      <th>_a</th>\n",
              "      <th>aa</th>\n",
              "      <th>aaaaa</th>\n",
              "      <th>aaaaargh</th>\n",
              "      <th>aaamiiin</th>\n",
              "      <th>aaja</th>\n",
              "      <th>aamiin</th>\n",
              "      <th>aba</th>\n",
              "      <th>...</th>\n",
              "      <th>zerbi</th>\n",
              "      <th>zero</th>\n",
              "      <th>zhang</th>\n",
              "      <th>ziber</th>\n",
              "      <th>ziva</th>\n",
              "      <th>zolim</th>\n",
              "      <th>zone</th>\n",
              "      <th>zonk</th>\n",
              "      <th>zoom</th>\n",
              "      <th>zuriah</th>\n",
              "    </tr>\n",
              "  </thead>\n",
              "  <tbody>\n",
              "    <tr>\n",
              "      <th>0</th>\n",
              "      <td>0.0</td>\n",
              "      <td>0.0</td>\n",
              "      <td>0.0</td>\n",
              "      <td>0.0</td>\n",
              "      <td>0.0</td>\n",
              "      <td>0.0</td>\n",
              "      <td>0.0</td>\n",
              "      <td>0.0</td>\n",
              "      <td>0.0</td>\n",
              "      <td>0.0</td>\n",
              "      <td>...</td>\n",
              "      <td>0.0</td>\n",
              "      <td>0.0</td>\n",
              "      <td>0.0</td>\n",
              "      <td>0.0</td>\n",
              "      <td>0.0</td>\n",
              "      <td>0.0</td>\n",
              "      <td>0.0</td>\n",
              "      <td>0.0</td>\n",
              "      <td>0.0</td>\n",
              "      <td>0.0</td>\n",
              "    </tr>\n",
              "    <tr>\n",
              "      <th>1</th>\n",
              "      <td>0.0</td>\n",
              "      <td>0.0</td>\n",
              "      <td>0.0</td>\n",
              "      <td>0.0</td>\n",
              "      <td>0.0</td>\n",
              "      <td>0.0</td>\n",
              "      <td>0.0</td>\n",
              "      <td>0.0</td>\n",
              "      <td>0.0</td>\n",
              "      <td>0.0</td>\n",
              "      <td>...</td>\n",
              "      <td>0.0</td>\n",
              "      <td>0.0</td>\n",
              "      <td>0.0</td>\n",
              "      <td>0.0</td>\n",
              "      <td>0.0</td>\n",
              "      <td>0.0</td>\n",
              "      <td>0.0</td>\n",
              "      <td>0.0</td>\n",
              "      <td>0.0</td>\n",
              "      <td>0.0</td>\n",
              "    </tr>\n",
              "    <tr>\n",
              "      <th>2</th>\n",
              "      <td>0.0</td>\n",
              "      <td>0.0</td>\n",
              "      <td>0.0</td>\n",
              "      <td>0.0</td>\n",
              "      <td>0.0</td>\n",
              "      <td>0.0</td>\n",
              "      <td>0.0</td>\n",
              "      <td>0.0</td>\n",
              "      <td>0.0</td>\n",
              "      <td>0.0</td>\n",
              "      <td>...</td>\n",
              "      <td>0.0</td>\n",
              "      <td>0.0</td>\n",
              "      <td>0.0</td>\n",
              "      <td>0.0</td>\n",
              "      <td>0.0</td>\n",
              "      <td>0.0</td>\n",
              "      <td>0.0</td>\n",
              "      <td>0.0</td>\n",
              "      <td>0.0</td>\n",
              "      <td>0.0</td>\n",
              "    </tr>\n",
              "    <tr>\n",
              "      <th>3</th>\n",
              "      <td>0.0</td>\n",
              "      <td>0.0</td>\n",
              "      <td>0.0</td>\n",
              "      <td>0.0</td>\n",
              "      <td>0.0</td>\n",
              "      <td>0.0</td>\n",
              "      <td>0.0</td>\n",
              "      <td>0.0</td>\n",
              "      <td>0.0</td>\n",
              "      <td>0.0</td>\n",
              "      <td>...</td>\n",
              "      <td>0.0</td>\n",
              "      <td>0.0</td>\n",
              "      <td>0.0</td>\n",
              "      <td>0.0</td>\n",
              "      <td>0.0</td>\n",
              "      <td>0.0</td>\n",
              "      <td>0.0</td>\n",
              "      <td>0.0</td>\n",
              "      <td>0.0</td>\n",
              "      <td>0.0</td>\n",
              "    </tr>\n",
              "    <tr>\n",
              "      <th>4</th>\n",
              "      <td>0.0</td>\n",
              "      <td>0.0</td>\n",
              "      <td>0.0</td>\n",
              "      <td>0.0</td>\n",
              "      <td>0.0</td>\n",
              "      <td>0.0</td>\n",
              "      <td>0.0</td>\n",
              "      <td>0.0</td>\n",
              "      <td>0.0</td>\n",
              "      <td>0.0</td>\n",
              "      <td>...</td>\n",
              "      <td>0.0</td>\n",
              "      <td>0.0</td>\n",
              "      <td>0.0</td>\n",
              "      <td>0.0</td>\n",
              "      <td>0.0</td>\n",
              "      <td>0.0</td>\n",
              "      <td>0.0</td>\n",
              "      <td>0.0</td>\n",
              "      <td>0.0</td>\n",
              "      <td>0.0</td>\n",
              "    </tr>\n",
              "  </tbody>\n",
              "</table>\n",
              "<p>5 rows × 9128 columns</p>\n",
              "</div>\n",
              "    <div class=\"colab-df-buttons\">\n",
              "\n",
              "  <div class=\"colab-df-container\">\n",
              "    <button class=\"colab-df-convert\" onclick=\"convertToInteractive('df-9ee6461d-6d21-464d-baea-965151703d18')\"\n",
              "            title=\"Convert this dataframe to an interactive table.\"\n",
              "            style=\"display:none;\">\n",
              "\n",
              "  <svg xmlns=\"http://www.w3.org/2000/svg\" height=\"24px\" viewBox=\"0 -960 960 960\">\n",
              "    <path d=\"M120-120v-720h720v720H120Zm60-500h600v-160H180v160Zm220 220h160v-160H400v160Zm0 220h160v-160H400v160ZM180-400h160v-160H180v160Zm440 0h160v-160H620v160ZM180-180h160v-160H180v160Zm440 0h160v-160H620v160Z\"/>\n",
              "  </svg>\n",
              "    </button>\n",
              "\n",
              "  <style>\n",
              "    .colab-df-container {\n",
              "      display:flex;\n",
              "      gap: 12px;\n",
              "    }\n",
              "\n",
              "    .colab-df-convert {\n",
              "      background-color: #E8F0FE;\n",
              "      border: none;\n",
              "      border-radius: 50%;\n",
              "      cursor: pointer;\n",
              "      display: none;\n",
              "      fill: #1967D2;\n",
              "      height: 32px;\n",
              "      padding: 0 0 0 0;\n",
              "      width: 32px;\n",
              "    }\n",
              "\n",
              "    .colab-df-convert:hover {\n",
              "      background-color: #E2EBFA;\n",
              "      box-shadow: 0px 1px 2px rgba(60, 64, 67, 0.3), 0px 1px 3px 1px rgba(60, 64, 67, 0.15);\n",
              "      fill: #174EA6;\n",
              "    }\n",
              "\n",
              "    .colab-df-buttons div {\n",
              "      margin-bottom: 4px;\n",
              "    }\n",
              "\n",
              "    [theme=dark] .colab-df-convert {\n",
              "      background-color: #3B4455;\n",
              "      fill: #D2E3FC;\n",
              "    }\n",
              "\n",
              "    [theme=dark] .colab-df-convert:hover {\n",
              "      background-color: #434B5C;\n",
              "      box-shadow: 0px 1px 3px 1px rgba(0, 0, 0, 0.15);\n",
              "      filter: drop-shadow(0px 1px 2px rgba(0, 0, 0, 0.3));\n",
              "      fill: #FFFFFF;\n",
              "    }\n",
              "  </style>\n",
              "\n",
              "    <script>\n",
              "      const buttonEl =\n",
              "        document.querySelector('#df-9ee6461d-6d21-464d-baea-965151703d18 button.colab-df-convert');\n",
              "      buttonEl.style.display =\n",
              "        google.colab.kernel.accessAllowed ? 'block' : 'none';\n",
              "\n",
              "      async function convertToInteractive(key) {\n",
              "        const element = document.querySelector('#df-9ee6461d-6d21-464d-baea-965151703d18');\n",
              "        const dataTable =\n",
              "          await google.colab.kernel.invokeFunction('convertToInteractive',\n",
              "                                                    [key], {});\n",
              "        if (!dataTable) return;\n",
              "\n",
              "        const docLinkHtml = 'Like what you see? Visit the ' +\n",
              "          '<a target=\"_blank\" href=https://colab.research.google.com/notebooks/data_table.ipynb>data table notebook</a>'\n",
              "          + ' to learn more about interactive tables.';\n",
              "        element.innerHTML = '';\n",
              "        dataTable['output_type'] = 'display_data';\n",
              "        await google.colab.output.renderOutput(dataTable, element);\n",
              "        const docLink = document.createElement('div');\n",
              "        docLink.innerHTML = docLinkHtml;\n",
              "        element.appendChild(docLink);\n",
              "      }\n",
              "    </script>\n",
              "  </div>\n",
              "\n",
              "\n",
              "<div id=\"df-d3e49205-3bd7-416d-a057-d35f97d481fd\">\n",
              "  <button class=\"colab-df-quickchart\" onclick=\"quickchart('df-d3e49205-3bd7-416d-a057-d35f97d481fd')\"\n",
              "            title=\"Suggest charts\"\n",
              "            style=\"display:none;\">\n",
              "\n",
              "<svg xmlns=\"http://www.w3.org/2000/svg\" height=\"24px\"viewBox=\"0 0 24 24\"\n",
              "     width=\"24px\">\n",
              "    <g>\n",
              "        <path d=\"M19 3H5c-1.1 0-2 .9-2 2v14c0 1.1.9 2 2 2h14c1.1 0 2-.9 2-2V5c0-1.1-.9-2-2-2zM9 17H7v-7h2v7zm4 0h-2V7h2v10zm4 0h-2v-4h2v4z\"/>\n",
              "    </g>\n",
              "</svg>\n",
              "  </button>\n",
              "\n",
              "<style>\n",
              "  .colab-df-quickchart {\n",
              "      --bg-color: #E8F0FE;\n",
              "      --fill-color: #1967D2;\n",
              "      --hover-bg-color: #E2EBFA;\n",
              "      --hover-fill-color: #174EA6;\n",
              "      --disabled-fill-color: #AAA;\n",
              "      --disabled-bg-color: #DDD;\n",
              "  }\n",
              "\n",
              "  [theme=dark] .colab-df-quickchart {\n",
              "      --bg-color: #3B4455;\n",
              "      --fill-color: #D2E3FC;\n",
              "      --hover-bg-color: #434B5C;\n",
              "      --hover-fill-color: #FFFFFF;\n",
              "      --disabled-bg-color: #3B4455;\n",
              "      --disabled-fill-color: #666;\n",
              "  }\n",
              "\n",
              "  .colab-df-quickchart {\n",
              "    background-color: var(--bg-color);\n",
              "    border: none;\n",
              "    border-radius: 50%;\n",
              "    cursor: pointer;\n",
              "    display: none;\n",
              "    fill: var(--fill-color);\n",
              "    height: 32px;\n",
              "    padding: 0;\n",
              "    width: 32px;\n",
              "  }\n",
              "\n",
              "  .colab-df-quickchart:hover {\n",
              "    background-color: var(--hover-bg-color);\n",
              "    box-shadow: 0 1px 2px rgba(60, 64, 67, 0.3), 0 1px 3px 1px rgba(60, 64, 67, 0.15);\n",
              "    fill: var(--button-hover-fill-color);\n",
              "  }\n",
              "\n",
              "  .colab-df-quickchart-complete:disabled,\n",
              "  .colab-df-quickchart-complete:disabled:hover {\n",
              "    background-color: var(--disabled-bg-color);\n",
              "    fill: var(--disabled-fill-color);\n",
              "    box-shadow: none;\n",
              "  }\n",
              "\n",
              "  .colab-df-spinner {\n",
              "    border: 2px solid var(--fill-color);\n",
              "    border-color: transparent;\n",
              "    border-bottom-color: var(--fill-color);\n",
              "    animation:\n",
              "      spin 1s steps(1) infinite;\n",
              "  }\n",
              "\n",
              "  @keyframes spin {\n",
              "    0% {\n",
              "      border-color: transparent;\n",
              "      border-bottom-color: var(--fill-color);\n",
              "      border-left-color: var(--fill-color);\n",
              "    }\n",
              "    20% {\n",
              "      border-color: transparent;\n",
              "      border-left-color: var(--fill-color);\n",
              "      border-top-color: var(--fill-color);\n",
              "    }\n",
              "    30% {\n",
              "      border-color: transparent;\n",
              "      border-left-color: var(--fill-color);\n",
              "      border-top-color: var(--fill-color);\n",
              "      border-right-color: var(--fill-color);\n",
              "    }\n",
              "    40% {\n",
              "      border-color: transparent;\n",
              "      border-right-color: var(--fill-color);\n",
              "      border-top-color: var(--fill-color);\n",
              "    }\n",
              "    60% {\n",
              "      border-color: transparent;\n",
              "      border-right-color: var(--fill-color);\n",
              "    }\n",
              "    80% {\n",
              "      border-color: transparent;\n",
              "      border-right-color: var(--fill-color);\n",
              "      border-bottom-color: var(--fill-color);\n",
              "    }\n",
              "    90% {\n",
              "      border-color: transparent;\n",
              "      border-bottom-color: var(--fill-color);\n",
              "    }\n",
              "  }\n",
              "</style>\n",
              "\n",
              "  <script>\n",
              "    async function quickchart(key) {\n",
              "      const quickchartButtonEl =\n",
              "        document.querySelector('#' + key + ' button');\n",
              "      quickchartButtonEl.disabled = true;  // To prevent multiple clicks.\n",
              "      quickchartButtonEl.classList.add('colab-df-spinner');\n",
              "      try {\n",
              "        const charts = await google.colab.kernel.invokeFunction(\n",
              "            'suggestCharts', [key], {});\n",
              "      } catch (error) {\n",
              "        console.error('Error during call to suggestCharts:', error);\n",
              "      }\n",
              "      quickchartButtonEl.classList.remove('colab-df-spinner');\n",
              "      quickchartButtonEl.classList.add('colab-df-quickchart-complete');\n",
              "    }\n",
              "    (() => {\n",
              "      let quickchartButtonEl =\n",
              "        document.querySelector('#df-d3e49205-3bd7-416d-a057-d35f97d481fd button');\n",
              "      quickchartButtonEl.style.display =\n",
              "        google.colab.kernel.accessAllowed ? 'block' : 'none';\n",
              "    })();\n",
              "  </script>\n",
              "</div>\n",
              "\n",
              "    </div>\n",
              "  </div>\n"
            ],
            "application/vnd.google.colaboratory.intrinsic+json": {
              "type": "dataframe",
              "variable_name": "X"
            }
          },
          "metadata": {},
          "execution_count": 62
        }
      ]
    },
    {
      "cell_type": "markdown",
      "source": [
        "## A. Clustering"
      ],
      "metadata": {
        "id": "PM1WL693aB-Y"
      }
    },
    {
      "cell_type": "markdown",
      "source": [
        "Kmeans adalah sebuah algoritma clustering yang bertujuan untuk membagi data kedalam K cluster yang berbeda, setiap data point merupakan milik cluster dengan centroid terdekat."
      ],
      "metadata": {
        "id": "zvjyZEgIscoW"
      }
    },
    {
      "cell_type": "code",
      "source": [
        "import matplotlib.pyplot as plt\n",
        "from sklearn.cluster import KMeans\n",
        "from sklearn.metrics import silhouette_score"
      ],
      "metadata": {
        "id": "oDGAS64Mi95r"
      },
      "execution_count": null,
      "outputs": []
    },
    {
      "cell_type": "code",
      "source": [
        "def find_optimal_clusters(data, max_k):\n",
        "    iters = range(2, max_k+1)\n",
        "    s_scores = []\n",
        "\n",
        "    for k in iters:\n",
        "        kmeans = KMeans(n_clusters=k, random_state=42)\n",
        "        kmeans.fit(data)\n",
        "        labels = kmeans.labels_\n",
        "        s_score = silhouette_score(data, labels)\n",
        "        s_scores.append(s_score)\n",
        "\n",
        "    return iters, s_scores\n",
        "\n",
        "max_k = 10\n",
        "iters, s_scores = find_optimal_clusters(X, max_k)\n",
        "\n",
        "for k, score in zip(iters, s_scores):\n",
        "    print(f\"Number of clusters: {k}, Silhouette Score: {score}\")"
      ],
      "metadata": {
        "colab": {
          "base_uri": "https://localhost:8080/"
        },
        "id": "KRd0EEZuaLi9",
        "outputId": "bb037cb4-fb42-42f9-a858-d1edf95cefa3"
      },
      "execution_count": null,
      "outputs": [
        {
          "output_type": "stream",
          "name": "stderr",
          "text": [
            "/usr/local/lib/python3.10/dist-packages/sklearn/cluster/_kmeans.py:870: FutureWarning: The default value of `n_init` will change from 10 to 'auto' in 1.4. Set the value of `n_init` explicitly to suppress the warning\n",
            "  warnings.warn(\n",
            "/usr/local/lib/python3.10/dist-packages/sklearn/cluster/_kmeans.py:870: FutureWarning: The default value of `n_init` will change from 10 to 'auto' in 1.4. Set the value of `n_init` explicitly to suppress the warning\n",
            "  warnings.warn(\n",
            "/usr/local/lib/python3.10/dist-packages/sklearn/cluster/_kmeans.py:870: FutureWarning: The default value of `n_init` will change from 10 to 'auto' in 1.4. Set the value of `n_init` explicitly to suppress the warning\n",
            "  warnings.warn(\n",
            "/usr/local/lib/python3.10/dist-packages/sklearn/cluster/_kmeans.py:870: FutureWarning: The default value of `n_init` will change from 10 to 'auto' in 1.4. Set the value of `n_init` explicitly to suppress the warning\n",
            "  warnings.warn(\n",
            "/usr/local/lib/python3.10/dist-packages/sklearn/cluster/_kmeans.py:870: FutureWarning: The default value of `n_init` will change from 10 to 'auto' in 1.4. Set the value of `n_init` explicitly to suppress the warning\n",
            "  warnings.warn(\n",
            "/usr/local/lib/python3.10/dist-packages/sklearn/cluster/_kmeans.py:870: FutureWarning: The default value of `n_init` will change from 10 to 'auto' in 1.4. Set the value of `n_init` explicitly to suppress the warning\n",
            "  warnings.warn(\n",
            "/usr/local/lib/python3.10/dist-packages/sklearn/cluster/_kmeans.py:870: FutureWarning: The default value of `n_init` will change from 10 to 'auto' in 1.4. Set the value of `n_init` explicitly to suppress the warning\n",
            "  warnings.warn(\n",
            "/usr/local/lib/python3.10/dist-packages/sklearn/cluster/_kmeans.py:870: FutureWarning: The default value of `n_init` will change from 10 to 'auto' in 1.4. Set the value of `n_init` explicitly to suppress the warning\n",
            "  warnings.warn(\n",
            "/usr/local/lib/python3.10/dist-packages/sklearn/cluster/_kmeans.py:870: FutureWarning: The default value of `n_init` will change from 10 to 'auto' in 1.4. Set the value of `n_init` explicitly to suppress the warning\n",
            "  warnings.warn(\n"
          ]
        },
        {
          "output_type": "stream",
          "name": "stdout",
          "text": [
            "Number of clusters: 2, Silhouette Score: 0.004990555688541183\n",
            "Number of clusters: 3, Silhouette Score: 0.006671330232733918\n",
            "Number of clusters: 4, Silhouette Score: 0.008613286698513696\n",
            "Number of clusters: 5, Silhouette Score: 0.009460992217972463\n",
            "Number of clusters: 6, Silhouette Score: 0.010877764287064771\n",
            "Number of clusters: 7, Silhouette Score: 0.01261458785331689\n",
            "Number of clusters: 8, Silhouette Score: 0.012732972268818891\n",
            "Number of clusters: 9, Silhouette Score: 0.012474960526939877\n",
            "Number of clusters: 10, Silhouette Score: 0.013463086234488924\n"
          ]
        }
      ]
    },
    {
      "cell_type": "code",
      "source": [
        "plt.figure(figsize=(16,8))\n",
        "plt.plot(range(1,10), s_scores, 'bx-')\n",
        "plt.xlabel('k')\n",
        "plt.ylabel('Silhouette Score')\n",
        "plt.title('The Elbow Method showing the optimal k')\n",
        "plt.show()"
      ],
      "metadata": {
        "colab": {
          "base_uri": "https://localhost:8080/",
          "height": 718
        },
        "id": "zpkZ7EirzR0G",
        "outputId": "c068d164-4f80-402e-b4d7-7d39117d32e2"
      },
      "execution_count": null,
      "outputs": [
        {
          "output_type": "display_data",
          "data": {
            "text/plain": [
              "<Figure size 1600x800 with 1 Axes>"
            ],
            "image/png": "[encoded data removed]"
          },
          "metadata": {}
        }
      ]
    },
    {
      "cell_type": "markdown",
      "source": [
        "Elbow Method adalah teknik untuk menentukan jumlah cluster yang optimal dalam algoritma clustering seperti KMeans. Salah satu cara untuk mengukur efektivitas clustering adalah menggunakan Silhouette Score. Silhouette Score mengukur seberapa mirip suatu data poin dengan cluster-nya sendiri dibandingkan dengan cluster lainnya, dengan nilai berkisar antara -1 dan 1."
      ],
      "metadata": {
        "id": "pY6CCQtltZtT"
      }
    },
    {
      "cell_type": "code",
      "source": [
        "optimal_k = iters[s_scores.index(max(s_scores))]\n",
        "\n",
        "kmeans = KMeans(n_clusters=optimal_k, random_state=42)\n",
        "kmeans.fit(X)\n",
        "df2['Cluster'] = kmeans.labels_"
      ],
      "metadata": {
        "colab": {
          "base_uri": "https://localhost:8080/"
        },
        "id": "tCb9kvBnjnPg",
        "outputId": "89a6321f-6825-4742-d711-1592a85abca3"
      },
      "execution_count": null,
      "outputs": [
        {
          "output_type": "stream",
          "name": "stderr",
          "text": [
            "/usr/local/lib/python3.10/dist-packages/sklearn/cluster/_kmeans.py:870: FutureWarning: The default value of `n_init` will change from 10 to 'auto' in 1.4. Set the value of `n_init` explicitly to suppress the warning\n",
            "  warnings.warn(\n"
          ]
        }
      ]
    },
    {
      "cell_type": "markdown",
      "source": [
        "## B. Persona analysis for Clustering"
      ],
      "metadata": {
        "id": "0MMQVUrUaLyy"
      }
    },
    {
      "cell_type": "code",
      "source": [
        "for cluster in range(optimal_k):\n",
        "    print(f\"Cluster {cluster}:\")\n",
        "    print(df2[df2['Cluster'] == cluster]['cleaned_tweet'].sample(5).values)"
      ],
      "metadata": {
        "colab": {
          "base_uri": "https://localhost:8080/"
        },
        "id": "vxpG4Hi3j9k_",
        "outputId": "fef4775c-85f3-40a2-e246-ad91f3a5ac07"
      },
      "execution_count": null,
      "outputs": [
        {
          "output_type": "stream",
          "name": "stdout",
          "text": [
            "Cluster 0:\n",
            "['smga teratasi' 'coba ambil uang atm (kartu atm bsi) om'\n",
            " 'klik link email/site yg dikenal.'\n",
            " 'mei : wib pelayanan bsi terburuk..... atm terblokir susah dilayani.... bawa buku tab.... emang pergi bawa buku tabungan....'\n",
            " 'hallloo, bunga mayang, lampung utara jarak kc atm bsi terdekat??? gak daerah kc atm bsi']\n",
            "Cluster 1:\n",
            "['hai kak, terima kasih jago :)'\n",
            " 'kak jg kayak gitu saldonya kabar\" ya kak'\n",
            " '() coba hubungi kesini kak kalo emg diluar negeri'\n",
            " 'sampe masuk dananya kak? kalo belum, coba hubungi call centernya aja'\n",
            " 'alhamdulillah udah kak. kmrn lagsg laporan bank bsi diproses. jam dana dah lg rekening']\n",
            "Cluster 2:\n",
            "['dear gak transfer rekening bank rekening bsi via bsi mobile. sih?! lho.'\n",
            " 'gimana sih transaksi atm gk bsi mobile apalagi??'\n",
            " 'bsi mobile gangguan kah?'\n",
            " 'tercatat detik bsi mobile down, x jam dahlahh pindah bank dulu.'\n",
            " 'mobile ya?']\n",
            "Cluster 3:\n",
            "['bsi knp ya? aduh gaada duit, duitnya semuaa astagfirullah gabisa makan inii woi'\n",
            " 'kalo tabungan haji aman gak ya om? tabungan haji suami disitu udah lunas'\n",
            " 'klo topup gabisa ya bang?'\n",
            " 'ya laporan, ngomel gimana , tellernya gabisa ngasih solusi byk, nyuruh nunggu aja'\n",
            " 'ya ?']\n",
            "Cluster 4:\n",
            "['trs si satpamnya kek \"ini bsi mobilenya, sy coba tadi, utk cek saldo bisa\" omg gue maunya tf/tarik duit ya tolong, klo cek saldo ngapain jg gue atm bank kc'\n",
            " 'terpantau mbanking sampe pagi cek saldo. masuk menu utama doang . ayo cepetan uda ke- trouble'\n",
            " 'saldo sya aman aja mas'\n",
            " 'assalamualaikum, bsi mobile udah pulih malam cek saldo'\n",
            " 'bsi mobileku udah bsa masuk n cek saldo bsa,cma utk transaksi tf dll blm bsa aduhh pdahal mw aq pindahin dananya smuanya k bank lain,ehh mlh gak bsa']\n",
            "Cluster 5:\n",
            "['udh cek dftr mutasi ka? oia d bwah akun bsi nya palsu hati ka. yg asli'\n",
            " 'udah cek berkala ka bsi mobilenya? udah pulih ya ka'\n",
            " 'bantu ka, mbangkingnya keknya nya deh, temen soalnya. kc atm aja ka udh'\n",
            " 'setauku ingponya pemulihan ka, butuh kayanya'\n",
            " 'berangsur pulih traffic cek berkala ka bsi mobile nya, btw akun palsu dibawah, akun official bsi yaa']\n",
            "Cluster 6:\n",
            "['min..ini transfer, nunggu ya?' 'min jajan,biaya transportasi dll'\n",
            " 'rekeningnya tp gada saldonya gimana nih min aja yg pindahkan'\n",
            " 'atm yg bogor dimana aja min?' \"error' min...\"]\n",
            "Cluster 7:\n",
            "['aja kaya,eh duitnya ga pakek...'\n",
            " 'bank kalo nasabah hilang uang *transaksi normal ya pak/bu* hedehhh template bgt. dah duit ga balik, ngurus ribet'\n",
            " 'template jawabannya, ga kompensasi nasabah? parah nih'\n",
            " 'ambil uang bsi mending km tarik tunai aja langsung cabang, kmrin malem tf jt bank bca ga masuk uangnya bru bsi td jam an'\n",
            " 'komputer kantor ya kepentingan kantor aja ga dipake pribadi']\n",
            "Cluster 8:\n",
            "['barusan coba top up dana blm kak, kemarin. bayar tagihan air via tokped bisa.'\n",
            " 'layanan top up lakukan tuh'\n",
            " 'tolong bsi mbankingnya top up shopee e-wallet gabisa sii?'\n",
            " 'gini klo verifikasi mbanking gagal mulu udah senyum dipake tetep g minggu kemarin liat saldo top up otw pindah bank'\n",
            " 'lu top up ? pakai bank ? bsi ?']\n",
            "Cluster 9:\n",
            "['drama an bsi ber yg menguras sabaran, yg pilih? pilih pindah, bank apa? bingung nih, pengen yg gada admin dn gratis transfer, kartunya'\n",
            " 'duh min sulit banget ngembalikan kepercayaan nih. ganti bank urusannya instansi gaji bsi'\n",
            " 'kasian warga aceh bank , aturan rekening bank konven syariah migrasi ,tp udah sistem down jd menghambat perekonimian ,kayaknya tim ti nya kewalahan bodoh.'\n",
            " 'bank problem g selesai sampe berhari, kehilangan bnyak nasabah?'\n",
            " '...nasabah dijebol ransomware. cyber security sekelas bsi mencegah ini. kesimpulan. kawan yg memakai bsi, sampe aman klo pake bsi. klo takut, yaudah tinggal pindah bank lain. sekian']\n"
          ]
        }
      ]
    },
    {
      "cell_type": "markdown",
      "source": [
        "| **Cluster** | **Pola** | **Persona** | **Deskripsi Persona** |\n",
        "|-------------|----------|-------------|-----------------------|\n",
        "| Cluster 0 | Keluhan terkait layanan ATM dan akses fisik ke ATM BSI | Frustrated ATM User | Mengalami kesulitan dengan akses fisik ke ATM dan pelayanan yang tidak memuaskan di cabang bank. Merasa tidak teratasi dengan baik oleh bank dan sering kali tidak membawa buku tabungan saat berpergian. |\n",
        "| Cluster 1 | Respon positif dan dukungan dari nasabah yang telah menyelesaikan masalah atau menerima bantuan | Satisfied Customer | Telah menerima bantuan yang memadai dan merasa puas dengan penyelesaian masalah mereka. Sering memberikan feedback positif dan berterima kasih kepada layanan pelanggan. |\n",
        "| Cluster 2 | Keluhan terkait gangguan atau masalah teknis pada aplikasi mobile banking BSI | Technical Trouble Seeker | Mengalami masalah teknis dengan aplikasi mobile banking BSI. Merasa frustrasi dengan gangguan yang berulang kali terjadi dan berdampak pada transaksi mereka. |\n",
        "| Cluster 3 | Kekhawatiran tentang keamanan dana dan layanan yang tidak memadai | Security-Conscious Saver | Cemas tentang keamanan dana dan stabilitas layanan bank. Mengkhawatirkan tabungan haji dan merasa tidak ada solusi yang memadai dari pihak bank. |\n",
        "| Cluster 4 | Keluhan tentang fungsi cek saldo yang bekerja, tetapi transaksi lainnya tidak | Balance Checker | Mengeluhkan keterbatasan fungsi aplikasi mobile banking yang hanya bisa cek saldo. Frustrasi karena tidak bisa melakukan transaksi penting lainnya melalui aplikasi. |\n",
        "| Cluster 5 | Saran dan informasi tentang pemulihan layanan mobile banking BSI | Info Seeker | Aktif mencari informasi tentang status pemulihan layanan mobile banking BSI. Sering memberikan saran dan informasi kepada nasabah lain yang mengalami masalah serupa. |\n",
        "| Cluster 6 | Pertanyaan tentang status transaksi dan lokasi ATM | Transaction Inquirer | Membutuhkan informasi spesifik tentang status transaksi dan lokasi ATM terdekat. Mengalami kebingungan dan mencari bantuan terkait masalah transaksi mereka. |\n",
        "| Cluster 7 | Keluhan tentang layanan nasabah yang dianggap tidak memadai dan kehilangan dana | Discontent Customer | Kecewa dengan layanan nasabah yang dianggap tidak memadai dan kehilangan dana. Merasa tidak ada kompensasi yang memadai dari bank dan mempertimbangkan untuk berpindah ke bank lain. |\n",
        "| Cluster 8 | Keluhan terkait top-up e-wallet dan verifikasi gagal | Top-Up Troubler | Mengalami kesulitan dalam melakukan top-up e-wallet dan frustrasi dengan proses verifikasi yang gagal. Sering mencoba solusi yang berbeda namun tetap mengalami masalah yang sama. |\n",
        "| Cluster 9 | Kekhawatiran tentang keamanan dan reputasi bank, serta rencana untuk berpindah bank | Security Doubter | Meragukan kemampuan bank dalam menangani masalah keamanan dan mempertimbangkan untuk berpindah ke bank lain. Merasa sulit untuk mengembalikan kepercayaan terhadap bank setelah mengalami masalah keamanan. |"
      ],
      "metadata": {
        "id": "JeuJmuj3t9LY"
      }
    },
    {
      "cell_type": "markdown",
      "source": [
        "## C. Topic Extraction"
      ],
      "metadata": {
        "id": "S2sSDIqGaPyV"
      }
    },
    {
      "cell_type": "markdown",
      "source": [
        "LDA adalah teknik untuk unsupervised topic modelling yang mengekstraksi tema atau topik yang mendasar dari data teks dengan memanfaatkan inferensi statistik untuk memperkirakan struktur laten dalam dokumen-dokumen tersebut."
      ],
      "metadata": {
        "id": "wylvQ8Vmxc8z"
      }
    },
    {
      "cell_type": "code",
      "source": [
        "from sklearn.decomposition import LatentDirichletAllocation\n",
        "\n",
        "lda = LatentDirichletAllocation(n_components=optimal_k, random_state=42)\n",
        "lda.fit(X)\n",
        "\n",
        "tf_feature_names = vectorizer.get_feature_names_out()\n",
        "def display_topics(model, feature_names, no_top_words):\n",
        "    for topic_idx, topic in enumerate(model.components_):\n",
        "        print(f\"Topic {topic_idx}:\")\n",
        "        print(\" \".join([feature_names[i] for i in topic.argsort()[:-no_top_words - 1:-1]]))\n",
        "\n",
        "display_topics(lda, tf_feature_names, 10)"
      ],
      "metadata": {
        "colab": {
          "base_uri": "https://localhost:8080/"
        },
        "id": "XenrYSI3kAsM",
        "outputId": "8453976d-cdb1-41de-ae5c-ded1012edb59"
      },
      "execution_count": null,
      "outputs": [
        {
          "output_type": "stream",
          "name": "stdout",
          "text": [
            "Topic 0:\n",
            "bsi bank bohong mas nya bgt kronologi aceh kasian sakit\n",
            "Topic 1:\n",
            "bsi min mobile ya udah saldo transfer cek ga kak\n",
            "Topic 2:\n",
            "sampe bsi gimana bank mbanking min ga aktivasi udah ya\n",
            "Topic 3:\n",
            "dm cek bank min bsi syariah tolong penipu ya terima\n",
            "Topic 4:\n",
            "bsi parah bank mbanking om uang ya lu emang mbak\n",
            "Topic 5:\n",
            "kak atm bsi aja bank gak aman ka data tunai\n",
            "Topic 6:\n",
            "bsi bank ya gabisa bener udah uang aja yg ga\n",
            "Topic 7:\n",
            "bsi bank alhamdulillah yg gak nasabah maintenance kacau kena transaksi\n",
            "Topic 8:\n",
            "bank bsi syariah april ga khairunnisa ipk ya server yg\n"
          ]
        }
      ]
    },
    {
      "cell_type": "markdown",
      "source": [
        "## D. Persona analysis for Topic Extraction"
      ],
      "metadata": {
        "id": "EzkQdKr4aYeR"
      }
    },
    {
      "cell_type": "code",
      "source": [
        "topic_assignments = lda.transform(X)\n",
        "df2['Topic'] = topic_assignments.argmax(axis=1)\n",
        "\n",
        "for topic in range(optimal_k):\n",
        "    print(f\"Topic {topic}:\")\n",
        "    print(df2[df2['Topic'] == topic]['cleaned_tweet'].sample(5).values)"
      ],
      "metadata": {
        "colab": {
          "base_uri": "https://localhost:8080/"
        },
        "id": "_yZEXS3TkEFW",
        "outputId": "82216857-0ab2-4309-f49e-fde56ca54ebd"
      },
      "execution_count": null,
      "outputs": [
        {
          "output_type": "stream",
          "name": "stdout",
          "text": [
            "Topic 0:\n",
            "['heeh bun tp wingi iso wkkw'\n",
            " 'iyaa aceh cuman bank berlaku lupa sekitaran segitu pokoknya bsi muncul timelinenya otonom daerahnya'\n",
            " 'tp check doang' 'masuk mobile aj madih gabisa'\n",
            " 'padaal daerah aceh cm bank aceh syariah bsimayoritas masy tanah rencong adlh nasabah bsi lhah kalo eror bginih lak yo kesian masy aceh jan sampe hestek jd trending pakdhe']\n",
            "Topic 1:\n",
            "['va bsi error kah' 'bsi mobile masi eror kah tf kemarin ga'\n",
            " 'layanan cabang atm amp mobile banking bsi normal' 'ga cek saldo ga'\n",
            " 'cek saldo bsi mobile atm bbrp ka coba cek berkala yes ku pagi coba bsi mobile perlahan fitur bisabisa ka']\n",
            "Topic 2:\n",
            "['mbanking kabar min terhambat urusan nasabah'\n",
            " 'pol kak dryan gabisa ngapain sampe ku pindahin uangnya tp gabisa'\n",
            " 'punten bade iraha mbanking normalna' 'muehehe gw tau'\n",
            " 'bank bsi udah dibuka guys']\n",
            "Topic 3:\n",
            "['maap mulu lebaran udah maafin min ga pakai bsi hehe'\n",
            " 'duluu pernahh kepepet danaaterpaksa jual pasar sekunder sukukk hr klo ga salah ingatyg nya ituh nyari pasar sekunder nyamaklum kali lepas sukuk jalan tp lepas stgh'\n",
            " 'kaitannya bsi semenjak bank syariah nasional merger bsi gpn sistem pembayaran utama bank syariah nasional operator visa mastercard'\n",
            " 'udah koq' 'lamban banget lo kerjanya udah mah gabungan dr bank hadeh']\n",
            "Topic 4:\n",
            "['kasusnya atm digandakan sepengetahuan praktek skimming proses yg lumayan rumit uang'\n",
            " 'iyaaa beli jaman corona beli penuh keyakinan kirain hiks'\n",
            " 'melunasi pinjaman' 'wassamualaikum'\n",
            " 'bsi dr kmrn perbaikan rasaya bank perbaikannya']\n",
            "Topic 5:\n",
            "['cc akun yg mengatasnamakan bank ditindak mesti korban'\n",
            " 'klo bank syariah bener jalankan sistem sesuai syariah berkah amp menarik nasabah kasih contoh nasabah cari rejeki dr yg bener'\n",
            " 'crisis managementnya keteteran tim pr bsi teman yg kepayahan krn kendala cashflow tunai semoga dikomunikasikan pelanggan cepat diatasi layanan pulih'\n",
            " 'nggak nunggu kiamat ya tgl mei aktivasi bsi mobile pindah rekening serius profesional melanggar syariat'\n",
            " 'saldo april tuhsmg ga dikaitkan dg ransomware']\n",
            "Topic 6:\n",
            "['merusak mengunci'\n",
            " 'bsi aja berantem marketing perkreditan cimb syariah udah cape nolak halus kaya kena teror spam call mulu bank syariah indonesia ga bener syariah mostly bank konven diarabarabin'\n",
            " 'setuju' 'udah x nyokap gangguan gatau bener nya'\n",
            " 'call center cs app gabisa huhuhu']\n",
            "Topic 7:\n",
            "['tanggung sahabat'\n",
            " 'sumpah yaaa kezzzzeeeelllll baaannnngeett bsi kecewa banget sumpah minggu gangguan mulu dahhlaahh tutup rekening aja udahan nih malessss kezzzzeeeelllll'\n",
            " 'ux si bbrp menu yg belibet imo' 'd bandungnya error ampunn dehh'\n",
            " 'penarikan uang atm']\n",
            "Topic 8:\n",
            "['malam indonesia vs thailand remaja umur nabila salma ditembak bank bsi lelang bca syariah milikmu sarapan wangi jogja luhut viral selasa mei film anime netflix cowo sosmed pecinta pentil pink vcs ready'\n",
            " 'nggak bsi bank yg kena cuman nggak seheboh bsi recoverynya cepet'\n",
            " 'bsi bermasalah mei saldo yg lu masalahin april gak nyambung kemana aja lu teriak'\n",
            " 'sih sekelas bank nasional servernya terkena serangan siber desclaimer dugaan ya tau bsi maintenance'\n",
            " 'layanan mobile banking pt bank syariah indonesia tbk bsi mengalami error senin mei diduga gangguan diakibatkan serangan ransomware']\n"
          ]
        }
      ]
    },
    {
      "cell_type": "markdown",
      "source": [
        "| **Topic** | **Pola** | **Persona** | **Deskripsi Persona** |\n",
        "|-----------|----------|-------------|-----------------------|\n",
        "| Topic 0 | Keluhan terkait dengan kondisi dan pelayanan bank BSI di Aceh | Aceh Service Critic | Merasa kecewa dengan layanan dan respons bank BSI di daerah Aceh, terutama terkait dengan pengelolaan dan kondisi layanan. |\n",
        "| Topic 1 | Keluhan terkait dengan layanan mobile banking BSI | Mobile Banking User | Mengalami kesulitan dalam menggunakan layanan mobile banking BSI, seperti transfer dan pengecekan saldo, mencari solusi terkait masalah teknis. |\n",
        "| Topic 2 | Keluhan terkait dengan gangguan atau masalah dalam penggunaan mbanking BSI | MBanking Activation Seeker | Kesulitan dalam mengaktifkan atau menggunakan mbanking BSI, mencari bantuan atau informasi untuk mengatasi masalah teknis. |\n",
        "| Topic 3 | Keluhan atau pertanyaan terkait dengan keamanan dan penipuan di bank BSI | Security Concerned Customer | Khawatir tentang keamanan transaksi dan data pribadi di bank BSI, mencari klarifikasi atau perlindungan dari penipuan. |\n",
        "| Topic 4 | Diskusi tentang kasus-kasus khusus seperti skimming di bank BSI | Special Case Investigator | Tertarik atau terlibat dalam masalah keamanan atau transaksi khusus di bank BSI, mencari informasi atau diskusi terkait kasus-kasus serius. |\n",
        "| Topic 5 | Diskusi tentang masalah teknis atau keamanan di ATM BSI | ATM Security Observer | Peduli dengan keamanan uang dan transaksi di ATM BSI, mencari informasi tentang keamanan dan prosedur tunai. |\n",
        "| Topic 6 | Keluhan terkait dengan pelayanan atau komunikasi dengan bank BSI | Customer Service Frustrator | Frustrasi dengan respons atau layanan pelanggan dari bank BSI, mencari solusi atau penjelasan atas keluhan mereka. |\n",
        "| Topic 7 | Keluhan tentang gangguan atau masalah teknis dalam layanan bank BSI | Technical Service Affected User | Terpengaruh oleh gangguan atau masalah teknis dalam layanan atau perbaikan sistem dari bank BSI. |\n",
        "| Topic 8 | Diskusi tentang masalah teknis atau layanan dari bank BSI | Technical Service Affected User | Terpengaruh oleh gangguan atau masalah teknis dalam layanan atau perbaikan sistem dari bank BSI. |"
      ],
      "metadata": {
        "id": "GtBRTjVVvlAS"
      }
    },
    {
      "cell_type": "markdown",
      "source": [
        "## Difference Between Clustering and Topic Extraction results"
      ],
      "metadata": {
        "id": "qT7Olc90wBWZ"
      }
    },
    {
      "cell_type": "markdown",
      "source": [
        "Perbedaan antara dua persona analysis menggunakan KMeans dan LDA:\n",
        "\n",
        "| **Persona Analysis** | **Metode** | **Fokus Utama** | **Deskripsi Persona** | **Informasi Unik** |\n",
        "|----------------------|------------|------------------|-----------------------|--------------------|\n",
        "| LDA Persona          | LDA        | Topik utama yang diidentifikasi dari keluhan dan diskusi pengguna terkait bank BSI. | - Aceh Service Critic: Kekecewaan dengan layanan dan respons bank BSI di Aceh. <br> - Mobile Banking User: Kesulitan dalam menggunakan layanan mobile banking BSI. <br> - Security Concerned Customer: Khawatir tentang keamanan transaksi di bank BSI. | - Fokus pada kondisi pelayanan di daerah Aceh. <br> - Masalah teknis dalam aplikasi mobile banking. |\n",
        "| KMeans Persona       | KMeans     | Pola kesamaan dalam data berdimensi tinggi. | - Frustrated ATM User: Keluhan terkait layanan ATM dan akses fisik. <br> - Satisfied Customer: Respon positif dari nasabah yang puas. <br> - Technical Trouble Seeker: Masalah teknis dalam aplikasi mobile banking. <br> - Security-Conscious Saver: Kekhawatiran tentang keamanan transaksi. | - Respons yang beragam terhadap layanan ATM dan komunikasi dengan bank. <br> - Kekecewaan terhadap layanan pelanggan dan kekhawatiran tentang keamanan transaksi. |"
      ],
      "metadata": {
        "id": "hIx8lhhfwH4V"
      }
    },
    {
      "cell_type": "markdown",
      "source": [
        "Kedua metode analisis ini memberikan pandangan yang komplementer dan mendalam tentang pengalaman pengguna terhadap layanan bank BSI. LDA fokus pada ekstraksi topik dari teks untuk mengungkapkan isu-isu spesifik yang dibicarakan pengguna, sementara KMeans memberikan wawasan tentang pola perilaku dan respons yang berbeda dari pelanggan dalam kelompok yang lebih luas, hal ini bisa terjadi karena LDA memanfaatkan inferential statistik yang terdapat dalam setiap dokumen dan distribusi kata, sementara KMeans melakukan clustering berdasarkan kemiripan pola. Kombinasi dari kedua analisis ini membantu dalam memahami tantangan yang dihadapi oleh pengguna, serta memberikan panduan untuk meningkatkan pengalaman pelanggan dan respons terhadap masalah yang muncul."
      ],
      "metadata": {
        "id": "E4PftGpFwu1H"
      }
    },
    {
      "cell_type": "markdown",
      "metadata": {
        "id": "zOoyJFkgJooZ"
      },
      "source": [
        "# Text Summarization"
      ]
    },
    {
      "cell_type": "code",
      "execution_count": null,
      "metadata": {
        "colab": {
          "base_uri": "https://localhost:8080/"
        },
        "collapsed": true,
        "id": "YkbAZurmJvvs",
        "outputId": "3b2844c9-4d17-43bb-cacf-4b3f1eadd3ad"
      },
      "outputs": [
        {
          "output_type": "stream",
          "name": "stdout",
          "text": [
            "Requirement already satisfied: rouge in /usr/local/lib/python3.10/dist-packages (1.0.1)\n",
            "Requirement already satisfied: six in /usr/local/lib/python3.10/dist-packages (from rouge) (1.16.0)\n"
          ]
        },
        {
          "output_type": "stream",
          "name": "stderr",
          "text": [
            "[nltk_data] Downloading package punkt to /root/nltk_data...\n",
            "[nltk_data]   Package punkt is already up-to-date!\n",
            "[nltk_data] Downloading package stopwords to /root/nltk_data...\n",
            "[nltk_data]   Package stopwords is already up-to-date!\n"
          ]
        }
      ],
      "source": [
        "import pandas as pd\n",
        "import re\n",
        "from sklearn.feature_extraction.text import CountVectorizer, TfidfVectorizer\n",
        "from nltk.corpus import stopwords\n",
        "from nltk.tokenize import sent_tokenize, word_tokenize\n",
        "import nltk\n",
        "!pip install rouge\n",
        "from rouge import Rouge\n",
        "\n",
        "nltk.download('punkt')\n",
        "nltk.download('stopwords')\n",
        "\n",
        "stop_words = set(stopwords.words('indonesian'))"
      ]
    },
    {
      "cell_type": "markdown",
      "metadata": {
        "id": "iXJh6yzQRU9r"
      },
      "source": [
        "## Data"
      ]
    },
    {
      "cell_type": "code",
      "execution_count": null,
      "metadata": {
        "id": "jg0cQ6JQJqvf"
      },
      "outputs": [],
      "source": [
        "df3 = pd.read_csv('/content/extracted_data/C/data_3C.csv', encoding='latin-1')"
      ]
    },
    {
      "cell_type": "code",
      "execution_count": null,
      "metadata": {
        "colab": {
          "base_uri": "https://localhost:8080/",
          "height": 143
        },
        "id": "lzCkzvxaJ5Wy",
        "outputId": "e15dc420-1052-4a0a-a26b-f6641cd2af7e"
      },
      "outputs": [
        {
          "output_type": "execute_result",
          "data": {
            "text/plain": [
              "   Unnamed: 0                                            content  \\\n",
              "0           9  TEMPO.CO, Jakarta -Buffer zone atau kawasan pe...   \n",
              "1          10  TEMPO.CO, Jakarta - Menteri BUMN Erick Thohir,...   \n",
              "2          11  TEMPO.CO, Jakarta - Peneliti Pusat Studi Hukum...   \n",
              "\n",
              "                                             summary  \n",
              "0  Presiden Joko Widodo mengungkapkan bahwa renca...  \n",
              "1  Setelah kebakaran Depo Pertamina, Presiden Jok...  \n",
              "2  Peneliti meminta Komisi Yudisial menggali moti...  "
            ],
            "text/html": [
              "\n",
              "  <div id=\"df-8eefa7aa-3a9d-4a5f-adce-dae91a8c894a\" class=\"colab-df-container\">\n",
              "    <div>\n",
              "<style scoped>\n",
              "    .dataframe tbody tr th:only-of-type {\n",
              "        vertical-align: middle;\n",
              "    }\n",
              "\n",
              "    .dataframe tbody tr th {\n",
              "        vertical-align: top;\n",
              "    }\n",
              "\n",
              "    .dataframe thead th {\n",
              "        text-align: right;\n",
              "    }\n",
              "</style>\n",
              "<table border=\"1\" class=\"dataframe\">\n",
              "  <thead>\n",
              "    <tr style=\"text-align: right;\">\n",
              "      <th></th>\n",
              "      <th>Unnamed: 0</th>\n",
              "      <th>content</th>\n",
              "      <th>summary</th>\n",
              "    </tr>\n",
              "  </thead>\n",
              "  <tbody>\n",
              "    <tr>\n",
              "      <th>0</th>\n",
              "      <td>9</td>\n",
              "      <td>TEMPO.CO, Jakarta -Buffer zone atau kawasan pe...</td>\n",
              "      <td>Presiden Joko Widodo mengungkapkan bahwa renca...</td>\n",
              "    </tr>\n",
              "    <tr>\n",
              "      <th>1</th>\n",
              "      <td>10</td>\n",
              "      <td>TEMPO.CO, Jakarta - Menteri BUMN Erick Thohir,...</td>\n",
              "      <td>Setelah kebakaran Depo Pertamina, Presiden Jok...</td>\n",
              "    </tr>\n",
              "    <tr>\n",
              "      <th>2</th>\n",
              "      <td>11</td>\n",
              "      <td>TEMPO.CO, Jakarta - Peneliti Pusat Studi Hukum...</td>\n",
              "      <td>Peneliti meminta Komisi Yudisial menggali moti...</td>\n",
              "    </tr>\n",
              "  </tbody>\n",
              "</table>\n",
              "</div>\n",
              "    <div class=\"colab-df-buttons\">\n",
              "\n",
              "  <div class=\"colab-df-container\">\n",
              "    <button class=\"colab-df-convert\" onclick=\"convertToInteractive('df-8eefa7aa-3a9d-4a5f-adce-dae91a8c894a')\"\n",
              "            title=\"Convert this dataframe to an interactive table.\"\n",
              "            style=\"display:none;\">\n",
              "\n",
              "  <svg xmlns=\"http://www.w3.org/2000/svg\" height=\"24px\" viewBox=\"0 -960 960 960\">\n",
              "    <path d=\"M120-120v-720h720v720H120Zm60-500h600v-160H180v160Zm220 220h160v-160H400v160Zm0 220h160v-160H400v160ZM180-400h160v-160H180v160Zm440 0h160v-160H620v160ZM180-180h160v-160H180v160Zm440 0h160v-160H620v160Z\"/>\n",
              "  </svg>\n",
              "    </button>\n",
              "\n",
              "  <style>\n",
              "    .colab-df-container {\n",
              "      display:flex;\n",
              "      gap: 12px;\n",
              "    }\n",
              "\n",
              "    .colab-df-convert {\n",
              "      background-color: #E8F0FE;\n",
              "      border: none;\n",
              "      border-radius: 50%;\n",
              "      cursor: pointer;\n",
              "      display: none;\n",
              "      fill: #1967D2;\n",
              "      height: 32px;\n",
              "      padding: 0 0 0 0;\n",
              "      width: 32px;\n",
              "    }\n",
              "\n",
              "    .colab-df-convert:hover {\n",
              "      background-color: #E2EBFA;\n",
              "      box-shadow: 0px 1px 2px rgba(60, 64, 67, 0.3), 0px 1px 3px 1px rgba(60, 64, 67, 0.15);\n",
              "      fill: #174EA6;\n",
              "    }\n",
              "\n",
              "    .colab-df-buttons div {\n",
              "      margin-bottom: 4px;\n",
              "    }\n",
              "\n",
              "    [theme=dark] .colab-df-convert {\n",
              "      background-color: #3B4455;\n",
              "      fill: #D2E3FC;\n",
              "    }\n",
              "\n",
              "    [theme=dark] .colab-df-convert:hover {\n",
              "      background-color: #434B5C;\n",
              "      box-shadow: 0px 1px 3px 1px rgba(0, 0, 0, 0.15);\n",
              "      filter: drop-shadow(0px 1px 2px rgba(0, 0, 0, 0.3));\n",
              "      fill: #FFFFFF;\n",
              "    }\n",
              "  </style>\n",
              "\n",
              "    <script>\n",
              "      const buttonEl =\n",
              "        document.querySelector('#df-8eefa7aa-3a9d-4a5f-adce-dae91a8c894a button.colab-df-convert');\n",
              "      buttonEl.style.display =\n",
              "        google.colab.kernel.accessAllowed ? 'block' : 'none';\n",
              "\n",
              "      async function convertToInteractive(key) {\n",
              "        const element = document.querySelector('#df-8eefa7aa-3a9d-4a5f-adce-dae91a8c894a');\n",
              "        const dataTable =\n",
              "          await google.colab.kernel.invokeFunction('convertToInteractive',\n",
              "                                                    [key], {});\n",
              "        if (!dataTable) return;\n",
              "\n",
              "        const docLinkHtml = 'Like what you see? Visit the ' +\n",
              "          '<a target=\"_blank\" href=https://colab.research.google.com/notebooks/data_table.ipynb>data table notebook</a>'\n",
              "          + ' to learn more about interactive tables.';\n",
              "        element.innerHTML = '';\n",
              "        dataTable['output_type'] = 'display_data';\n",
              "        await google.colab.output.renderOutput(dataTable, element);\n",
              "        const docLink = document.createElement('div');\n",
              "        docLink.innerHTML = docLinkHtml;\n",
              "        element.appendChild(docLink);\n",
              "      }\n",
              "    </script>\n",
              "  </div>\n",
              "\n",
              "\n",
              "<div id=\"df-ede418f1-2e9f-49c8-827b-0727ca369522\">\n",
              "  <button class=\"colab-df-quickchart\" onclick=\"quickchart('df-ede418f1-2e9f-49c8-827b-0727ca369522')\"\n",
              "            title=\"Suggest charts\"\n",
              "            style=\"display:none;\">\n",
              "\n",
              "<svg xmlns=\"http://www.w3.org/2000/svg\" height=\"24px\"viewBox=\"0 0 24 24\"\n",
              "     width=\"24px\">\n",
              "    <g>\n",
              "        <path d=\"M19 3H5c-1.1 0-2 .9-2 2v14c0 1.1.9 2 2 2h14c1.1 0 2-.9 2-2V5c0-1.1-.9-2-2-2zM9 17H7v-7h2v7zm4 0h-2V7h2v10zm4 0h-2v-4h2v4z\"/>\n",
              "    </g>\n",
              "</svg>\n",
              "  </button>\n",
              "\n",
              "<style>\n",
              "  .colab-df-quickchart {\n",
              "      --bg-color: #E8F0FE;\n",
              "      --fill-color: #1967D2;\n",
              "      --hover-bg-color: #E2EBFA;\n",
              "      --hover-fill-color: #174EA6;\n",
              "      --disabled-fill-color: #AAA;\n",
              "      --disabled-bg-color: #DDD;\n",
              "  }\n",
              "\n",
              "  [theme=dark] .colab-df-quickchart {\n",
              "      --bg-color: #3B4455;\n",
              "      --fill-color: #D2E3FC;\n",
              "      --hover-bg-color: #434B5C;\n",
              "      --hover-fill-color: #FFFFFF;\n",
              "      --disabled-bg-color: #3B4455;\n",
              "      --disabled-fill-color: #666;\n",
              "  }\n",
              "\n",
              "  .colab-df-quickchart {\n",
              "    background-color: var(--bg-color);\n",
              "    border: none;\n",
              "    border-radius: 50%;\n",
              "    cursor: pointer;\n",
              "    display: none;\n",
              "    fill: var(--fill-color);\n",
              "    height: 32px;\n",
              "    padding: 0;\n",
              "    width: 32px;\n",
              "  }\n",
              "\n",
              "  .colab-df-quickchart:hover {\n",
              "    background-color: var(--hover-bg-color);\n",
              "    box-shadow: 0 1px 2px rgba(60, 64, 67, 0.3), 0 1px 3px 1px rgba(60, 64, 67, 0.15);\n",
              "    fill: var(--button-hover-fill-color);\n",
              "  }\n",
              "\n",
              "  .colab-df-quickchart-complete:disabled,\n",
              "  .colab-df-quickchart-complete:disabled:hover {\n",
              "    background-color: var(--disabled-bg-color);\n",
              "    fill: var(--disabled-fill-color);\n",
              "    box-shadow: none;\n",
              "  }\n",
              "\n",
              "  .colab-df-spinner {\n",
              "    border: 2px solid var(--fill-color);\n",
              "    border-color: transparent;\n",
              "    border-bottom-color: var(--fill-color);\n",
              "    animation:\n",
              "      spin 1s steps(1) infinite;\n",
              "  }\n",
              "\n",
              "  @keyframes spin {\n",
              "    0% {\n",
              "      border-color: transparent;\n",
              "      border-bottom-color: var(--fill-color);\n",
              "      border-left-color: var(--fill-color);\n",
              "    }\n",
              "    20% {\n",
              "      border-color: transparent;\n",
              "      border-left-color: var(--fill-color);\n",
              "      border-top-color: var(--fill-color);\n",
              "    }\n",
              "    30% {\n",
              "      border-color: transparent;\n",
              "      border-left-color: var(--fill-color);\n",
              "      border-top-color: var(--fill-color);\n",
              "      border-right-color: var(--fill-color);\n",
              "    }\n",
              "    40% {\n",
              "      border-color: transparent;\n",
              "      border-right-color: var(--fill-color);\n",
              "      border-top-color: var(--fill-color);\n",
              "    }\n",
              "    60% {\n",
              "      border-color: transparent;\n",
              "      border-right-color: var(--fill-color);\n",
              "    }\n",
              "    80% {\n",
              "      border-color: transparent;\n",
              "      border-right-color: var(--fill-color);\n",
              "      border-bottom-color: var(--fill-color);\n",
              "    }\n",
              "    90% {\n",
              "      border-color: transparent;\n",
              "      border-bottom-color: var(--fill-color);\n",
              "    }\n",
              "  }\n",
              "</style>\n",
              "\n",
              "  <script>\n",
              "    async function quickchart(key) {\n",
              "      const quickchartButtonEl =\n",
              "        document.querySelector('#' + key + ' button');\n",
              "      quickchartButtonEl.disabled = true;  // To prevent multiple clicks.\n",
              "      quickchartButtonEl.classList.add('colab-df-spinner');\n",
              "      try {\n",
              "        const charts = await google.colab.kernel.invokeFunction(\n",
              "            'suggestCharts', [key], {});\n",
              "      } catch (error) {\n",
              "        console.error('Error during call to suggestCharts:', error);\n",
              "      }\n",
              "      quickchartButtonEl.classList.remove('colab-df-spinner');\n",
              "      quickchartButtonEl.classList.add('colab-df-quickchart-complete');\n",
              "    }\n",
              "    (() => {\n",
              "      let quickchartButtonEl =\n",
              "        document.querySelector('#df-ede418f1-2e9f-49c8-827b-0727ca369522 button');\n",
              "      quickchartButtonEl.style.display =\n",
              "        google.colab.kernel.accessAllowed ? 'block' : 'none';\n",
              "    })();\n",
              "  </script>\n",
              "</div>\n",
              "\n",
              "    </div>\n",
              "  </div>\n"
            ],
            "application/vnd.google.colaboratory.intrinsic+json": {
              "type": "dataframe",
              "variable_name": "df3",
              "summary": "{\n  \"name\": \"df3\",\n  \"rows\": 3,\n  \"fields\": [\n    {\n      \"column\": \"Unnamed: 0\",\n      \"properties\": {\n        \"dtype\": \"number\",\n        \"std\": 1,\n        \"min\": 9,\n        \"max\": 11,\n        \"num_unique_values\": 3,\n        \"samples\": [\n          9,\n          10,\n          11\n        ],\n        \"semantic_type\": \"\",\n        \"description\": \"\"\n      }\n    },\n    {\n      \"column\": \"content\",\n      \"properties\": {\n        \"dtype\": \"string\",\n        \"num_unique_values\": 3,\n        \"samples\": [\n          \"TEMPO.CO, Jakarta -Buffer zone atau kawasan penyangga yang memisahkan Depo Pertamina Plumpang, Jakarta Utara, dengan pemukiman warga kini menuai sorotan, karena sudah diusulkan sejak 2009 silam. Presiden Joko Widodo atau Jokowi yang pernah menjadi Gubernur DKI Jakarta 2012-2014 mengakui usulan tersebut juga dibahas di era kepemimpinannya.\\\"Dulu memang sudah direncanakan untuk dibuat air di kanan kirinya sungai, tetapi memang belum sampai kepada titik mencarikan solusi kepada penduduknya yang ada di situ,\\\" kata Jokowi saat ditemui mengunjungi para pengungsi kebakaran Depo Pertamina di RPTRA Rasela, Koja, Jakarta Utara, Minggu, 5 Maret 2023.\\\"Tanah merah-nya ini kan padat dan penuh. Semuanya harus dicarikan solusi. Saya kira keamanan masyarakat, keselamatan masyarakat harus menjadi titik yang utama,\\\" kata dia. Tanah Merah mengacu pada Jalan Tanah Merah Bawah yang jadi lokasi kebakaran.Jokowi menyebut seharusnya zona ini harusnya menjadi zona air, seperti misalnya dibuat sungai yang memisahkan Depo dan pemukiman. Tujuannya untuk melindungi objek vital yang ada di dalam Depo. \\\"Karena barang-barang didalamnya barang-barang yang sangat bahaya untuk berdekatan dengan masyarakat, apalagi dengan pemukiman penduduk,\\\" kata dia.Heru Ungkit Buffer ZoneSebelumnya, kebakaran terjadi di Depo Pertamina pada Jumat malam, pukul 20.11 WIB, 3 Maret 2023. Usulan soal buffer zone ini diungkit Heru saat mengunjungi lokasi kebakaran pada Jumat malam tersebut.Heru menyebut tahun 2009, pemerintah daerah sudah mengusulkan buffer zone selebar 50 meter. Akan tetapi, Heru tak menjelaskan lagi apakah buffer zone ini sudah dibuat, atau hanya dibuat untuk beberapa titik saja.\\\"Kira-kira begitu, kami kembalikan ke Pertamina,\\\" kata Heru usai menggelar rapat darurat di Pos Koramil Koja, Jakarta Utara, Sabtu dini hari, 4 Maret 2023. Heru pernah jadi Wali Kota Jakarta Utara 2014-2015 di era Gubernur DKI Jokowi, lalu berlanjut ke era Gubernur DKI Basuki Tjahaja Purnama alias Ahok.Sekretaris Daerah DKI Jakarta Joko Agus Setyono mengatakan Pemerintah Provinsi akan berkerja sama dengan Pertamina untuk melanjutkan rencana pembuatan buffer zone di kawasan Depo Pertamina Plumpang, Rawa Badak Selatan, Jakarta Utara. \\\"Kita bikin kerja sama, lah, sama Pertamina,\\\" kata Joko kepada wartawan di Koramil Rawa Badak Selatan, Jakarta Utara, Sabtu, 4 Maret 2023.Namun, eks Kepala BPK Bali itu belum merinci soal pembuatan buffer zone ini. \\\"Ya, pastinya, semuanya itu, upaya-upaya untuk mengarah yang lebih bagus,\\\" ujarnya.Era Fauzi BowoTahun 2019, Jakarta dipimpin oleh Gubernur Fauzi Bowo. Kala itu, Tempo memberitakan bahwa Kawasan Tanah Merah, Plumpang, Jakarta Utara dipastikan akan dibersihkan di tahun tersebut. Wilayah tersebut akan dibangun buffer zone Depo Pertamina Plumpang.\\\"Pemerintah pusat mentargetkan 2009 ini buffer zone selesai dibangun,\\\" kata Walikota Jakarta Utara, Bambang Sugiyono di ruang kerjanya, akhir pekan lalu.Proses pembangunan dan pembebasan lahan di Tanah Merah, kata Bambang, dilakukan oleh Tim Penataan Depo Plumpang yang duduk sebagai penanggung jawab adalah Gubernur DKI Fauzi Bowo, dan Wakil Gubernur Prijanto sebagai pelaksana. \\\"Wali Kota mengerjakan inventarisasi, penyuluhan, dan pembebasan,\\\" kata Bambang.Proses pembangunan zona penyangga tersebut, lanjut Bambang, sudah memasuki tahap inventarisasi dan sosialisasi kepada warga. Ia mengakui tahap ini tergolong sulit, khususnya memverifikasi pemilik lahan sebenarnya. \\\"Bermacam-macam. Ada yang punya sertifikat tanah, agendum, dan lainnya,\\\" ujarnya.IMB Anies DisorotSelain buffer zone, masalah status lahan dan bangunan warga pun jadi sorotan. Anggota Fraksi PDI Perjuangan DPRD DKI Jakarta Gilbert Simanjuntak menyatakan sepatutnya mantan Gubernur DKI Jakarta Anies Baswedan ikut bertanggungjawab atas kebakaran Depo Pertamina Plumpang, Jakarta Utara, pada Jumat malam lalu.Menurut Gilbert, sejak awal sudah diketahui bahwa lahan di sekitar Depo Pertamina Plumpang tidak boleh ada permukiman dalam jarak tertentu. Lahan yang terkena kebakaran tadi adalah milik PT Pertamina.\\\"Lahan milik PT Pertamina ditempati warga akan tetapi oleh Anies sewaktu menjabat Gubernur diberi IMB, yang jelas bertentangan dengan peraturan,\\\" ujar Gilbert dalam keterangannya pada Sabtu, 4 Maret 2023.Gilbert menilai IMB yang dikeluarkan Anies Baswedan saat menjabat Gubernur DKI membuat persoalan semakin rumit. Menurut dia, saat itu Anies terkesan lebih mementingkan pemenuhan janji kampanye walau harus menabrak aturan. \\\"Kesalahan itu tidak sepatutnya berulang.\\\"Berkaca dari kejadian tersebut, Gilbert penduduk di sekitar Depo Pertamina Plumpang dipindahkan agar tidak menjadi korban lagi.Gubernur DKI Jakarta Anies Baswedan menerbitkan IMB (Izin Mendirikan Bangunan) Sementara kepada penduduk Kampung Tanah Merah pada Sabtu, 16 Oktober 2021.\\\"Ini adalah jalan tengah yang kami ambil untuk menyelesaikan masalah bangunan-bangunan yang berada di tanah yang status legalnya belum tuntas. Tapi mereka faktanya ada di tempat ini sudah puluhan tahun,\\\" kata Anies Baswedan di Kampung Tanah Merah, Sabtu, 16 Oktober 2021.Pertamina enggan berkomentar lebih lanjut ketika ditanya mengenai status lahan di Kampung Tanah Merah yang ikut dilalap api kebakaran Depo Pertamina Plumpang, Jakarta Utara.Fokus kami saat ini penanganan warga, kata Vice President Corporate Communication PT Pertamina Persero Fadjar Djoko Santoso kepada Tempo pada Sabtu.Pilihan Editor:Depo Pertamina Plumpang Bahaya Dekat Pemukiman, Jokowi: Digeser ke Reklamasi atau Warga Direlokasi\",\n          \"TEMPO.CO, Jakarta - Menteri BUMN Erick Thohir, Penjabat Gubernur DKI Jakarta Heru Budi Hartono, dan Direktur Utama Pertamina Nicke Widyawati siang ini langsung menggelar rapat di Depo Plumpang, Jakarta Utara, setelah diperintah Presiden Joko Widodo atau Jokowi. Jokowi memerintahkan agar ada solusi dalam satu dua hari ini usai kebakaran di Depo Pertamina, apakah fasilitas penyimpanan bensin ini dipindah atau warga di sekitar di relokasi.\\\"Ini mau rapat di sana, ini rapat langsung,\\\" kata Erick usai menemani Jokowi yang mengunjungi para pengungsi kebakaran Depo Pertamina di RPTRA Rasela, Koja, Jakarta Utara, Ahad 5 Maret 2023.Jokowi datang bersama Erick, Heru yang juga Kepala Sekretariat Presiden, dan Nicke. Nicke juga membenarkan rapat digelar di Plumpang, bersama Erick dan Heru. \\\"Iya,\\\" kata dia, di lokasi.Di lokasi ini, Jokowi telah memerintahkan Erick, Heru, dan Pertamina, mencari solusi usai kejadian kebakaran di Depo Pertamina Plumpang, Jakarta Utara. Jokowi memberi dua opsi, Depo Pertamina dipindahkan atau warga yang tinggal direlokasi.\\\"Ini akan segera diputuskan sehari dua hari ini oleh Pertamina, Gubernur DKI sehingga solusinya menjadi jelas,\\\" kata Jokowi.Ada dua opsiJokowi belum bisa memastikan apakah nanti warga masih bisa tinggal di lokasi, jika nanti yang akhirnya Depo Pertamina yang dipindah. \\\"Ini yang baru nanti dibicarakan, ada pilihan-pilihan, apakah deponya yang digeser apakah masyarakatnya yang digeser. Kalau digeser tanahnya di mana, tapi harus segera ditemukan solusinya,\\\" kata dia.Jokowi menyebut Depo Pertamina Plumpang ini merupakan zona bahaya. \\\"Tidak bisa lagi ditinggali, tetapi harus ada solusinya. Bisa saja Plumpang-nya digeser ke reklamasi atau penduduknya yang digeser ke relokasi,\\\" Mantan Gubernur DKI Jakarta 2012-2014.Jokowi tidak merinci lebih lanjut reklamasi yang dia maksud. Menurut dia, solusi akan dibicarakan oleh PT Pertamina dan Heru. \\\"Tapi semuanya memang harus zona-zona berbahaya ini tidak hanya di sini saja harus diaudit, harus dievaluasi semuanya karena menyangkut nyawa. Tadi saya sudah perintahkan semuanya,\\\" ujarnya.Jokowi menyebut seharusnya Depo Pertamina ini harusnya menjadi zona air, seperti misalnya dibuat sungai yang memisahkan Depo dan pemukiman. Tujuannya untuk melindungi objek vital yang ada di dalam Depo. \\\"Karena barang-barang didalamnya barang-barang yang sangat bahaya untuk berdekatan dengan masyarakat, apalagi dengan pemukiman penduduk,\\\" kata dia.Wapres usul depo dipindah ke PelabuhanKebakaran terjadi Jumat malam, 3 Maret 2023, yang menewaskan 17 orang dan 600 lebih mengungsi. Sebelum Jokowi, Wakil Presiden Ma'ruf Amin sudah lebih dulu mengunjungi pengungsi di Plumpang.Ma'ruf mengusulkan agar depo Pertamina di Plumpang dipindah menjauhi permukiman penduduk pascaterbakar pada Jumat malam kemarin. Kebakaran depo menjalar ke pemukiman warga hingga mengakibatkan jatuhnya korban jiwa.\\\"Saya berharap supaya depo ini lebih aman itu bisa direlokasi di pelabuhan, di daerah Pelindo. Saya kira begitu,\\\" ujar Ma'ruf Amin di kawasan Plumpang, Jakarta Utara, Sabtu, 4 Maret 2023.Pilihan Editor:Jokowi Ingin Pindahkan Depo Pertamina dari Pemukiman: Lindungi Obyek Vital\",\n          \"TEMPO.CO, Jakarta - Peneliti Pusat Studi Hukum dan Kebijakan (PSHK) M Nur Ramadhan meminta Komisi Yudisial menggali motif hakim Pengadilan Negeri Jakarta Pusat yang memutus penundaan Pemilu2024. \\\"Menjadi catatan penting adalah bahwa jangan sampai hanya menilai soal putusannya tetapi bagaimana majelis hakim ini mengambil langkah putusan. Nah ini harus didalami oleh Komisi Yudisial,\\\" ujar Ramadhan Ahad 5 Maret 2023.Menurut PSHK, penggalian motif bertujuan untuk mengurangi spekulasi adanya agenda penundaan Pemilu di masyarakat.\\\"Memang perlu dipertanyakan dan juga hal ini perlu diperdalam oleh pihak-pihak termasuk masyarakat sipil ya. Dalam hal ini untuk melihat apakah memang benar sesuai dengan apa yang mereka yakini atau di balik ini memang ada sesuatu yang terjadi,\\\" katanya.Peneliti Indonesia Corruption Watch (ICW) Kurnia Ramadhana mengatakan kecurigaan penundaan Pemilu 2024 adalah hal yang wajar karena sebelumnya Menko Marinves Luhut Binsar Pandjaitan, hingga Ketua MPR Bambang Soesatyo yang pernah mengungkapkan wacana penundaan Pemilu 2024 ke publik.\\\"Tentu kita masih ingat dan menjadi hal wajar jika masyarakat khawatir menanggapi putusan pengadilan negeri Jakarta pusat karena dua tiga tahun ke belakang banyak sekali politisi yang menggaungkan wacana penundaan pemilu misalnya Menkomarinves Luhut binsar Panjaitan dengan big datanya. Kemudian, Ketua Umum PAN Zulkifli Hasan dan juga Ketua Umum Partai Kebangkitan Bangsa Muhaimin. Lalu ada Bahlil menteri BKPM kemudian baru-baru ini ada Ketua MPR Bambang Susatyo,\\\" ujarnya.Sebelumnya, Juru Bicara Komisi Yudisal (KY) Miko Ginting menyampaikan pihaknya tengah mendalami putusan Hakim Pengadilan Negeri Jakarta Pusat perihal putusanpenundaan Pemilupada persidangan perdata Partai Prima 2 Maret 2023. RencananyaKomisi Yudisialakan memanggil ketiga Hakim PN Jakarta Pusat yaitu T. Oyong, H. Bakri, dan Dominggus Silaban.\\\"Untuk itu, KY akan melakukan pendalaman terhadap putusan itu, terutama untuk melihat apakah ada dugaan pelanggaran perilaku yang terjadi. Salah satu bagian dari pendalaman itu bisa jadi dengan memanggil hakim untuk dimintakan klarifikasi.\\\" ujarnya dalam keterangan tertulis pada 3 Maret 2023.KY juga telah berkomunikasi bersama Mahkamah Agung dalam mencermati substansi putusan yang dibuat oleh para Hakim tersebut\\\"Kami juga akan berkomunikasi dengan Mahkamah Agung terkait dengan putusan ini serta aspek perilaku hakim yang terkait.\\\"ucapnya.Menurutnya, Putusan Pengadilan sudah seharusnya bersandar aspek demokratis, aspek aspirasi masyarakat secara sosiologis dan patuh pada Undang-Undang Dasar 1945.\\\"Putusan pengadilan tidak bekerja di ruang hampa karena ada aspirasi yang hidup di masyarakat secara sosiologis, ada aspek yuridis di mana kepatuhan terhadap UUD 1945 dan undang-undang sangatlah penting, serta pertimbangan-pertimbangan lain, seperti nilai-nilai demokrasi.\\\" ujarnya.Pengadilan Negeri Jakarta Pusatmemerintahkan Komisi Pemilihan Umum untuk menunda Pemilu 2024. Perintah tersebut tertuang dalam putusan perdata yang diajukanPartai Primadengan tergugat Komisi Pemilihan Umum.Menghukum tergugat (KPU) untuk tidak melaksanakan sisa tahapan Pemilihan Umum 2024 sejak putusan ini diucapkan dan melaksanakan tahapan Pemilihan Umum dari awal selama lebih kurang 2 tahun 4 bulan tujuh hari, seperti dikutip dari salinan putusan, Kamis, 2 Maret 2023.Putusan tersebut dibacakan oleh Majelis Hakim pada Kamis, 2 Maret 2023. Adapun Ketua Majelis Hakim yang menyidangkan gugatan tersebut adalah T. Oyong, dengan hakim anggota H. Bakri dan Dominggus Silaban.Dalam putusannya, majelis hakim menyatakan KPU telah melakukan perbuatan melawan hukum. Adapun perbuatan melawan hukum yang dimaksud adalah KPU menyatakan Partai Prima tidak memenuhi syarat dalam tahapan verifikasi administrasi partai politik calon peserta pemilu.Selain penundaan, pengadilan juga menghukum KPU membayar ganti rugi materiil sebanyak Rp 500 juta. Pengadilan juga menyatakan bahwa penggugat, yakni Partai Prima adalah partai politik yang dirugikan dalam verifikasi administrasi.Pilihan Editor: PSI Dukung KPU Ajukan Banding atas Putusan Penundaan Pemilu\"\n        ],\n        \"semantic_type\": \"\",\n        \"description\": \"\"\n      }\n    },\n    {\n      \"column\": \"summary\",\n      \"properties\": {\n        \"dtype\": \"string\",\n        \"num_unique_values\": 3,\n        \"samples\": [\n          \"Presiden Joko Widodo mengungkapkan bahwa rencana pembuatan buffer zone atau kawasan penyangga yang memisahkan Depo Pertamina Plumpang dari pemukiman warga sudah diusulkan sejak 2009. Zona ini seharusnya menjadi zona air, seperti dibuatnya sungai untuk melindungi objek vital yang ada di dalam Depo. Gubernur DKI Jakarta Anies Baswedan dianggap punya andil dalam kebakaran Depo Pertamina Plumpang karena memberikan IMB pada lahan di sekitar Depo yang sesuai dengan aturan.\",\n          \"Setelah kebakaran Depo Pertamina, Presiden Jokowi memerintahkan Pertamina, Gubernur DKI Jakarta, dan Menteri BUMN untuk mencari solusi dalam 1-2 hari. Ada dua opsi, apakah Depo dipindah atau warga yang tinggal direlokasi. Wakil Presiden Ma'ruf Amin lebih memilih dipindahkan ke Pelabuhan. Jokowi menyebut Depo Pertamina di Plumpang sebagai zona bahaya dan seharusnya menjadi zona air.\",\n          \"Peneliti meminta Komisi Yudisial menggali motif hakim Pengadilan Negeri Jakarta Pusat yang memutus penundaan Pemilu 2024 untuk mengurangi spekulasi agenda penundaan Pemilu. Komisi Yudisial memanggil ketiga hakim PN Jakarta Pusat untuk dimintai klarifikasi dan melakukan pendalaman terhadap putusan tersebut. Putusan PN Jakarta Pusat memerintahkan KPU menunda Pemilu 2024 dan membayar ganti rugi materiil sebanyak Rp 500 juta karena dianggap melakukan perbuatan melawan hukum. Partai Prima merupakan penggugat dalam verifikasi administrasi Partai Politik calon peserta Pemilu.\"\n        ],\n        \"semantic_type\": \"\",\n        \"description\": \"\"\n      }\n    }\n  ]\n}"
            }
          },
          "metadata": {},
          "execution_count": 4
        }
      ],
      "source": [
        "df3.head()"
      ]
    },
    {
      "cell_type": "code",
      "execution_count": null,
      "metadata": {
        "id": "VQExWCIlKPuR"
      },
      "outputs": [],
      "source": [
        "df3 = df3.drop('Unnamed: 0', axis=1)"
      ]
    },
    {
      "cell_type": "code",
      "execution_count": null,
      "metadata": {
        "id": "IASlpbDJLoFG"
      },
      "outputs": [],
      "source": [
        "def preprocess_text(text):\n",
        "    text = re.sub(r'\\s+', ' ', text)\n",
        "    text = re.sub(r'([.!,?;])', r' \\1 ', text)\n",
        "    text = text.lower()\n",
        "    text = ' '.join(word for word in text.split() if word not in stop_words)\n",
        "    return text\n",
        "df3['clean_content'] = df3['content'].apply(preprocess_text)"
      ]
    },
    {
      "cell_type": "code",
      "execution_count": null,
      "metadata": {
        "id": "kfF0gkvQKseD"
      },
      "outputs": [],
      "source": [
        "df3['sentences'] = df3['clean_content'].apply(sent_tokenize)"
      ]
    },
    {
      "cell_type": "code",
      "execution_count": null,
      "metadata": {
        "colab": {
          "base_uri": "https://localhost:8080/",
          "height": 143
        },
        "id": "dFGF5XZ_KS_5",
        "outputId": "c1002bdf-fe87-4139-f771-4f5b3e209ba5"
      },
      "outputs": [
        {
          "output_type": "execute_result",
          "data": {
            "text/plain": [
              "                                             content  \\\n",
              "0  TEMPO.CO, Jakarta -Buffer zone atau kawasan pe...   \n",
              "1  TEMPO.CO, Jakarta - Menteri BUMN Erick Thohir,...   \n",
              "2  TEMPO.CO, Jakarta - Peneliti Pusat Studi Hukum...   \n",
              "\n",
              "                                             summary  \\\n",
              "0  Presiden Joko Widodo mengungkapkan bahwa renca...   \n",
              "1  Setelah kebakaran Depo Pertamina, Presiden Jok...   \n",
              "2  Peneliti meminta Komisi Yudisial menggali moti...   \n",
              "\n",
              "                                       clean_content  \\\n",
              "0  tempo . co , jakarta -buffer zone kawasan peny...   \n",
              "1  tempo . co , jakarta - menteri bumn erick thoh...   \n",
              "2  tempo . co , jakarta - peneliti pusat studi hu...   \n",
              "\n",
              "                                           sentences  \n",
              "0  [tempo ., co , jakarta -buffer zone kawasan pe...  \n",
              "1  [tempo ., co , jakarta - menteri bumn erick th...  \n",
              "2  [tempo ., co , jakarta - peneliti pusat studi ...  "
            ],
            "text/html": [
              "\n",
              "  <div id=\"df-2cf54439-c25f-4f05-9449-6583d80b7650\" class=\"colab-df-container\">\n",
              "    <div>\n",
              "<style scoped>\n",
              "    .dataframe tbody tr th:only-of-type {\n",
              "        vertical-align: middle;\n",
              "    }\n",
              "\n",
              "    .dataframe tbody tr th {\n",
              "        vertical-align: top;\n",
              "    }\n",
              "\n",
              "    .dataframe thead th {\n",
              "        text-align: right;\n",
              "    }\n",
              "</style>\n",
              "<table border=\"1\" class=\"dataframe\">\n",
              "  <thead>\n",
              "    <tr style=\"text-align: right;\">\n",
              "      <th></th>\n",
              "      <th>content</th>\n",
              "      <th>summary</th>\n",
              "      <th>clean_content</th>\n",
              "      <th>sentences</th>\n",
              "    </tr>\n",
              "  </thead>\n",
              "  <tbody>\n",
              "    <tr>\n",
              "      <th>0</th>\n",
              "      <td>TEMPO.CO, Jakarta -Buffer zone atau kawasan pe...</td>\n",
              "      <td>Presiden Joko Widodo mengungkapkan bahwa renca...</td>\n",
              "      <td>tempo . co , jakarta -buffer zone kawasan peny...</td>\n",
              "      <td>[tempo ., co , jakarta -buffer zone kawasan pe...</td>\n",
              "    </tr>\n",
              "    <tr>\n",
              "      <th>1</th>\n",
              "      <td>TEMPO.CO, Jakarta - Menteri BUMN Erick Thohir,...</td>\n",
              "      <td>Setelah kebakaran Depo Pertamina, Presiden Jok...</td>\n",
              "      <td>tempo . co , jakarta - menteri bumn erick thoh...</td>\n",
              "      <td>[tempo ., co , jakarta - menteri bumn erick th...</td>\n",
              "    </tr>\n",
              "    <tr>\n",
              "      <th>2</th>\n",
              "      <td>TEMPO.CO, Jakarta - Peneliti Pusat Studi Hukum...</td>\n",
              "      <td>Peneliti meminta Komisi Yudisial menggali moti...</td>\n",
              "      <td>tempo . co , jakarta - peneliti pusat studi hu...</td>\n",
              "      <td>[tempo ., co , jakarta - peneliti pusat studi ...</td>\n",
              "    </tr>\n",
              "  </tbody>\n",
              "</table>\n",
              "</div>\n",
              "    <div class=\"colab-df-buttons\">\n",
              "\n",
              "  <div class=\"colab-df-container\">\n",
              "    <button class=\"colab-df-convert\" onclick=\"convertToInteractive('df-2cf54439-c25f-4f05-9449-6583d80b7650')\"\n",
              "            title=\"Convert this dataframe to an interactive table.\"\n",
              "            style=\"display:none;\">\n",
              "\n",
              "  <svg xmlns=\"http://www.w3.org/2000/svg\" height=\"24px\" viewBox=\"0 -960 960 960\">\n",
              "    <path d=\"M120-120v-720h720v720H120Zm60-500h600v-160H180v160Zm220 220h160v-160H400v160Zm0 220h160v-160H400v160ZM180-400h160v-160H180v160Zm440 0h160v-160H620v160ZM180-180h160v-160H180v160Zm440 0h160v-160H620v160Z\"/>\n",
              "  </svg>\n",
              "    </button>\n",
              "\n",
              "  <style>\n",
              "    .colab-df-container {\n",
              "      display:flex;\n",
              "      gap: 12px;\n",
              "    }\n",
              "\n",
              "    .colab-df-convert {\n",
              "      background-color: #E8F0FE;\n",
              "      border: none;\n",
              "      border-radius: 50%;\n",
              "      cursor: pointer;\n",
              "      display: none;\n",
              "      fill: #1967D2;\n",
              "      height: 32px;\n",
              "      padding: 0 0 0 0;\n",
              "      width: 32px;\n",
              "    }\n",
              "\n",
              "    .colab-df-convert:hover {\n",
              "      background-color: #E2EBFA;\n",
              "      box-shadow: 0px 1px 2px rgba(60, 64, 67, 0.3), 0px 1px 3px 1px rgba(60, 64, 67, 0.15);\n",
              "      fill: #174EA6;\n",
              "    }\n",
              "\n",
              "    .colab-df-buttons div {\n",
              "      margin-bottom: 4px;\n",
              "    }\n",
              "\n",
              "    [theme=dark] .colab-df-convert {\n",
              "      background-color: #3B4455;\n",
              "      fill: #D2E3FC;\n",
              "    }\n",
              "\n",
              "    [theme=dark] .colab-df-convert:hover {\n",
              "      background-color: #434B5C;\n",
              "      box-shadow: 0px 1px 3px 1px rgba(0, 0, 0, 0.15);\n",
              "      filter: drop-shadow(0px 1px 2px rgba(0, 0, 0, 0.3));\n",
              "      fill: #FFFFFF;\n",
              "    }\n",
              "  </style>\n",
              "\n",
              "    <script>\n",
              "      const buttonEl =\n",
              "        document.querySelector('#df-2cf54439-c25f-4f05-9449-6583d80b7650 button.colab-df-convert');\n",
              "      buttonEl.style.display =\n",
              "        google.colab.kernel.accessAllowed ? 'block' : 'none';\n",
              "\n",
              "      async function convertToInteractive(key) {\n",
              "        const element = document.querySelector('#df-2cf54439-c25f-4f05-9449-6583d80b7650');\n",
              "        const dataTable =\n",
              "          await google.colab.kernel.invokeFunction('convertToInteractive',\n",
              "                                                    [key], {});\n",
              "        if (!dataTable) return;\n",
              "\n",
              "        const docLinkHtml = 'Like what you see? Visit the ' +\n",
              "          '<a target=\"_blank\" href=https://colab.research.google.com/notebooks/data_table.ipynb>data table notebook</a>'\n",
              "          + ' to learn more about interactive tables.';\n",
              "        element.innerHTML = '';\n",
              "        dataTable['output_type'] = 'display_data';\n",
              "        await google.colab.output.renderOutput(dataTable, element);\n",
              "        const docLink = document.createElement('div');\n",
              "        docLink.innerHTML = docLinkHtml;\n",
              "        element.appendChild(docLink);\n",
              "      }\n",
              "    </script>\n",
              "  </div>\n",
              "\n",
              "\n",
              "<div id=\"df-19a435fb-9c4a-45d5-9465-ee2e7bb47045\">\n",
              "  <button class=\"colab-df-quickchart\" onclick=\"quickchart('df-19a435fb-9c4a-45d5-9465-ee2e7bb47045')\"\n",
              "            title=\"Suggest charts\"\n",
              "            style=\"display:none;\">\n",
              "\n",
              "<svg xmlns=\"http://www.w3.org/2000/svg\" height=\"24px\"viewBox=\"0 0 24 24\"\n",
              "     width=\"24px\">\n",
              "    <g>\n",
              "        <path d=\"M19 3H5c-1.1 0-2 .9-2 2v14c0 1.1.9 2 2 2h14c1.1 0 2-.9 2-2V5c0-1.1-.9-2-2-2zM9 17H7v-7h2v7zm4 0h-2V7h2v10zm4 0h-2v-4h2v4z\"/>\n",
              "    </g>\n",
              "</svg>\n",
              "  </button>\n",
              "\n",
              "<style>\n",
              "  .colab-df-quickchart {\n",
              "      --bg-color: #E8F0FE;\n",
              "      --fill-color: #1967D2;\n",
              "      --hover-bg-color: #E2EBFA;\n",
              "      --hover-fill-color: #174EA6;\n",
              "      --disabled-fill-color: #AAA;\n",
              "      --disabled-bg-color: #DDD;\n",
              "  }\n",
              "\n",
              "  [theme=dark] .colab-df-quickchart {\n",
              "      --bg-color: #3B4455;\n",
              "      --fill-color: #D2E3FC;\n",
              "      --hover-bg-color: #434B5C;\n",
              "      --hover-fill-color: #FFFFFF;\n",
              "      --disabled-bg-color: #3B4455;\n",
              "      --disabled-fill-color: #666;\n",
              "  }\n",
              "\n",
              "  .colab-df-quickchart {\n",
              "    background-color: var(--bg-color);\n",
              "    border: none;\n",
              "    border-radius: 50%;\n",
              "    cursor: pointer;\n",
              "    display: none;\n",
              "    fill: var(--fill-color);\n",
              "    height: 32px;\n",
              "    padding: 0;\n",
              "    width: 32px;\n",
              "  }\n",
              "\n",
              "  .colab-df-quickchart:hover {\n",
              "    background-color: var(--hover-bg-color);\n",
              "    box-shadow: 0 1px 2px rgba(60, 64, 67, 0.3), 0 1px 3px 1px rgba(60, 64, 67, 0.15);\n",
              "    fill: var(--button-hover-fill-color);\n",
              "  }\n",
              "\n",
              "  .colab-df-quickchart-complete:disabled,\n",
              "  .colab-df-quickchart-complete:disabled:hover {\n",
              "    background-color: var(--disabled-bg-color);\n",
              "    fill: var(--disabled-fill-color);\n",
              "    box-shadow: none;\n",
              "  }\n",
              "\n",
              "  .colab-df-spinner {\n",
              "    border: 2px solid var(--fill-color);\n",
              "    border-color: transparent;\n",
              "    border-bottom-color: var(--fill-color);\n",
              "    animation:\n",
              "      spin 1s steps(1) infinite;\n",
              "  }\n",
              "\n",
              "  @keyframes spin {\n",
              "    0% {\n",
              "      border-color: transparent;\n",
              "      border-bottom-color: var(--fill-color);\n",
              "      border-left-color: var(--fill-color);\n",
              "    }\n",
              "    20% {\n",
              "      border-color: transparent;\n",
              "      border-left-color: var(--fill-color);\n",
              "      border-top-color: var(--fill-color);\n",
              "    }\n",
              "    30% {\n",
              "      border-color: transparent;\n",
              "      border-left-color: var(--fill-color);\n",
              "      border-top-color: var(--fill-color);\n",
              "      border-right-color: var(--fill-color);\n",
              "    }\n",
              "    40% {\n",
              "      border-color: transparent;\n",
              "      border-right-color: var(--fill-color);\n",
              "      border-top-color: var(--fill-color);\n",
              "    }\n",
              "    60% {\n",
              "      border-color: transparent;\n",
              "      border-right-color: var(--fill-color);\n",
              "    }\n",
              "    80% {\n",
              "      border-color: transparent;\n",
              "      border-right-color: var(--fill-color);\n",
              "      border-bottom-color: var(--fill-color);\n",
              "    }\n",
              "    90% {\n",
              "      border-color: transparent;\n",
              "      border-bottom-color: var(--fill-color);\n",
              "    }\n",
              "  }\n",
              "</style>\n",
              "\n",
              "  <script>\n",
              "    async function quickchart(key) {\n",
              "      const quickchartButtonEl =\n",
              "        document.querySelector('#' + key + ' button');\n",
              "      quickchartButtonEl.disabled = true;  // To prevent multiple clicks.\n",
              "      quickchartButtonEl.classList.add('colab-df-spinner');\n",
              "      try {\n",
              "        const charts = await google.colab.kernel.invokeFunction(\n",
              "            'suggestCharts', [key], {});\n",
              "      } catch (error) {\n",
              "        console.error('Error during call to suggestCharts:', error);\n",
              "      }\n",
              "      quickchartButtonEl.classList.remove('colab-df-spinner');\n",
              "      quickchartButtonEl.classList.add('colab-df-quickchart-complete');\n",
              "    }\n",
              "    (() => {\n",
              "      let quickchartButtonEl =\n",
              "        document.querySelector('#df-19a435fb-9c4a-45d5-9465-ee2e7bb47045 button');\n",
              "      quickchartButtonEl.style.display =\n",
              "        google.colab.kernel.accessAllowed ? 'block' : 'none';\n",
              "    })();\n",
              "  </script>\n",
              "</div>\n",
              "\n",
              "    </div>\n",
              "  </div>\n"
            ],
            "application/vnd.google.colaboratory.intrinsic+json": {
              "type": "dataframe",
              "variable_name": "df3",
              "summary": "{\n  \"name\": \"df3\",\n  \"rows\": 3,\n  \"fields\": [\n    {\n      \"column\": \"content\",\n      \"properties\": {\n        \"dtype\": \"string\",\n        \"num_unique_values\": 3,\n        \"samples\": [\n          \"TEMPO.CO, Jakarta -Buffer zone atau kawasan penyangga yang memisahkan Depo Pertamina Plumpang, Jakarta Utara, dengan pemukiman warga kini menuai sorotan, karena sudah diusulkan sejak 2009 silam. Presiden Joko Widodo atau Jokowi yang pernah menjadi Gubernur DKI Jakarta 2012-2014 mengakui usulan tersebut juga dibahas di era kepemimpinannya.\\\"Dulu memang sudah direncanakan untuk dibuat air di kanan kirinya sungai, tetapi memang belum sampai kepada titik mencarikan solusi kepada penduduknya yang ada di situ,\\\" kata Jokowi saat ditemui mengunjungi para pengungsi kebakaran Depo Pertamina di RPTRA Rasela, Koja, Jakarta Utara, Minggu, 5 Maret 2023.\\\"Tanah merah-nya ini kan padat dan penuh. Semuanya harus dicarikan solusi. Saya kira keamanan masyarakat, keselamatan masyarakat harus menjadi titik yang utama,\\\" kata dia. Tanah Merah mengacu pada Jalan Tanah Merah Bawah yang jadi lokasi kebakaran.Jokowi menyebut seharusnya zona ini harusnya menjadi zona air, seperti misalnya dibuat sungai yang memisahkan Depo dan pemukiman. Tujuannya untuk melindungi objek vital yang ada di dalam Depo. \\\"Karena barang-barang didalamnya barang-barang yang sangat bahaya untuk berdekatan dengan masyarakat, apalagi dengan pemukiman penduduk,\\\" kata dia.Heru Ungkit Buffer ZoneSebelumnya, kebakaran terjadi di Depo Pertamina pada Jumat malam, pukul 20.11 WIB, 3 Maret 2023. Usulan soal buffer zone ini diungkit Heru saat mengunjungi lokasi kebakaran pada Jumat malam tersebut.Heru menyebut tahun 2009, pemerintah daerah sudah mengusulkan buffer zone selebar 50 meter. Akan tetapi, Heru tak menjelaskan lagi apakah buffer zone ini sudah dibuat, atau hanya dibuat untuk beberapa titik saja.\\\"Kira-kira begitu, kami kembalikan ke Pertamina,\\\" kata Heru usai menggelar rapat darurat di Pos Koramil Koja, Jakarta Utara, Sabtu dini hari, 4 Maret 2023. Heru pernah jadi Wali Kota Jakarta Utara 2014-2015 di era Gubernur DKI Jokowi, lalu berlanjut ke era Gubernur DKI Basuki Tjahaja Purnama alias Ahok.Sekretaris Daerah DKI Jakarta Joko Agus Setyono mengatakan Pemerintah Provinsi akan berkerja sama dengan Pertamina untuk melanjutkan rencana pembuatan buffer zone di kawasan Depo Pertamina Plumpang, Rawa Badak Selatan, Jakarta Utara. \\\"Kita bikin kerja sama, lah, sama Pertamina,\\\" kata Joko kepada wartawan di Koramil Rawa Badak Selatan, Jakarta Utara, Sabtu, 4 Maret 2023.Namun, eks Kepala BPK Bali itu belum merinci soal pembuatan buffer zone ini. \\\"Ya, pastinya, semuanya itu, upaya-upaya untuk mengarah yang lebih bagus,\\\" ujarnya.Era Fauzi BowoTahun 2019, Jakarta dipimpin oleh Gubernur Fauzi Bowo. Kala itu, Tempo memberitakan bahwa Kawasan Tanah Merah, Plumpang, Jakarta Utara dipastikan akan dibersihkan di tahun tersebut. Wilayah tersebut akan dibangun buffer zone Depo Pertamina Plumpang.\\\"Pemerintah pusat mentargetkan 2009 ini buffer zone selesai dibangun,\\\" kata Walikota Jakarta Utara, Bambang Sugiyono di ruang kerjanya, akhir pekan lalu.Proses pembangunan dan pembebasan lahan di Tanah Merah, kata Bambang, dilakukan oleh Tim Penataan Depo Plumpang yang duduk sebagai penanggung jawab adalah Gubernur DKI Fauzi Bowo, dan Wakil Gubernur Prijanto sebagai pelaksana. \\\"Wali Kota mengerjakan inventarisasi, penyuluhan, dan pembebasan,\\\" kata Bambang.Proses pembangunan zona penyangga tersebut, lanjut Bambang, sudah memasuki tahap inventarisasi dan sosialisasi kepada warga. Ia mengakui tahap ini tergolong sulit, khususnya memverifikasi pemilik lahan sebenarnya. \\\"Bermacam-macam. Ada yang punya sertifikat tanah, agendum, dan lainnya,\\\" ujarnya.IMB Anies DisorotSelain buffer zone, masalah status lahan dan bangunan warga pun jadi sorotan. Anggota Fraksi PDI Perjuangan DPRD DKI Jakarta Gilbert Simanjuntak menyatakan sepatutnya mantan Gubernur DKI Jakarta Anies Baswedan ikut bertanggungjawab atas kebakaran Depo Pertamina Plumpang, Jakarta Utara, pada Jumat malam lalu.Menurut Gilbert, sejak awal sudah diketahui bahwa lahan di sekitar Depo Pertamina Plumpang tidak boleh ada permukiman dalam jarak tertentu. Lahan yang terkena kebakaran tadi adalah milik PT Pertamina.\\\"Lahan milik PT Pertamina ditempati warga akan tetapi oleh Anies sewaktu menjabat Gubernur diberi IMB, yang jelas bertentangan dengan peraturan,\\\" ujar Gilbert dalam keterangannya pada Sabtu, 4 Maret 2023.Gilbert menilai IMB yang dikeluarkan Anies Baswedan saat menjabat Gubernur DKI membuat persoalan semakin rumit. Menurut dia, saat itu Anies terkesan lebih mementingkan pemenuhan janji kampanye walau harus menabrak aturan. \\\"Kesalahan itu tidak sepatutnya berulang.\\\"Berkaca dari kejadian tersebut, Gilbert penduduk di sekitar Depo Pertamina Plumpang dipindahkan agar tidak menjadi korban lagi.Gubernur DKI Jakarta Anies Baswedan menerbitkan IMB (Izin Mendirikan Bangunan) Sementara kepada penduduk Kampung Tanah Merah pada Sabtu, 16 Oktober 2021.\\\"Ini adalah jalan tengah yang kami ambil untuk menyelesaikan masalah bangunan-bangunan yang berada di tanah yang status legalnya belum tuntas. Tapi mereka faktanya ada di tempat ini sudah puluhan tahun,\\\" kata Anies Baswedan di Kampung Tanah Merah, Sabtu, 16 Oktober 2021.Pertamina enggan berkomentar lebih lanjut ketika ditanya mengenai status lahan di Kampung Tanah Merah yang ikut dilalap api kebakaran Depo Pertamina Plumpang, Jakarta Utara.Fokus kami saat ini penanganan warga, kata Vice President Corporate Communication PT Pertamina Persero Fadjar Djoko Santoso kepada Tempo pada Sabtu.Pilihan Editor:Depo Pertamina Plumpang Bahaya Dekat Pemukiman, Jokowi: Digeser ke Reklamasi atau Warga Direlokasi\",\n          \"TEMPO.CO, Jakarta - Menteri BUMN Erick Thohir, Penjabat Gubernur DKI Jakarta Heru Budi Hartono, dan Direktur Utama Pertamina Nicke Widyawati siang ini langsung menggelar rapat di Depo Plumpang, Jakarta Utara, setelah diperintah Presiden Joko Widodo atau Jokowi. Jokowi memerintahkan agar ada solusi dalam satu dua hari ini usai kebakaran di Depo Pertamina, apakah fasilitas penyimpanan bensin ini dipindah atau warga di sekitar di relokasi.\\\"Ini mau rapat di sana, ini rapat langsung,\\\" kata Erick usai menemani Jokowi yang mengunjungi para pengungsi kebakaran Depo Pertamina di RPTRA Rasela, Koja, Jakarta Utara, Ahad 5 Maret 2023.Jokowi datang bersama Erick, Heru yang juga Kepala Sekretariat Presiden, dan Nicke. Nicke juga membenarkan rapat digelar di Plumpang, bersama Erick dan Heru. \\\"Iya,\\\" kata dia, di lokasi.Di lokasi ini, Jokowi telah memerintahkan Erick, Heru, dan Pertamina, mencari solusi usai kejadian kebakaran di Depo Pertamina Plumpang, Jakarta Utara. Jokowi memberi dua opsi, Depo Pertamina dipindahkan atau warga yang tinggal direlokasi.\\\"Ini akan segera diputuskan sehari dua hari ini oleh Pertamina, Gubernur DKI sehingga solusinya menjadi jelas,\\\" kata Jokowi.Ada dua opsiJokowi belum bisa memastikan apakah nanti warga masih bisa tinggal di lokasi, jika nanti yang akhirnya Depo Pertamina yang dipindah. \\\"Ini yang baru nanti dibicarakan, ada pilihan-pilihan, apakah deponya yang digeser apakah masyarakatnya yang digeser. Kalau digeser tanahnya di mana, tapi harus segera ditemukan solusinya,\\\" kata dia.Jokowi menyebut Depo Pertamina Plumpang ini merupakan zona bahaya. \\\"Tidak bisa lagi ditinggali, tetapi harus ada solusinya. Bisa saja Plumpang-nya digeser ke reklamasi atau penduduknya yang digeser ke relokasi,\\\" Mantan Gubernur DKI Jakarta 2012-2014.Jokowi tidak merinci lebih lanjut reklamasi yang dia maksud. Menurut dia, solusi akan dibicarakan oleh PT Pertamina dan Heru. \\\"Tapi semuanya memang harus zona-zona berbahaya ini tidak hanya di sini saja harus diaudit, harus dievaluasi semuanya karena menyangkut nyawa. Tadi saya sudah perintahkan semuanya,\\\" ujarnya.Jokowi menyebut seharusnya Depo Pertamina ini harusnya menjadi zona air, seperti misalnya dibuat sungai yang memisahkan Depo dan pemukiman. Tujuannya untuk melindungi objek vital yang ada di dalam Depo. \\\"Karena barang-barang didalamnya barang-barang yang sangat bahaya untuk berdekatan dengan masyarakat, apalagi dengan pemukiman penduduk,\\\" kata dia.Wapres usul depo dipindah ke PelabuhanKebakaran terjadi Jumat malam, 3 Maret 2023, yang menewaskan 17 orang dan 600 lebih mengungsi. Sebelum Jokowi, Wakil Presiden Ma'ruf Amin sudah lebih dulu mengunjungi pengungsi di Plumpang.Ma'ruf mengusulkan agar depo Pertamina di Plumpang dipindah menjauhi permukiman penduduk pascaterbakar pada Jumat malam kemarin. Kebakaran depo menjalar ke pemukiman warga hingga mengakibatkan jatuhnya korban jiwa.\\\"Saya berharap supaya depo ini lebih aman itu bisa direlokasi di pelabuhan, di daerah Pelindo. Saya kira begitu,\\\" ujar Ma'ruf Amin di kawasan Plumpang, Jakarta Utara, Sabtu, 4 Maret 2023.Pilihan Editor:Jokowi Ingin Pindahkan Depo Pertamina dari Pemukiman: Lindungi Obyek Vital\",\n          \"TEMPO.CO, Jakarta - Peneliti Pusat Studi Hukum dan Kebijakan (PSHK) M Nur Ramadhan meminta Komisi Yudisial menggali motif hakim Pengadilan Negeri Jakarta Pusat yang memutus penundaan Pemilu2024. \\\"Menjadi catatan penting adalah bahwa jangan sampai hanya menilai soal putusannya tetapi bagaimana majelis hakim ini mengambil langkah putusan. Nah ini harus didalami oleh Komisi Yudisial,\\\" ujar Ramadhan Ahad 5 Maret 2023.Menurut PSHK, penggalian motif bertujuan untuk mengurangi spekulasi adanya agenda penundaan Pemilu di masyarakat.\\\"Memang perlu dipertanyakan dan juga hal ini perlu diperdalam oleh pihak-pihak termasuk masyarakat sipil ya. Dalam hal ini untuk melihat apakah memang benar sesuai dengan apa yang mereka yakini atau di balik ini memang ada sesuatu yang terjadi,\\\" katanya.Peneliti Indonesia Corruption Watch (ICW) Kurnia Ramadhana mengatakan kecurigaan penundaan Pemilu 2024 adalah hal yang wajar karena sebelumnya Menko Marinves Luhut Binsar Pandjaitan, hingga Ketua MPR Bambang Soesatyo yang pernah mengungkapkan wacana penundaan Pemilu 2024 ke publik.\\\"Tentu kita masih ingat dan menjadi hal wajar jika masyarakat khawatir menanggapi putusan pengadilan negeri Jakarta pusat karena dua tiga tahun ke belakang banyak sekali politisi yang menggaungkan wacana penundaan pemilu misalnya Menkomarinves Luhut binsar Panjaitan dengan big datanya. Kemudian, Ketua Umum PAN Zulkifli Hasan dan juga Ketua Umum Partai Kebangkitan Bangsa Muhaimin. Lalu ada Bahlil menteri BKPM kemudian baru-baru ini ada Ketua MPR Bambang Susatyo,\\\" ujarnya.Sebelumnya, Juru Bicara Komisi Yudisal (KY) Miko Ginting menyampaikan pihaknya tengah mendalami putusan Hakim Pengadilan Negeri Jakarta Pusat perihal putusanpenundaan Pemilupada persidangan perdata Partai Prima 2 Maret 2023. RencananyaKomisi Yudisialakan memanggil ketiga Hakim PN Jakarta Pusat yaitu T. Oyong, H. Bakri, dan Dominggus Silaban.\\\"Untuk itu, KY akan melakukan pendalaman terhadap putusan itu, terutama untuk melihat apakah ada dugaan pelanggaran perilaku yang terjadi. Salah satu bagian dari pendalaman itu bisa jadi dengan memanggil hakim untuk dimintakan klarifikasi.\\\" ujarnya dalam keterangan tertulis pada 3 Maret 2023.KY juga telah berkomunikasi bersama Mahkamah Agung dalam mencermati substansi putusan yang dibuat oleh para Hakim tersebut\\\"Kami juga akan berkomunikasi dengan Mahkamah Agung terkait dengan putusan ini serta aspek perilaku hakim yang terkait.\\\"ucapnya.Menurutnya, Putusan Pengadilan sudah seharusnya bersandar aspek demokratis, aspek aspirasi masyarakat secara sosiologis dan patuh pada Undang-Undang Dasar 1945.\\\"Putusan pengadilan tidak bekerja di ruang hampa karena ada aspirasi yang hidup di masyarakat secara sosiologis, ada aspek yuridis di mana kepatuhan terhadap UUD 1945 dan undang-undang sangatlah penting, serta pertimbangan-pertimbangan lain, seperti nilai-nilai demokrasi.\\\" ujarnya.Pengadilan Negeri Jakarta Pusatmemerintahkan Komisi Pemilihan Umum untuk menunda Pemilu 2024. Perintah tersebut tertuang dalam putusan perdata yang diajukanPartai Primadengan tergugat Komisi Pemilihan Umum.Menghukum tergugat (KPU) untuk tidak melaksanakan sisa tahapan Pemilihan Umum 2024 sejak putusan ini diucapkan dan melaksanakan tahapan Pemilihan Umum dari awal selama lebih kurang 2 tahun 4 bulan tujuh hari, seperti dikutip dari salinan putusan, Kamis, 2 Maret 2023.Putusan tersebut dibacakan oleh Majelis Hakim pada Kamis, 2 Maret 2023. Adapun Ketua Majelis Hakim yang menyidangkan gugatan tersebut adalah T. Oyong, dengan hakim anggota H. Bakri dan Dominggus Silaban.Dalam putusannya, majelis hakim menyatakan KPU telah melakukan perbuatan melawan hukum. Adapun perbuatan melawan hukum yang dimaksud adalah KPU menyatakan Partai Prima tidak memenuhi syarat dalam tahapan verifikasi administrasi partai politik calon peserta pemilu.Selain penundaan, pengadilan juga menghukum KPU membayar ganti rugi materiil sebanyak Rp 500 juta. Pengadilan juga menyatakan bahwa penggugat, yakni Partai Prima adalah partai politik yang dirugikan dalam verifikasi administrasi.Pilihan Editor: PSI Dukung KPU Ajukan Banding atas Putusan Penundaan Pemilu\"\n        ],\n        \"semantic_type\": \"\",\n        \"description\": \"\"\n      }\n    },\n    {\n      \"column\": \"summary\",\n      \"properties\": {\n        \"dtype\": \"string\",\n        \"num_unique_values\": 3,\n        \"samples\": [\n          \"Presiden Joko Widodo mengungkapkan bahwa rencana pembuatan buffer zone atau kawasan penyangga yang memisahkan Depo Pertamina Plumpang dari pemukiman warga sudah diusulkan sejak 2009. Zona ini seharusnya menjadi zona air, seperti dibuatnya sungai untuk melindungi objek vital yang ada di dalam Depo. Gubernur DKI Jakarta Anies Baswedan dianggap punya andil dalam kebakaran Depo Pertamina Plumpang karena memberikan IMB pada lahan di sekitar Depo yang sesuai dengan aturan.\",\n          \"Setelah kebakaran Depo Pertamina, Presiden Jokowi memerintahkan Pertamina, Gubernur DKI Jakarta, dan Menteri BUMN untuk mencari solusi dalam 1-2 hari. Ada dua opsi, apakah Depo dipindah atau warga yang tinggal direlokasi. Wakil Presiden Ma'ruf Amin lebih memilih dipindahkan ke Pelabuhan. Jokowi menyebut Depo Pertamina di Plumpang sebagai zona bahaya dan seharusnya menjadi zona air.\",\n          \"Peneliti meminta Komisi Yudisial menggali motif hakim Pengadilan Negeri Jakarta Pusat yang memutus penundaan Pemilu 2024 untuk mengurangi spekulasi agenda penundaan Pemilu. Komisi Yudisial memanggil ketiga hakim PN Jakarta Pusat untuk dimintai klarifikasi dan melakukan pendalaman terhadap putusan tersebut. Putusan PN Jakarta Pusat memerintahkan KPU menunda Pemilu 2024 dan membayar ganti rugi materiil sebanyak Rp 500 juta karena dianggap melakukan perbuatan melawan hukum. Partai Prima merupakan penggugat dalam verifikasi administrasi Partai Politik calon peserta Pemilu.\"\n        ],\n        \"semantic_type\": \"\",\n        \"description\": \"\"\n      }\n    },\n    {\n      \"column\": \"clean_content\",\n      \"properties\": {\n        \"dtype\": \"string\",\n        \"num_unique_values\": 3,\n        \"samples\": [\n          \"tempo . co , jakarta -buffer zone kawasan penyangga memisahkan depo pertamina plumpang , jakarta utara , pemukiman warga menuai sorotan , diusulkan 2009 silam . presiden joko widodo jokowi gubernur dki jakarta 2012-2014 mengakui usulan dibahas era kepemimpinannya . \\\"dulu direncanakan air kanan kirinya sungai , titik mencarikan solusi penduduknya situ , \\\" jokowi ditemui mengunjungi pengungsi kebakaran depo pertamina rptra rasela , koja , jakarta utara , minggu , 5 maret 2023 . \\\"tanah merah-nya padat penuh . dicarikan solusi . keamanan masyarakat , keselamatan masyarakat titik utama , \\\" . tanah merah mengacu jalan tanah merah lokasi kebakaran . jokowi menyebut zona zona air , sungai memisahkan depo pemukiman . tujuannya melindungi objek vital depo . \\\"karena barang-barang didalamnya barang-barang bahaya berdekatan masyarakat , pemukiman penduduk , \\\" . heru ungkit buffer zonesebelumnya , kebakaran depo pertamina jumat malam , 20 . 11 wib , 3 maret 2023 . usulan buffer zone diungkit heru mengunjungi lokasi kebakaran jumat malam . heru menyebut 2009 , pemerintah daerah mengusulkan buffer zone selebar 50 meter . , heru buffer zone , titik . \\\"kira-kira , kembalikan pertamina , \\\" heru menggelar rapat darurat pos koramil koja , jakarta utara , sabtu , 4 maret 2023 . heru wali kota jakarta utara 2014-2015 era gubernur dki jokowi , berlanjut era gubernur dki basuki tjahaja purnama alias ahok . sekretaris daerah dki jakarta joko agus setyono pemerintah provinsi berkerja pertamina melanjutkan rencana pembuatan buffer zone kawasan depo pertamina plumpang , rawa badak selatan , jakarta utara . \\\"kita bikin kerja , , pertamina , \\\" joko wartawan koramil rawa badak selatan , jakarta utara , sabtu , 4 maret 2023 . , eks kepala bpk bali merinci pembuatan buffer zone . \\\"ya , pastinya , , upaya-upaya mengarah bagus , \\\" . era fauzi bowotahun 2019 , jakarta dipimpin gubernur fauzi bowo . , tempo memberitakan kawasan tanah merah , plumpang , jakarta utara dibersihkan . wilayah dibangun buffer zone depo pertamina plumpang . \\\"pemerintah pusat mentargetkan 2009 buffer zone selesai dibangun , \\\" walikota jakarta utara , bambang sugiyono ruang kerjanya , pekan . proses pembangunan pembebasan lahan tanah merah , bambang , tim penataan depo plumpang duduk penanggung gubernur dki fauzi bowo , wakil gubernur prijanto pelaksana . \\\"wali kota inventarisasi , penyuluhan , pembebasan , \\\" bambang . proses pembangunan zona penyangga , bambang , memasuki tahap inventarisasi sosialisasi warga . mengakui tahap tergolong sulit , memverifikasi pemilik lahan . \\\"bermacam-macam . sertifikat tanah , agendum , , \\\" . imb anies disorotselain buffer zone , status lahan bangunan warga sorotan . anggota fraksi pdi perjuangan dprd dki jakarta gilbert simanjuntak sepatutnya mantan gubernur dki jakarta anies baswedan bertanggungjawab kebakaran depo pertamina plumpang , jakarta utara , jumat malam . gilbert , lahan depo pertamina plumpang permukiman jarak . lahan terkena kebakaran milik pt pertamina . \\\"lahan milik pt pertamina ditempati warga anies menjabat gubernur imb , bertentangan peraturan , \\\" gilbert keterangannya sabtu , 4 maret 2023 . gilbert menilai imb dikeluarkan anies baswedan menjabat gubernur dki rumit . , anies terkesan mementingkan pemenuhan janji kampanye menabrak aturan . \\\"kesalahan sepatutnya berulang . \\\"berkaca kejadian , gilbert penduduk depo pertamina plumpang dipindahkan korban . gubernur dki jakarta anies baswedan menerbitkan imb (izin mendirikan bangunan) penduduk kampung tanah merah sabtu , 16 oktober 2021 . \\\"ini jalan ambil menyelesaikan bangunan-bangunan tanah status legalnya tuntas . faktanya puluhan , \\\" anies baswedan kampung tanah merah , sabtu , 16 oktober 2021 . pertamina enggan berkomentar status lahan kampung tanah merah dilalap api kebakaran depo pertamina plumpang , jakarta utara . fokus penanganan warga , vice president corporate communication pt pertamina persero fadjar djoko santoso tempo sabtu . pilihan editor:depo pertamina plumpang bahaya pemukiman , jokowi: digeser reklamasi warga direlokasi\",\n          \"tempo . co , jakarta - menteri bumn erick thohir , penjabat gubernur dki jakarta heru budi hartono , direktur utama pertamina nicke widyawati siang langsung menggelar rapat depo plumpang , jakarta utara , diperintah presiden joko widodo jokowi . jokowi memerintahkan solusi kebakaran depo pertamina , fasilitas penyimpanan bensin dipindah warga relokasi . \\\"ini rapat , rapat langsung , \\\" erick menemani jokowi mengunjungi pengungsi kebakaran depo pertamina rptra rasela , koja , jakarta utara , ahad 5 maret 2023 . jokowi erick , heru kepala sekretariat presiden , nicke . nicke membenarkan rapat digelar plumpang , erick heru . \\\"iya , \\\" , lokasi . lokasi , jokowi memerintahkan erick , heru , pertamina , mencari solusi kejadian kebakaran depo pertamina plumpang , jakarta utara . jokowi opsi , depo pertamina dipindahkan warga tinggal direlokasi . \\\"ini diputuskan sehari pertamina , gubernur dki solusinya , \\\" jokowi . opsijokowi warga tinggal lokasi , depo pertamina dipindah . \\\"ini dibicarakan , pilihan-pilihan , deponya digeser masyarakatnya digeser . digeser tanahnya , ditemukan solusinya , \\\" . jokowi menyebut depo pertamina plumpang zona bahaya . \\\"tidak ditinggali , solusinya . plumpang-nya digeser reklamasi penduduknya digeser relokasi , \\\" mantan gubernur dki jakarta 2012-2014 . jokowi merinci reklamasi maksud . , solusi dibicarakan pt pertamina heru . \\\"tapi zona-zona berbahaya diaudit , dievaluasi nyawa . perintahkan , \\\" . jokowi menyebut depo pertamina zona air , sungai memisahkan depo pemukiman . tujuannya melindungi objek vital depo . \\\"karena barang-barang didalamnya barang-barang bahaya berdekatan masyarakat , pemukiman penduduk , \\\" . wapres usul depo dipindah pelabuhankebakaran jumat malam , 3 maret 2023 , menewaskan 17 orang 600 mengungsi . jokowi , wakil presiden ma'ruf amin mengunjungi pengungsi plumpang . ma'ruf mengusulkan depo pertamina plumpang dipindah menjauhi permukiman penduduk pascaterbakar jumat malam kemarin . kebakaran depo menjalar pemukiman warga mengakibatkan jatuhnya korban jiwa . \\\"saya berharap depo aman direlokasi pelabuhan , daerah pelindo . , \\\" ma'ruf amin kawasan plumpang , jakarta utara , sabtu , 4 maret 2023 . pilihan editor:jokowi pindahkan depo pertamina pemukiman: lindungi obyek vital\",\n          \"tempo . co , jakarta - peneliti pusat studi hukum kebijakan (pshk) m nur ramadhan komisi yudisial menggali motif hakim pengadilan negeri jakarta pusat memutus penundaan pemilu2024 . \\\"menjadi catatan menilai putusannya majelis hakim mengambil langkah putusan . didalami komisi yudisial , \\\" ramadhan ahad 5 maret 2023 . pshk , penggalian motif bertujuan mengurangi spekulasi agenda penundaan pemilu masyarakat . \\\"memang diperdalam pihak-pihak masyarakat sipil ya . sesuai yakini , \\\" . peneliti indonesia corruption watch (icw) kurnia ramadhana kecurigaan penundaan pemilu 2024 wajar menko marinves luhut binsar pandjaitan , ketua mpr bambang soesatyo wacana penundaan pemilu 2024 publik . \\\"tentu wajar masyarakat khawatir menanggapi putusan pengadilan negeri jakarta pusat politisi menggaungkan wacana penundaan pemilu menkomarinves luhut binsar panjaitan big datanya . , ketua pan zulkifli hasan ketua partai kebangkitan bangsa muhaimin . bahlil menteri bkpm baru-baru ketua mpr bambang susatyo , \\\" . , juru bicara komisi yudisal (ky) miko ginting mendalami putusan hakim pengadilan negeri jakarta pusat perihal putusanpenundaan pemilupada persidangan perdata partai prima 2 maret 2023 . rencananyakomisi yudisialakan memanggil ketiga hakim pn jakarta pusat t . oyong , h . bakri , dominggus silaban . \\\"untuk , ky pendalaman putusan , dugaan pelanggaran perilaku . salah pendalaman memanggil hakim dimintakan klarifikasi . \\\" keterangan tertulis 3 maret 2023 . ky berkomunikasi mahkamah agung mencermati substansi putusan hakim tersebut\\\"kami berkomunikasi mahkamah agung terkait putusan aspek perilaku hakim terkait . \\\"ucapnya . menurutnya , putusan pengadilan bersandar aspek demokratis , aspek aspirasi masyarakat sosiologis patuh undang-undang dasar 1945 . \\\"putusan pengadilan ruang hampa aspirasi hidup masyarakat sosiologis , aspek yuridis kepatuhan uud 1945 undang-undang , pertimbangan-pertimbangan , nilai-nilai demokrasi . \\\" . pengadilan negeri jakarta pusatmemerintahkan komisi pemilihan menunda pemilu 2024 . perintah tertuang putusan perdata diajukanpartai primadengan tergugat komisi pemilihan . menghukum tergugat (kpu) melaksanakan sisa tahapan pemilihan 2024 putusan melaksanakan tahapan pemilihan 2 4 tujuh , dikutip salinan putusan , kamis , 2 maret 2023 . putusan dibacakan majelis hakim kamis , 2 maret 2023 . ketua majelis hakim menyidangkan gugatan t . oyong , hakim anggota h . bakri dominggus silaban . putusannya , majelis hakim kpu perbuatan melawan hukum . perbuatan melawan hukum kpu partai prima memenuhi syarat tahapan verifikasi administrasi partai politik calon peserta pemilu . penundaan , pengadilan menghukum kpu membayar ganti rugi materiil rp 500 juta . pengadilan penggugat , partai prima partai politik dirugikan verifikasi administrasi . pilihan editor: psi dukung kpu ajukan banding putusan penundaan pemilu\"\n        ],\n        \"semantic_type\": \"\",\n        \"description\": \"\"\n      }\n    },\n    {\n      \"column\": \"sentences\",\n      \"properties\": {\n        \"dtype\": \"object\",\n        \"semantic_type\": \"\",\n        \"description\": \"\"\n      }\n    }\n  ]\n}"
            }
          },
          "metadata": {},
          "execution_count": 8
        }
      ],
      "source": [
        "df3.head()"
      ]
    },
    {
      "cell_type": "code",
      "execution_count": null,
      "metadata": {
        "colab": {
          "base_uri": "https://localhost:8080/"
        },
        "id": "LpwRH0b0WrN5",
        "outputId": "d63afd11-8a88-4f52-e1e5-c18c6fb1c316"
      },
      "outputs": [
        {
          "output_type": "execute_result",
          "data": {
            "text/plain": [
              "['tempo .',\n",
              " 'co , jakarta -buffer zone kawasan penyangga memisahkan depo pertamina plumpang , jakarta utara , pemukiman warga menuai sorotan , diusulkan 2009 silam .',\n",
              " 'presiden joko widodo jokowi gubernur dki jakarta 2012-2014 mengakui usulan dibahas era kepemimpinannya .',\n",
              " '\"dulu direncanakan air kanan kirinya sungai , titik mencarikan solusi penduduknya situ , \" jokowi ditemui mengunjungi pengungsi kebakaran depo pertamina rptra rasela , koja , jakarta utara , minggu , 5 maret 2023 .',\n",
              " '\"tanah merah-nya padat penuh .',\n",
              " 'dicarikan solusi .',\n",
              " 'keamanan masyarakat , keselamatan masyarakat titik utama , \" .',\n",
              " 'tanah merah mengacu jalan tanah merah lokasi kebakaran .',\n",
              " 'jokowi menyebut zona zona air , sungai memisahkan depo pemukiman .',\n",
              " 'tujuannya melindungi objek vital depo .',\n",
              " '\"karena barang-barang didalamnya barang-barang bahaya berdekatan masyarakat , pemukiman penduduk , \" .',\n",
              " 'heru ungkit buffer zonesebelumnya , kebakaran depo pertamina jumat malam , 20 .',\n",
              " '11 wib , 3 maret 2023 .',\n",
              " 'usulan buffer zone diungkit heru mengunjungi lokasi kebakaran jumat malam .',\n",
              " 'heru menyebut 2009 , pemerintah daerah mengusulkan buffer zone selebar 50 meter .',\n",
              " ', heru buffer zone , titik .',\n",
              " '\"kira-kira , kembalikan pertamina , \" heru menggelar rapat darurat pos koramil koja , jakarta utara , sabtu , 4 maret 2023 .',\n",
              " 'heru wali kota jakarta utara 2014-2015 era gubernur dki jokowi , berlanjut era gubernur dki basuki tjahaja purnama alias ahok .',\n",
              " 'sekretaris daerah dki jakarta joko agus setyono pemerintah provinsi berkerja pertamina melanjutkan rencana pembuatan buffer zone kawasan depo pertamina plumpang , rawa badak selatan , jakarta utara .',\n",
              " '\"kita bikin kerja , , pertamina , \" joko wartawan koramil rawa badak selatan , jakarta utara , sabtu , 4 maret 2023 .',\n",
              " ', eks kepala bpk bali merinci pembuatan buffer zone .',\n",
              " '\"ya , pastinya , , upaya-upaya mengarah bagus , \" .',\n",
              " 'era fauzi bowotahun 2019 , jakarta dipimpin gubernur fauzi bowo .',\n",
              " ', tempo memberitakan kawasan tanah merah , plumpang , jakarta utara dibersihkan .',\n",
              " 'wilayah dibangun buffer zone depo pertamina plumpang .',\n",
              " '\"pemerintah pusat mentargetkan 2009 buffer zone selesai dibangun , \" walikota jakarta utara , bambang sugiyono ruang kerjanya , pekan .',\n",
              " 'proses pembangunan pembebasan lahan tanah merah , bambang , tim penataan depo plumpang duduk penanggung gubernur dki fauzi bowo , wakil gubernur prijanto pelaksana .',\n",
              " '\"wali kota inventarisasi , penyuluhan , pembebasan , \" bambang .',\n",
              " 'proses pembangunan zona penyangga , bambang , memasuki tahap inventarisasi sosialisasi warga .',\n",
              " 'mengakui tahap tergolong sulit , memverifikasi pemilik lahan .',\n",
              " '\"bermacam-macam .',\n",
              " 'sertifikat tanah , agendum , , \" .',\n",
              " 'imb anies disorotselain buffer zone , status lahan bangunan warga sorotan .',\n",
              " 'anggota fraksi pdi perjuangan dprd dki jakarta gilbert simanjuntak sepatutnya mantan gubernur dki jakarta anies baswedan bertanggungjawab kebakaran depo pertamina plumpang , jakarta utara , jumat malam .',\n",
              " 'gilbert , lahan depo pertamina plumpang permukiman jarak .',\n",
              " 'lahan terkena kebakaran milik pt pertamina .',\n",
              " '\"lahan milik pt pertamina ditempati warga anies menjabat gubernur imb , bertentangan peraturan , \" gilbert keterangannya sabtu , 4 maret 2023 .',\n",
              " 'gilbert menilai imb dikeluarkan anies baswedan menjabat gubernur dki rumit .',\n",
              " ', anies terkesan mementingkan pemenuhan janji kampanye menabrak aturan .',\n",
              " '\"kesalahan sepatutnya berulang .',\n",
              " '\"berkaca kejadian , gilbert penduduk depo pertamina plumpang dipindahkan korban .',\n",
              " 'gubernur dki jakarta anies baswedan menerbitkan imb (izin mendirikan bangunan) penduduk kampung tanah merah sabtu , 16 oktober 2021 .',\n",
              " '\"ini jalan ambil menyelesaikan bangunan-bangunan tanah status legalnya tuntas .',\n",
              " 'faktanya puluhan , \" anies baswedan kampung tanah merah , sabtu , 16 oktober 2021 .',\n",
              " 'pertamina enggan berkomentar status lahan kampung tanah merah dilalap api kebakaran depo pertamina plumpang , jakarta utara .',\n",
              " 'fokus penanganan warga , vice president corporate communication pt pertamina persero fadjar djoko santoso tempo sabtu .',\n",
              " 'pilihan editor:depo pertamina plumpang bahaya pemukiman , jokowi: digeser reklamasi warga direlokasi']"
            ]
          },
          "metadata": {},
          "execution_count": 9
        }
      ],
      "source": [
        "df3['sentences'][0]"
      ]
    },
    {
      "cell_type": "markdown",
      "metadata": {
        "id": "iEpHA935RaU6"
      },
      "source": [
        "## Feature Extraction and Sentence Scoring"
      ]
    },
    {
      "cell_type": "markdown",
      "source": [
        "Algoritma ini menggunakan TF-IDF untuk mengevaluasi pentingnya setiap kalimat dalam teks berdasarkan skor TF-IDF dari kata-kata dalam kalimat tersebut. Kalimat dengan skor tertinggi dianggap paling penting dan dapat digunakan untuk menyusun ringkasan dari teks aslinya."
      ],
      "metadata": {
        "id": "O1ZqnT31M7wL"
      }
    },
    {
      "cell_type": "code",
      "execution_count": null,
      "metadata": {
        "id": "FoSSfTx5Kc6d"
      },
      "outputs": [],
      "source": [
        "def score_sentences(sentences):\n",
        "    tfidf_vectorizer = TfidfVectorizer()\n",
        "    tfidf_matrix = tfidf_vectorizer.fit_transform(sentences)\n",
        "    sentence_scores = tfidf_matrix.sum(axis=1).A1\n",
        "    sentence_score_pairs = list(zip(sentences, sentence_scores))\n",
        "    return sentence_score_pairs\n",
        "\n",
        "df3['sentence_scores'] = df3['sentences'].apply(score_sentences)"
      ]
    },
    {
      "cell_type": "code",
      "execution_count": null,
      "metadata": {
        "colab": {
          "base_uri": "https://localhost:8080/"
        },
        "id": "k9H4Oy6YWZZw",
        "outputId": "7da7bcf4-584e-4c1c-ce6f-f4019bd795a0"
      },
      "outputs": [
        {
          "output_type": "execute_result",
          "data": {
            "text/plain": [
              "[('tempo .', 1.0),\n",
              " ('co , jakarta -buffer zone kawasan penyangga memisahkan depo pertamina plumpang , jakarta utara , pemukiman warga menuai sorotan , diusulkan 2009 silam .',\n",
              "  4.135661276112638),\n",
              " ('presiden joko widodo jokowi gubernur dki jakarta 2012-2014 mengakui usulan dibahas era kepemimpinannya .',\n",
              "  3.6859847448936947),\n",
              " ('\"dulu direncanakan air kanan kirinya sungai , titik mencarikan solusi penduduknya situ , \" jokowi ditemui mengunjungi pengungsi kebakaran depo pertamina rptra rasela , koja , jakarta utara , minggu , 5 maret 2023 .',\n",
              "  5.004007760736828),\n",
              " ('\"tanah merah-nya padat penuh .', 2.1900898928904673),\n",
              " ('dicarikan solusi .', 1.4123781172623664),\n",
              " ('keamanan masyarakat , keselamatan masyarakat titik utama , \" .',\n",
              "  2.1382962371373613),\n",
              " ('tanah merah mengacu jalan tanah merah lokasi kebakaran .',\n",
              "  2.3922365148650537),\n",
              " ('jokowi menyebut zona zona air , sungai memisahkan depo pemukiman .',\n",
              "  2.647446236635806),\n",
              " ('tujuannya melindungi objek vital depo .', 2.190326179521118),\n",
              " ('\"karena barang-barang didalamnya barang-barang bahaya berdekatan masyarakat , pemukiman penduduk , \" .',\n",
              "  2.2249460360436735),\n",
              " ('heru ungkit buffer zonesebelumnya , kebakaran depo pertamina jumat malam , 20 .',\n",
              "  3.074327113311021),\n",
              " ('11 wib , 3 maret 2023 .', 1.977471679356344),\n",
              " ('usulan buffer zone diungkit heru mengunjungi lokasi kebakaran jumat malam .',\n",
              "  3.118494589326288),\n",
              " ('heru menyebut 2009 , pemerintah daerah mengusulkan buffer zone selebar 50 meter .',\n",
              "  3.2678939057460292),\n",
              " (', heru buffer zone , titik .', 1.9810826025455572),\n",
              " ('\"kira-kira , kembalikan pertamina , \" heru menggelar rapat darurat pos koramil koja , jakarta utara , sabtu , 4 maret 2023 .',\n",
              "  3.610761327220855),\n",
              " ('heru wali kota jakarta utara 2014-2015 era gubernur dki jokowi , berlanjut era gubernur dki basuki tjahaja purnama alias ahok .',\n",
              "  3.978075552083902),\n",
              " ('sekretaris daerah dki jakarta joko agus setyono pemerintah provinsi berkerja pertamina melanjutkan rencana pembuatan buffer zone kawasan depo pertamina plumpang , rawa badak selatan , jakarta utara .',\n",
              "  4.708460840064375),\n",
              " ('\"kita bikin kerja , , pertamina , \" joko wartawan koramil rawa badak selatan , jakarta utara , sabtu , 4 maret 2023 .',\n",
              "  3.7941682437423525),\n",
              " (', eks kepala bpk bali merinci pembuatan buffer zone .', 2.779328057951041),\n",
              " ('\"ya , pastinya , , upaya-upaya mengarah bagus , \" .', 2.1213203435596424),\n",
              " ('era fauzi bowotahun 2019 , jakarta dipimpin gubernur fauzi bowo .',\n",
              "  2.652077867211291),\n",
              " (', tempo memberitakan kawasan tanah merah , plumpang , jakarta utara dibersihkan .',\n",
              "  2.9241041544851565),\n",
              " ('wilayah dibangun buffer zone depo pertamina plumpang .',\n",
              "  2.5577064094544992),\n",
              " ('\"pemerintah pusat mentargetkan 2009 buffer zone selesai dibangun , \" walikota jakarta utara , bambang sugiyono ruang kerjanya , pekan .',\n",
              "  3.921090679165868),\n",
              " ('proses pembangunan pembebasan lahan tanah merah , bambang , tim penataan depo plumpang duduk penanggung gubernur dki fauzi bowo , wakil gubernur prijanto pelaksana .',\n",
              "  4.374536710085591),\n",
              " ('\"wali kota inventarisasi , penyuluhan , pembebasan , \" bambang .',\n",
              "  2.4433818833955065),\n",
              " ('proses pembangunan zona penyangga , bambang , memasuki tahap inventarisasi sosialisasi warga .',\n",
              "  3.147762605243236),\n",
              " ('mengakui tahap tergolong sulit , memverifikasi pemilik lahan .',\n",
              "  2.6262141212356838),\n",
              " ('\"bermacam-macam .', 1.414213562373095),\n",
              " ('sertifikat tanah , agendum , , \" .', 1.6956405773282293),\n",
              " ('imb anies disorotselain buffer zone , status lahan bangunan warga sorotan .',\n",
              "  3.1195254248654685),\n",
              " ('anggota fraksi pdi perjuangan dprd dki jakarta gilbert simanjuntak sepatutnya mantan gubernur dki jakarta anies baswedan bertanggungjawab kebakaran depo pertamina plumpang , jakarta utara , jumat malam .',\n",
              "  4.499546368895088),\n",
              " ('gilbert , lahan depo pertamina plumpang permukiman jarak .',\n",
              "  2.5562045174117167),\n",
              " ('lahan terkena kebakaran milik pt pertamina .', 2.392981153258539),\n",
              " ('\"lahan milik pt pertamina ditempati warga anies menjabat gubernur imb , bertentangan peraturan , \" gilbert keterangannya sabtu , 4 maret 2023 .',\n",
              "  4.055120431692083),\n",
              " ('gilbert menilai imb dikeluarkan anies baswedan menjabat gubernur dki rumit .',\n",
              "  3.1177271045621304),\n",
              " (', anies terkesan mementingkan pemenuhan janji kampanye menabrak aturan .',\n",
              "  2.810072481228338),\n",
              " ('\"kesalahan sepatutnya berulang .', 1.730118340688675),\n",
              " ('\"berkaca kejadian , gilbert penduduk depo pertamina plumpang dipindahkan korban .',\n",
              "  2.908602572681394),\n",
              " ('gubernur dki jakarta anies baswedan menerbitkan imb (izin mendirikan bangunan) penduduk kampung tanah merah sabtu , 16 oktober 2021 .',\n",
              "  4.178885202499972),\n",
              " ('\"ini jalan ambil menyelesaikan bangunan-bangunan tanah status legalnya tuntas .',\n",
              "  2.9003648795415113),\n",
              " ('faktanya puluhan , \" anies baswedan kampung tanah merah , sabtu , 16 oktober 2021 .',\n",
              "  3.2745113134521087),\n",
              " ('pertamina enggan berkomentar status lahan kampung tanah merah dilalap api kebakaran depo pertamina plumpang , jakarta utara .',\n",
              "  3.76748769935342),\n",
              " ('fokus penanganan warga , vice president corporate communication pt pertamina persero fadjar djoko santoso tempo sabtu .',\n",
              "  3.8194780544341564),\n",
              " ('pilihan editor:depo pertamina plumpang bahaya pemukiman , jokowi: digeser reklamasi warga direlokasi',\n",
              "  3.374632397177132)]"
            ]
          },
          "metadata": {},
          "execution_count": 11
        }
      ],
      "source": [
        "df3['sentence_scores'][0]"
      ]
    },
    {
      "cell_type": "markdown",
      "metadata": {
        "id": "h7PJ3bMKRmfE"
      },
      "source": [
        "## Sentence Selection"
      ]
    },
    {
      "cell_type": "code",
      "execution_count": null,
      "metadata": {
        "id": "0rAFHU3ZMHcv"
      },
      "outputs": [],
      "source": [
        "def get_top_sentences(sentence_score_pairs, top_n):\n",
        "    sorted_sentences = sorted(sentence_score_pairs, key=lambda x: x[1], reverse=True)\n",
        "    top_sentences = sorted_sentences[:top_n]\n",
        "    return ' '.join([sentence for sentence, score in top_sentences])\n",
        "\n",
        "df3['summary_top3'] = df3['sentence_scores'].apply(lambda x: get_top_sentences(x, 3))\n",
        "df3['summary_top5'] = df3['sentence_scores'].apply(lambda x: get_top_sentences(x, 5))"
      ]
    },
    {
      "cell_type": "code",
      "execution_count": null,
      "metadata": {
        "colab": {
          "base_uri": "https://localhost:8080/",
          "height": 196
        },
        "id": "Gas_oCfDWSiF",
        "outputId": "cccdbb22-ed6e-48ab-845b-73cb0fe09c04"
      },
      "outputs": [
        {
          "output_type": "execute_result",
          "data": {
            "text/plain": [
              "                                             content  \\\n",
              "0  TEMPO.CO, Jakarta -Buffer zone atau kawasan pe...   \n",
              "1  TEMPO.CO, Jakarta - Menteri BUMN Erick Thohir,...   \n",
              "2  TEMPO.CO, Jakarta - Peneliti Pusat Studi Hukum...   \n",
              "\n",
              "                                             summary  \\\n",
              "0  Presiden Joko Widodo mengungkapkan bahwa renca...   \n",
              "1  Setelah kebakaran Depo Pertamina, Presiden Jok...   \n",
              "2  Peneliti meminta Komisi Yudisial menggali moti...   \n",
              "\n",
              "                                       clean_content  \\\n",
              "0  tempo . co , jakarta -buffer zone kawasan peny...   \n",
              "1  tempo . co , jakarta - menteri bumn erick thoh...   \n",
              "2  tempo . co , jakarta - peneliti pusat studi hu...   \n",
              "\n",
              "                                           sentences  \\\n",
              "0  [tempo ., co , jakarta -buffer zone kawasan pe...   \n",
              "1  [tempo ., co , jakarta - menteri bumn erick th...   \n",
              "2  [tempo ., co , jakarta - peneliti pusat studi ...   \n",
              "\n",
              "                                     sentence_scores  \\\n",
              "0  [(tempo ., 1.0), (co , jakarta -buffer zone ka...   \n",
              "1  [(tempo ., 1.0), (co , jakarta - menteri bumn ...   \n",
              "2  [(tempo ., 1.0), (co , jakarta - peneliti pusa...   \n",
              "\n",
              "                                        summary_top3  \\\n",
              "0  \"dulu direncanakan air kanan kirinya sungai , ...   \n",
              "1  co , jakarta - menteri bumn erick thohir , pen...   \n",
              "2  peneliti indonesia corruption watch (icw) kurn...   \n",
              "\n",
              "                                        summary_top5  \n",
              "0  \"dulu direncanakan air kanan kirinya sungai , ...  \n",
              "1  co , jakarta - menteri bumn erick thohir , pen...  \n",
              "2  peneliti indonesia corruption watch (icw) kurn...  "
            ],
            "text/html": [
              "\n",
              "  <div id=\"df-eef5a10f-b2d6-4938-bb14-ed3dc47d7769\" class=\"colab-df-container\">\n",
              "    <div>\n",
              "<style scoped>\n",
              "    .dataframe tbody tr th:only-of-type {\n",
              "        vertical-align: middle;\n",
              "    }\n",
              "\n",
              "    .dataframe tbody tr th {\n",
              "        vertical-align: top;\n",
              "    }\n",
              "\n",
              "    .dataframe thead th {\n",
              "        text-align: right;\n",
              "    }\n",
              "</style>\n",
              "<table border=\"1\" class=\"dataframe\">\n",
              "  <thead>\n",
              "    <tr style=\"text-align: right;\">\n",
              "      <th></th>\n",
              "      <th>content</th>\n",
              "      <th>summary</th>\n",
              "      <th>clean_content</th>\n",
              "      <th>sentences</th>\n",
              "      <th>sentence_scores</th>\n",
              "      <th>summary_top3</th>\n",
              "      <th>summary_top5</th>\n",
              "    </tr>\n",
              "  </thead>\n",
              "  <tbody>\n",
              "    <tr>\n",
              "      <th>0</th>\n",
              "      <td>TEMPO.CO, Jakarta -Buffer zone atau kawasan pe...</td>\n",
              "      <td>Presiden Joko Widodo mengungkapkan bahwa renca...</td>\n",
              "      <td>tempo . co , jakarta -buffer zone kawasan peny...</td>\n",
              "      <td>[tempo ., co , jakarta -buffer zone kawasan pe...</td>\n",
              "      <td>[(tempo ., 1.0), (co , jakarta -buffer zone ka...</td>\n",
              "      <td>\"dulu direncanakan air kanan kirinya sungai , ...</td>\n",
              "      <td>\"dulu direncanakan air kanan kirinya sungai , ...</td>\n",
              "    </tr>\n",
              "    <tr>\n",
              "      <th>1</th>\n",
              "      <td>TEMPO.CO, Jakarta - Menteri BUMN Erick Thohir,...</td>\n",
              "      <td>Setelah kebakaran Depo Pertamina, Presiden Jok...</td>\n",
              "      <td>tempo . co , jakarta - menteri bumn erick thoh...</td>\n",
              "      <td>[tempo ., co , jakarta - menteri bumn erick th...</td>\n",
              "      <td>[(tempo ., 1.0), (co , jakarta - menteri bumn ...</td>\n",
              "      <td>co , jakarta - menteri bumn erick thohir , pen...</td>\n",
              "      <td>co , jakarta - menteri bumn erick thohir , pen...</td>\n",
              "    </tr>\n",
              "    <tr>\n",
              "      <th>2</th>\n",
              "      <td>TEMPO.CO, Jakarta - Peneliti Pusat Studi Hukum...</td>\n",
              "      <td>Peneliti meminta Komisi Yudisial menggali moti...</td>\n",
              "      <td>tempo . co , jakarta - peneliti pusat studi hu...</td>\n",
              "      <td>[tempo ., co , jakarta - peneliti pusat studi ...</td>\n",
              "      <td>[(tempo ., 1.0), (co , jakarta - peneliti pusa...</td>\n",
              "      <td>peneliti indonesia corruption watch (icw) kurn...</td>\n",
              "      <td>peneliti indonesia corruption watch (icw) kurn...</td>\n",
              "    </tr>\n",
              "  </tbody>\n",
              "</table>\n",
              "</div>\n",
              "    <div class=\"colab-df-buttons\">\n",
              "\n",
              "  <div class=\"colab-df-container\">\n",
              "    <button class=\"colab-df-convert\" onclick=\"convertToInteractive('df-eef5a10f-b2d6-4938-bb14-ed3dc47d7769')\"\n",
              "            title=\"Convert this dataframe to an interactive table.\"\n",
              "            style=\"display:none;\">\n",
              "\n",
              "  <svg xmlns=\"http://www.w3.org/2000/svg\" height=\"24px\" viewBox=\"0 -960 960 960\">\n",
              "    <path d=\"M120-120v-720h720v720H120Zm60-500h600v-160H180v160Zm220 220h160v-160H400v160Zm0 220h160v-160H400v160ZM180-400h160v-160H180v160Zm440 0h160v-160H620v160ZM180-180h160v-160H180v160Zm440 0h160v-160H620v160Z\"/>\n",
              "  </svg>\n",
              "    </button>\n",
              "\n",
              "  <style>\n",
              "    .colab-df-container {\n",
              "      display:flex;\n",
              "      gap: 12px;\n",
              "    }\n",
              "\n",
              "    .colab-df-convert {\n",
              "      background-color: #E8F0FE;\n",
              "      border: none;\n",
              "      border-radius: 50%;\n",
              "      cursor: pointer;\n",
              "      display: none;\n",
              "      fill: #1967D2;\n",
              "      height: 32px;\n",
              "      padding: 0 0 0 0;\n",
              "      width: 32px;\n",
              "    }\n",
              "\n",
              "    .colab-df-convert:hover {\n",
              "      background-color: #E2EBFA;\n",
              "      box-shadow: 0px 1px 2px rgba(60, 64, 67, 0.3), 0px 1px 3px 1px rgba(60, 64, 67, 0.15);\n",
              "      fill: #174EA6;\n",
              "    }\n",
              "\n",
              "    .colab-df-buttons div {\n",
              "      margin-bottom: 4px;\n",
              "    }\n",
              "\n",
              "    [theme=dark] .colab-df-convert {\n",
              "      background-color: #3B4455;\n",
              "      fill: #D2E3FC;\n",
              "    }\n",
              "\n",
              "    [theme=dark] .colab-df-convert:hover {\n",
              "      background-color: #434B5C;\n",
              "      box-shadow: 0px 1px 3px 1px rgba(0, 0, 0, 0.15);\n",
              "      filter: drop-shadow(0px 1px 2px rgba(0, 0, 0, 0.3));\n",
              "      fill: #FFFFFF;\n",
              "    }\n",
              "  </style>\n",
              "\n",
              "    <script>\n",
              "      const buttonEl =\n",
              "        document.querySelector('#df-eef5a10f-b2d6-4938-bb14-ed3dc47d7769 button.colab-df-convert');\n",
              "      buttonEl.style.display =\n",
              "        google.colab.kernel.accessAllowed ? 'block' : 'none';\n",
              "\n",
              "      async function convertToInteractive(key) {\n",
              "        const element = document.querySelector('#df-eef5a10f-b2d6-4938-bb14-ed3dc47d7769');\n",
              "        const dataTable =\n",
              "          await google.colab.kernel.invokeFunction('convertToInteractive',\n",
              "                                                    [key], {});\n",
              "        if (!dataTable) return;\n",
              "\n",
              "        const docLinkHtml = 'Like what you see? Visit the ' +\n",
              "          '<a target=\"_blank\" href=https://colab.research.google.com/notebooks/data_table.ipynb>data table notebook</a>'\n",
              "          + ' to learn more about interactive tables.';\n",
              "        element.innerHTML = '';\n",
              "        dataTable['output_type'] = 'display_data';\n",
              "        await google.colab.output.renderOutput(dataTable, element);\n",
              "        const docLink = document.createElement('div');\n",
              "        docLink.innerHTML = docLinkHtml;\n",
              "        element.appendChild(docLink);\n",
              "      }\n",
              "    </script>\n",
              "  </div>\n",
              "\n",
              "\n",
              "<div id=\"df-e2060dd4-230c-4575-86ea-cc31b235d6b3\">\n",
              "  <button class=\"colab-df-quickchart\" onclick=\"quickchart('df-e2060dd4-230c-4575-86ea-cc31b235d6b3')\"\n",
              "            title=\"Suggest charts\"\n",
              "            style=\"display:none;\">\n",
              "\n",
              "<svg xmlns=\"http://www.w3.org/2000/svg\" height=\"24px\"viewBox=\"0 0 24 24\"\n",
              "     width=\"24px\">\n",
              "    <g>\n",
              "        <path d=\"M19 3H5c-1.1 0-2 .9-2 2v14c0 1.1.9 2 2 2h14c1.1 0 2-.9 2-2V5c0-1.1-.9-2-2-2zM9 17H7v-7h2v7zm4 0h-2V7h2v10zm4 0h-2v-4h2v4z\"/>\n",
              "    </g>\n",
              "</svg>\n",
              "  </button>\n",
              "\n",
              "<style>\n",
              "  .colab-df-quickchart {\n",
              "      --bg-color: #E8F0FE;\n",
              "      --fill-color: #1967D2;\n",
              "      --hover-bg-color: #E2EBFA;\n",
              "      --hover-fill-color: #174EA6;\n",
              "      --disabled-fill-color: #AAA;\n",
              "      --disabled-bg-color: #DDD;\n",
              "  }\n",
              "\n",
              "  [theme=dark] .colab-df-quickchart {\n",
              "      --bg-color: #3B4455;\n",
              "      --fill-color: #D2E3FC;\n",
              "      --hover-bg-color: #434B5C;\n",
              "      --hover-fill-color: #FFFFFF;\n",
              "      --disabled-bg-color: #3B4455;\n",
              "      --disabled-fill-color: #666;\n",
              "  }\n",
              "\n",
              "  .colab-df-quickchart {\n",
              "    background-color: var(--bg-color);\n",
              "    border: none;\n",
              "    border-radius: 50%;\n",
              "    cursor: pointer;\n",
              "    display: none;\n",
              "    fill: var(--fill-color);\n",
              "    height: 32px;\n",
              "    padding: 0;\n",
              "    width: 32px;\n",
              "  }\n",
              "\n",
              "  .colab-df-quickchart:hover {\n",
              "    background-color: var(--hover-bg-color);\n",
              "    box-shadow: 0 1px 2px rgba(60, 64, 67, 0.3), 0 1px 3px 1px rgba(60, 64, 67, 0.15);\n",
              "    fill: var(--button-hover-fill-color);\n",
              "  }\n",
              "\n",
              "  .colab-df-quickchart-complete:disabled,\n",
              "  .colab-df-quickchart-complete:disabled:hover {\n",
              "    background-color: var(--disabled-bg-color);\n",
              "    fill: var(--disabled-fill-color);\n",
              "    box-shadow: none;\n",
              "  }\n",
              "\n",
              "  .colab-df-spinner {\n",
              "    border: 2px solid var(--fill-color);\n",
              "    border-color: transparent;\n",
              "    border-bottom-color: var(--fill-color);\n",
              "    animation:\n",
              "      spin 1s steps(1) infinite;\n",
              "  }\n",
              "\n",
              "  @keyframes spin {\n",
              "    0% {\n",
              "      border-color: transparent;\n",
              "      border-bottom-color: var(--fill-color);\n",
              "      border-left-color: var(--fill-color);\n",
              "    }\n",
              "    20% {\n",
              "      border-color: transparent;\n",
              "      border-left-color: var(--fill-color);\n",
              "      border-top-color: var(--fill-color);\n",
              "    }\n",
              "    30% {\n",
              "      border-color: transparent;\n",
              "      border-left-color: var(--fill-color);\n",
              "      border-top-color: var(--fill-color);\n",
              "      border-right-color: var(--fill-color);\n",
              "    }\n",
              "    40% {\n",
              "      border-color: transparent;\n",
              "      border-right-color: var(--fill-color);\n",
              "      border-top-color: var(--fill-color);\n",
              "    }\n",
              "    60% {\n",
              "      border-color: transparent;\n",
              "      border-right-color: var(--fill-color);\n",
              "    }\n",
              "    80% {\n",
              "      border-color: transparent;\n",
              "      border-right-color: var(--fill-color);\n",
              "      border-bottom-color: var(--fill-color);\n",
              "    }\n",
              "    90% {\n",
              "      border-color: transparent;\n",
              "      border-bottom-color: var(--fill-color);\n",
              "    }\n",
              "  }\n",
              "</style>\n",
              "\n",
              "  <script>\n",
              "    async function quickchart(key) {\n",
              "      const quickchartButtonEl =\n",
              "        document.querySelector('#' + key + ' button');\n",
              "      quickchartButtonEl.disabled = true;  // To prevent multiple clicks.\n",
              "      quickchartButtonEl.classList.add('colab-df-spinner');\n",
              "      try {\n",
              "        const charts = await google.colab.kernel.invokeFunction(\n",
              "            'suggestCharts', [key], {});\n",
              "      } catch (error) {\n",
              "        console.error('Error during call to suggestCharts:', error);\n",
              "      }\n",
              "      quickchartButtonEl.classList.remove('colab-df-spinner');\n",
              "      quickchartButtonEl.classList.add('colab-df-quickchart-complete');\n",
              "    }\n",
              "    (() => {\n",
              "      let quickchartButtonEl =\n",
              "        document.querySelector('#df-e2060dd4-230c-4575-86ea-cc31b235d6b3 button');\n",
              "      quickchartButtonEl.style.display =\n",
              "        google.colab.kernel.accessAllowed ? 'block' : 'none';\n",
              "    })();\n",
              "  </script>\n",
              "</div>\n",
              "\n",
              "    </div>\n",
              "  </div>\n"
            ],
            "application/vnd.google.colaboratory.intrinsic+json": {
              "type": "dataframe",
              "variable_name": "df3",
              "summary": "{\n  \"name\": \"df3\",\n  \"rows\": 3,\n  \"fields\": [\n    {\n      \"column\": \"content\",\n      \"properties\": {\n        \"dtype\": \"string\",\n        \"num_unique_values\": 3,\n        \"samples\": [\n          \"TEMPO.CO, Jakarta -Buffer zone atau kawasan penyangga yang memisahkan Depo Pertamina Plumpang, Jakarta Utara, dengan pemukiman warga kini menuai sorotan, karena sudah diusulkan sejak 2009 silam. Presiden Joko Widodo atau Jokowi yang pernah menjadi Gubernur DKI Jakarta 2012-2014 mengakui usulan tersebut juga dibahas di era kepemimpinannya.\\\"Dulu memang sudah direncanakan untuk dibuat air di kanan kirinya sungai, tetapi memang belum sampai kepada titik mencarikan solusi kepada penduduknya yang ada di situ,\\\" kata Jokowi saat ditemui mengunjungi para pengungsi kebakaran Depo Pertamina di RPTRA Rasela, Koja, Jakarta Utara, Minggu, 5 Maret 2023.\\\"Tanah merah-nya ini kan padat dan penuh. Semuanya harus dicarikan solusi. Saya kira keamanan masyarakat, keselamatan masyarakat harus menjadi titik yang utama,\\\" kata dia. Tanah Merah mengacu pada Jalan Tanah Merah Bawah yang jadi lokasi kebakaran.Jokowi menyebut seharusnya zona ini harusnya menjadi zona air, seperti misalnya dibuat sungai yang memisahkan Depo dan pemukiman. Tujuannya untuk melindungi objek vital yang ada di dalam Depo. \\\"Karena barang-barang didalamnya barang-barang yang sangat bahaya untuk berdekatan dengan masyarakat, apalagi dengan pemukiman penduduk,\\\" kata dia.Heru Ungkit Buffer ZoneSebelumnya, kebakaran terjadi di Depo Pertamina pada Jumat malam, pukul 20.11 WIB, 3 Maret 2023. Usulan soal buffer zone ini diungkit Heru saat mengunjungi lokasi kebakaran pada Jumat malam tersebut.Heru menyebut tahun 2009, pemerintah daerah sudah mengusulkan buffer zone selebar 50 meter. Akan tetapi, Heru tak menjelaskan lagi apakah buffer zone ini sudah dibuat, atau hanya dibuat untuk beberapa titik saja.\\\"Kira-kira begitu, kami kembalikan ke Pertamina,\\\" kata Heru usai menggelar rapat darurat di Pos Koramil Koja, Jakarta Utara, Sabtu dini hari, 4 Maret 2023. Heru pernah jadi Wali Kota Jakarta Utara 2014-2015 di era Gubernur DKI Jokowi, lalu berlanjut ke era Gubernur DKI Basuki Tjahaja Purnama alias Ahok.Sekretaris Daerah DKI Jakarta Joko Agus Setyono mengatakan Pemerintah Provinsi akan berkerja sama dengan Pertamina untuk melanjutkan rencana pembuatan buffer zone di kawasan Depo Pertamina Plumpang, Rawa Badak Selatan, Jakarta Utara. \\\"Kita bikin kerja sama, lah, sama Pertamina,\\\" kata Joko kepada wartawan di Koramil Rawa Badak Selatan, Jakarta Utara, Sabtu, 4 Maret 2023.Namun, eks Kepala BPK Bali itu belum merinci soal pembuatan buffer zone ini. \\\"Ya, pastinya, semuanya itu, upaya-upaya untuk mengarah yang lebih bagus,\\\" ujarnya.Era Fauzi BowoTahun 2019, Jakarta dipimpin oleh Gubernur Fauzi Bowo. Kala itu, Tempo memberitakan bahwa Kawasan Tanah Merah, Plumpang, Jakarta Utara dipastikan akan dibersihkan di tahun tersebut. Wilayah tersebut akan dibangun buffer zone Depo Pertamina Plumpang.\\\"Pemerintah pusat mentargetkan 2009 ini buffer zone selesai dibangun,\\\" kata Walikota Jakarta Utara, Bambang Sugiyono di ruang kerjanya, akhir pekan lalu.Proses pembangunan dan pembebasan lahan di Tanah Merah, kata Bambang, dilakukan oleh Tim Penataan Depo Plumpang yang duduk sebagai penanggung jawab adalah Gubernur DKI Fauzi Bowo, dan Wakil Gubernur Prijanto sebagai pelaksana. \\\"Wali Kota mengerjakan inventarisasi, penyuluhan, dan pembebasan,\\\" kata Bambang.Proses pembangunan zona penyangga tersebut, lanjut Bambang, sudah memasuki tahap inventarisasi dan sosialisasi kepada warga. Ia mengakui tahap ini tergolong sulit, khususnya memverifikasi pemilik lahan sebenarnya. \\\"Bermacam-macam. Ada yang punya sertifikat tanah, agendum, dan lainnya,\\\" ujarnya.IMB Anies DisorotSelain buffer zone, masalah status lahan dan bangunan warga pun jadi sorotan. Anggota Fraksi PDI Perjuangan DPRD DKI Jakarta Gilbert Simanjuntak menyatakan sepatutnya mantan Gubernur DKI Jakarta Anies Baswedan ikut bertanggungjawab atas kebakaran Depo Pertamina Plumpang, Jakarta Utara, pada Jumat malam lalu.Menurut Gilbert, sejak awal sudah diketahui bahwa lahan di sekitar Depo Pertamina Plumpang tidak boleh ada permukiman dalam jarak tertentu. Lahan yang terkena kebakaran tadi adalah milik PT Pertamina.\\\"Lahan milik PT Pertamina ditempati warga akan tetapi oleh Anies sewaktu menjabat Gubernur diberi IMB, yang jelas bertentangan dengan peraturan,\\\" ujar Gilbert dalam keterangannya pada Sabtu, 4 Maret 2023.Gilbert menilai IMB yang dikeluarkan Anies Baswedan saat menjabat Gubernur DKI membuat persoalan semakin rumit. Menurut dia, saat itu Anies terkesan lebih mementingkan pemenuhan janji kampanye walau harus menabrak aturan. \\\"Kesalahan itu tidak sepatutnya berulang.\\\"Berkaca dari kejadian tersebut, Gilbert penduduk di sekitar Depo Pertamina Plumpang dipindahkan agar tidak menjadi korban lagi.Gubernur DKI Jakarta Anies Baswedan menerbitkan IMB (Izin Mendirikan Bangunan) Sementara kepada penduduk Kampung Tanah Merah pada Sabtu, 16 Oktober 2021.\\\"Ini adalah jalan tengah yang kami ambil untuk menyelesaikan masalah bangunan-bangunan yang berada di tanah yang status legalnya belum tuntas. Tapi mereka faktanya ada di tempat ini sudah puluhan tahun,\\\" kata Anies Baswedan di Kampung Tanah Merah, Sabtu, 16 Oktober 2021.Pertamina enggan berkomentar lebih lanjut ketika ditanya mengenai status lahan di Kampung Tanah Merah yang ikut dilalap api kebakaran Depo Pertamina Plumpang, Jakarta Utara.Fokus kami saat ini penanganan warga, kata Vice President Corporate Communication PT Pertamina Persero Fadjar Djoko Santoso kepada Tempo pada Sabtu.Pilihan Editor:Depo Pertamina Plumpang Bahaya Dekat Pemukiman, Jokowi: Digeser ke Reklamasi atau Warga Direlokasi\",\n          \"TEMPO.CO, Jakarta - Menteri BUMN Erick Thohir, Penjabat Gubernur DKI Jakarta Heru Budi Hartono, dan Direktur Utama Pertamina Nicke Widyawati siang ini langsung menggelar rapat di Depo Plumpang, Jakarta Utara, setelah diperintah Presiden Joko Widodo atau Jokowi. Jokowi memerintahkan agar ada solusi dalam satu dua hari ini usai kebakaran di Depo Pertamina, apakah fasilitas penyimpanan bensin ini dipindah atau warga di sekitar di relokasi.\\\"Ini mau rapat di sana, ini rapat langsung,\\\" kata Erick usai menemani Jokowi yang mengunjungi para pengungsi kebakaran Depo Pertamina di RPTRA Rasela, Koja, Jakarta Utara, Ahad 5 Maret 2023.Jokowi datang bersama Erick, Heru yang juga Kepala Sekretariat Presiden, dan Nicke. Nicke juga membenarkan rapat digelar di Plumpang, bersama Erick dan Heru. \\\"Iya,\\\" kata dia, di lokasi.Di lokasi ini, Jokowi telah memerintahkan Erick, Heru, dan Pertamina, mencari solusi usai kejadian kebakaran di Depo Pertamina Plumpang, Jakarta Utara. Jokowi memberi dua opsi, Depo Pertamina dipindahkan atau warga yang tinggal direlokasi.\\\"Ini akan segera diputuskan sehari dua hari ini oleh Pertamina, Gubernur DKI sehingga solusinya menjadi jelas,\\\" kata Jokowi.Ada dua opsiJokowi belum bisa memastikan apakah nanti warga masih bisa tinggal di lokasi, jika nanti yang akhirnya Depo Pertamina yang dipindah. \\\"Ini yang baru nanti dibicarakan, ada pilihan-pilihan, apakah deponya yang digeser apakah masyarakatnya yang digeser. Kalau digeser tanahnya di mana, tapi harus segera ditemukan solusinya,\\\" kata dia.Jokowi menyebut Depo Pertamina Plumpang ini merupakan zona bahaya. \\\"Tidak bisa lagi ditinggali, tetapi harus ada solusinya. Bisa saja Plumpang-nya digeser ke reklamasi atau penduduknya yang digeser ke relokasi,\\\" Mantan Gubernur DKI Jakarta 2012-2014.Jokowi tidak merinci lebih lanjut reklamasi yang dia maksud. Menurut dia, solusi akan dibicarakan oleh PT Pertamina dan Heru. \\\"Tapi semuanya memang harus zona-zona berbahaya ini tidak hanya di sini saja harus diaudit, harus dievaluasi semuanya karena menyangkut nyawa. Tadi saya sudah perintahkan semuanya,\\\" ujarnya.Jokowi menyebut seharusnya Depo Pertamina ini harusnya menjadi zona air, seperti misalnya dibuat sungai yang memisahkan Depo dan pemukiman. Tujuannya untuk melindungi objek vital yang ada di dalam Depo. \\\"Karena barang-barang didalamnya barang-barang yang sangat bahaya untuk berdekatan dengan masyarakat, apalagi dengan pemukiman penduduk,\\\" kata dia.Wapres usul depo dipindah ke PelabuhanKebakaran terjadi Jumat malam, 3 Maret 2023, yang menewaskan 17 orang dan 600 lebih mengungsi. Sebelum Jokowi, Wakil Presiden Ma'ruf Amin sudah lebih dulu mengunjungi pengungsi di Plumpang.Ma'ruf mengusulkan agar depo Pertamina di Plumpang dipindah menjauhi permukiman penduduk pascaterbakar pada Jumat malam kemarin. Kebakaran depo menjalar ke pemukiman warga hingga mengakibatkan jatuhnya korban jiwa.\\\"Saya berharap supaya depo ini lebih aman itu bisa direlokasi di pelabuhan, di daerah Pelindo. Saya kira begitu,\\\" ujar Ma'ruf Amin di kawasan Plumpang, Jakarta Utara, Sabtu, 4 Maret 2023.Pilihan Editor:Jokowi Ingin Pindahkan Depo Pertamina dari Pemukiman: Lindungi Obyek Vital\",\n          \"TEMPO.CO, Jakarta - Peneliti Pusat Studi Hukum dan Kebijakan (PSHK) M Nur Ramadhan meminta Komisi Yudisial menggali motif hakim Pengadilan Negeri Jakarta Pusat yang memutus penundaan Pemilu2024. \\\"Menjadi catatan penting adalah bahwa jangan sampai hanya menilai soal putusannya tetapi bagaimana majelis hakim ini mengambil langkah putusan. Nah ini harus didalami oleh Komisi Yudisial,\\\" ujar Ramadhan Ahad 5 Maret 2023.Menurut PSHK, penggalian motif bertujuan untuk mengurangi spekulasi adanya agenda penundaan Pemilu di masyarakat.\\\"Memang perlu dipertanyakan dan juga hal ini perlu diperdalam oleh pihak-pihak termasuk masyarakat sipil ya. Dalam hal ini untuk melihat apakah memang benar sesuai dengan apa yang mereka yakini atau di balik ini memang ada sesuatu yang terjadi,\\\" katanya.Peneliti Indonesia Corruption Watch (ICW) Kurnia Ramadhana mengatakan kecurigaan penundaan Pemilu 2024 adalah hal yang wajar karena sebelumnya Menko Marinves Luhut Binsar Pandjaitan, hingga Ketua MPR Bambang Soesatyo yang pernah mengungkapkan wacana penundaan Pemilu 2024 ke publik.\\\"Tentu kita masih ingat dan menjadi hal wajar jika masyarakat khawatir menanggapi putusan pengadilan negeri Jakarta pusat karena dua tiga tahun ke belakang banyak sekali politisi yang menggaungkan wacana penundaan pemilu misalnya Menkomarinves Luhut binsar Panjaitan dengan big datanya. Kemudian, Ketua Umum PAN Zulkifli Hasan dan juga Ketua Umum Partai Kebangkitan Bangsa Muhaimin. Lalu ada Bahlil menteri BKPM kemudian baru-baru ini ada Ketua MPR Bambang Susatyo,\\\" ujarnya.Sebelumnya, Juru Bicara Komisi Yudisal (KY) Miko Ginting menyampaikan pihaknya tengah mendalami putusan Hakim Pengadilan Negeri Jakarta Pusat perihal putusanpenundaan Pemilupada persidangan perdata Partai Prima 2 Maret 2023. RencananyaKomisi Yudisialakan memanggil ketiga Hakim PN Jakarta Pusat yaitu T. Oyong, H. Bakri, dan Dominggus Silaban.\\\"Untuk itu, KY akan melakukan pendalaman terhadap putusan itu, terutama untuk melihat apakah ada dugaan pelanggaran perilaku yang terjadi. Salah satu bagian dari pendalaman itu bisa jadi dengan memanggil hakim untuk dimintakan klarifikasi.\\\" ujarnya dalam keterangan tertulis pada 3 Maret 2023.KY juga telah berkomunikasi bersama Mahkamah Agung dalam mencermati substansi putusan yang dibuat oleh para Hakim tersebut\\\"Kami juga akan berkomunikasi dengan Mahkamah Agung terkait dengan putusan ini serta aspek perilaku hakim yang terkait.\\\"ucapnya.Menurutnya, Putusan Pengadilan sudah seharusnya bersandar aspek demokratis, aspek aspirasi masyarakat secara sosiologis dan patuh pada Undang-Undang Dasar 1945.\\\"Putusan pengadilan tidak bekerja di ruang hampa karena ada aspirasi yang hidup di masyarakat secara sosiologis, ada aspek yuridis di mana kepatuhan terhadap UUD 1945 dan undang-undang sangatlah penting, serta pertimbangan-pertimbangan lain, seperti nilai-nilai demokrasi.\\\" ujarnya.Pengadilan Negeri Jakarta Pusatmemerintahkan Komisi Pemilihan Umum untuk menunda Pemilu 2024. Perintah tersebut tertuang dalam putusan perdata yang diajukanPartai Primadengan tergugat Komisi Pemilihan Umum.Menghukum tergugat (KPU) untuk tidak melaksanakan sisa tahapan Pemilihan Umum 2024 sejak putusan ini diucapkan dan melaksanakan tahapan Pemilihan Umum dari awal selama lebih kurang 2 tahun 4 bulan tujuh hari, seperti dikutip dari salinan putusan, Kamis, 2 Maret 2023.Putusan tersebut dibacakan oleh Majelis Hakim pada Kamis, 2 Maret 2023. Adapun Ketua Majelis Hakim yang menyidangkan gugatan tersebut adalah T. Oyong, dengan hakim anggota H. Bakri dan Dominggus Silaban.Dalam putusannya, majelis hakim menyatakan KPU telah melakukan perbuatan melawan hukum. Adapun perbuatan melawan hukum yang dimaksud adalah KPU menyatakan Partai Prima tidak memenuhi syarat dalam tahapan verifikasi administrasi partai politik calon peserta pemilu.Selain penundaan, pengadilan juga menghukum KPU membayar ganti rugi materiil sebanyak Rp 500 juta. Pengadilan juga menyatakan bahwa penggugat, yakni Partai Prima adalah partai politik yang dirugikan dalam verifikasi administrasi.Pilihan Editor: PSI Dukung KPU Ajukan Banding atas Putusan Penundaan Pemilu\"\n        ],\n        \"semantic_type\": \"\",\n        \"description\": \"\"\n      }\n    },\n    {\n      \"column\": \"summary\",\n      \"properties\": {\n        \"dtype\": \"string\",\n        \"num_unique_values\": 3,\n        \"samples\": [\n          \"Presiden Joko Widodo mengungkapkan bahwa rencana pembuatan buffer zone atau kawasan penyangga yang memisahkan Depo Pertamina Plumpang dari pemukiman warga sudah diusulkan sejak 2009. Zona ini seharusnya menjadi zona air, seperti dibuatnya sungai untuk melindungi objek vital yang ada di dalam Depo. Gubernur DKI Jakarta Anies Baswedan dianggap punya andil dalam kebakaran Depo Pertamina Plumpang karena memberikan IMB pada lahan di sekitar Depo yang sesuai dengan aturan.\",\n          \"Setelah kebakaran Depo Pertamina, Presiden Jokowi memerintahkan Pertamina, Gubernur DKI Jakarta, dan Menteri BUMN untuk mencari solusi dalam 1-2 hari. Ada dua opsi, apakah Depo dipindah atau warga yang tinggal direlokasi. Wakil Presiden Ma'ruf Amin lebih memilih dipindahkan ke Pelabuhan. Jokowi menyebut Depo Pertamina di Plumpang sebagai zona bahaya dan seharusnya menjadi zona air.\",\n          \"Peneliti meminta Komisi Yudisial menggali motif hakim Pengadilan Negeri Jakarta Pusat yang memutus penundaan Pemilu 2024 untuk mengurangi spekulasi agenda penundaan Pemilu. Komisi Yudisial memanggil ketiga hakim PN Jakarta Pusat untuk dimintai klarifikasi dan melakukan pendalaman terhadap putusan tersebut. Putusan PN Jakarta Pusat memerintahkan KPU menunda Pemilu 2024 dan membayar ganti rugi materiil sebanyak Rp 500 juta karena dianggap melakukan perbuatan melawan hukum. Partai Prima merupakan penggugat dalam verifikasi administrasi Partai Politik calon peserta Pemilu.\"\n        ],\n        \"semantic_type\": \"\",\n        \"description\": \"\"\n      }\n    },\n    {\n      \"column\": \"clean_content\",\n      \"properties\": {\n        \"dtype\": \"string\",\n        \"num_unique_values\": 3,\n        \"samples\": [\n          \"tempo . co , jakarta -buffer zone kawasan penyangga memisahkan depo pertamina plumpang , jakarta utara , pemukiman warga menuai sorotan , diusulkan 2009 silam . presiden joko widodo jokowi gubernur dki jakarta 2012-2014 mengakui usulan dibahas era kepemimpinannya . \\\"dulu direncanakan air kanan kirinya sungai , titik mencarikan solusi penduduknya situ , \\\" jokowi ditemui mengunjungi pengungsi kebakaran depo pertamina rptra rasela , koja , jakarta utara , minggu , 5 maret 2023 . \\\"tanah merah-nya padat penuh . dicarikan solusi . keamanan masyarakat , keselamatan masyarakat titik utama , \\\" . tanah merah mengacu jalan tanah merah lokasi kebakaran . jokowi menyebut zona zona air , sungai memisahkan depo pemukiman . tujuannya melindungi objek vital depo . \\\"karena barang-barang didalamnya barang-barang bahaya berdekatan masyarakat , pemukiman penduduk , \\\" . heru ungkit buffer zonesebelumnya , kebakaran depo pertamina jumat malam , 20 . 11 wib , 3 maret 2023 . usulan buffer zone diungkit heru mengunjungi lokasi kebakaran jumat malam . heru menyebut 2009 , pemerintah daerah mengusulkan buffer zone selebar 50 meter . , heru buffer zone , titik . \\\"kira-kira , kembalikan pertamina , \\\" heru menggelar rapat darurat pos koramil koja , jakarta utara , sabtu , 4 maret 2023 . heru wali kota jakarta utara 2014-2015 era gubernur dki jokowi , berlanjut era gubernur dki basuki tjahaja purnama alias ahok . sekretaris daerah dki jakarta joko agus setyono pemerintah provinsi berkerja pertamina melanjutkan rencana pembuatan buffer zone kawasan depo pertamina plumpang , rawa badak selatan , jakarta utara . \\\"kita bikin kerja , , pertamina , \\\" joko wartawan koramil rawa badak selatan , jakarta utara , sabtu , 4 maret 2023 . , eks kepala bpk bali merinci pembuatan buffer zone . \\\"ya , pastinya , , upaya-upaya mengarah bagus , \\\" . era fauzi bowotahun 2019 , jakarta dipimpin gubernur fauzi bowo . , tempo memberitakan kawasan tanah merah , plumpang , jakarta utara dibersihkan . wilayah dibangun buffer zone depo pertamina plumpang . \\\"pemerintah pusat mentargetkan 2009 buffer zone selesai dibangun , \\\" walikota jakarta utara , bambang sugiyono ruang kerjanya , pekan . proses pembangunan pembebasan lahan tanah merah , bambang , tim penataan depo plumpang duduk penanggung gubernur dki fauzi bowo , wakil gubernur prijanto pelaksana . \\\"wali kota inventarisasi , penyuluhan , pembebasan , \\\" bambang . proses pembangunan zona penyangga , bambang , memasuki tahap inventarisasi sosialisasi warga . mengakui tahap tergolong sulit , memverifikasi pemilik lahan . \\\"bermacam-macam . sertifikat tanah , agendum , , \\\" . imb anies disorotselain buffer zone , status lahan bangunan warga sorotan . anggota fraksi pdi perjuangan dprd dki jakarta gilbert simanjuntak sepatutnya mantan gubernur dki jakarta anies baswedan bertanggungjawab kebakaran depo pertamina plumpang , jakarta utara , jumat malam . gilbert , lahan depo pertamina plumpang permukiman jarak . lahan terkena kebakaran milik pt pertamina . \\\"lahan milik pt pertamina ditempati warga anies menjabat gubernur imb , bertentangan peraturan , \\\" gilbert keterangannya sabtu , 4 maret 2023 . gilbert menilai imb dikeluarkan anies baswedan menjabat gubernur dki rumit . , anies terkesan mementingkan pemenuhan janji kampanye menabrak aturan . \\\"kesalahan sepatutnya berulang . \\\"berkaca kejadian , gilbert penduduk depo pertamina plumpang dipindahkan korban . gubernur dki jakarta anies baswedan menerbitkan imb (izin mendirikan bangunan) penduduk kampung tanah merah sabtu , 16 oktober 2021 . \\\"ini jalan ambil menyelesaikan bangunan-bangunan tanah status legalnya tuntas . faktanya puluhan , \\\" anies baswedan kampung tanah merah , sabtu , 16 oktober 2021 . pertamina enggan berkomentar status lahan kampung tanah merah dilalap api kebakaran depo pertamina plumpang , jakarta utara . fokus penanganan warga , vice president corporate communication pt pertamina persero fadjar djoko santoso tempo sabtu . pilihan editor:depo pertamina plumpang bahaya pemukiman , jokowi: digeser reklamasi warga direlokasi\",\n          \"tempo . co , jakarta - menteri bumn erick thohir , penjabat gubernur dki jakarta heru budi hartono , direktur utama pertamina nicke widyawati siang langsung menggelar rapat depo plumpang , jakarta utara , diperintah presiden joko widodo jokowi . jokowi memerintahkan solusi kebakaran depo pertamina , fasilitas penyimpanan bensin dipindah warga relokasi . \\\"ini rapat , rapat langsung , \\\" erick menemani jokowi mengunjungi pengungsi kebakaran depo pertamina rptra rasela , koja , jakarta utara , ahad 5 maret 2023 . jokowi erick , heru kepala sekretariat presiden , nicke . nicke membenarkan rapat digelar plumpang , erick heru . \\\"iya , \\\" , lokasi . lokasi , jokowi memerintahkan erick , heru , pertamina , mencari solusi kejadian kebakaran depo pertamina plumpang , jakarta utara . jokowi opsi , depo pertamina dipindahkan warga tinggal direlokasi . \\\"ini diputuskan sehari pertamina , gubernur dki solusinya , \\\" jokowi . opsijokowi warga tinggal lokasi , depo pertamina dipindah . \\\"ini dibicarakan , pilihan-pilihan , deponya digeser masyarakatnya digeser . digeser tanahnya , ditemukan solusinya , \\\" . jokowi menyebut depo pertamina plumpang zona bahaya . \\\"tidak ditinggali , solusinya . plumpang-nya digeser reklamasi penduduknya digeser relokasi , \\\" mantan gubernur dki jakarta 2012-2014 . jokowi merinci reklamasi maksud . , solusi dibicarakan pt pertamina heru . \\\"tapi zona-zona berbahaya diaudit , dievaluasi nyawa . perintahkan , \\\" . jokowi menyebut depo pertamina zona air , sungai memisahkan depo pemukiman . tujuannya melindungi objek vital depo . \\\"karena barang-barang didalamnya barang-barang bahaya berdekatan masyarakat , pemukiman penduduk , \\\" . wapres usul depo dipindah pelabuhankebakaran jumat malam , 3 maret 2023 , menewaskan 17 orang 600 mengungsi . jokowi , wakil presiden ma'ruf amin mengunjungi pengungsi plumpang . ma'ruf mengusulkan depo pertamina plumpang dipindah menjauhi permukiman penduduk pascaterbakar jumat malam kemarin . kebakaran depo menjalar pemukiman warga mengakibatkan jatuhnya korban jiwa . \\\"saya berharap depo aman direlokasi pelabuhan , daerah pelindo . , \\\" ma'ruf amin kawasan plumpang , jakarta utara , sabtu , 4 maret 2023 . pilihan editor:jokowi pindahkan depo pertamina pemukiman: lindungi obyek vital\",\n          \"tempo . co , jakarta - peneliti pusat studi hukum kebijakan (pshk) m nur ramadhan komisi yudisial menggali motif hakim pengadilan negeri jakarta pusat memutus penundaan pemilu2024 . \\\"menjadi catatan menilai putusannya majelis hakim mengambil langkah putusan . didalami komisi yudisial , \\\" ramadhan ahad 5 maret 2023 . pshk , penggalian motif bertujuan mengurangi spekulasi agenda penundaan pemilu masyarakat . \\\"memang diperdalam pihak-pihak masyarakat sipil ya . sesuai yakini , \\\" . peneliti indonesia corruption watch (icw) kurnia ramadhana kecurigaan penundaan pemilu 2024 wajar menko marinves luhut binsar pandjaitan , ketua mpr bambang soesatyo wacana penundaan pemilu 2024 publik . \\\"tentu wajar masyarakat khawatir menanggapi putusan pengadilan negeri jakarta pusat politisi menggaungkan wacana penundaan pemilu menkomarinves luhut binsar panjaitan big datanya . , ketua pan zulkifli hasan ketua partai kebangkitan bangsa muhaimin . bahlil menteri bkpm baru-baru ketua mpr bambang susatyo , \\\" . , juru bicara komisi yudisal (ky) miko ginting mendalami putusan hakim pengadilan negeri jakarta pusat perihal putusanpenundaan pemilupada persidangan perdata partai prima 2 maret 2023 . rencananyakomisi yudisialakan memanggil ketiga hakim pn jakarta pusat t . oyong , h . bakri , dominggus silaban . \\\"untuk , ky pendalaman putusan , dugaan pelanggaran perilaku . salah pendalaman memanggil hakim dimintakan klarifikasi . \\\" keterangan tertulis 3 maret 2023 . ky berkomunikasi mahkamah agung mencermati substansi putusan hakim tersebut\\\"kami berkomunikasi mahkamah agung terkait putusan aspek perilaku hakim terkait . \\\"ucapnya . menurutnya , putusan pengadilan bersandar aspek demokratis , aspek aspirasi masyarakat sosiologis patuh undang-undang dasar 1945 . \\\"putusan pengadilan ruang hampa aspirasi hidup masyarakat sosiologis , aspek yuridis kepatuhan uud 1945 undang-undang , pertimbangan-pertimbangan , nilai-nilai demokrasi . \\\" . pengadilan negeri jakarta pusatmemerintahkan komisi pemilihan menunda pemilu 2024 . perintah tertuang putusan perdata diajukanpartai primadengan tergugat komisi pemilihan . menghukum tergugat (kpu) melaksanakan sisa tahapan pemilihan 2024 putusan melaksanakan tahapan pemilihan 2 4 tujuh , dikutip salinan putusan , kamis , 2 maret 2023 . putusan dibacakan majelis hakim kamis , 2 maret 2023 . ketua majelis hakim menyidangkan gugatan t . oyong , hakim anggota h . bakri dominggus silaban . putusannya , majelis hakim kpu perbuatan melawan hukum . perbuatan melawan hukum kpu partai prima memenuhi syarat tahapan verifikasi administrasi partai politik calon peserta pemilu . penundaan , pengadilan menghukum kpu membayar ganti rugi materiil rp 500 juta . pengadilan penggugat , partai prima partai politik dirugikan verifikasi administrasi . pilihan editor: psi dukung kpu ajukan banding putusan penundaan pemilu\"\n        ],\n        \"semantic_type\": \"\",\n        \"description\": \"\"\n      }\n    },\n    {\n      \"column\": \"sentences\",\n      \"properties\": {\n        \"dtype\": \"object\",\n        \"semantic_type\": \"\",\n        \"description\": \"\"\n      }\n    },\n    {\n      \"column\": \"sentence_scores\",\n      \"properties\": {\n        \"dtype\": \"object\",\n        \"semantic_type\": \"\",\n        \"description\": \"\"\n      }\n    },\n    {\n      \"column\": \"summary_top3\",\n      \"properties\": {\n        \"dtype\": \"string\",\n        \"num_unique_values\": 3,\n        \"samples\": [\n          \"\\\"dulu direncanakan air kanan kirinya sungai , titik mencarikan solusi penduduknya situ , \\\" jokowi ditemui mengunjungi pengungsi kebakaran depo pertamina rptra rasela , koja , jakarta utara , minggu , 5 maret 2023 . sekretaris daerah dki jakarta joko agus setyono pemerintah provinsi berkerja pertamina melanjutkan rencana pembuatan buffer zone kawasan depo pertamina plumpang , rawa badak selatan , jakarta utara . anggota fraksi pdi perjuangan dprd dki jakarta gilbert simanjuntak sepatutnya mantan gubernur dki jakarta anies baswedan bertanggungjawab kebakaran depo pertamina plumpang , jakarta utara , jumat malam .\",\n          \"co , jakarta - menteri bumn erick thohir , penjabat gubernur dki jakarta heru budi hartono , direktur utama pertamina nicke widyawati siang langsung menggelar rapat depo plumpang , jakarta utara , diperintah presiden joko widodo jokowi . \\\"ini rapat , rapat langsung , \\\" erick menemani jokowi mengunjungi pengungsi kebakaran depo pertamina rptra rasela , koja , jakarta utara , ahad 5 maret 2023 . wapres usul depo dipindah pelabuhankebakaran jumat malam , 3 maret 2023 , menewaskan 17 orang 600 mengungsi .\",\n          \"peneliti indonesia corruption watch (icw) kurnia ramadhana kecurigaan penundaan pemilu 2024 wajar menko marinves luhut binsar pandjaitan , ketua mpr bambang soesatyo wacana penundaan pemilu 2024 publik . , juru bicara komisi yudisal (ky) miko ginting mendalami putusan hakim pengadilan negeri jakarta pusat perihal putusanpenundaan pemilupada persidangan perdata partai prima 2 maret 2023 . \\\"tentu wajar masyarakat khawatir menanggapi putusan pengadilan negeri jakarta pusat politisi menggaungkan wacana penundaan pemilu menkomarinves luhut binsar panjaitan big datanya .\"\n        ],\n        \"semantic_type\": \"\",\n        \"description\": \"\"\n      }\n    },\n    {\n      \"column\": \"summary_top5\",\n      \"properties\": {\n        \"dtype\": \"string\",\n        \"num_unique_values\": 3,\n        \"samples\": [\n          \"\\\"dulu direncanakan air kanan kirinya sungai , titik mencarikan solusi penduduknya situ , \\\" jokowi ditemui mengunjungi pengungsi kebakaran depo pertamina rptra rasela , koja , jakarta utara , minggu , 5 maret 2023 . sekretaris daerah dki jakarta joko agus setyono pemerintah provinsi berkerja pertamina melanjutkan rencana pembuatan buffer zone kawasan depo pertamina plumpang , rawa badak selatan , jakarta utara . anggota fraksi pdi perjuangan dprd dki jakarta gilbert simanjuntak sepatutnya mantan gubernur dki jakarta anies baswedan bertanggungjawab kebakaran depo pertamina plumpang , jakarta utara , jumat malam . proses pembangunan pembebasan lahan tanah merah , bambang , tim penataan depo plumpang duduk penanggung gubernur dki fauzi bowo , wakil gubernur prijanto pelaksana . gubernur dki jakarta anies baswedan menerbitkan imb (izin mendirikan bangunan) penduduk kampung tanah merah sabtu , 16 oktober 2021 .\",\n          \"co , jakarta - menteri bumn erick thohir , penjabat gubernur dki jakarta heru budi hartono , direktur utama pertamina nicke widyawati siang langsung menggelar rapat depo plumpang , jakarta utara , diperintah presiden joko widodo jokowi . \\\"ini rapat , rapat langsung , \\\" erick menemani jokowi mengunjungi pengungsi kebakaran depo pertamina rptra rasela , koja , jakarta utara , ahad 5 maret 2023 . wapres usul depo dipindah pelabuhankebakaran jumat malam , 3 maret 2023 , menewaskan 17 orang 600 mengungsi . lokasi , jokowi memerintahkan erick , heru , pertamina , mencari solusi kejadian kebakaran depo pertamina plumpang , jakarta utara . ma'ruf mengusulkan depo pertamina plumpang dipindah menjauhi permukiman penduduk pascaterbakar jumat malam kemarin .\",\n          \"peneliti indonesia corruption watch (icw) kurnia ramadhana kecurigaan penundaan pemilu 2024 wajar menko marinves luhut binsar pandjaitan , ketua mpr bambang soesatyo wacana penundaan pemilu 2024 publik . , juru bicara komisi yudisal (ky) miko ginting mendalami putusan hakim pengadilan negeri jakarta pusat perihal putusanpenundaan pemilupada persidangan perdata partai prima 2 maret 2023 . \\\"tentu wajar masyarakat khawatir menanggapi putusan pengadilan negeri jakarta pusat politisi menggaungkan wacana penundaan pemilu menkomarinves luhut binsar panjaitan big datanya . co , jakarta - peneliti pusat studi hukum kebijakan (pshk) m nur ramadhan komisi yudisial menggali motif hakim pengadilan negeri jakarta pusat memutus penundaan pemilu2024 . \\\"putusan pengadilan ruang hampa aspirasi hidup masyarakat sosiologis , aspek yuridis kepatuhan uud 1945 undang-undang , pertimbangan-pertimbangan , nilai-nilai demokrasi . \\\"\"\n        ],\n        \"semantic_type\": \"\",\n        \"description\": \"\"\n      }\n    }\n  ]\n}"
            }
          },
          "metadata": {},
          "execution_count": 13
        }
      ],
      "source": [
        "df3.head()"
      ]
    },
    {
      "cell_type": "code",
      "execution_count": null,
      "metadata": {
        "colab": {
          "base_uri": "https://localhost:8080/",
          "height": 70
        },
        "id": "GVS5X4oBOejx",
        "outputId": "092550e2-9a11-4847-d722-3ec00b6eddaa"
      },
      "outputs": [
        {
          "output_type": "execute_result",
          "data": {
            "text/plain": [
              "'\"dulu direncanakan air kanan kirinya sungai , titik mencarikan solusi penduduknya situ , \" jokowi ditemui mengunjungi pengungsi kebakaran depo pertamina rptra rasela , koja , jakarta utara , minggu , 5 maret 2023 . sekretaris daerah dki jakarta joko agus setyono pemerintah provinsi berkerja pertamina melanjutkan rencana pembuatan buffer zone kawasan depo pertamina plumpang , rawa badak selatan , jakarta utara . anggota fraksi pdi perjuangan dprd dki jakarta gilbert simanjuntak sepatutnya mantan gubernur dki jakarta anies baswedan bertanggungjawab kebakaran depo pertamina plumpang , jakarta utara , jumat malam .'"
            ],
            "application/vnd.google.colaboratory.intrinsic+json": {
              "type": "string"
            }
          },
          "metadata": {},
          "execution_count": 14
        }
      ],
      "source": [
        "df3['summary_top3'][0]"
      ]
    },
    {
      "cell_type": "code",
      "execution_count": null,
      "metadata": {
        "colab": {
          "base_uri": "https://localhost:8080/",
          "height": 88
        },
        "id": "TGt6lf2KOnTy",
        "outputId": "0cd1a301-7be6-4e99-f402-8cfa9ef2418f"
      },
      "outputs": [
        {
          "output_type": "execute_result",
          "data": {
            "text/plain": [
              "'\"dulu direncanakan air kanan kirinya sungai , titik mencarikan solusi penduduknya situ , \" jokowi ditemui mengunjungi pengungsi kebakaran depo pertamina rptra rasela , koja , jakarta utara , minggu , 5 maret 2023 . sekretaris daerah dki jakarta joko agus setyono pemerintah provinsi berkerja pertamina melanjutkan rencana pembuatan buffer zone kawasan depo pertamina plumpang , rawa badak selatan , jakarta utara . anggota fraksi pdi perjuangan dprd dki jakarta gilbert simanjuntak sepatutnya mantan gubernur dki jakarta anies baswedan bertanggungjawab kebakaran depo pertamina plumpang , jakarta utara , jumat malam . proses pembangunan pembebasan lahan tanah merah , bambang , tim penataan depo plumpang duduk penanggung gubernur dki fauzi bowo , wakil gubernur prijanto pelaksana . gubernur dki jakarta anies baswedan menerbitkan imb (izin mendirikan bangunan) penduduk kampung tanah merah sabtu , 16 oktober 2021 .'"
            ],
            "application/vnd.google.colaboratory.intrinsic+json": {
              "type": "string"
            }
          },
          "metadata": {},
          "execution_count": 15
        }
      ],
      "source": [
        "df3['summary_top5'][0]"
      ]
    },
    {
      "cell_type": "code",
      "execution_count": null,
      "metadata": {
        "colab": {
          "base_uri": "https://localhost:8080/",
          "height": 53
        },
        "id": "qGukBhMvOrGL",
        "outputId": "828c7971-2dd2-4838-c2cd-7dca62278955"
      },
      "outputs": [
        {
          "output_type": "execute_result",
          "data": {
            "text/plain": [
              "'Presiden Joko Widodo mengungkapkan bahwa rencana pembuatan buffer zone atau kawasan penyangga yang memisahkan Depo Pertamina Plumpang dari pemukiman warga sudah diusulkan sejak 2009. Zona ini seharusnya menjadi zona air, seperti dibuatnya sungai untuk melindungi objek vital yang ada di dalam Depo. Gubernur DKI Jakarta Anies Baswedan dianggap punya andil dalam kebakaran Depo Pertamina Plumpang karena memberikan IMB pada lahan di sekitar Depo yang sesuai dengan aturan.'"
            ],
            "application/vnd.google.colaboratory.intrinsic+json": {
              "type": "string"
            }
          },
          "metadata": {},
          "execution_count": 16
        }
      ],
      "source": [
        "df3['summary'][0]"
      ]
    },
    {
      "cell_type": "markdown",
      "metadata": {
        "id": "fftM3l09PIVc"
      },
      "source": [
        "## Evaluation"
      ]
    },
    {
      "cell_type": "markdown",
      "metadata": {
        "id": "-mU0nKHxV7KK"
      },
      "source": [
        "ROUGE (Recall-Oriented Understudy for Gisting Evaluation) is a set of metrics used to evaluate the quality of summaries by comparing them to one or more reference summaries. It is particularly popular in the field of text summarization. ROUGE measures the overlap of n-grams (word sequences), word pairs, and word sequences between the system-generated summary and the reference summaries.\n",
        "\n",
        "\n",
        "---\n",
        "\n",
        "ROUGE-N: Measures the overlap of n-grams between the system summary and the reference summary. ROUGE-1, ROUGE-2, and ROUGE-L are the most commonly used, focusing on unigrams, bigrams, and the longest common subsequence, respectively.\n",
        "\n",
        "* ROUGE-1: Measures the overlap of unigrams (individual words).\n",
        "* ROUGE-2: Measures the overlap of bigrams (two-word sequences).\n",
        "* ROUGE-L: Measures the longest common subsequence (LCS) of words."
      ]
    },
    {
      "cell_type": "code",
      "execution_count": null,
      "metadata": {
        "id": "25igBly3NomM"
      },
      "outputs": [],
      "source": [
        "rouge = Rouge()\n",
        "\n",
        "def calculate_rouge(pred_summary, ref_summary):\n",
        "    scores = rouge.get_scores(pred_summary, ref_summary)\n",
        "    return scores[0]\n",
        "\n",
        "df3['rouge_top3'] = df3.apply(lambda row: calculate_rouge(row['summary_top3'], row['summary']), axis=1)\n",
        "df3['rouge_top5'] = df3.apply(lambda row: calculate_rouge(row['summary_top5'], row['summary']), axis=1)"
      ]
    },
    {
      "cell_type": "code",
      "execution_count": null,
      "metadata": {
        "colab": {
          "base_uri": "https://localhost:8080/",
          "height": 143
        },
        "id": "joL6k_c4O89q",
        "outputId": "a327ec49-13cf-4091-ed1f-d07d658a3933"
      },
      "outputs": [
        {
          "output_type": "display_data",
          "data": {
            "text/plain": [
              "                                          rouge_top3  \\\n",
              "0  {'rouge-1': {'r': 0.1206896551724138, 'p': 0.1...   \n",
              "1  {'rouge-1': {'r': 0.0425531914893617, 'p': 0.0...   \n",
              "2  {'rouge-1': {'r': 0.06896551724137931, 'p': 0....   \n",
              "\n",
              "                                          rouge_top5  \n",
              "0  {'rouge-1': {'r': 0.13793103448275862, 'p': 0....  \n",
              "1  {'rouge-1': {'r': 0.10638297872340426, 'p': 0....  \n",
              "2  {'rouge-1': {'r': 0.13793103448275862, 'p': 0....  "
            ],
            "text/html": [
              "\n",
              "  <div id=\"df-853eefc5-e5b4-41d5-adee-b3e265c45ca8\" class=\"colab-df-container\">\n",
              "    <div>\n",
              "<style scoped>\n",
              "    .dataframe tbody tr th:only-of-type {\n",
              "        vertical-align: middle;\n",
              "    }\n",
              "\n",
              "    .dataframe tbody tr th {\n",
              "        vertical-align: top;\n",
              "    }\n",
              "\n",
              "    .dataframe thead th {\n",
              "        text-align: right;\n",
              "    }\n",
              "</style>\n",
              "<table border=\"1\" class=\"dataframe\">\n",
              "  <thead>\n",
              "    <tr style=\"text-align: right;\">\n",
              "      <th></th>\n",
              "      <th>rouge_top3</th>\n",
              "      <th>rouge_top5</th>\n",
              "    </tr>\n",
              "  </thead>\n",
              "  <tbody>\n",
              "    <tr>\n",
              "      <th>0</th>\n",
              "      <td>{'rouge-1': {'r': 0.1206896551724138, 'p': 0.1...</td>\n",
              "      <td>{'rouge-1': {'r': 0.13793103448275862, 'p': 0....</td>\n",
              "    </tr>\n",
              "    <tr>\n",
              "      <th>1</th>\n",
              "      <td>{'rouge-1': {'r': 0.0425531914893617, 'p': 0.0...</td>\n",
              "      <td>{'rouge-1': {'r': 0.10638297872340426, 'p': 0....</td>\n",
              "    </tr>\n",
              "    <tr>\n",
              "      <th>2</th>\n",
              "      <td>{'rouge-1': {'r': 0.06896551724137931, 'p': 0....</td>\n",
              "      <td>{'rouge-1': {'r': 0.13793103448275862, 'p': 0....</td>\n",
              "    </tr>\n",
              "  </tbody>\n",
              "</table>\n",
              "</div>\n",
              "    <div class=\"colab-df-buttons\">\n",
              "\n",
              "  <div class=\"colab-df-container\">\n",
              "    <button class=\"colab-df-convert\" onclick=\"convertToInteractive('df-853eefc5-e5b4-41d5-adee-b3e265c45ca8')\"\n",
              "            title=\"Convert this dataframe to an interactive table.\"\n",
              "            style=\"display:none;\">\n",
              "\n",
              "  <svg xmlns=\"http://www.w3.org/2000/svg\" height=\"24px\" viewBox=\"0 -960 960 960\">\n",
              "    <path d=\"M120-120v-720h720v720H120Zm60-500h600v-160H180v160Zm220 220h160v-160H400v160Zm0 220h160v-160H400v160ZM180-400h160v-160H180v160Zm440 0h160v-160H620v160ZM180-180h160v-160H180v160Zm440 0h160v-160H620v160Z\"/>\n",
              "  </svg>\n",
              "    </button>\n",
              "\n",
              "  <style>\n",
              "    .colab-df-container {\n",
              "      display:flex;\n",
              "      gap: 12px;\n",
              "    }\n",
              "\n",
              "    .colab-df-convert {\n",
              "      background-color: #E8F0FE;\n",
              "      border: none;\n",
              "      border-radius: 50%;\n",
              "      cursor: pointer;\n",
              "      display: none;\n",
              "      fill: #1967D2;\n",
              "      height: 32px;\n",
              "      padding: 0 0 0 0;\n",
              "      width: 32px;\n",
              "    }\n",
              "\n",
              "    .colab-df-convert:hover {\n",
              "      background-color: #E2EBFA;\n",
              "      box-shadow: 0px 1px 2px rgba(60, 64, 67, 0.3), 0px 1px 3px 1px rgba(60, 64, 67, 0.15);\n",
              "      fill: #174EA6;\n",
              "    }\n",
              "\n",
              "    .colab-df-buttons div {\n",
              "      margin-bottom: 4px;\n",
              "    }\n",
              "\n",
              "    [theme=dark] .colab-df-convert {\n",
              "      background-color: #3B4455;\n",
              "      fill: #D2E3FC;\n",
              "    }\n",
              "\n",
              "    [theme=dark] .colab-df-convert:hover {\n",
              "      background-color: #434B5C;\n",
              "      box-shadow: 0px 1px 3px 1px rgba(0, 0, 0, 0.15);\n",
              "      filter: drop-shadow(0px 1px 2px rgba(0, 0, 0, 0.3));\n",
              "      fill: #FFFFFF;\n",
              "    }\n",
              "  </style>\n",
              "\n",
              "    <script>\n",
              "      const buttonEl =\n",
              "        document.querySelector('#df-853eefc5-e5b4-41d5-adee-b3e265c45ca8 button.colab-df-convert');\n",
              "      buttonEl.style.display =\n",
              "        google.colab.kernel.accessAllowed ? 'block' : 'none';\n",
              "\n",
              "      async function convertToInteractive(key) {\n",
              "        const element = document.querySelector('#df-853eefc5-e5b4-41d5-adee-b3e265c45ca8');\n",
              "        const dataTable =\n",
              "          await google.colab.kernel.invokeFunction('convertToInteractive',\n",
              "                                                    [key], {});\n",
              "        if (!dataTable) return;\n",
              "\n",
              "        const docLinkHtml = 'Like what you see? Visit the ' +\n",
              "          '<a target=\"_blank\" href=https://colab.research.google.com/notebooks/data_table.ipynb>data table notebook</a>'\n",
              "          + ' to learn more about interactive tables.';\n",
              "        element.innerHTML = '';\n",
              "        dataTable['output_type'] = 'display_data';\n",
              "        await google.colab.output.renderOutput(dataTable, element);\n",
              "        const docLink = document.createElement('div');\n",
              "        docLink.innerHTML = docLinkHtml;\n",
              "        element.appendChild(docLink);\n",
              "      }\n",
              "    </script>\n",
              "  </div>\n",
              "\n",
              "\n",
              "<div id=\"df-42202807-6331-44b3-91a2-12a264a3080c\">\n",
              "  <button class=\"colab-df-quickchart\" onclick=\"quickchart('df-42202807-6331-44b3-91a2-12a264a3080c')\"\n",
              "            title=\"Suggest charts\"\n",
              "            style=\"display:none;\">\n",
              "\n",
              "<svg xmlns=\"http://www.w3.org/2000/svg\" height=\"24px\"viewBox=\"0 0 24 24\"\n",
              "     width=\"24px\">\n",
              "    <g>\n",
              "        <path d=\"M19 3H5c-1.1 0-2 .9-2 2v14c0 1.1.9 2 2 2h14c1.1 0 2-.9 2-2V5c0-1.1-.9-2-2-2zM9 17H7v-7h2v7zm4 0h-2V7h2v10zm4 0h-2v-4h2v4z\"/>\n",
              "    </g>\n",
              "</svg>\n",
              "  </button>\n",
              "\n",
              "<style>\n",
              "  .colab-df-quickchart {\n",
              "      --bg-color: #E8F0FE;\n",
              "      --fill-color: #1967D2;\n",
              "      --hover-bg-color: #E2EBFA;\n",
              "      --hover-fill-color: #174EA6;\n",
              "      --disabled-fill-color: #AAA;\n",
              "      --disabled-bg-color: #DDD;\n",
              "  }\n",
              "\n",
              "  [theme=dark] .colab-df-quickchart {\n",
              "      --bg-color: #3B4455;\n",
              "      --fill-color: #D2E3FC;\n",
              "      --hover-bg-color: #434B5C;\n",
              "      --hover-fill-color: #FFFFFF;\n",
              "      --disabled-bg-color: #3B4455;\n",
              "      --disabled-fill-color: #666;\n",
              "  }\n",
              "\n",
              "  .colab-df-quickchart {\n",
              "    background-color: var(--bg-color);\n",
              "    border: none;\n",
              "    border-radius: 50%;\n",
              "    cursor: pointer;\n",
              "    display: none;\n",
              "    fill: var(--fill-color);\n",
              "    height: 32px;\n",
              "    padding: 0;\n",
              "    width: 32px;\n",
              "  }\n",
              "\n",
              "  .colab-df-quickchart:hover {\n",
              "    background-color: var(--hover-bg-color);\n",
              "    box-shadow: 0 1px 2px rgba(60, 64, 67, 0.3), 0 1px 3px 1px rgba(60, 64, 67, 0.15);\n",
              "    fill: var(--button-hover-fill-color);\n",
              "  }\n",
              "\n",
              "  .colab-df-quickchart-complete:disabled,\n",
              "  .colab-df-quickchart-complete:disabled:hover {\n",
              "    background-color: var(--disabled-bg-color);\n",
              "    fill: var(--disabled-fill-color);\n",
              "    box-shadow: none;\n",
              "  }\n",
              "\n",
              "  .colab-df-spinner {\n",
              "    border: 2px solid var(--fill-color);\n",
              "    border-color: transparent;\n",
              "    border-bottom-color: var(--fill-color);\n",
              "    animation:\n",
              "      spin 1s steps(1) infinite;\n",
              "  }\n",
              "\n",
              "  @keyframes spin {\n",
              "    0% {\n",
              "      border-color: transparent;\n",
              "      border-bottom-color: var(--fill-color);\n",
              "      border-left-color: var(--fill-color);\n",
              "    }\n",
              "    20% {\n",
              "      border-color: transparent;\n",
              "      border-left-color: var(--fill-color);\n",
              "      border-top-color: var(--fill-color);\n",
              "    }\n",
              "    30% {\n",
              "      border-color: transparent;\n",
              "      border-left-color: var(--fill-color);\n",
              "      border-top-color: var(--fill-color);\n",
              "      border-right-color: var(--fill-color);\n",
              "    }\n",
              "    40% {\n",
              "      border-color: transparent;\n",
              "      border-right-color: var(--fill-color);\n",
              "      border-top-color: var(--fill-color);\n",
              "    }\n",
              "    60% {\n",
              "      border-color: transparent;\n",
              "      border-right-color: var(--fill-color);\n",
              "    }\n",
              "    80% {\n",
              "      border-color: transparent;\n",
              "      border-right-color: var(--fill-color);\n",
              "      border-bottom-color: var(--fill-color);\n",
              "    }\n",
              "    90% {\n",
              "      border-color: transparent;\n",
              "      border-bottom-color: var(--fill-color);\n",
              "    }\n",
              "  }\n",
              "</style>\n",
              "\n",
              "  <script>\n",
              "    async function quickchart(key) {\n",
              "      const quickchartButtonEl =\n",
              "        document.querySelector('#' + key + ' button');\n",
              "      quickchartButtonEl.disabled = true;  // To prevent multiple clicks.\n",
              "      quickchartButtonEl.classList.add('colab-df-spinner');\n",
              "      try {\n",
              "        const charts = await google.colab.kernel.invokeFunction(\n",
              "            'suggestCharts', [key], {});\n",
              "      } catch (error) {\n",
              "        console.error('Error during call to suggestCharts:', error);\n",
              "      }\n",
              "      quickchartButtonEl.classList.remove('colab-df-spinner');\n",
              "      quickchartButtonEl.classList.add('colab-df-quickchart-complete');\n",
              "    }\n",
              "    (() => {\n",
              "      let quickchartButtonEl =\n",
              "        document.querySelector('#df-42202807-6331-44b3-91a2-12a264a3080c button');\n",
              "      quickchartButtonEl.style.display =\n",
              "        google.colab.kernel.accessAllowed ? 'block' : 'none';\n",
              "    })();\n",
              "  </script>\n",
              "</div>\n",
              "\n",
              "    </div>\n",
              "  </div>\n"
            ],
            "application/vnd.google.colaboratory.intrinsic+json": {
              "type": "dataframe",
              "summary": "{\n  \"name\": \"display(df3[['rouge_top3','rouge_top5']])\",\n  \"rows\": 3,\n  \"fields\": [\n    {\n      \"column\": \"rouge_top3\",\n      \"properties\": {\n        \"dtype\": \"object\",\n        \"semantic_type\": \"\",\n        \"description\": \"\"\n      }\n    },\n    {\n      \"column\": \"rouge_top5\",\n      \"properties\": {\n        \"dtype\": \"object\",\n        \"semantic_type\": \"\",\n        \"description\": \"\"\n      }\n    }\n  ]\n}"
            }
          },
          "metadata": {}
        }
      ],
      "source": [
        "display(df3[['rouge_top3','rouge_top5']])"
      ]
    },
    {
      "cell_type": "code",
      "source": [
        "for rouge_top3 in df3['rouge_top3']:\n",
        "    print(rouge_top3)"
      ],
      "metadata": {
        "colab": {
          "base_uri": "https://localhost:8080/"
        },
        "id": "J40D5IvBZat1",
        "outputId": "307c1f16-5a1a-4592-c511-f7285859047b"
      },
      "execution_count": null,
      "outputs": [
        {
          "output_type": "stream",
          "name": "stdout",
          "text": [
            "{'rouge-1': {'r': 0.1206896551724138, 'p': 0.1111111111111111, 'f': 0.11570247434738086}, 'rouge-2': {'r': 0.046875, 'p': 0.04, 'f': 0.04316546265721293}, 'rouge-l': {'r': 0.1206896551724138, 'p': 0.1111111111111111, 'f': 0.11570247434738086}}\n",
            "{'rouge-1': {'r': 0.0425531914893617, 'p': 0.03571428571428571, 'f': 0.03883494649448645}, 'rouge-2': {'r': 0.0, 'p': 0.0, 'f': 0.0}, 'rouge-l': {'r': 0.0425531914893617, 'p': 0.03571428571428571, 'f': 0.03883494649448645}}\n",
            "{'rouge-1': {'r': 0.06896551724137931, 'p': 0.06896551724137931, 'f': 0.06896551224137967}, 'rouge-2': {'r': 0.0, 'p': 0.0, 'f': 0.0}, 'rouge-l': {'r': 0.06896551724137931, 'p': 0.06896551724137931, 'f': 0.06896551224137967}}\n"
          ]
        }
      ]
    },
    {
      "cell_type": "code",
      "source": [
        "for rouge_top5 in df3['rouge_top5']:\n",
        "    print(rouge_top5)"
      ],
      "metadata": {
        "colab": {
          "base_uri": "https://localhost:8080/"
        },
        "id": "S2R3T5cmZlaN",
        "outputId": "0f38b2d2-54d1-4f13-82e8-30fe3fc7b72d"
      },
      "execution_count": null,
      "outputs": [
        {
          "output_type": "stream",
          "name": "stdout",
          "text": [
            "{'rouge-1': {'r': 0.13793103448275862, 'p': 0.08888888888888889, 'f': 0.10810810334185558}, 'rouge-2': {'r': 0.046875, 'p': 0.026785714285714284, 'f': 0.034090904462810545}, 'rouge-l': {'r': 0.13793103448275862, 'p': 0.08888888888888889, 'f': 0.10810810334185558}}\n",
            "{'rouge-1': {'r': 0.10638297872340426, 'p': 0.07352941176470588, 'f': 0.08695651690586038}, 'rouge-2': {'r': 0.018867924528301886, 'p': 0.01, 'f': 0.013071890896665245}, 'rouge-l': {'r': 0.10638297872340426, 'p': 0.07352941176470588, 'f': 0.08695651690586038}}\n",
            "{'rouge-1': {'r': 0.13793103448275862, 'p': 0.09090909090909091, 'f': 0.10958903630699965}, 'rouge-2': {'r': 0.04411764705882353, 'p': 0.02830188679245283, 'f': 0.03448275385916304}, 'rouge-l': {'r': 0.13793103448275862, 'p': 0.09090909090909091, 'f': 0.10958903630699965}}\n"
          ]
        }
      ]
    },
    {
      "cell_type": "markdown",
      "metadata": {
        "id": "kLfXtXCnPLAm"
      },
      "source": [
        "ROUGE-1:\n",
        "\n",
        "\n",
        "* Precision: The fraction of unigrams in the\n",
        "system summary (summary_top3, summary_top5) that are also in the reference summary (summary).\n",
        "* Recall: The fraction of unigrams in the reference summary that are also in the system summary.\n",
        "* F1-Score: The harmonic mean of precision and recall.\n",
        "\n",
        "\n",
        "---\n",
        "\n",
        "\n",
        "ROUGE-2:\n",
        "\n",
        "* Precision: The fraction of bigrams in the\n",
        "system summary that are also in the reference summary.\n",
        "* Recall: The fraction of bigrams in the reference summary that are also in the system summary.\n",
        "* F1-Score: The harmonic mean of precision and recall.\n",
        "\n",
        "\n",
        "---\n",
        "\n",
        "\n",
        "ROUGE-L:\n",
        "\n",
        "* Precision: The fraction of longest common subsequence in the system summary that is also in the reference summary.\n",
        "* Recall: The fraction of longest common subsequence in the reference summary that is also in the system summary.\n",
        "* F1-Score: The harmonic mean of precision and recall."
      ]
    },
    {
      "cell_type": "markdown",
      "source": [
        "## Analysis"
      ],
      "metadata": {
        "id": "kUl9llPJZvx1"
      }
    },
    {
      "cell_type": "markdown",
      "source": [
        "Hasil summarization yang dihasilkan oleh algoritma ekstraktif ini mengandung beberapa informasi kunci dari teks asli, namun masih kurang dalam hal struktur, kejelasan, dan kelengkapan informasi. Algoritma ini bisa menjadi dasar yang baik untuk meringkas teks, tetapi memerlukan penyempurnaan lebih lanjut agar ringkasan yang dihasilkan lebih akurat dan mudah dipahami."
      ],
      "metadata": {
        "id": "Kl_P8FrWZyZ3"
      }
    }
  ],
  "metadata": {
    "colab": {
      "collapsed_sections": [
        "N1GYD9wcfWps",
        "YPZ-tavnMkaA",
        "875NLdpNM8kR",
        "Jsgh-VeqMpLt",
        "7jTiprIENLyc",
        "F2RRCofzRwVs",
        "rCnWj5ASNV0C",
        "M2jE29ONNady",
        "zOoyJFkgJooZ",
        "iEpHA935RaU6",
        "h7PJ3bMKRmfE",
        "fftM3l09PIVc"
      ],
      "provenance": [],
      "toc_visible": true,
      "authorship_tag": "ABX9TyNe6o0XO1LEN8gv0m+hh3T4",
      "include_colab_link": true
    },
    "kernelspec": {
      "display_name": "Python 3",
      "name": "python3"
    },
    "language_info": {
      "name": "python"
    }
  },
  "nbformat": 4,
  "nbformat_minor": 0
}